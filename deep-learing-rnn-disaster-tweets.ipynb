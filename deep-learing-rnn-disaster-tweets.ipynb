{
  "cells": [
    {
      "cell_type": "markdown",
      "metadata": {
        "id": "iwlZkcWkuGMD"
      },
      "source": [
        "# Deep Learning: RNN: Disaster Tweets\n",
        "**Thomas Bohn**   --   **2025-09-20**\n",
        "\n",
        "--  [Main Report](https://github.com/TOM-BOHN/MsDS-deep-learing-rnn-disaster-tweets/blob/main/deep-learing-rnn-disaster-tweets.ipynb)  --  [Github Repo](https://github.com/TOM-BOHN/MsDS-deep-learing-rnn-disaster-tweets)  --"
      ]
    },
    {
      "cell_type": "markdown",
      "metadata": {
        "id": "07lWDJH6vAuV"
      },
      "source": [
        "# 1.&nbsp;Introduction"
      ]
    },
    {
      "cell_type": "markdown",
      "metadata": {
        "id": "sHhIXdBPvCDs"
      },
      "source": [
        "**Problem Statement**\n",
        "\n",
        "Build a machine learning model that predicts which Tweets are about real disasters and which one’s aren’t. You’ll have access to a dataset of 10,000 tweets that were hand classified.\n",
        "\n",
        "A prediction should be made whether a given tweet is about a real disaster or not. If so, predict a 1. If not, predict a 0.\n",
        "\n",
        "**Why is it Important?**\n",
        "\n",
        "Twitter has become an important communication channel in times of emergency.\n",
        "The ubiquitousness of smartphones enables people to announce an emergency they’re observing in real-time. Because of this, more agencies are interested in programatically monitoring Twitter (i.e. disaster relief organizations and news agencies).\n",
        "\n",
        "But, it’s not always clear whether a person’s words are actually announcing a disaster.\n",
        "\n",
        "**Related Kaggle Competion**\n",
        "\n",
        "[Natural Language Processing with Disaster Tweets](https://www.kaggle.com/competitions/nlp-getting-started/overview)\n",
        "\n",
        "**DataSet Description**\n",
        "\n",
        "Each sample in the train and test set has the following information:\n",
        "- The text of a tweet\n",
        "- A keyword from that tweet (although this may be blank!)\n",
        "- The location the tweet was sent from (may also be blank)\n",
        "\n",
        "**Files Include**\n",
        "- train.csv - the training set\n",
        "- test.csv - the test set\n",
        "- sample_submission.csv - a sample submission file in the correct format\n",
        "\n",
        "**Columns Definitions**\n",
        "- id - a unique identifier for each tweet\n",
        "- text - the text of the tweet\n",
        "- location - the location the tweet was sent from (may be blank)\n",
        "- keyword - a particular keyword from the tweet (may be blank)\n",
        "- target - in train.csv only, this denotes whether a tweet is about a real disaster (1) or not (0)\n",
        "\n",
        "**Data Facts**\n",
        "- **Data Size**: 1.43 MB\n",
        "- **Training Data Records**: 7,613\n",
        "- **Training Data Records**: 3,263\n",
        "- **Classes**: 2 (Binary)"
      ]
    },
    {
      "cell_type": "markdown",
      "metadata": {
        "id": "r9augt6L_Wnb"
      },
      "source": [
        "## Python Libraries\n",
        "\n",
        "The following python libraries are used in this notebook."
      ]
    },
    {
      "cell_type": "code",
      "execution_count": 88,
      "metadata": {
        "colab": {
          "base_uri": "https://localhost:8080/",
          "height": 433
        },
        "id": "pjoVn_82_Rya",
        "outputId": "593b1520-2b9e-4520-c5fe-2954fc1b0f6a"
      },
      "outputs": [
        {
          "output_type": "display_data",
          "data": {
            "text/html": [
              "        <script type=\"text/javascript\">\n",
              "        window.PlotlyConfig = {MathJaxConfig: 'local'};\n",
              "        if (window.MathJax && window.MathJax.Hub && window.MathJax.Hub.Config) {window.MathJax.Hub.Config({SVG: {font: \"STIX-Web\"}});}\n",
              "        if (typeof require !== 'undefined') {\n",
              "        require.undef(\"plotly\");\n",
              "        requirejs.config({\n",
              "            paths: {\n",
              "                'plotly': ['https://cdn.plot.ly/plotly-2.35.2.min']\n",
              "            }\n",
              "        });\n",
              "        require(['plotly'], function(Plotly) {\n",
              "            window._Plotly = Plotly;\n",
              "        });\n",
              "        }\n",
              "        </script>\n",
              "        "
            ]
          },
          "metadata": {}
        },
        {
          "output_type": "stream",
          "name": "stderr",
          "text": [
            "[nltk_data] Downloading package stopwords to /root/nltk_data...\n",
            "[nltk_data]   Package stopwords is already up-to-date!\n",
            "[nltk_data] Downloading package punkt to /root/nltk_data...\n",
            "[nltk_data]   Package punkt is already up-to-date!\n",
            "[nltk_data] Downloading package punkt_tab to /root/nltk_data...\n",
            "[nltk_data]   Package punkt_tab is already up-to-date!\n",
            "[nltk_data] Downloading package wordnet to /root/nltk_data...\n",
            "[nltk_data]   Package wordnet is already up-to-date!\n",
            "[nltk_data] Downloading package omw-1.4 to /root/nltk_data...\n",
            "[nltk_data]   Package omw-1.4 is already up-to-date!\n",
            "[nltk_data] Downloading package averaged_perceptron_tagger to\n",
            "[nltk_data]     /root/nltk_data...\n",
            "[nltk_data]   Package averaged_perceptron_tagger is already up-to-\n",
            "[nltk_data]       date!\n",
            "[nltk_data] Downloading package averaged_perceptron_tagger_eng to\n",
            "[nltk_data]     /root/nltk_data...\n",
            "[nltk_data]   Package averaged_perceptron_tagger_eng is already up-to-\n",
            "[nltk_data]       date!\n"
          ]
        },
        {
          "output_type": "stream",
          "name": "stdout",
          "text": [
            "Requirement already satisfied: num2words in /usr/local/lib/python3.12/dist-packages (0.5.14)\n",
            "Requirement already satisfied: docopt>=0.6.2 in /usr/local/lib/python3.12/dist-packages (from num2words) (0.6.2)\n",
            "Requirement already satisfied: pyspellchecker in /usr/local/lib/python3.12/dist-packages (0.8.3)\n",
            "Drive already mounted at /content/drive; to attempt to forcibly remount, call drive.mount(\"/content/drive\", force_remount=True).\n",
            "#### ALL DONE! ####\n"
          ]
        }
      ],
      "source": [
        "# File system manangement\n",
        "import time, datetime, psutil, os\n",
        "import shutil\n",
        "import zipfile\n",
        "from google.colab import userdata\n",
        "from google.colab import files\n",
        "\n",
        "# Data manipulation\n",
        "import numpy as np\n",
        "import pandas as pd\n",
        "import math\n",
        "\n",
        "# Install text storage and manipulation\n",
        "import re\n",
        "import json\n",
        "import pickle\n",
        "import textwrap\n",
        "\n",
        "##################################\n",
        "\n",
        "# Plotting and visualization\n",
        "import matplotlib\n",
        "import matplotlib.pyplot as plt\n",
        "import matplotlib.patches as mpatches\n",
        "import matplotlib.image as mpimg\n",
        "import seaborn as sns\n",
        "sns.set_theme()\n",
        "import plotly.express as px\n",
        "import plotly.graph_objects as go\n",
        "from plotly.subplots import make_subplots\n",
        "from plotly.offline import init_notebook_mode, iplot\n",
        "init_notebook_mode(connected=True)\n",
        "\n",
        "###################################\n",
        "\n",
        "# NLP\n",
        "import string, re, nltk\n",
        "nltk.download('stopwords')\n",
        "nltk.download('punkt')\n",
        "nltk.download('punkt_tab')\n",
        "nltk.download('wordnet')\n",
        "nltk.download('omw-1.4')\n",
        "nltk.download('averaged_perceptron_tagger')\n",
        "nltk.download('averaged_perceptron_tagger_eng')\n",
        "from string import punctuation\n",
        "from nltk.tokenize import word_tokenize, RegexpTokenizer\n",
        "from nltk.corpus import stopwords\n",
        "!pip install num2words\n",
        "from num2words import num2words\n",
        "!pip install pyspellchecker\n",
        "from spellchecker import SpellChecker\n",
        "from nltk.stem.porter import PorterStemmer\n",
        "import spacy\n",
        "from nltk.stem import WordNetLemmatizer\n",
        "from sklearn.feature_extraction.text import CountVectorizer, TfidfVectorizer\n",
        "\n",
        "###################################\n",
        "\n",
        "# Train-test split and cross validation\n",
        "from sklearn.model_selection import train_test_split, ParameterGrid\n",
        "\n",
        "# Model Evaluation\n",
        "from sklearn import metrics\n",
        "from sklearn.metrics import (\n",
        "    precision_score,\n",
        "    recall_score,\n",
        "    f1_score,\n",
        "    classification_report,\n",
        "    accuracy_score\n",
        ")\n",
        "\n",
        "#################################\n",
        "\n",
        "# Import Tensor Flow and Keras\n",
        "import tensorflow as tf\n",
        "import keras\n",
        "from keras import layers, models\n",
        "from keras.models import Sequential\n",
        "from keras.initializers import Constant\n",
        "from tensorflow.keras.layers import (\n",
        "    LSTM,\n",
        "    Embedding,\n",
        "    BatchNormalization,\n",
        "    Dense,\n",
        "    TimeDistributed,\n",
        "    Dropout,\n",
        "    Bidirectional,\n",
        "    Flatten,\n",
        "    GlobalMaxPool1D\n",
        ")\n",
        "from tensorflow.keras.callbacks import (\n",
        "    EarlyStopping,\n",
        "    ReduceLROnPlateau,\n",
        "    History,\n",
        "    ModelCheckpoint\n",
        ")\n",
        "from tensorflow.keras.callbacks import Callback\n",
        "from tensorflow.keras.preprocessing.text import Tokenizer\n",
        "from tensorflow.keras.preprocessing.sequence import pad_sequences\n",
        "from keras.optimizers import Adam\n",
        "from keras.regularizers import l2\n",
        "\n",
        "#################################\n",
        "\n",
        "# Mount the Google Drive\n",
        "from google.colab import drive\n",
        "drive.mount('/content/drive')\n",
        "\n",
        "print('#### ALL DONE! ####')"
      ]
    },
    {
      "cell_type": "markdown",
      "metadata": {
        "id": "Y39B3sJjvTD1"
      },
      "source": [
        "## Global Variables\n",
        "\n",
        "The following are global variables referenced in this notebook."
      ]
    },
    {
      "cell_type": "code",
      "execution_count": 15,
      "metadata": {
        "id": "vfjyMW6K_SS-"
      },
      "outputs": [],
      "source": [
        "# Recording the starting time, complemented with a stopping time check in the end to compute process runtime\n",
        "start = time.time()\n",
        "\n",
        "# Class representing the OS process and having memory_info() method to compute process memory usage\n",
        "process = psutil.Process(os.getpid())"
      ]
    },
    {
      "cell_type": "code",
      "execution_count": 16,
      "metadata": {
        "colab": {
          "base_uri": "https://localhost:8080/"
        },
        "id": "uLiPgQzL-Oiu",
        "outputId": "d8d17fa9-535a-4db1-e763-c122a3cf1c87"
      },
      "outputs": [
        {
          "output_type": "stream",
          "name": "stdout",
          "text": [
            "Debug is set to: True\n",
            "Level of Detail for functions is set to: 2\n"
          ]
        }
      ],
      "source": [
        "# Global Debug flag used to turn on and off more chatty blocks of code\n",
        "gDEBUG = True\n",
        "if gDEBUG: print('Debug is set to:', gDEBUG)\n",
        "# Global Level of Detail of table stats and details\n",
        "gLOD = 2\n",
        "print('Level of Detail for functions is set to:', gLOD)"
      ]
    },
    {
      "cell_type": "markdown",
      "metadata": {
        "id": "YnEP1IbB-1dF"
      },
      "source": [
        "# 2.&nbsp;Data Source\n",
        "\n",
        "In this section, the code loads the dataset from Google Drive. A copy of the code from Kaggle was cached on google drive for development in a colab environment."
      ]
    },
    {
      "cell_type": "markdown",
      "source": [
        "## Import GloVe"
      ],
      "metadata": {
        "id": "AWnwMxh411f2"
      }
    },
    {
      "cell_type": "code",
      "source": [
        "# Define the source of the zipped data files\n",
        "target_file = 'glove.6B.zip'\n",
        "source_path_root =  '/content/drive/MyDrive/[1.4] MsDS Class Files/-- DTSA 5511 Deep Learning/data'\n",
        "destination_path_root = '/content'\n",
        "\n",
        "# Copy the files to the runtime\n",
        "shutil.copy(source_path_root+'/'+target_file, destination_path_root+'/')\n",
        "\n",
        "# Display the files in the destination directory\n",
        "print(os.listdir(destination_path_root+'/'))"
      ],
      "metadata": {
        "colab": {
          "base_uri": "https://localhost:8080/"
        },
        "id": "69T4EQHn12Bo",
        "outputId": "18298ac7-c9b4-41d6-fb8d-8fd8a625f0b3"
      },
      "execution_count": 81,
      "outputs": [
        {
          "output_type": "stream",
          "name": "stdout",
          "text": [
            "['.config', 'glove.6B.zip', 'nlp-getting-started.zip', 'test.csv', 'sample_submission.csv', 'drive', 'train.csv', 'sample_data']\n"
          ]
        }
      ]
    },
    {
      "cell_type": "code",
      "source": [
        "# Unzip the files (this is slow)\n",
        "zip_file_path = destination_path_root+'/'+target_file\n",
        "\n",
        "with zipfile.ZipFile(zip_file_path, 'r') as zip_ref:\n",
        "        # Extract all the contents into the specified folder\n",
        "        zip_ref.extractall(destination_path_root)"
      ],
      "metadata": {
        "id": "oSQsvicI19Hc"
      },
      "execution_count": 82,
      "outputs": []
    },
    {
      "cell_type": "code",
      "source": [
        "# Define the file paths in the runtime environment\n",
        "file_path_root =  '/content'\n",
        "\n",
        "file_path_glove   = file_path_root + '/glove.6B.100d.txt'\n",
        "\n",
        "print(\"GloVe File Path:\", file_path_glove)"
      ],
      "metadata": {
        "colab": {
          "base_uri": "https://localhost:8080/"
        },
        "id": "jzqYQhkY1_lr",
        "outputId": "28d8b9a7-5e19-41a5-f504-65fb5a38f9af"
      },
      "execution_count": 83,
      "outputs": [
        {
          "output_type": "stream",
          "name": "stdout",
          "text": [
            "GloVe File Path: /content/glove.6B.100d.txt\n"
          ]
        }
      ]
    },
    {
      "cell_type": "markdown",
      "metadata": {
        "id": "E54ZVhqGH0o1"
      },
      "source": [
        "## Import the Data"
      ]
    },
    {
      "cell_type": "code",
      "execution_count": 17,
      "metadata": {
        "colab": {
          "base_uri": "https://localhost:8080/"
        },
        "id": "s47OY0wa-9VR",
        "outputId": "1d042b3b-af95-4f1f-9b44-cf5ed4036006"
      },
      "outputs": [
        {
          "output_type": "stream",
          "name": "stdout",
          "text": [
            "['.config', 'nlp-getting-started.zip', 'test.csv', 'sample_submission.csv', 'drive', 'train.csv', 'sample_data']\n"
          ]
        }
      ],
      "source": [
        "# Define the source of the zipped data files\n",
        "target_file = 'nlp-getting-started.zip'\n",
        "source_path_root =  '/content/drive/MyDrive/[1.4] MsDS Class Files/-- DTSA 5511 Deep Learning/data'\n",
        "destination_path_root = '/content'\n",
        "\n",
        "# Copy the files to the runtime\n",
        "shutil.copy(source_path_root+'/'+target_file, destination_path_root+'/')\n",
        "\n",
        "# Display the files in the destination directory\n",
        "print(os.listdir(destination_path_root+'/'))"
      ]
    },
    {
      "cell_type": "code",
      "execution_count": 18,
      "metadata": {
        "id": "Yr1LwEFwAUTh"
      },
      "outputs": [],
      "source": [
        "# Unzip the files (this is slow)\n",
        "zip_file_path = destination_path_root+'/'+target_file\n",
        "\n",
        "with zipfile.ZipFile(zip_file_path, 'r') as zip_ref:\n",
        "        # Extract all the contents into the specified folder\n",
        "        zip_ref.extractall(destination_path_root)"
      ]
    },
    {
      "cell_type": "code",
      "source": [
        "# Define the file paths in the runtime environment\n",
        "file_path_root =  '/content'\n",
        "\n",
        "file_path_train   = file_path_root + '/train.csv'\n",
        "file_path_test    = file_path_root + '/test.csv'\n",
        "file_path_sample  = file_path_root + '/sample_submission.csv'\n",
        "\n",
        "# Load train labels from CSV file\n",
        "train_labels = pd.read_csv(file_path_train)\n",
        "\n",
        "# Load test labels from CSV file\n",
        "test_labels = pd.read_csv(file_path_test)\n",
        "\n",
        "# Load test labels from CSV file\n",
        "sample_output = pd.read_csv(file_path_sample)"
      ],
      "metadata": {
        "id": "241tghwgiL30"
      },
      "execution_count": 19,
      "outputs": []
    },
    {
      "cell_type": "markdown",
      "source": [
        "## Create Label Mappings\n",
        "\n",
        "You are predicting whether a given tweet is about a real disaster or not. If so, predict a 1. If not, predict a 0."
      ],
      "metadata": {
        "id": "fQ7pd6Nkp2t9"
      }
    },
    {
      "cell_type": "code",
      "source": [
        " # Encoding of labels\n",
        "label_dict = {'not': 0, 'disaster': 1}\n",
        "# Create the inverse dictionary\n",
        "inverted_label_dict = {0: 'not', 1: 'disaster'}\n",
        "print('label_dict:', label_dict)\n",
        "print('inverted_label_dict:', inverted_label_dict)"
      ],
      "metadata": {
        "colab": {
          "base_uri": "https://localhost:8080/"
        },
        "id": "SHP_SfnZp24U",
        "outputId": "6b2a2eb6-09f4-4386-ff54-0c49b390f74c"
      },
      "execution_count": 20,
      "outputs": [
        {
          "output_type": "stream",
          "name": "stdout",
          "text": [
            "label_dict: {'not': 0, 'disaster': 1}\n",
            "inverted_label_dict: {0: 'not', 1: 'disaster'}\n"
          ]
        }
      ]
    },
    {
      "cell_type": "markdown",
      "source": [
        "## Add Basic Columns"
      ],
      "metadata": {
        "id": "yrotZlJ8t5cI"
      }
    },
    {
      "cell_type": "code",
      "source": [
        "# Add Additional Columns to training data\n",
        "train_labels['label']=train_labels['target']\n",
        "train_labels['length']=train_labels['text'].str.len()\n",
        "train_labels['word_count']=train_labels['text'].str.split().str.len()\n",
        "\n",
        "# Add Additional Columns to testing data\n",
        "test_labels['length']=test_labels['text'].str.len()\n",
        "test_labels['word_count']=test_labels['text'].str.split().str.len()"
      ],
      "metadata": {
        "id": "x5o64_iDt5Br"
      },
      "execution_count": 21,
      "outputs": []
    },
    {
      "cell_type": "markdown",
      "source": [
        "## Preview Data"
      ],
      "metadata": {
        "id": "NmlLf7MMntNC"
      }
    },
    {
      "cell_type": "code",
      "source": [
        "if gDEBUG:\n",
        "  # Preview the Data Sources\n",
        "  print(\"Sample of Training Labels\")\n",
        "  display(train_labels.head(5))\n",
        "  print()\n",
        "  print(\"Sample of Testing Data\")\n",
        "  display(test_labels.head(5))\n",
        "  print()\n",
        "  print(\"Sample of Results Output:\")\n",
        "  display(sample_output.head(5))"
      ],
      "metadata": {
        "colab": {
          "base_uri": "https://localhost:8080/",
          "height": 674
        },
        "id": "qIUo4HNKijep",
        "outputId": "30674588-bec5-42e5-eb7a-9be5cae8aa1e"
      },
      "execution_count": 22,
      "outputs": [
        {
          "output_type": "stream",
          "name": "stdout",
          "text": [
            "Sample of Training Labels\n"
          ]
        },
        {
          "output_type": "display_data",
          "data": {
            "text/plain": [
              "   id keyword location                                               text  \\\n",
              "0   1     NaN      NaN  Our Deeds are the Reason of this #earthquake M...   \n",
              "1   4     NaN      NaN             Forest fire near La Ronge Sask. Canada   \n",
              "2   5     NaN      NaN  All residents asked to 'shelter in place' are ...   \n",
              "3   6     NaN      NaN  13,000 people receive #wildfires evacuation or...   \n",
              "4   7     NaN      NaN  Just got sent this photo from Ruby #Alaska as ...   \n",
              "\n",
              "   target  label  length  word_count  \n",
              "0       1      1      69          13  \n",
              "1       1      1      38           7  \n",
              "2       1      1     133          22  \n",
              "3       1      1      65           8  \n",
              "4       1      1      88          16  "
            ],
            "text/html": [
              "\n",
              "  <div id=\"df-868300e5-b99e-4cbc-b511-a6e81f95df95\" class=\"colab-df-container\">\n",
              "    <div>\n",
              "<style scoped>\n",
              "    .dataframe tbody tr th:only-of-type {\n",
              "        vertical-align: middle;\n",
              "    }\n",
              "\n",
              "    .dataframe tbody tr th {\n",
              "        vertical-align: top;\n",
              "    }\n",
              "\n",
              "    .dataframe thead th {\n",
              "        text-align: right;\n",
              "    }\n",
              "</style>\n",
              "<table border=\"1\" class=\"dataframe\">\n",
              "  <thead>\n",
              "    <tr style=\"text-align: right;\">\n",
              "      <th></th>\n",
              "      <th>id</th>\n",
              "      <th>keyword</th>\n",
              "      <th>location</th>\n",
              "      <th>text</th>\n",
              "      <th>target</th>\n",
              "      <th>label</th>\n",
              "      <th>length</th>\n",
              "      <th>word_count</th>\n",
              "    </tr>\n",
              "  </thead>\n",
              "  <tbody>\n",
              "    <tr>\n",
              "      <th>0</th>\n",
              "      <td>1</td>\n",
              "      <td>NaN</td>\n",
              "      <td>NaN</td>\n",
              "      <td>Our Deeds are the Reason of this #earthquake M...</td>\n",
              "      <td>1</td>\n",
              "      <td>1</td>\n",
              "      <td>69</td>\n",
              "      <td>13</td>\n",
              "    </tr>\n",
              "    <tr>\n",
              "      <th>1</th>\n",
              "      <td>4</td>\n",
              "      <td>NaN</td>\n",
              "      <td>NaN</td>\n",
              "      <td>Forest fire near La Ronge Sask. Canada</td>\n",
              "      <td>1</td>\n",
              "      <td>1</td>\n",
              "      <td>38</td>\n",
              "      <td>7</td>\n",
              "    </tr>\n",
              "    <tr>\n",
              "      <th>2</th>\n",
              "      <td>5</td>\n",
              "      <td>NaN</td>\n",
              "      <td>NaN</td>\n",
              "      <td>All residents asked to 'shelter in place' are ...</td>\n",
              "      <td>1</td>\n",
              "      <td>1</td>\n",
              "      <td>133</td>\n",
              "      <td>22</td>\n",
              "    </tr>\n",
              "    <tr>\n",
              "      <th>3</th>\n",
              "      <td>6</td>\n",
              "      <td>NaN</td>\n",
              "      <td>NaN</td>\n",
              "      <td>13,000 people receive #wildfires evacuation or...</td>\n",
              "      <td>1</td>\n",
              "      <td>1</td>\n",
              "      <td>65</td>\n",
              "      <td>8</td>\n",
              "    </tr>\n",
              "    <tr>\n",
              "      <th>4</th>\n",
              "      <td>7</td>\n",
              "      <td>NaN</td>\n",
              "      <td>NaN</td>\n",
              "      <td>Just got sent this photo from Ruby #Alaska as ...</td>\n",
              "      <td>1</td>\n",
              "      <td>1</td>\n",
              "      <td>88</td>\n",
              "      <td>16</td>\n",
              "    </tr>\n",
              "  </tbody>\n",
              "</table>\n",
              "</div>\n",
              "    <div class=\"colab-df-buttons\">\n",
              "\n",
              "  <div class=\"colab-df-container\">\n",
              "    <button class=\"colab-df-convert\" onclick=\"convertToInteractive('df-868300e5-b99e-4cbc-b511-a6e81f95df95')\"\n",
              "            title=\"Convert this dataframe to an interactive table.\"\n",
              "            style=\"display:none;\">\n",
              "\n",
              "  <svg xmlns=\"http://www.w3.org/2000/svg\" height=\"24px\" viewBox=\"0 -960 960 960\">\n",
              "    <path d=\"M120-120v-720h720v720H120Zm60-500h600v-160H180v160Zm220 220h160v-160H400v160Zm0 220h160v-160H400v160ZM180-400h160v-160H180v160Zm440 0h160v-160H620v160ZM180-180h160v-160H180v160Zm440 0h160v-160H620v160Z\"/>\n",
              "  </svg>\n",
              "    </button>\n",
              "\n",
              "  <style>\n",
              "    .colab-df-container {\n",
              "      display:flex;\n",
              "      gap: 12px;\n",
              "    }\n",
              "\n",
              "    .colab-df-convert {\n",
              "      background-color: #E8F0FE;\n",
              "      border: none;\n",
              "      border-radius: 50%;\n",
              "      cursor: pointer;\n",
              "      display: none;\n",
              "      fill: #1967D2;\n",
              "      height: 32px;\n",
              "      padding: 0 0 0 0;\n",
              "      width: 32px;\n",
              "    }\n",
              "\n",
              "    .colab-df-convert:hover {\n",
              "      background-color: #E2EBFA;\n",
              "      box-shadow: 0px 1px 2px rgba(60, 64, 67, 0.3), 0px 1px 3px 1px rgba(60, 64, 67, 0.15);\n",
              "      fill: #174EA6;\n",
              "    }\n",
              "\n",
              "    .colab-df-buttons div {\n",
              "      margin-bottom: 4px;\n",
              "    }\n",
              "\n",
              "    [theme=dark] .colab-df-convert {\n",
              "      background-color: #3B4455;\n",
              "      fill: #D2E3FC;\n",
              "    }\n",
              "\n",
              "    [theme=dark] .colab-df-convert:hover {\n",
              "      background-color: #434B5C;\n",
              "      box-shadow: 0px 1px 3px 1px rgba(0, 0, 0, 0.15);\n",
              "      filter: drop-shadow(0px 1px 2px rgba(0, 0, 0, 0.3));\n",
              "      fill: #FFFFFF;\n",
              "    }\n",
              "  </style>\n",
              "\n",
              "    <script>\n",
              "      const buttonEl =\n",
              "        document.querySelector('#df-868300e5-b99e-4cbc-b511-a6e81f95df95 button.colab-df-convert');\n",
              "      buttonEl.style.display =\n",
              "        google.colab.kernel.accessAllowed ? 'block' : 'none';\n",
              "\n",
              "      async function convertToInteractive(key) {\n",
              "        const element = document.querySelector('#df-868300e5-b99e-4cbc-b511-a6e81f95df95');\n",
              "        const dataTable =\n",
              "          await google.colab.kernel.invokeFunction('convertToInteractive',\n",
              "                                                    [key], {});\n",
              "        if (!dataTable) return;\n",
              "\n",
              "        const docLinkHtml = 'Like what you see? Visit the ' +\n",
              "          '<a target=\"_blank\" href=https://colab.research.google.com/notebooks/data_table.ipynb>data table notebook</a>'\n",
              "          + ' to learn more about interactive tables.';\n",
              "        element.innerHTML = '';\n",
              "        dataTable['output_type'] = 'display_data';\n",
              "        await google.colab.output.renderOutput(dataTable, element);\n",
              "        const docLink = document.createElement('div');\n",
              "        docLink.innerHTML = docLinkHtml;\n",
              "        element.appendChild(docLink);\n",
              "      }\n",
              "    </script>\n",
              "  </div>\n",
              "\n",
              "\n",
              "    <div id=\"df-41b00567-3b1d-4bd4-ad3d-adf0fdfdd42b\">\n",
              "      <button class=\"colab-df-quickchart\" onclick=\"quickchart('df-41b00567-3b1d-4bd4-ad3d-adf0fdfdd42b')\"\n",
              "                title=\"Suggest charts\"\n",
              "                style=\"display:none;\">\n",
              "\n",
              "<svg xmlns=\"http://www.w3.org/2000/svg\" height=\"24px\"viewBox=\"0 0 24 24\"\n",
              "     width=\"24px\">\n",
              "    <g>\n",
              "        <path d=\"M19 3H5c-1.1 0-2 .9-2 2v14c0 1.1.9 2 2 2h14c1.1 0 2-.9 2-2V5c0-1.1-.9-2-2-2zM9 17H7v-7h2v7zm4 0h-2V7h2v10zm4 0h-2v-4h2v4z\"/>\n",
              "    </g>\n",
              "</svg>\n",
              "      </button>\n",
              "\n",
              "<style>\n",
              "  .colab-df-quickchart {\n",
              "      --bg-color: #E8F0FE;\n",
              "      --fill-color: #1967D2;\n",
              "      --hover-bg-color: #E2EBFA;\n",
              "      --hover-fill-color: #174EA6;\n",
              "      --disabled-fill-color: #AAA;\n",
              "      --disabled-bg-color: #DDD;\n",
              "  }\n",
              "\n",
              "  [theme=dark] .colab-df-quickchart {\n",
              "      --bg-color: #3B4455;\n",
              "      --fill-color: #D2E3FC;\n",
              "      --hover-bg-color: #434B5C;\n",
              "      --hover-fill-color: #FFFFFF;\n",
              "      --disabled-bg-color: #3B4455;\n",
              "      --disabled-fill-color: #666;\n",
              "  }\n",
              "\n",
              "  .colab-df-quickchart {\n",
              "    background-color: var(--bg-color);\n",
              "    border: none;\n",
              "    border-radius: 50%;\n",
              "    cursor: pointer;\n",
              "    display: none;\n",
              "    fill: var(--fill-color);\n",
              "    height: 32px;\n",
              "    padding: 0;\n",
              "    width: 32px;\n",
              "  }\n",
              "\n",
              "  .colab-df-quickchart:hover {\n",
              "    background-color: var(--hover-bg-color);\n",
              "    box-shadow: 0 1px 2px rgba(60, 64, 67, 0.3), 0 1px 3px 1px rgba(60, 64, 67, 0.15);\n",
              "    fill: var(--button-hover-fill-color);\n",
              "  }\n",
              "\n",
              "  .colab-df-quickchart-complete:disabled,\n",
              "  .colab-df-quickchart-complete:disabled:hover {\n",
              "    background-color: var(--disabled-bg-color);\n",
              "    fill: var(--disabled-fill-color);\n",
              "    box-shadow: none;\n",
              "  }\n",
              "\n",
              "  .colab-df-spinner {\n",
              "    border: 2px solid var(--fill-color);\n",
              "    border-color: transparent;\n",
              "    border-bottom-color: var(--fill-color);\n",
              "    animation:\n",
              "      spin 1s steps(1) infinite;\n",
              "  }\n",
              "\n",
              "  @keyframes spin {\n",
              "    0% {\n",
              "      border-color: transparent;\n",
              "      border-bottom-color: var(--fill-color);\n",
              "      border-left-color: var(--fill-color);\n",
              "    }\n",
              "    20% {\n",
              "      border-color: transparent;\n",
              "      border-left-color: var(--fill-color);\n",
              "      border-top-color: var(--fill-color);\n",
              "    }\n",
              "    30% {\n",
              "      border-color: transparent;\n",
              "      border-left-color: var(--fill-color);\n",
              "      border-top-color: var(--fill-color);\n",
              "      border-right-color: var(--fill-color);\n",
              "    }\n",
              "    40% {\n",
              "      border-color: transparent;\n",
              "      border-right-color: var(--fill-color);\n",
              "      border-top-color: var(--fill-color);\n",
              "    }\n",
              "    60% {\n",
              "      border-color: transparent;\n",
              "      border-right-color: var(--fill-color);\n",
              "    }\n",
              "    80% {\n",
              "      border-color: transparent;\n",
              "      border-right-color: var(--fill-color);\n",
              "      border-bottom-color: var(--fill-color);\n",
              "    }\n",
              "    90% {\n",
              "      border-color: transparent;\n",
              "      border-bottom-color: var(--fill-color);\n",
              "    }\n",
              "  }\n",
              "</style>\n",
              "\n",
              "      <script>\n",
              "        async function quickchart(key) {\n",
              "          const quickchartButtonEl =\n",
              "            document.querySelector('#' + key + ' button');\n",
              "          quickchartButtonEl.disabled = true;  // To prevent multiple clicks.\n",
              "          quickchartButtonEl.classList.add('colab-df-spinner');\n",
              "          try {\n",
              "            const charts = await google.colab.kernel.invokeFunction(\n",
              "                'suggestCharts', [key], {});\n",
              "          } catch (error) {\n",
              "            console.error('Error during call to suggestCharts:', error);\n",
              "          }\n",
              "          quickchartButtonEl.classList.remove('colab-df-spinner');\n",
              "          quickchartButtonEl.classList.add('colab-df-quickchart-complete');\n",
              "        }\n",
              "        (() => {\n",
              "          let quickchartButtonEl =\n",
              "            document.querySelector('#df-41b00567-3b1d-4bd4-ad3d-adf0fdfdd42b button');\n",
              "          quickchartButtonEl.style.display =\n",
              "            google.colab.kernel.accessAllowed ? 'block' : 'none';\n",
              "        })();\n",
              "      </script>\n",
              "    </div>\n",
              "\n",
              "    </div>\n",
              "  </div>\n"
            ],
            "application/vnd.google.colaboratory.intrinsic+json": {
              "type": "dataframe",
              "repr_error": "Out of range float values are not JSON compliant: nan"
            }
          },
          "metadata": {}
        },
        {
          "output_type": "stream",
          "name": "stdout",
          "text": [
            "\n",
            "Sample of Testing Data\n"
          ]
        },
        {
          "output_type": "display_data",
          "data": {
            "text/plain": [
              "   id keyword location                                               text  \\\n",
              "0   0     NaN      NaN                 Just happened a terrible car crash   \n",
              "1   2     NaN      NaN  Heard about #earthquake is different cities, s...   \n",
              "2   3     NaN      NaN  there is a forest fire at spot pond, geese are...   \n",
              "3   9     NaN      NaN           Apocalypse lighting. #Spokane #wildfires   \n",
              "4  11     NaN      NaN      Typhoon Soudelor kills 28 in China and Taiwan   \n",
              "\n",
              "   length  word_count  \n",
              "0      34           6  \n",
              "1      64           9  \n",
              "2      96          19  \n",
              "3      40           4  \n",
              "4      45           8  "
            ],
            "text/html": [
              "\n",
              "  <div id=\"df-43fe5ae5-a017-4a67-8f19-f88845dc80a5\" class=\"colab-df-container\">\n",
              "    <div>\n",
              "<style scoped>\n",
              "    .dataframe tbody tr th:only-of-type {\n",
              "        vertical-align: middle;\n",
              "    }\n",
              "\n",
              "    .dataframe tbody tr th {\n",
              "        vertical-align: top;\n",
              "    }\n",
              "\n",
              "    .dataframe thead th {\n",
              "        text-align: right;\n",
              "    }\n",
              "</style>\n",
              "<table border=\"1\" class=\"dataframe\">\n",
              "  <thead>\n",
              "    <tr style=\"text-align: right;\">\n",
              "      <th></th>\n",
              "      <th>id</th>\n",
              "      <th>keyword</th>\n",
              "      <th>location</th>\n",
              "      <th>text</th>\n",
              "      <th>length</th>\n",
              "      <th>word_count</th>\n",
              "    </tr>\n",
              "  </thead>\n",
              "  <tbody>\n",
              "    <tr>\n",
              "      <th>0</th>\n",
              "      <td>0</td>\n",
              "      <td>NaN</td>\n",
              "      <td>NaN</td>\n",
              "      <td>Just happened a terrible car crash</td>\n",
              "      <td>34</td>\n",
              "      <td>6</td>\n",
              "    </tr>\n",
              "    <tr>\n",
              "      <th>1</th>\n",
              "      <td>2</td>\n",
              "      <td>NaN</td>\n",
              "      <td>NaN</td>\n",
              "      <td>Heard about #earthquake is different cities, s...</td>\n",
              "      <td>64</td>\n",
              "      <td>9</td>\n",
              "    </tr>\n",
              "    <tr>\n",
              "      <th>2</th>\n",
              "      <td>3</td>\n",
              "      <td>NaN</td>\n",
              "      <td>NaN</td>\n",
              "      <td>there is a forest fire at spot pond, geese are...</td>\n",
              "      <td>96</td>\n",
              "      <td>19</td>\n",
              "    </tr>\n",
              "    <tr>\n",
              "      <th>3</th>\n",
              "      <td>9</td>\n",
              "      <td>NaN</td>\n",
              "      <td>NaN</td>\n",
              "      <td>Apocalypse lighting. #Spokane #wildfires</td>\n",
              "      <td>40</td>\n",
              "      <td>4</td>\n",
              "    </tr>\n",
              "    <tr>\n",
              "      <th>4</th>\n",
              "      <td>11</td>\n",
              "      <td>NaN</td>\n",
              "      <td>NaN</td>\n",
              "      <td>Typhoon Soudelor kills 28 in China and Taiwan</td>\n",
              "      <td>45</td>\n",
              "      <td>8</td>\n",
              "    </tr>\n",
              "  </tbody>\n",
              "</table>\n",
              "</div>\n",
              "    <div class=\"colab-df-buttons\">\n",
              "\n",
              "  <div class=\"colab-df-container\">\n",
              "    <button class=\"colab-df-convert\" onclick=\"convertToInteractive('df-43fe5ae5-a017-4a67-8f19-f88845dc80a5')\"\n",
              "            title=\"Convert this dataframe to an interactive table.\"\n",
              "            style=\"display:none;\">\n",
              "\n",
              "  <svg xmlns=\"http://www.w3.org/2000/svg\" height=\"24px\" viewBox=\"0 -960 960 960\">\n",
              "    <path d=\"M120-120v-720h720v720H120Zm60-500h600v-160H180v160Zm220 220h160v-160H400v160Zm0 220h160v-160H400v160ZM180-400h160v-160H180v160Zm440 0h160v-160H620v160ZM180-180h160v-160H180v160Zm440 0h160v-160H620v160Z\"/>\n",
              "  </svg>\n",
              "    </button>\n",
              "\n",
              "  <style>\n",
              "    .colab-df-container {\n",
              "      display:flex;\n",
              "      gap: 12px;\n",
              "    }\n",
              "\n",
              "    .colab-df-convert {\n",
              "      background-color: #E8F0FE;\n",
              "      border: none;\n",
              "      border-radius: 50%;\n",
              "      cursor: pointer;\n",
              "      display: none;\n",
              "      fill: #1967D2;\n",
              "      height: 32px;\n",
              "      padding: 0 0 0 0;\n",
              "      width: 32px;\n",
              "    }\n",
              "\n",
              "    .colab-df-convert:hover {\n",
              "      background-color: #E2EBFA;\n",
              "      box-shadow: 0px 1px 2px rgba(60, 64, 67, 0.3), 0px 1px 3px 1px rgba(60, 64, 67, 0.15);\n",
              "      fill: #174EA6;\n",
              "    }\n",
              "\n",
              "    .colab-df-buttons div {\n",
              "      margin-bottom: 4px;\n",
              "    }\n",
              "\n",
              "    [theme=dark] .colab-df-convert {\n",
              "      background-color: #3B4455;\n",
              "      fill: #D2E3FC;\n",
              "    }\n",
              "\n",
              "    [theme=dark] .colab-df-convert:hover {\n",
              "      background-color: #434B5C;\n",
              "      box-shadow: 0px 1px 3px 1px rgba(0, 0, 0, 0.15);\n",
              "      filter: drop-shadow(0px 1px 2px rgba(0, 0, 0, 0.3));\n",
              "      fill: #FFFFFF;\n",
              "    }\n",
              "  </style>\n",
              "\n",
              "    <script>\n",
              "      const buttonEl =\n",
              "        document.querySelector('#df-43fe5ae5-a017-4a67-8f19-f88845dc80a5 button.colab-df-convert');\n",
              "      buttonEl.style.display =\n",
              "        google.colab.kernel.accessAllowed ? 'block' : 'none';\n",
              "\n",
              "      async function convertToInteractive(key) {\n",
              "        const element = document.querySelector('#df-43fe5ae5-a017-4a67-8f19-f88845dc80a5');\n",
              "        const dataTable =\n",
              "          await google.colab.kernel.invokeFunction('convertToInteractive',\n",
              "                                                    [key], {});\n",
              "        if (!dataTable) return;\n",
              "\n",
              "        const docLinkHtml = 'Like what you see? Visit the ' +\n",
              "          '<a target=\"_blank\" href=https://colab.research.google.com/notebooks/data_table.ipynb>data table notebook</a>'\n",
              "          + ' to learn more about interactive tables.';\n",
              "        element.innerHTML = '';\n",
              "        dataTable['output_type'] = 'display_data';\n",
              "        await google.colab.output.renderOutput(dataTable, element);\n",
              "        const docLink = document.createElement('div');\n",
              "        docLink.innerHTML = docLinkHtml;\n",
              "        element.appendChild(docLink);\n",
              "      }\n",
              "    </script>\n",
              "  </div>\n",
              "\n",
              "\n",
              "    <div id=\"df-1bd72de6-a55b-436b-9be2-74112733feaf\">\n",
              "      <button class=\"colab-df-quickchart\" onclick=\"quickchart('df-1bd72de6-a55b-436b-9be2-74112733feaf')\"\n",
              "                title=\"Suggest charts\"\n",
              "                style=\"display:none;\">\n",
              "\n",
              "<svg xmlns=\"http://www.w3.org/2000/svg\" height=\"24px\"viewBox=\"0 0 24 24\"\n",
              "     width=\"24px\">\n",
              "    <g>\n",
              "        <path d=\"M19 3H5c-1.1 0-2 .9-2 2v14c0 1.1.9 2 2 2h14c1.1 0 2-.9 2-2V5c0-1.1-.9-2-2-2zM9 17H7v-7h2v7zm4 0h-2V7h2v10zm4 0h-2v-4h2v4z\"/>\n",
              "    </g>\n",
              "</svg>\n",
              "      </button>\n",
              "\n",
              "<style>\n",
              "  .colab-df-quickchart {\n",
              "      --bg-color: #E8F0FE;\n",
              "      --fill-color: #1967D2;\n",
              "      --hover-bg-color: #E2EBFA;\n",
              "      --hover-fill-color: #174EA6;\n",
              "      --disabled-fill-color: #AAA;\n",
              "      --disabled-bg-color: #DDD;\n",
              "  }\n",
              "\n",
              "  [theme=dark] .colab-df-quickchart {\n",
              "      --bg-color: #3B4455;\n",
              "      --fill-color: #D2E3FC;\n",
              "      --hover-bg-color: #434B5C;\n",
              "      --hover-fill-color: #FFFFFF;\n",
              "      --disabled-bg-color: #3B4455;\n",
              "      --disabled-fill-color: #666;\n",
              "  }\n",
              "\n",
              "  .colab-df-quickchart {\n",
              "    background-color: var(--bg-color);\n",
              "    border: none;\n",
              "    border-radius: 50%;\n",
              "    cursor: pointer;\n",
              "    display: none;\n",
              "    fill: var(--fill-color);\n",
              "    height: 32px;\n",
              "    padding: 0;\n",
              "    width: 32px;\n",
              "  }\n",
              "\n",
              "  .colab-df-quickchart:hover {\n",
              "    background-color: var(--hover-bg-color);\n",
              "    box-shadow: 0 1px 2px rgba(60, 64, 67, 0.3), 0 1px 3px 1px rgba(60, 64, 67, 0.15);\n",
              "    fill: var(--button-hover-fill-color);\n",
              "  }\n",
              "\n",
              "  .colab-df-quickchart-complete:disabled,\n",
              "  .colab-df-quickchart-complete:disabled:hover {\n",
              "    background-color: var(--disabled-bg-color);\n",
              "    fill: var(--disabled-fill-color);\n",
              "    box-shadow: none;\n",
              "  }\n",
              "\n",
              "  .colab-df-spinner {\n",
              "    border: 2px solid var(--fill-color);\n",
              "    border-color: transparent;\n",
              "    border-bottom-color: var(--fill-color);\n",
              "    animation:\n",
              "      spin 1s steps(1) infinite;\n",
              "  }\n",
              "\n",
              "  @keyframes spin {\n",
              "    0% {\n",
              "      border-color: transparent;\n",
              "      border-bottom-color: var(--fill-color);\n",
              "      border-left-color: var(--fill-color);\n",
              "    }\n",
              "    20% {\n",
              "      border-color: transparent;\n",
              "      border-left-color: var(--fill-color);\n",
              "      border-top-color: var(--fill-color);\n",
              "    }\n",
              "    30% {\n",
              "      border-color: transparent;\n",
              "      border-left-color: var(--fill-color);\n",
              "      border-top-color: var(--fill-color);\n",
              "      border-right-color: var(--fill-color);\n",
              "    }\n",
              "    40% {\n",
              "      border-color: transparent;\n",
              "      border-right-color: var(--fill-color);\n",
              "      border-top-color: var(--fill-color);\n",
              "    }\n",
              "    60% {\n",
              "      border-color: transparent;\n",
              "      border-right-color: var(--fill-color);\n",
              "    }\n",
              "    80% {\n",
              "      border-color: transparent;\n",
              "      border-right-color: var(--fill-color);\n",
              "      border-bottom-color: var(--fill-color);\n",
              "    }\n",
              "    90% {\n",
              "      border-color: transparent;\n",
              "      border-bottom-color: var(--fill-color);\n",
              "    }\n",
              "  }\n",
              "</style>\n",
              "\n",
              "      <script>\n",
              "        async function quickchart(key) {\n",
              "          const quickchartButtonEl =\n",
              "            document.querySelector('#' + key + ' button');\n",
              "          quickchartButtonEl.disabled = true;  // To prevent multiple clicks.\n",
              "          quickchartButtonEl.classList.add('colab-df-spinner');\n",
              "          try {\n",
              "            const charts = await google.colab.kernel.invokeFunction(\n",
              "                'suggestCharts', [key], {});\n",
              "          } catch (error) {\n",
              "            console.error('Error during call to suggestCharts:', error);\n",
              "          }\n",
              "          quickchartButtonEl.classList.remove('colab-df-spinner');\n",
              "          quickchartButtonEl.classList.add('colab-df-quickchart-complete');\n",
              "        }\n",
              "        (() => {\n",
              "          let quickchartButtonEl =\n",
              "            document.querySelector('#df-1bd72de6-a55b-436b-9be2-74112733feaf button');\n",
              "          quickchartButtonEl.style.display =\n",
              "            google.colab.kernel.accessAllowed ? 'block' : 'none';\n",
              "        })();\n",
              "      </script>\n",
              "    </div>\n",
              "\n",
              "    </div>\n",
              "  </div>\n"
            ],
            "application/vnd.google.colaboratory.intrinsic+json": {
              "type": "dataframe",
              "repr_error": "Out of range float values are not JSON compliant: nan"
            }
          },
          "metadata": {}
        },
        {
          "output_type": "stream",
          "name": "stdout",
          "text": [
            "\n",
            "Sample of Results Output:\n"
          ]
        },
        {
          "output_type": "display_data",
          "data": {
            "text/plain": [
              "   id  target\n",
              "0   0       0\n",
              "1   2       0\n",
              "2   3       0\n",
              "3   9       0\n",
              "4  11       0"
            ],
            "text/html": [
              "\n",
              "  <div id=\"df-6d25e9d8-1e48-40d1-a438-2244b596c1d6\" class=\"colab-df-container\">\n",
              "    <div>\n",
              "<style scoped>\n",
              "    .dataframe tbody tr th:only-of-type {\n",
              "        vertical-align: middle;\n",
              "    }\n",
              "\n",
              "    .dataframe tbody tr th {\n",
              "        vertical-align: top;\n",
              "    }\n",
              "\n",
              "    .dataframe thead th {\n",
              "        text-align: right;\n",
              "    }\n",
              "</style>\n",
              "<table border=\"1\" class=\"dataframe\">\n",
              "  <thead>\n",
              "    <tr style=\"text-align: right;\">\n",
              "      <th></th>\n",
              "      <th>id</th>\n",
              "      <th>target</th>\n",
              "    </tr>\n",
              "  </thead>\n",
              "  <tbody>\n",
              "    <tr>\n",
              "      <th>0</th>\n",
              "      <td>0</td>\n",
              "      <td>0</td>\n",
              "    </tr>\n",
              "    <tr>\n",
              "      <th>1</th>\n",
              "      <td>2</td>\n",
              "      <td>0</td>\n",
              "    </tr>\n",
              "    <tr>\n",
              "      <th>2</th>\n",
              "      <td>3</td>\n",
              "      <td>0</td>\n",
              "    </tr>\n",
              "    <tr>\n",
              "      <th>3</th>\n",
              "      <td>9</td>\n",
              "      <td>0</td>\n",
              "    </tr>\n",
              "    <tr>\n",
              "      <th>4</th>\n",
              "      <td>11</td>\n",
              "      <td>0</td>\n",
              "    </tr>\n",
              "  </tbody>\n",
              "</table>\n",
              "</div>\n",
              "    <div class=\"colab-df-buttons\">\n",
              "\n",
              "  <div class=\"colab-df-container\">\n",
              "    <button class=\"colab-df-convert\" onclick=\"convertToInteractive('df-6d25e9d8-1e48-40d1-a438-2244b596c1d6')\"\n",
              "            title=\"Convert this dataframe to an interactive table.\"\n",
              "            style=\"display:none;\">\n",
              "\n",
              "  <svg xmlns=\"http://www.w3.org/2000/svg\" height=\"24px\" viewBox=\"0 -960 960 960\">\n",
              "    <path d=\"M120-120v-720h720v720H120Zm60-500h600v-160H180v160Zm220 220h160v-160H400v160Zm0 220h160v-160H400v160ZM180-400h160v-160H180v160Zm440 0h160v-160H620v160ZM180-180h160v-160H180v160Zm440 0h160v-160H620v160Z\"/>\n",
              "  </svg>\n",
              "    </button>\n",
              "\n",
              "  <style>\n",
              "    .colab-df-container {\n",
              "      display:flex;\n",
              "      gap: 12px;\n",
              "    }\n",
              "\n",
              "    .colab-df-convert {\n",
              "      background-color: #E8F0FE;\n",
              "      border: none;\n",
              "      border-radius: 50%;\n",
              "      cursor: pointer;\n",
              "      display: none;\n",
              "      fill: #1967D2;\n",
              "      height: 32px;\n",
              "      padding: 0 0 0 0;\n",
              "      width: 32px;\n",
              "    }\n",
              "\n",
              "    .colab-df-convert:hover {\n",
              "      background-color: #E2EBFA;\n",
              "      box-shadow: 0px 1px 2px rgba(60, 64, 67, 0.3), 0px 1px 3px 1px rgba(60, 64, 67, 0.15);\n",
              "      fill: #174EA6;\n",
              "    }\n",
              "\n",
              "    .colab-df-buttons div {\n",
              "      margin-bottom: 4px;\n",
              "    }\n",
              "\n",
              "    [theme=dark] .colab-df-convert {\n",
              "      background-color: #3B4455;\n",
              "      fill: #D2E3FC;\n",
              "    }\n",
              "\n",
              "    [theme=dark] .colab-df-convert:hover {\n",
              "      background-color: #434B5C;\n",
              "      box-shadow: 0px 1px 3px 1px rgba(0, 0, 0, 0.15);\n",
              "      filter: drop-shadow(0px 1px 2px rgba(0, 0, 0, 0.3));\n",
              "      fill: #FFFFFF;\n",
              "    }\n",
              "  </style>\n",
              "\n",
              "    <script>\n",
              "      const buttonEl =\n",
              "        document.querySelector('#df-6d25e9d8-1e48-40d1-a438-2244b596c1d6 button.colab-df-convert');\n",
              "      buttonEl.style.display =\n",
              "        google.colab.kernel.accessAllowed ? 'block' : 'none';\n",
              "\n",
              "      async function convertToInteractive(key) {\n",
              "        const element = document.querySelector('#df-6d25e9d8-1e48-40d1-a438-2244b596c1d6');\n",
              "        const dataTable =\n",
              "          await google.colab.kernel.invokeFunction('convertToInteractive',\n",
              "                                                    [key], {});\n",
              "        if (!dataTable) return;\n",
              "\n",
              "        const docLinkHtml = 'Like what you see? Visit the ' +\n",
              "          '<a target=\"_blank\" href=https://colab.research.google.com/notebooks/data_table.ipynb>data table notebook</a>'\n",
              "          + ' to learn more about interactive tables.';\n",
              "        element.innerHTML = '';\n",
              "        dataTable['output_type'] = 'display_data';\n",
              "        await google.colab.output.renderOutput(dataTable, element);\n",
              "        const docLink = document.createElement('div');\n",
              "        docLink.innerHTML = docLinkHtml;\n",
              "        element.appendChild(docLink);\n",
              "      }\n",
              "    </script>\n",
              "  </div>\n",
              "\n",
              "\n",
              "    <div id=\"df-d24d0db4-7d81-47b4-9c20-ee63f76ced52\">\n",
              "      <button class=\"colab-df-quickchart\" onclick=\"quickchart('df-d24d0db4-7d81-47b4-9c20-ee63f76ced52')\"\n",
              "                title=\"Suggest charts\"\n",
              "                style=\"display:none;\">\n",
              "\n",
              "<svg xmlns=\"http://www.w3.org/2000/svg\" height=\"24px\"viewBox=\"0 0 24 24\"\n",
              "     width=\"24px\">\n",
              "    <g>\n",
              "        <path d=\"M19 3H5c-1.1 0-2 .9-2 2v14c0 1.1.9 2 2 2h14c1.1 0 2-.9 2-2V5c0-1.1-.9-2-2-2zM9 17H7v-7h2v7zm4 0h-2V7h2v10zm4 0h-2v-4h2v4z\"/>\n",
              "    </g>\n",
              "</svg>\n",
              "      </button>\n",
              "\n",
              "<style>\n",
              "  .colab-df-quickchart {\n",
              "      --bg-color: #E8F0FE;\n",
              "      --fill-color: #1967D2;\n",
              "      --hover-bg-color: #E2EBFA;\n",
              "      --hover-fill-color: #174EA6;\n",
              "      --disabled-fill-color: #AAA;\n",
              "      --disabled-bg-color: #DDD;\n",
              "  }\n",
              "\n",
              "  [theme=dark] .colab-df-quickchart {\n",
              "      --bg-color: #3B4455;\n",
              "      --fill-color: #D2E3FC;\n",
              "      --hover-bg-color: #434B5C;\n",
              "      --hover-fill-color: #FFFFFF;\n",
              "      --disabled-bg-color: #3B4455;\n",
              "      --disabled-fill-color: #666;\n",
              "  }\n",
              "\n",
              "  .colab-df-quickchart {\n",
              "    background-color: var(--bg-color);\n",
              "    border: none;\n",
              "    border-radius: 50%;\n",
              "    cursor: pointer;\n",
              "    display: none;\n",
              "    fill: var(--fill-color);\n",
              "    height: 32px;\n",
              "    padding: 0;\n",
              "    width: 32px;\n",
              "  }\n",
              "\n",
              "  .colab-df-quickchart:hover {\n",
              "    background-color: var(--hover-bg-color);\n",
              "    box-shadow: 0 1px 2px rgba(60, 64, 67, 0.3), 0 1px 3px 1px rgba(60, 64, 67, 0.15);\n",
              "    fill: var(--button-hover-fill-color);\n",
              "  }\n",
              "\n",
              "  .colab-df-quickchart-complete:disabled,\n",
              "  .colab-df-quickchart-complete:disabled:hover {\n",
              "    background-color: var(--disabled-bg-color);\n",
              "    fill: var(--disabled-fill-color);\n",
              "    box-shadow: none;\n",
              "  }\n",
              "\n",
              "  .colab-df-spinner {\n",
              "    border: 2px solid var(--fill-color);\n",
              "    border-color: transparent;\n",
              "    border-bottom-color: var(--fill-color);\n",
              "    animation:\n",
              "      spin 1s steps(1) infinite;\n",
              "  }\n",
              "\n",
              "  @keyframes spin {\n",
              "    0% {\n",
              "      border-color: transparent;\n",
              "      border-bottom-color: var(--fill-color);\n",
              "      border-left-color: var(--fill-color);\n",
              "    }\n",
              "    20% {\n",
              "      border-color: transparent;\n",
              "      border-left-color: var(--fill-color);\n",
              "      border-top-color: var(--fill-color);\n",
              "    }\n",
              "    30% {\n",
              "      border-color: transparent;\n",
              "      border-left-color: var(--fill-color);\n",
              "      border-top-color: var(--fill-color);\n",
              "      border-right-color: var(--fill-color);\n",
              "    }\n",
              "    40% {\n",
              "      border-color: transparent;\n",
              "      border-right-color: var(--fill-color);\n",
              "      border-top-color: var(--fill-color);\n",
              "    }\n",
              "    60% {\n",
              "      border-color: transparent;\n",
              "      border-right-color: var(--fill-color);\n",
              "    }\n",
              "    80% {\n",
              "      border-color: transparent;\n",
              "      border-right-color: var(--fill-color);\n",
              "      border-bottom-color: var(--fill-color);\n",
              "    }\n",
              "    90% {\n",
              "      border-color: transparent;\n",
              "      border-bottom-color: var(--fill-color);\n",
              "    }\n",
              "  }\n",
              "</style>\n",
              "\n",
              "      <script>\n",
              "        async function quickchart(key) {\n",
              "          const quickchartButtonEl =\n",
              "            document.querySelector('#' + key + ' button');\n",
              "          quickchartButtonEl.disabled = true;  // To prevent multiple clicks.\n",
              "          quickchartButtonEl.classList.add('colab-df-spinner');\n",
              "          try {\n",
              "            const charts = await google.colab.kernel.invokeFunction(\n",
              "                'suggestCharts', [key], {});\n",
              "          } catch (error) {\n",
              "            console.error('Error during call to suggestCharts:', error);\n",
              "          }\n",
              "          quickchartButtonEl.classList.remove('colab-df-spinner');\n",
              "          quickchartButtonEl.classList.add('colab-df-quickchart-complete');\n",
              "        }\n",
              "        (() => {\n",
              "          let quickchartButtonEl =\n",
              "            document.querySelector('#df-d24d0db4-7d81-47b4-9c20-ee63f76ced52 button');\n",
              "          quickchartButtonEl.style.display =\n",
              "            google.colab.kernel.accessAllowed ? 'block' : 'none';\n",
              "        })();\n",
              "      </script>\n",
              "    </div>\n",
              "\n",
              "    </div>\n",
              "  </div>\n"
            ],
            "application/vnd.google.colaboratory.intrinsic+json": {
              "type": "dataframe",
              "summary": "{\n  \"name\": \"  display(sample_output\",\n  \"rows\": 5,\n  \"fields\": [\n    {\n      \"column\": \"id\",\n      \"properties\": {\n        \"dtype\": \"number\",\n        \"std\": 4,\n        \"min\": 0,\n        \"max\": 11,\n        \"num_unique_values\": 5,\n        \"samples\": [\n          2,\n          11,\n          3\n        ],\n        \"semantic_type\": \"\",\n        \"description\": \"\"\n      }\n    },\n    {\n      \"column\": \"target\",\n      \"properties\": {\n        \"dtype\": \"number\",\n        \"std\": 0,\n        \"min\": 0,\n        \"max\": 0,\n        \"num_unique_values\": 1,\n        \"samples\": [\n          0\n        ],\n        \"semantic_type\": \"\",\n        \"description\": \"\"\n      }\n    }\n  ]\n}"
            }
          },
          "metadata": {}
        }
      ]
    },
    {
      "cell_type": "code",
      "source": [
        "# Display training labels info\n",
        "print(\"Training Labels Info:\")\n",
        "print(train_labels.info())\n",
        "print()\n",
        "# Display testing labels info\n",
        "print(\"Testing Data Info:\")\n",
        "print(test_labels.info())\n",
        "print()"
      ],
      "metadata": {
        "colab": {
          "base_uri": "https://localhost:8080/"
        },
        "id": "3giy9lq9iwN_",
        "outputId": "f634f26b-2748-4c19-ae1d-96d16353c4b8"
      },
      "execution_count": 23,
      "outputs": [
        {
          "output_type": "stream",
          "name": "stdout",
          "text": [
            "Training Labels Info:\n",
            "<class 'pandas.core.frame.DataFrame'>\n",
            "RangeIndex: 7613 entries, 0 to 7612\n",
            "Data columns (total 8 columns):\n",
            " #   Column      Non-Null Count  Dtype \n",
            "---  ------      --------------  ----- \n",
            " 0   id          7613 non-null   int64 \n",
            " 1   keyword     7552 non-null   object\n",
            " 2   location    5080 non-null   object\n",
            " 3   text        7613 non-null   object\n",
            " 4   target      7613 non-null   int64 \n",
            " 5   label       7613 non-null   int64 \n",
            " 6   length      7613 non-null   int64 \n",
            " 7   word_count  7613 non-null   int64 \n",
            "dtypes: int64(5), object(3)\n",
            "memory usage: 475.9+ KB\n",
            "None\n",
            "\n",
            "Testing Data Info:\n",
            "<class 'pandas.core.frame.DataFrame'>\n",
            "RangeIndex: 3263 entries, 0 to 3262\n",
            "Data columns (total 6 columns):\n",
            " #   Column      Non-Null Count  Dtype \n",
            "---  ------      --------------  ----- \n",
            " 0   id          3263 non-null   int64 \n",
            " 1   keyword     3237 non-null   object\n",
            " 2   location    2158 non-null   object\n",
            " 3   text        3263 non-null   object\n",
            " 4   length      3263 non-null   int64 \n",
            " 5   word_count  3263 non-null   int64 \n",
            "dtypes: int64(3), object(3)\n",
            "memory usage: 153.1+ KB\n",
            "None\n",
            "\n"
          ]
        }
      ]
    },
    {
      "cell_type": "code",
      "source": [
        " # Preview the Training Label Assignments\n",
        "print('Label Count of Training Labels')\n",
        "display(train_labels['target'].value_counts())\n",
        "print()\n",
        "print('Imbalance of Labels:', round((train_labels['target'].value_counts()[1]\n",
        "                                    - train_labels['target'].value_counts()[0]) / len(train_labels), 3))\n",
        ""
      ],
      "metadata": {
        "colab": {
          "base_uri": "https://localhost:8080/",
          "height": 232
        },
        "id": "_KfzRK0ljCol",
        "outputId": "9fa2fb53-06cc-43d0-8a96-7661373a8be2"
      },
      "execution_count": 24,
      "outputs": [
        {
          "output_type": "stream",
          "name": "stdout",
          "text": [
            "Label Count of Training Labels\n"
          ]
        },
        {
          "output_type": "display_data",
          "data": {
            "text/plain": [
              "target\n",
              "0    4342\n",
              "1    3271\n",
              "Name: count, dtype: int64"
            ],
            "text/html": [
              "<div>\n",
              "<style scoped>\n",
              "    .dataframe tbody tr th:only-of-type {\n",
              "        vertical-align: middle;\n",
              "    }\n",
              "\n",
              "    .dataframe tbody tr th {\n",
              "        vertical-align: top;\n",
              "    }\n",
              "\n",
              "    .dataframe thead th {\n",
              "        text-align: right;\n",
              "    }\n",
              "</style>\n",
              "<table border=\"1\" class=\"dataframe\">\n",
              "  <thead>\n",
              "    <tr style=\"text-align: right;\">\n",
              "      <th></th>\n",
              "      <th>count</th>\n",
              "    </tr>\n",
              "    <tr>\n",
              "      <th>target</th>\n",
              "      <th></th>\n",
              "    </tr>\n",
              "  </thead>\n",
              "  <tbody>\n",
              "    <tr>\n",
              "      <th>0</th>\n",
              "      <td>4342</td>\n",
              "    </tr>\n",
              "    <tr>\n",
              "      <th>1</th>\n",
              "      <td>3271</td>\n",
              "    </tr>\n",
              "  </tbody>\n",
              "</table>\n",
              "</div><br><label><b>dtype:</b> int64</label>"
            ]
          },
          "metadata": {}
        },
        {
          "output_type": "stream",
          "name": "stdout",
          "text": [
            "\n",
            "Imbalance of Labels: -0.141\n"
          ]
        }
      ]
    },
    {
      "cell_type": "code",
      "source": [
        "# Example of the text from the article\n",
        "example_text = train_labels['text'].iloc[100]\n",
        "# Print to Screen\n",
        "print(\"Length of Text:\", len(example_text), \"\\n\")\n",
        "print(textwrap.fill(example_text, width=100))"
      ],
      "metadata": {
        "colab": {
          "base_uri": "https://localhost:8080/"
        },
        "id": "6jIOI0uJmvoa",
        "outputId": "3ed65987-eea9-4b83-d0e0-66c9f1145107"
      },
      "execution_count": 25,
      "outputs": [
        {
          "output_type": "stream",
          "name": "stdout",
          "text": [
            "Length of Text: 124 \n",
            "\n",
            ".@NorwayMFA #Bahrain police had previously died in a road accident they were not killed by explosion\n",
            "https://t.co/gFJfgTodad\n"
          ]
        }
      ]
    },
    {
      "cell_type": "markdown",
      "metadata": {
        "id": "6BtBwi2SKW2N"
      },
      "source": [
        "# 3.&nbsp;Exploratory Data Analysis (EDA)\n",
        "\n",
        "The EDA phase focuses on understanding the dataset, including data distribution and label counts. Various functions are used to inspect the structure of the dataset, visualize the label distribution, and assess the text length and word count of the documentation. The data is found to be somewhat imbalanced across categories."
      ]
    },
    {
      "cell_type": "markdown",
      "metadata": {
        "id": "NcwHYK4SI7wY"
      },
      "source": [
        "## EDA Functions"
      ]
    },
    {
      "cell_type": "markdown",
      "source": [
        "EDA Functions recycled from previous Natural Language Processing (NLP) analysis projects. The general patter of completing EDA for NLP typically starts with a standard set of tables and charts to understand the data.*italicized text*\n",
        "\n",
        "*Source:* [auto_classifying_salesforce_cloud_documentation.ipynb](https://github.com/TOM-BOHN/MsDS-supervised-nlp-sfdc-auto-classification/blob/0f26d4b049e22b43e3bffd348e7687b4640c30d2/auto_classifying_salesforce_cloud_documentation.ipynb)"
      ],
      "metadata": {
        "id": "8qVzjwg1ljJm"
      }
    },
    {
      "cell_type": "code",
      "source": [
        "# Function to replace labels in a list based on a label dictionary\n",
        "def replace_labels(labels, label_dict):\n",
        "  new_labels = []\n",
        "  # Iterate through each label in the input list\n",
        "  for label in labels:\n",
        "    # If the label exists in the label dictionary, append the replacement label\n",
        "    if label in label_dict:\n",
        "      new_labels.append(label_dict[label])\n",
        "    else:\n",
        "      new_labels.append(label)\n",
        "\n",
        "  return new_labels"
      ],
      "metadata": {
        "id": "4WG33VfvsDit"
      },
      "execution_count": 26,
      "outputs": []
    },
    {
      "cell_type": "code",
      "source": [
        "# Create a dictionary to store the data for each label\n",
        "def create_data_by_label(data, label_col):\n",
        "  data_by_label = {}\n",
        "  # Iterate over the unique labels\n",
        "  for label in data['label'].unique():\n",
        "      # Subset the data for the current label\n",
        "      data_by_label[label] = data[data['label'] == label]\n",
        "\n",
        "  print(\"Size of the data by label dictionary:\", len(data_by_label), \"\\n\")\n",
        "\n",
        "  return data_by_label"
      ],
      "metadata": {
        "id": "ysWdfjC8sZ3R"
      },
      "execution_count": 27,
      "outputs": []
    },
    {
      "cell_type": "code",
      "execution_count": 28,
      "metadata": {
        "id": "1YxRQzCvqOsl"
      },
      "outputs": [],
      "source": [
        "# Create a function to print key table details\n",
        "def quick_table_details (df_name, df, level_of_detail = 10):\n",
        "  # describe the shape and column summary\n",
        "  if level_of_detail >= 1:\n",
        "    print('\\n####', df_name, '####')\n",
        "    num_rows = df.shape[0]\n",
        "    num_cols = df.shape[1]\n",
        "    print('number of features (columns) = ' + str(num_cols))\n",
        "    print('number of observations (rows) = ' + str(num_rows))\n",
        "    print('----------------------------', '\\n')\n",
        "  # print the datatype counts\n",
        "  if level_of_detail >= 2:\n",
        "    print('DataType Counts:')\n",
        "    display(df.dtypes.value_counts())\n",
        "    print('----------------------------', '\\n')\n",
        "  # print a full list of column names\n",
        "  if level_of_detail >= 3:\n",
        "    print('Columns:')\n",
        "    print(df.columns)\n",
        "    print('----------------------------', '\\n')\n",
        "  #  expanded table details\n",
        "  if level_of_detail >= 4:\n",
        "    print('Description:')\n",
        "    display(df.describe(include='all'))\n",
        "    print('----------------------------', '\\n')\n",
        "    print('Info:')\n",
        "    display(df.info())\n",
        "    print('----------------------------', '\\n')\n",
        "  #  table records preview\n",
        "  if level_of_detail >= 5:\n",
        "    print('Table Preview:')\n",
        "    x_records = 3\n",
        "    display(df.head(x_records))\n",
        "    print('....')\n",
        "    display(df.tail(x_records))\n",
        "    print('----------------------------', '\\n')"
      ]
    },
    {
      "cell_type": "code",
      "source": [
        "# function to count the number of records in each category and stats\n",
        "def count_field(df, field = 'label'):\n",
        "    df_cat_count = pd.DataFrame(df[field].value_counts()).reset_index()\n",
        "    #df_cat_count = df_cat_count.rename(columns={'label': 'Count', 'index': 'Label'})\n",
        "    df_cat_count = df_cat_count.sort_values(by = ['count'], ascending = False)\n",
        "    df_cat_count['Pct of Total'] = round(df_cat_count['count'] / df_cat_count['count'].sum(), 2)\n",
        "    df_cat_count['Pct of Total Text'] = (df_cat_count['Pct of Total'] * 100).apply(int).apply(str) + ' %'\n",
        "    return df_cat_count"
      ],
      "metadata": {
        "id": "UPU27OQUlV4E"
      },
      "execution_count": 29,
      "outputs": []
    },
    {
      "cell_type": "code",
      "source": [
        "# define a function to aggregate dataframe on a single category\n",
        "def shape_df_for_stacked_barchart(df, group_by, stack_by, normalize=True):\n",
        "    # Check if group_by and stack_by are the same\n",
        "    if group_by == stack_by:\n",
        "        # If they are the same, simply return the value counts as a DataFrame\n",
        "        df_chart = df[group_by].value_counts(normalize=normalize).round(2).to_frame()\n",
        "        df_chart.index.name = stack_by  # Set the index name for consistency\n",
        "    else:\n",
        "        # If they are different, proceed with the original logic\n",
        "        df_chart = (df\n",
        "                    .groupby(group_by)[stack_by]\n",
        "                    .value_counts(normalize=normalize)\n",
        "                    .round(2)\n",
        "                    .unstack())\n",
        "    return df_chart\n",
        "\n",
        "# defgine a function to plot a bar chart for a single category\n",
        "def create_single_stacked_bar(df, group_by, stack_by, fig_size = (5,5), normalize=True):\n",
        "  df_chart = shape_df_for_stacked_barchart(df = df, group_by = group_by, stack_by = stack_by, normalize = normalize)\n",
        "  if gDEBUG: print(df_chart, '\\n')\n",
        "  fig, ax = plt.subplots(figsize = fig_size)\n",
        "  # plot the chart\n",
        "  chart = df_chart.plot.bar(stacked = True,\n",
        "                    ax = ax,\n",
        "                    width = 0.3,\n",
        "                    edgecolor = \"black\")\n",
        "  # Customising legend\n",
        "  ax.legend(fontsize = 10, title_fontsize = 10)\n",
        "\n",
        "  ax.set_title(group_by, fontsize=10)\n",
        "  ax.set_xlabel(group_by, fontsize=8)\n",
        "  ax.set_ylabel('Record Count', fontsize=8)\n",
        "  return fig\n",
        ""
      ],
      "metadata": {
        "id": "aX1RuPINlV8q"
      },
      "execution_count": 30,
      "outputs": []
    },
    {
      "cell_type": "code",
      "source": [
        "# Visualization of class frequencies\n",
        "def viz_class_frequency(data_by_label, label_dict):\n",
        "  values = []\n",
        "  labels = []\n",
        "  for i in range(0, len(data_by_label)):\n",
        "    try:\n",
        "      values.append(len(data_by_label[i]))\n",
        "      labels.append(i)\n",
        "    except:\n",
        "      pass\n",
        "\n",
        "  labels = replace_labels(labels, label_dict = inverted_label_dict)\n",
        "\n",
        "  print(values)\n",
        "  print(labels)\n",
        "\n",
        "  # Create the horizontal bar chart\n",
        "  plt.barh(labels, values)\n",
        "\n",
        "  # Add labels and title\n",
        "  plt.xlabel(\"Record Count\")\n",
        "  plt.ylabel(\"Labels\")\n",
        "  plt.title(\"Comparison of Class Frequencies\")\n",
        "\n",
        "  # Display the chart\n",
        "  plt.show()"
      ],
      "metadata": {
        "id": "YQRz6HZjlV__"
      },
      "execution_count": 31,
      "outputs": []
    },
    {
      "cell_type": "code",
      "source": [
        "# Distribution of number of characters in description\n",
        "def viz_char_frequency(data_by_label, label_dict):\n",
        "  values = []\n",
        "  labels = []\n",
        "  for i in range(0, len(data_by_label)):\n",
        "    try:\n",
        "      values.append(data_by_label[i]['text'].str.len())\n",
        "      labels.append(i)\n",
        "    except:\n",
        "      pass\n",
        "\n",
        "  labels = replace_labels(labels, label_dict = inverted_label_dict)\n",
        "\n",
        "  cols = 3\n",
        "  rows = math.ceil(len(values)/cols)\n",
        "\n",
        "  fig, axs = plt.subplots(rows, cols, figsize = (10, (rows*3)), sharey = False)\n",
        "\n",
        "  # Flatten the axs array to iterate over it easily\n",
        "  axs = axs.flatten()\n",
        "\n",
        "  for i in range(0, len(data_by_label)):\n",
        "    sns.histplot(x = values[i], bins = 20, ax = axs[i]).set_title('Class: ' + labels[i], fontsize=10)\n",
        "\n",
        "  fig.suptitle(\"Distribution of number of characters in description\", y=1.05)\n",
        "\n",
        "  for i in range(0, len(data_by_label)):\n",
        "      axs[i].set_xlabel(\" \") if i // cols == 0 else axs[i].set_xlabel(\"Number of characters\") # Change: Use cols instead of 2\n",
        "      if i % cols != 0: axs[i].set_ylabel(\" \") # Change: Use cols instead of 2"
      ],
      "metadata": {
        "id": "uanS6kLjlWDA"
      },
      "execution_count": 32,
      "outputs": []
    },
    {
      "cell_type": "code",
      "source": [
        "# Distribution of number of words in description\n",
        "def viz_word_frequency(data_by_label, label_dict):\n",
        "  values = []\n",
        "  labels = []\n",
        "  for i in range(0, len(data_by_label)):\n",
        "    try:\n",
        "      values.append(data_by_label[i]['text'].str.split().map(lambda x: len(x)))\n",
        "      labels.append(i)\n",
        "    except:\n",
        "      pass\n",
        "\n",
        "  labels = replace_labels(labels, label_dict = inverted_label_dict)\n",
        "\n",
        "  cols = 3\n",
        "  rows = math.ceil(len(values)/cols)\n",
        "\n",
        "  fig, axs = plt.subplots(rows, cols, figsize = (10, (rows*3)), sharey = False)\n",
        "\n",
        "  # Flatten the axs array to iterate over it easily\n",
        "  axs = axs.flatten()\n",
        "\n",
        "  for i in range(0, len(data_by_label)):\n",
        "    sns.histplot(x = values[i], bins = 20, ax = axs[i]).set_title('Class: ' + labels[i], fontsize=10)\n",
        "\n",
        "  fig.suptitle(\"Distribution of number of words in description\", y=1.05)\n",
        "\n",
        "  for i in range(0, len(data_by_label)):\n",
        "      axs[i].set_xlabel(\" \") if i // cols == 0 else axs[i].set_xlabel(\"Number of words\") # Change: Use cols instead of 2\n",
        "      if i % cols != 0: axs[i].set_ylabel(\" \") # Change: Use cols instead of 2"
      ],
      "metadata": {
        "id": "skpYNngwlWGD"
      },
      "execution_count": 33,
      "outputs": []
    },
    {
      "cell_type": "code",
      "source": [
        "# Distribution of number of words in description\n",
        "def viz_word_length_frequency(data_by_label, label_dict):\n",
        "  values = []\n",
        "  labels = []\n",
        "  for i in range(0, len(data_by_label)):\n",
        "    try:\n",
        "      values.append(data_by_label[i]['text'].str.split().apply(lambda x : [len(i) for i in x]).map(lambda x: np.mean(x)))\n",
        "      labels.append(i)\n",
        "    except:\n",
        "      pass\n",
        "\n",
        "  labels = replace_labels(labels, label_dict = inverted_label_dict)\n",
        "\n",
        "  cols = 3\n",
        "  rows = math.ceil(len(values)/cols)\n",
        "\n",
        "  fig, axs = plt.subplots(rows, cols, figsize = (10, (rows*3)), sharey = False)\n",
        "\n",
        "  # Flatten the axs array to iterate over it easily\n",
        "  axs = axs.flatten()\n",
        "\n",
        "  for i in range(0, len(data_by_label)):\n",
        "    sns.histplot(x = values[i], bins = 20, ax = axs[i]).set_title('Class: ' + labels[i], fontsize=10)\n",
        "\n",
        "  fig.suptitle(\"Distribution of average word-length in description\", y=1.05)\n",
        "\n",
        "  for i in range(0, len(data_by_label)):\n",
        "      axs[i].set_xlabel(\" \") if i // cols == 0 else axs[i].set_xlabel(\"Average word-length\")\n",
        "      if i % cols != 0: axs[i].set_ylabel(\" \")"
      ],
      "metadata": {
        "id": "oOc9xGv2lf2F"
      },
      "execution_count": 34,
      "outputs": []
    },
    {
      "cell_type": "markdown",
      "metadata": {
        "id": "2bO3CvKfI_eC"
      },
      "source": [
        "## EDA Analysis: Overview"
      ]
    },
    {
      "cell_type": "code",
      "execution_count": 35,
      "metadata": {
        "id": "KT45kj_oqOsl",
        "colab": {
          "base_uri": "https://localhost:8080/",
          "height": 1000
        },
        "outputId": "860bc659-ee99-4f2b-a4f2-fed68e0fdd47"
      },
      "outputs": [
        {
          "output_type": "stream",
          "name": "stdout",
          "text": [
            "\n",
            "#### train_labels ####\n",
            "number of features (columns) = 8\n",
            "number of observations (rows) = 7613\n",
            "---------------------------- \n",
            "\n",
            "DataType Counts:\n"
          ]
        },
        {
          "output_type": "display_data",
          "data": {
            "text/plain": [
              "int64     5\n",
              "object    3\n",
              "Name: count, dtype: int64"
            ],
            "text/html": [
              "<div>\n",
              "<style scoped>\n",
              "    .dataframe tbody tr th:only-of-type {\n",
              "        vertical-align: middle;\n",
              "    }\n",
              "\n",
              "    .dataframe tbody tr th {\n",
              "        vertical-align: top;\n",
              "    }\n",
              "\n",
              "    .dataframe thead th {\n",
              "        text-align: right;\n",
              "    }\n",
              "</style>\n",
              "<table border=\"1\" class=\"dataframe\">\n",
              "  <thead>\n",
              "    <tr style=\"text-align: right;\">\n",
              "      <th></th>\n",
              "      <th>count</th>\n",
              "    </tr>\n",
              "  </thead>\n",
              "  <tbody>\n",
              "    <tr>\n",
              "      <th>int64</th>\n",
              "      <td>5</td>\n",
              "    </tr>\n",
              "    <tr>\n",
              "      <th>object</th>\n",
              "      <td>3</td>\n",
              "    </tr>\n",
              "  </tbody>\n",
              "</table>\n",
              "</div><br><label><b>dtype:</b> int64</label>"
            ]
          },
          "metadata": {}
        },
        {
          "output_type": "stream",
          "name": "stdout",
          "text": [
            "---------------------------- \n",
            "\n",
            "Columns:\n",
            "Index(['id', 'keyword', 'location', 'text', 'target', 'label', 'length',\n",
            "       'word_count'],\n",
            "      dtype='object')\n",
            "---------------------------- \n",
            "\n",
            "Description:\n"
          ]
        },
        {
          "output_type": "display_data",
          "data": {
            "text/plain": [
              "                  id     keyword location  \\\n",
              "count    7613.000000        7552     5080   \n",
              "unique           NaN         221     3341   \n",
              "top              NaN  fatalities      USA   \n",
              "freq             NaN          45      104   \n",
              "mean     5441.934848         NaN      NaN   \n",
              "std      3137.116090         NaN      NaN   \n",
              "min         1.000000         NaN      NaN   \n",
              "25%      2734.000000         NaN      NaN   \n",
              "50%      5408.000000         NaN      NaN   \n",
              "75%      8146.000000         NaN      NaN   \n",
              "max     10873.000000         NaN      NaN   \n",
              "\n",
              "                                                     text      target  \\\n",
              "count                                                7613  7613.00000   \n",
              "unique                                               7503         NaN   \n",
              "top     11-Year-Old Boy Charged With Manslaughter of T...         NaN   \n",
              "freq                                                   10         NaN   \n",
              "mean                                                  NaN     0.42966   \n",
              "std                                                   NaN     0.49506   \n",
              "min                                                   NaN     0.00000   \n",
              "25%                                                   NaN     0.00000   \n",
              "50%                                                   NaN     0.00000   \n",
              "75%                                                   NaN     1.00000   \n",
              "max                                                   NaN     1.00000   \n",
              "\n",
              "             label       length   word_count  \n",
              "count   7613.00000  7613.000000  7613.000000  \n",
              "unique         NaN          NaN          NaN  \n",
              "top            NaN          NaN          NaN  \n",
              "freq           NaN          NaN          NaN  \n",
              "mean       0.42966   101.037436    14.903586  \n",
              "std        0.49506    33.781325     5.732604  \n",
              "min        0.00000     7.000000     1.000000  \n",
              "25%        0.00000    78.000000    11.000000  \n",
              "50%        0.00000   107.000000    15.000000  \n",
              "75%        1.00000   133.000000    19.000000  \n",
              "max        1.00000   157.000000    31.000000  "
            ],
            "text/html": [
              "\n",
              "  <div id=\"df-1e5f97f0-7304-416d-859d-c202570f4643\" class=\"colab-df-container\">\n",
              "    <div>\n",
              "<style scoped>\n",
              "    .dataframe tbody tr th:only-of-type {\n",
              "        vertical-align: middle;\n",
              "    }\n",
              "\n",
              "    .dataframe tbody tr th {\n",
              "        vertical-align: top;\n",
              "    }\n",
              "\n",
              "    .dataframe thead th {\n",
              "        text-align: right;\n",
              "    }\n",
              "</style>\n",
              "<table border=\"1\" class=\"dataframe\">\n",
              "  <thead>\n",
              "    <tr style=\"text-align: right;\">\n",
              "      <th></th>\n",
              "      <th>id</th>\n",
              "      <th>keyword</th>\n",
              "      <th>location</th>\n",
              "      <th>text</th>\n",
              "      <th>target</th>\n",
              "      <th>label</th>\n",
              "      <th>length</th>\n",
              "      <th>word_count</th>\n",
              "    </tr>\n",
              "  </thead>\n",
              "  <tbody>\n",
              "    <tr>\n",
              "      <th>count</th>\n",
              "      <td>7613.000000</td>\n",
              "      <td>7552</td>\n",
              "      <td>5080</td>\n",
              "      <td>7613</td>\n",
              "      <td>7613.00000</td>\n",
              "      <td>7613.00000</td>\n",
              "      <td>7613.000000</td>\n",
              "      <td>7613.000000</td>\n",
              "    </tr>\n",
              "    <tr>\n",
              "      <th>unique</th>\n",
              "      <td>NaN</td>\n",
              "      <td>221</td>\n",
              "      <td>3341</td>\n",
              "      <td>7503</td>\n",
              "      <td>NaN</td>\n",
              "      <td>NaN</td>\n",
              "      <td>NaN</td>\n",
              "      <td>NaN</td>\n",
              "    </tr>\n",
              "    <tr>\n",
              "      <th>top</th>\n",
              "      <td>NaN</td>\n",
              "      <td>fatalities</td>\n",
              "      <td>USA</td>\n",
              "      <td>11-Year-Old Boy Charged With Manslaughter of T...</td>\n",
              "      <td>NaN</td>\n",
              "      <td>NaN</td>\n",
              "      <td>NaN</td>\n",
              "      <td>NaN</td>\n",
              "    </tr>\n",
              "    <tr>\n",
              "      <th>freq</th>\n",
              "      <td>NaN</td>\n",
              "      <td>45</td>\n",
              "      <td>104</td>\n",
              "      <td>10</td>\n",
              "      <td>NaN</td>\n",
              "      <td>NaN</td>\n",
              "      <td>NaN</td>\n",
              "      <td>NaN</td>\n",
              "    </tr>\n",
              "    <tr>\n",
              "      <th>mean</th>\n",
              "      <td>5441.934848</td>\n",
              "      <td>NaN</td>\n",
              "      <td>NaN</td>\n",
              "      <td>NaN</td>\n",
              "      <td>0.42966</td>\n",
              "      <td>0.42966</td>\n",
              "      <td>101.037436</td>\n",
              "      <td>14.903586</td>\n",
              "    </tr>\n",
              "    <tr>\n",
              "      <th>std</th>\n",
              "      <td>3137.116090</td>\n",
              "      <td>NaN</td>\n",
              "      <td>NaN</td>\n",
              "      <td>NaN</td>\n",
              "      <td>0.49506</td>\n",
              "      <td>0.49506</td>\n",
              "      <td>33.781325</td>\n",
              "      <td>5.732604</td>\n",
              "    </tr>\n",
              "    <tr>\n",
              "      <th>min</th>\n",
              "      <td>1.000000</td>\n",
              "      <td>NaN</td>\n",
              "      <td>NaN</td>\n",
              "      <td>NaN</td>\n",
              "      <td>0.00000</td>\n",
              "      <td>0.00000</td>\n",
              "      <td>7.000000</td>\n",
              "      <td>1.000000</td>\n",
              "    </tr>\n",
              "    <tr>\n",
              "      <th>25%</th>\n",
              "      <td>2734.000000</td>\n",
              "      <td>NaN</td>\n",
              "      <td>NaN</td>\n",
              "      <td>NaN</td>\n",
              "      <td>0.00000</td>\n",
              "      <td>0.00000</td>\n",
              "      <td>78.000000</td>\n",
              "      <td>11.000000</td>\n",
              "    </tr>\n",
              "    <tr>\n",
              "      <th>50%</th>\n",
              "      <td>5408.000000</td>\n",
              "      <td>NaN</td>\n",
              "      <td>NaN</td>\n",
              "      <td>NaN</td>\n",
              "      <td>0.00000</td>\n",
              "      <td>0.00000</td>\n",
              "      <td>107.000000</td>\n",
              "      <td>15.000000</td>\n",
              "    </tr>\n",
              "    <tr>\n",
              "      <th>75%</th>\n",
              "      <td>8146.000000</td>\n",
              "      <td>NaN</td>\n",
              "      <td>NaN</td>\n",
              "      <td>NaN</td>\n",
              "      <td>1.00000</td>\n",
              "      <td>1.00000</td>\n",
              "      <td>133.000000</td>\n",
              "      <td>19.000000</td>\n",
              "    </tr>\n",
              "    <tr>\n",
              "      <th>max</th>\n",
              "      <td>10873.000000</td>\n",
              "      <td>NaN</td>\n",
              "      <td>NaN</td>\n",
              "      <td>NaN</td>\n",
              "      <td>1.00000</td>\n",
              "      <td>1.00000</td>\n",
              "      <td>157.000000</td>\n",
              "      <td>31.000000</td>\n",
              "    </tr>\n",
              "  </tbody>\n",
              "</table>\n",
              "</div>\n",
              "    <div class=\"colab-df-buttons\">\n",
              "\n",
              "  <div class=\"colab-df-container\">\n",
              "    <button class=\"colab-df-convert\" onclick=\"convertToInteractive('df-1e5f97f0-7304-416d-859d-c202570f4643')\"\n",
              "            title=\"Convert this dataframe to an interactive table.\"\n",
              "            style=\"display:none;\">\n",
              "\n",
              "  <svg xmlns=\"http://www.w3.org/2000/svg\" height=\"24px\" viewBox=\"0 -960 960 960\">\n",
              "    <path d=\"M120-120v-720h720v720H120Zm60-500h600v-160H180v160Zm220 220h160v-160H400v160Zm0 220h160v-160H400v160ZM180-400h160v-160H180v160Zm440 0h160v-160H620v160ZM180-180h160v-160H180v160Zm440 0h160v-160H620v160Z\"/>\n",
              "  </svg>\n",
              "    </button>\n",
              "\n",
              "  <style>\n",
              "    .colab-df-container {\n",
              "      display:flex;\n",
              "      gap: 12px;\n",
              "    }\n",
              "\n",
              "    .colab-df-convert {\n",
              "      background-color: #E8F0FE;\n",
              "      border: none;\n",
              "      border-radius: 50%;\n",
              "      cursor: pointer;\n",
              "      display: none;\n",
              "      fill: #1967D2;\n",
              "      height: 32px;\n",
              "      padding: 0 0 0 0;\n",
              "      width: 32px;\n",
              "    }\n",
              "\n",
              "    .colab-df-convert:hover {\n",
              "      background-color: #E2EBFA;\n",
              "      box-shadow: 0px 1px 2px rgba(60, 64, 67, 0.3), 0px 1px 3px 1px rgba(60, 64, 67, 0.15);\n",
              "      fill: #174EA6;\n",
              "    }\n",
              "\n",
              "    .colab-df-buttons div {\n",
              "      margin-bottom: 4px;\n",
              "    }\n",
              "\n",
              "    [theme=dark] .colab-df-convert {\n",
              "      background-color: #3B4455;\n",
              "      fill: #D2E3FC;\n",
              "    }\n",
              "\n",
              "    [theme=dark] .colab-df-convert:hover {\n",
              "      background-color: #434B5C;\n",
              "      box-shadow: 0px 1px 3px 1px rgba(0, 0, 0, 0.15);\n",
              "      filter: drop-shadow(0px 1px 2px rgba(0, 0, 0, 0.3));\n",
              "      fill: #FFFFFF;\n",
              "    }\n",
              "  </style>\n",
              "\n",
              "    <script>\n",
              "      const buttonEl =\n",
              "        document.querySelector('#df-1e5f97f0-7304-416d-859d-c202570f4643 button.colab-df-convert');\n",
              "      buttonEl.style.display =\n",
              "        google.colab.kernel.accessAllowed ? 'block' : 'none';\n",
              "\n",
              "      async function convertToInteractive(key) {\n",
              "        const element = document.querySelector('#df-1e5f97f0-7304-416d-859d-c202570f4643');\n",
              "        const dataTable =\n",
              "          await google.colab.kernel.invokeFunction('convertToInteractive',\n",
              "                                                    [key], {});\n",
              "        if (!dataTable) return;\n",
              "\n",
              "        const docLinkHtml = 'Like what you see? Visit the ' +\n",
              "          '<a target=\"_blank\" href=https://colab.research.google.com/notebooks/data_table.ipynb>data table notebook</a>'\n",
              "          + ' to learn more about interactive tables.';\n",
              "        element.innerHTML = '';\n",
              "        dataTable['output_type'] = 'display_data';\n",
              "        await google.colab.output.renderOutput(dataTable, element);\n",
              "        const docLink = document.createElement('div');\n",
              "        docLink.innerHTML = docLinkHtml;\n",
              "        element.appendChild(docLink);\n",
              "      }\n",
              "    </script>\n",
              "  </div>\n",
              "\n",
              "\n",
              "    <div id=\"df-5a9ad5ae-afef-4526-9202-1eb220924409\">\n",
              "      <button class=\"colab-df-quickchart\" onclick=\"quickchart('df-5a9ad5ae-afef-4526-9202-1eb220924409')\"\n",
              "                title=\"Suggest charts\"\n",
              "                style=\"display:none;\">\n",
              "\n",
              "<svg xmlns=\"http://www.w3.org/2000/svg\" height=\"24px\"viewBox=\"0 0 24 24\"\n",
              "     width=\"24px\">\n",
              "    <g>\n",
              "        <path d=\"M19 3H5c-1.1 0-2 .9-2 2v14c0 1.1.9 2 2 2h14c1.1 0 2-.9 2-2V5c0-1.1-.9-2-2-2zM9 17H7v-7h2v7zm4 0h-2V7h2v10zm4 0h-2v-4h2v4z\"/>\n",
              "    </g>\n",
              "</svg>\n",
              "      </button>\n",
              "\n",
              "<style>\n",
              "  .colab-df-quickchart {\n",
              "      --bg-color: #E8F0FE;\n",
              "      --fill-color: #1967D2;\n",
              "      --hover-bg-color: #E2EBFA;\n",
              "      --hover-fill-color: #174EA6;\n",
              "      --disabled-fill-color: #AAA;\n",
              "      --disabled-bg-color: #DDD;\n",
              "  }\n",
              "\n",
              "  [theme=dark] .colab-df-quickchart {\n",
              "      --bg-color: #3B4455;\n",
              "      --fill-color: #D2E3FC;\n",
              "      --hover-bg-color: #434B5C;\n",
              "      --hover-fill-color: #FFFFFF;\n",
              "      --disabled-bg-color: #3B4455;\n",
              "      --disabled-fill-color: #666;\n",
              "  }\n",
              "\n",
              "  .colab-df-quickchart {\n",
              "    background-color: var(--bg-color);\n",
              "    border: none;\n",
              "    border-radius: 50%;\n",
              "    cursor: pointer;\n",
              "    display: none;\n",
              "    fill: var(--fill-color);\n",
              "    height: 32px;\n",
              "    padding: 0;\n",
              "    width: 32px;\n",
              "  }\n",
              "\n",
              "  .colab-df-quickchart:hover {\n",
              "    background-color: var(--hover-bg-color);\n",
              "    box-shadow: 0 1px 2px rgba(60, 64, 67, 0.3), 0 1px 3px 1px rgba(60, 64, 67, 0.15);\n",
              "    fill: var(--button-hover-fill-color);\n",
              "  }\n",
              "\n",
              "  .colab-df-quickchart-complete:disabled,\n",
              "  .colab-df-quickchart-complete:disabled:hover {\n",
              "    background-color: var(--disabled-bg-color);\n",
              "    fill: var(--disabled-fill-color);\n",
              "    box-shadow: none;\n",
              "  }\n",
              "\n",
              "  .colab-df-spinner {\n",
              "    border: 2px solid var(--fill-color);\n",
              "    border-color: transparent;\n",
              "    border-bottom-color: var(--fill-color);\n",
              "    animation:\n",
              "      spin 1s steps(1) infinite;\n",
              "  }\n",
              "\n",
              "  @keyframes spin {\n",
              "    0% {\n",
              "      border-color: transparent;\n",
              "      border-bottom-color: var(--fill-color);\n",
              "      border-left-color: var(--fill-color);\n",
              "    }\n",
              "    20% {\n",
              "      border-color: transparent;\n",
              "      border-left-color: var(--fill-color);\n",
              "      border-top-color: var(--fill-color);\n",
              "    }\n",
              "    30% {\n",
              "      border-color: transparent;\n",
              "      border-left-color: var(--fill-color);\n",
              "      border-top-color: var(--fill-color);\n",
              "      border-right-color: var(--fill-color);\n",
              "    }\n",
              "    40% {\n",
              "      border-color: transparent;\n",
              "      border-right-color: var(--fill-color);\n",
              "      border-top-color: var(--fill-color);\n",
              "    }\n",
              "    60% {\n",
              "      border-color: transparent;\n",
              "      border-right-color: var(--fill-color);\n",
              "    }\n",
              "    80% {\n",
              "      border-color: transparent;\n",
              "      border-right-color: var(--fill-color);\n",
              "      border-bottom-color: var(--fill-color);\n",
              "    }\n",
              "    90% {\n",
              "      border-color: transparent;\n",
              "      border-bottom-color: var(--fill-color);\n",
              "    }\n",
              "  }\n",
              "</style>\n",
              "\n",
              "      <script>\n",
              "        async function quickchart(key) {\n",
              "          const quickchartButtonEl =\n",
              "            document.querySelector('#' + key + ' button');\n",
              "          quickchartButtonEl.disabled = true;  // To prevent multiple clicks.\n",
              "          quickchartButtonEl.classList.add('colab-df-spinner');\n",
              "          try {\n",
              "            const charts = await google.colab.kernel.invokeFunction(\n",
              "                'suggestCharts', [key], {});\n",
              "          } catch (error) {\n",
              "            console.error('Error during call to suggestCharts:', error);\n",
              "          }\n",
              "          quickchartButtonEl.classList.remove('colab-df-spinner');\n",
              "          quickchartButtonEl.classList.add('colab-df-quickchart-complete');\n",
              "        }\n",
              "        (() => {\n",
              "          let quickchartButtonEl =\n",
              "            document.querySelector('#df-5a9ad5ae-afef-4526-9202-1eb220924409 button');\n",
              "          quickchartButtonEl.style.display =\n",
              "            google.colab.kernel.accessAllowed ? 'block' : 'none';\n",
              "        })();\n",
              "      </script>\n",
              "    </div>\n",
              "\n",
              "    </div>\n",
              "  </div>\n"
            ],
            "application/vnd.google.colaboratory.intrinsic+json": {
              "type": "dataframe",
              "summary": "{\n  \"name\": \"quick_table_details (df_name=\\\"train_labels\\\", df=train_labels, level_of_detail = 4)\",\n  \"rows\": 11,\n  \"fields\": [\n    {\n      \"column\": \"id\",\n      \"properties\": {\n        \"dtype\": \"number\",\n        \"std\": 3459.3118775230537,\n        \"min\": 1.0,\n        \"max\": 10873.0,\n        \"num_unique_values\": 8,\n        \"samples\": [\n          5441.934848285827,\n          5408.0,\n          7613.0\n        ],\n        \"semantic_type\": \"\",\n        \"description\": \"\"\n      }\n    },\n    {\n      \"column\": \"keyword\",\n      \"properties\": {\n        \"dtype\": \"category\",\n        \"num_unique_values\": 4,\n        \"samples\": [\n          221,\n          \"45\",\n          \"7552\"\n        ],\n        \"semantic_type\": \"\",\n        \"description\": \"\"\n      }\n    },\n    {\n      \"column\": \"location\",\n      \"properties\": {\n        \"dtype\": \"category\",\n        \"num_unique_values\": 4,\n        \"samples\": [\n          3341,\n          \"104\",\n          \"5080\"\n        ],\n        \"semantic_type\": \"\",\n        \"description\": \"\"\n      }\n    },\n    {\n      \"column\": \"text\",\n      \"properties\": {\n        \"dtype\": \"category\",\n        \"num_unique_values\": 4,\n        \"samples\": [\n          7503,\n          \"10\",\n          \"7613\"\n        ],\n        \"semantic_type\": \"\",\n        \"description\": \"\"\n      }\n    },\n    {\n      \"column\": \"target\",\n      \"properties\": {\n        \"dtype\": \"number\",\n        \"std\": 2691.454273978321,\n        \"min\": 0.0,\n        \"max\": 7613.0,\n        \"num_unique_values\": 5,\n        \"samples\": [\n          0.4296597924602653,\n          1.0,\n          0.4950600449341643\n        ],\n        \"semantic_type\": \"\",\n        \"description\": \"\"\n      }\n    },\n    {\n      \"column\": \"label\",\n      \"properties\": {\n        \"dtype\": \"number\",\n        \"std\": 2691.454273978321,\n        \"min\": 0.0,\n        \"max\": 7613.0,\n        \"num_unique_values\": 5,\n        \"samples\": [\n          0.4296597924602653,\n          1.0,\n          0.4950600449341643\n        ],\n        \"semantic_type\": \"\",\n        \"description\": \"\"\n      }\n    },\n    {\n      \"column\": \"length\",\n      \"properties\": {\n        \"dtype\": \"number\",\n        \"std\": 2660.9020794927815,\n        \"min\": 7.0,\n        \"max\": 7613.0,\n        \"num_unique_values\": 8,\n        \"samples\": [\n          101.03743596479706,\n          107.0,\n          7613.0\n        ],\n        \"semantic_type\": \"\",\n        \"description\": \"\"\n      }\n    },\n    {\n      \"column\": \"word_count\",\n      \"properties\": {\n        \"dtype\": \"number\",\n        \"std\": 2686.685535671089,\n        \"min\": 1.0,\n        \"max\": 7613.0,\n        \"num_unique_values\": 8,\n        \"samples\": [\n          14.903585971364771,\n          15.0,\n          7613.0\n        ],\n        \"semantic_type\": \"\",\n        \"description\": \"\"\n      }\n    }\n  ]\n}"
            }
          },
          "metadata": {}
        },
        {
          "output_type": "stream",
          "name": "stdout",
          "text": [
            "---------------------------- \n",
            "\n",
            "Info:\n",
            "<class 'pandas.core.frame.DataFrame'>\n",
            "RangeIndex: 7613 entries, 0 to 7612\n",
            "Data columns (total 8 columns):\n",
            " #   Column      Non-Null Count  Dtype \n",
            "---  ------      --------------  ----- \n",
            " 0   id          7613 non-null   int64 \n",
            " 1   keyword     7552 non-null   object\n",
            " 2   location    5080 non-null   object\n",
            " 3   text        7613 non-null   object\n",
            " 4   target      7613 non-null   int64 \n",
            " 5   label       7613 non-null   int64 \n",
            " 6   length      7613 non-null   int64 \n",
            " 7   word_count  7613 non-null   int64 \n",
            "dtypes: int64(5), object(3)\n",
            "memory usage: 475.9+ KB\n"
          ]
        },
        {
          "output_type": "display_data",
          "data": {
            "text/plain": [
              "None"
            ]
          },
          "metadata": {}
        },
        {
          "output_type": "stream",
          "name": "stdout",
          "text": [
            "---------------------------- \n",
            "\n"
          ]
        }
      ],
      "source": [
        "# Print summary details for the 3 tables in the datasource\n",
        "quick_table_details (df_name=\"train_labels\", df=train_labels, level_of_detail = 4)"
      ]
    },
    {
      "cell_type": "code",
      "source": [
        "# show the content of one Article in the data source\n",
        "print(textwrap.fill(train_labels['text'][55], width=100))"
      ],
      "metadata": {
        "colab": {
          "base_uri": "https://localhost:8080/"
        },
        "id": "JzAsSuhgn9fZ",
        "outputId": "a68edb52-9eed-4aa0-b9bc-c16985376a69"
      },
      "execution_count": 36,
      "outputs": [
        {
          "output_type": "stream",
          "name": "stdout",
          "text": [
            "#Kurds trampling on Turkmen flag later set it ablaze while others vandalized offices of Turkmen\n",
            "Front in #Diyala http://t.co/4IzFdYC3cg\n"
          ]
        }
      ]
    },
    {
      "cell_type": "code",
      "source": [
        "#print column names for each table\n",
        "print('columns in df_train:', train_labels.columns)\n",
        "# calculate the count of records in each category\n",
        "df_cat_count = count_field(df = train_labels, field = 'target')\n",
        "display(df_cat_count)"
      ],
      "metadata": {
        "colab": {
          "base_uri": "https://localhost:8080/",
          "height": 179
        },
        "id": "rVyMeepFn9nJ",
        "outputId": "14dd0694-3fe0-4a1a-c561-ef26cd5d5460"
      },
      "execution_count": 37,
      "outputs": [
        {
          "output_type": "stream",
          "name": "stdout",
          "text": [
            "columns in df_train: Index(['id', 'keyword', 'location', 'text', 'target', 'label', 'length',\n",
            "       'word_count'],\n",
            "      dtype='object')\n"
          ]
        },
        {
          "output_type": "display_data",
          "data": {
            "text/plain": [
              "   target  count  Pct of Total Pct of Total Text\n",
              "0       0   4342          0.57              56 %\n",
              "1       1   3271          0.43              43 %"
            ],
            "text/html": [
              "\n",
              "  <div id=\"df-b5a2e17b-b197-4c33-862d-804e9748d27c\" class=\"colab-df-container\">\n",
              "    <div>\n",
              "<style scoped>\n",
              "    .dataframe tbody tr th:only-of-type {\n",
              "        vertical-align: middle;\n",
              "    }\n",
              "\n",
              "    .dataframe tbody tr th {\n",
              "        vertical-align: top;\n",
              "    }\n",
              "\n",
              "    .dataframe thead th {\n",
              "        text-align: right;\n",
              "    }\n",
              "</style>\n",
              "<table border=\"1\" class=\"dataframe\">\n",
              "  <thead>\n",
              "    <tr style=\"text-align: right;\">\n",
              "      <th></th>\n",
              "      <th>target</th>\n",
              "      <th>count</th>\n",
              "      <th>Pct of Total</th>\n",
              "      <th>Pct of Total Text</th>\n",
              "    </tr>\n",
              "  </thead>\n",
              "  <tbody>\n",
              "    <tr>\n",
              "      <th>0</th>\n",
              "      <td>0</td>\n",
              "      <td>4342</td>\n",
              "      <td>0.57</td>\n",
              "      <td>56 %</td>\n",
              "    </tr>\n",
              "    <tr>\n",
              "      <th>1</th>\n",
              "      <td>1</td>\n",
              "      <td>3271</td>\n",
              "      <td>0.43</td>\n",
              "      <td>43 %</td>\n",
              "    </tr>\n",
              "  </tbody>\n",
              "</table>\n",
              "</div>\n",
              "    <div class=\"colab-df-buttons\">\n",
              "\n",
              "  <div class=\"colab-df-container\">\n",
              "    <button class=\"colab-df-convert\" onclick=\"convertToInteractive('df-b5a2e17b-b197-4c33-862d-804e9748d27c')\"\n",
              "            title=\"Convert this dataframe to an interactive table.\"\n",
              "            style=\"display:none;\">\n",
              "\n",
              "  <svg xmlns=\"http://www.w3.org/2000/svg\" height=\"24px\" viewBox=\"0 -960 960 960\">\n",
              "    <path d=\"M120-120v-720h720v720H120Zm60-500h600v-160H180v160Zm220 220h160v-160H400v160Zm0 220h160v-160H400v160ZM180-400h160v-160H180v160Zm440 0h160v-160H620v160ZM180-180h160v-160H180v160Zm440 0h160v-160H620v160Z\"/>\n",
              "  </svg>\n",
              "    </button>\n",
              "\n",
              "  <style>\n",
              "    .colab-df-container {\n",
              "      display:flex;\n",
              "      gap: 12px;\n",
              "    }\n",
              "\n",
              "    .colab-df-convert {\n",
              "      background-color: #E8F0FE;\n",
              "      border: none;\n",
              "      border-radius: 50%;\n",
              "      cursor: pointer;\n",
              "      display: none;\n",
              "      fill: #1967D2;\n",
              "      height: 32px;\n",
              "      padding: 0 0 0 0;\n",
              "      width: 32px;\n",
              "    }\n",
              "\n",
              "    .colab-df-convert:hover {\n",
              "      background-color: #E2EBFA;\n",
              "      box-shadow: 0px 1px 2px rgba(60, 64, 67, 0.3), 0px 1px 3px 1px rgba(60, 64, 67, 0.15);\n",
              "      fill: #174EA6;\n",
              "    }\n",
              "\n",
              "    .colab-df-buttons div {\n",
              "      margin-bottom: 4px;\n",
              "    }\n",
              "\n",
              "    [theme=dark] .colab-df-convert {\n",
              "      background-color: #3B4455;\n",
              "      fill: #D2E3FC;\n",
              "    }\n",
              "\n",
              "    [theme=dark] .colab-df-convert:hover {\n",
              "      background-color: #434B5C;\n",
              "      box-shadow: 0px 1px 3px 1px rgba(0, 0, 0, 0.15);\n",
              "      filter: drop-shadow(0px 1px 2px rgba(0, 0, 0, 0.3));\n",
              "      fill: #FFFFFF;\n",
              "    }\n",
              "  </style>\n",
              "\n",
              "    <script>\n",
              "      const buttonEl =\n",
              "        document.querySelector('#df-b5a2e17b-b197-4c33-862d-804e9748d27c button.colab-df-convert');\n",
              "      buttonEl.style.display =\n",
              "        google.colab.kernel.accessAllowed ? 'block' : 'none';\n",
              "\n",
              "      async function convertToInteractive(key) {\n",
              "        const element = document.querySelector('#df-b5a2e17b-b197-4c33-862d-804e9748d27c');\n",
              "        const dataTable =\n",
              "          await google.colab.kernel.invokeFunction('convertToInteractive',\n",
              "                                                    [key], {});\n",
              "        if (!dataTable) return;\n",
              "\n",
              "        const docLinkHtml = 'Like what you see? Visit the ' +\n",
              "          '<a target=\"_blank\" href=https://colab.research.google.com/notebooks/data_table.ipynb>data table notebook</a>'\n",
              "          + ' to learn more about interactive tables.';\n",
              "        element.innerHTML = '';\n",
              "        dataTable['output_type'] = 'display_data';\n",
              "        await google.colab.output.renderOutput(dataTable, element);\n",
              "        const docLink = document.createElement('div');\n",
              "        docLink.innerHTML = docLinkHtml;\n",
              "        element.appendChild(docLink);\n",
              "      }\n",
              "    </script>\n",
              "  </div>\n",
              "\n",
              "\n",
              "    <div id=\"df-d723dc82-224e-459d-955b-19959545c04a\">\n",
              "      <button class=\"colab-df-quickchart\" onclick=\"quickchart('df-d723dc82-224e-459d-955b-19959545c04a')\"\n",
              "                title=\"Suggest charts\"\n",
              "                style=\"display:none;\">\n",
              "\n",
              "<svg xmlns=\"http://www.w3.org/2000/svg\" height=\"24px\"viewBox=\"0 0 24 24\"\n",
              "     width=\"24px\">\n",
              "    <g>\n",
              "        <path d=\"M19 3H5c-1.1 0-2 .9-2 2v14c0 1.1.9 2 2 2h14c1.1 0 2-.9 2-2V5c0-1.1-.9-2-2-2zM9 17H7v-7h2v7zm4 0h-2V7h2v10zm4 0h-2v-4h2v4z\"/>\n",
              "    </g>\n",
              "</svg>\n",
              "      </button>\n",
              "\n",
              "<style>\n",
              "  .colab-df-quickchart {\n",
              "      --bg-color: #E8F0FE;\n",
              "      --fill-color: #1967D2;\n",
              "      --hover-bg-color: #E2EBFA;\n",
              "      --hover-fill-color: #174EA6;\n",
              "      --disabled-fill-color: #AAA;\n",
              "      --disabled-bg-color: #DDD;\n",
              "  }\n",
              "\n",
              "  [theme=dark] .colab-df-quickchart {\n",
              "      --bg-color: #3B4455;\n",
              "      --fill-color: #D2E3FC;\n",
              "      --hover-bg-color: #434B5C;\n",
              "      --hover-fill-color: #FFFFFF;\n",
              "      --disabled-bg-color: #3B4455;\n",
              "      --disabled-fill-color: #666;\n",
              "  }\n",
              "\n",
              "  .colab-df-quickchart {\n",
              "    background-color: var(--bg-color);\n",
              "    border: none;\n",
              "    border-radius: 50%;\n",
              "    cursor: pointer;\n",
              "    display: none;\n",
              "    fill: var(--fill-color);\n",
              "    height: 32px;\n",
              "    padding: 0;\n",
              "    width: 32px;\n",
              "  }\n",
              "\n",
              "  .colab-df-quickchart:hover {\n",
              "    background-color: var(--hover-bg-color);\n",
              "    box-shadow: 0 1px 2px rgba(60, 64, 67, 0.3), 0 1px 3px 1px rgba(60, 64, 67, 0.15);\n",
              "    fill: var(--button-hover-fill-color);\n",
              "  }\n",
              "\n",
              "  .colab-df-quickchart-complete:disabled,\n",
              "  .colab-df-quickchart-complete:disabled:hover {\n",
              "    background-color: var(--disabled-bg-color);\n",
              "    fill: var(--disabled-fill-color);\n",
              "    box-shadow: none;\n",
              "  }\n",
              "\n",
              "  .colab-df-spinner {\n",
              "    border: 2px solid var(--fill-color);\n",
              "    border-color: transparent;\n",
              "    border-bottom-color: var(--fill-color);\n",
              "    animation:\n",
              "      spin 1s steps(1) infinite;\n",
              "  }\n",
              "\n",
              "  @keyframes spin {\n",
              "    0% {\n",
              "      border-color: transparent;\n",
              "      border-bottom-color: var(--fill-color);\n",
              "      border-left-color: var(--fill-color);\n",
              "    }\n",
              "    20% {\n",
              "      border-color: transparent;\n",
              "      border-left-color: var(--fill-color);\n",
              "      border-top-color: var(--fill-color);\n",
              "    }\n",
              "    30% {\n",
              "      border-color: transparent;\n",
              "      border-left-color: var(--fill-color);\n",
              "      border-top-color: var(--fill-color);\n",
              "      border-right-color: var(--fill-color);\n",
              "    }\n",
              "    40% {\n",
              "      border-color: transparent;\n",
              "      border-right-color: var(--fill-color);\n",
              "      border-top-color: var(--fill-color);\n",
              "    }\n",
              "    60% {\n",
              "      border-color: transparent;\n",
              "      border-right-color: var(--fill-color);\n",
              "    }\n",
              "    80% {\n",
              "      border-color: transparent;\n",
              "      border-right-color: var(--fill-color);\n",
              "      border-bottom-color: var(--fill-color);\n",
              "    }\n",
              "    90% {\n",
              "      border-color: transparent;\n",
              "      border-bottom-color: var(--fill-color);\n",
              "    }\n",
              "  }\n",
              "</style>\n",
              "\n",
              "      <script>\n",
              "        async function quickchart(key) {\n",
              "          const quickchartButtonEl =\n",
              "            document.querySelector('#' + key + ' button');\n",
              "          quickchartButtonEl.disabled = true;  // To prevent multiple clicks.\n",
              "          quickchartButtonEl.classList.add('colab-df-spinner');\n",
              "          try {\n",
              "            const charts = await google.colab.kernel.invokeFunction(\n",
              "                'suggestCharts', [key], {});\n",
              "          } catch (error) {\n",
              "            console.error('Error during call to suggestCharts:', error);\n",
              "          }\n",
              "          quickchartButtonEl.classList.remove('colab-df-spinner');\n",
              "          quickchartButtonEl.classList.add('colab-df-quickchart-complete');\n",
              "        }\n",
              "        (() => {\n",
              "          let quickchartButtonEl =\n",
              "            document.querySelector('#df-d723dc82-224e-459d-955b-19959545c04a button');\n",
              "          quickchartButtonEl.style.display =\n",
              "            google.colab.kernel.accessAllowed ? 'block' : 'none';\n",
              "        })();\n",
              "      </script>\n",
              "    </div>\n",
              "\n",
              "  <div id=\"id_2f057147-8706-45c3-8b80-cecf355e0fdf\">\n",
              "    <style>\n",
              "      .colab-df-generate {\n",
              "        background-color: #E8F0FE;\n",
              "        border: none;\n",
              "        border-radius: 50%;\n",
              "        cursor: pointer;\n",
              "        display: none;\n",
              "        fill: #1967D2;\n",
              "        height: 32px;\n",
              "        padding: 0 0 0 0;\n",
              "        width: 32px;\n",
              "      }\n",
              "\n",
              "      .colab-df-generate:hover {\n",
              "        background-color: #E2EBFA;\n",
              "        box-shadow: 0px 1px 2px rgba(60, 64, 67, 0.3), 0px 1px 3px 1px rgba(60, 64, 67, 0.15);\n",
              "        fill: #174EA6;\n",
              "      }\n",
              "\n",
              "      [theme=dark] .colab-df-generate {\n",
              "        background-color: #3B4455;\n",
              "        fill: #D2E3FC;\n",
              "      }\n",
              "\n",
              "      [theme=dark] .colab-df-generate:hover {\n",
              "        background-color: #434B5C;\n",
              "        box-shadow: 0px 1px 3px 1px rgba(0, 0, 0, 0.15);\n",
              "        filter: drop-shadow(0px 1px 2px rgba(0, 0, 0, 0.3));\n",
              "        fill: #FFFFFF;\n",
              "      }\n",
              "    </style>\n",
              "    <button class=\"colab-df-generate\" onclick=\"generateWithVariable('df_cat_count')\"\n",
              "            title=\"Generate code using this dataframe.\"\n",
              "            style=\"display:none;\">\n",
              "\n",
              "  <svg xmlns=\"http://www.w3.org/2000/svg\" height=\"24px\"viewBox=\"0 0 24 24\"\n",
              "       width=\"24px\">\n",
              "    <path d=\"M7,19H8.4L18.45,9,17,7.55,7,17.6ZM5,21V16.75L18.45,3.32a2,2,0,0,1,2.83,0l1.4,1.43a1.91,1.91,0,0,1,.58,1.4,1.91,1.91,0,0,1-.58,1.4L9.25,21ZM18.45,9,17,7.55Zm-12,3A5.31,5.31,0,0,0,4.9,8.1,5.31,5.31,0,0,0,1,6.5,5.31,5.31,0,0,0,4.9,4.9,5.31,5.31,0,0,0,6.5,1,5.31,5.31,0,0,0,8.1,4.9,5.31,5.31,0,0,0,12,6.5,5.46,5.46,0,0,0,6.5,12Z\"/>\n",
              "  </svg>\n",
              "    </button>\n",
              "    <script>\n",
              "      (() => {\n",
              "      const buttonEl =\n",
              "        document.querySelector('#id_2f057147-8706-45c3-8b80-cecf355e0fdf button.colab-df-generate');\n",
              "      buttonEl.style.display =\n",
              "        google.colab.kernel.accessAllowed ? 'block' : 'none';\n",
              "\n",
              "      buttonEl.onclick = () => {\n",
              "        google.colab.notebook.generateWithVariable('df_cat_count');\n",
              "      }\n",
              "      })();\n",
              "    </script>\n",
              "  </div>\n",
              "\n",
              "    </div>\n",
              "  </div>\n"
            ],
            "application/vnd.google.colaboratory.intrinsic+json": {
              "type": "dataframe",
              "variable_name": "df_cat_count",
              "summary": "{\n  \"name\": \"df_cat_count\",\n  \"rows\": 2,\n  \"fields\": [\n    {\n      \"column\": \"target\",\n      \"properties\": {\n        \"dtype\": \"number\",\n        \"std\": 0,\n        \"min\": 0,\n        \"max\": 1,\n        \"num_unique_values\": 2,\n        \"samples\": [\n          1,\n          0\n        ],\n        \"semantic_type\": \"\",\n        \"description\": \"\"\n      }\n    },\n    {\n      \"column\": \"count\",\n      \"properties\": {\n        \"dtype\": \"number\",\n        \"std\": 757,\n        \"min\": 3271,\n        \"max\": 4342,\n        \"num_unique_values\": 2,\n        \"samples\": [\n          3271,\n          4342\n        ],\n        \"semantic_type\": \"\",\n        \"description\": \"\"\n      }\n    },\n    {\n      \"column\": \"Pct of Total\",\n      \"properties\": {\n        \"dtype\": \"number\",\n        \"std\": 0.09899494936611662,\n        \"min\": 0.43,\n        \"max\": 0.57,\n        \"num_unique_values\": 2,\n        \"samples\": [\n          0.43,\n          0.57\n        ],\n        \"semantic_type\": \"\",\n        \"description\": \"\"\n      }\n    },\n    {\n      \"column\": \"Pct of Total Text\",\n      \"properties\": {\n        \"dtype\": \"string\",\n        \"num_unique_values\": 2,\n        \"samples\": [\n          \"43 %\",\n          \"56 %\"\n        ],\n        \"semantic_type\": \"\",\n        \"description\": \"\"\n      }\n    }\n  ]\n}"
            }
          },
          "metadata": {}
        }
      ]
    },
    {
      "cell_type": "code",
      "source": [
        "# Summarize the target in the dataset\n",
        "chart = create_single_stacked_bar(df = train_labels, group_by = 'target', stack_by = 'target', fig_size = (4,4), normalize = False)\n",
        "table = shape_df_for_stacked_barchart(df = train_labels, group_by = 'target', stack_by = 'target', normalize = False)\n",
        "# Print a summary of the percent share of the total for each category\n",
        "for i in range(len(df_cat_count)):\n",
        "    print('[-] the catgory of', df_cat_count['target'].iloc[i], 'makes up',\n",
        "           df_cat_count['Pct of Total Text'].iloc[i], 'of the data.')"
      ],
      "metadata": {
        "colab": {
          "base_uri": "https://localhost:8080/",
          "height": 529
        },
        "id": "K9I_mnJgoNga",
        "outputId": "6bfc3473-b682-4fa6-bdb6-daa0a1ccc9f1"
      },
      "execution_count": 38,
      "outputs": [
        {
          "output_type": "stream",
          "name": "stdout",
          "text": [
            "        count\n",
            "target       \n",
            "0        4342\n",
            "1        3271 \n",
            "\n",
            "[-] the catgory of 0 makes up 56 % of the data.\n",
            "[-] the catgory of 1 makes up 43 % of the data.\n"
          ]
        },
        {
          "output_type": "display_data",
          "data": {
            "text/plain": [
              "<Figure size 400x400 with 1 Axes>"
            ],
            "image/png": "[encoded data removed]"
          },
          "metadata": {}
        }
      ]
    },
    {
      "cell_type": "markdown",
      "metadata": {
        "id": "PKqQq5X1yCDw"
      },
      "source": [
        "## EDA Analysis: Text Distribution"
      ]
    },
    {
      "cell_type": "code",
      "execution_count": 39,
      "metadata": {
        "id": "Wb2Sqv0TqOsm",
        "colab": {
          "base_uri": "https://localhost:8080/",
          "height": 1000
        },
        "outputId": "00fd218e-5b48-49f6-d22b-0c991df6b3fc"
      },
      "outputs": [
        {
          "output_type": "stream",
          "name": "stdout",
          "text": [
            "Size of the data by label dictionary: 2 \n",
            "\n",
            "[4342, 3271]\n",
            "['not', 'disaster']\n"
          ]
        },
        {
          "output_type": "display_data",
          "data": {
            "text/plain": [
              "<Figure size 640x480 with 1 Axes>"
            ],
            "image/png": "[encoded data removed]"
          },
          "metadata": {}
        },
        {
          "output_type": "display_data",
          "data": {
            "text/plain": [
              "<Figure size 1000x300 with 3 Axes>"
            ],
            "image/png": "[encoded data removed]"
          },
          "metadata": {}
        },
        {
          "output_type": "display_data",
          "data": {
            "text/plain": [
              "<Figure size 1000x300 with 3 Axes>"
            ],
            "image/png": "[encoded data removed]"
          },
          "metadata": {}
        },
        {
          "output_type": "display_data",
          "data": {
            "text/plain": [
              "<Figure size 1000x300 with 3 Axes>"
            ],
            "image/png": "[encoded data removed]"
          },
          "metadata": {}
        }
      ],
      "source": [
        "data_by_label = create_data_by_label(data=train_labels, label_col='label')\n",
        "# Distribution of number of characters in description\n",
        "viz_class_frequency(data_by_label, label_dict = inverted_label_dict)\n",
        "# Distribution of number of characters in description\n",
        "viz_char_frequency(data_by_label, label_dict = inverted_label_dict)\n",
        "# Distribution of number of words in description\n",
        "viz_word_frequency(data_by_label, label_dict = inverted_label_dict)\n",
        "# Distribution of number of words in description\n",
        "viz_word_length_frequency(data_by_label, label_dict = inverted_label_dict)"
      ]
    },
    {
      "cell_type": "markdown",
      "metadata": {
        "id": "2SnbCeUGydTo"
      },
      "source": [
        "## EDA Results"
      ]
    },
    {
      "cell_type": "markdown",
      "metadata": {
        "id": "fpqY9vM_yefS"
      },
      "source": [
        "ADD HERE"
      ]
    },
    {
      "cell_type": "markdown",
      "metadata": {
        "id": "l3xCg6WhgqXI"
      },
      "source": [
        "# 4.&nbsp;Data Cleansing & Text Normalization\n",
        "\n",
        "Address missing values and duplicates, followed by a series of text preprocessing steps. Text pre-processing includes converting text to lowercase, removing punctuation, handling HTML tags, and applying stemming/lemmatization. These cleaning functions ensure the data is standardized and ready for further analysis."
      ]
    },
    {
      "cell_type": "markdown",
      "metadata": {
        "id": "ap4Hw4S8Jd3E"
      },
      "source": [
        "## Core Normalization Functions"
      ]
    },
    {
      "cell_type": "markdown",
      "source": [
        "EDA Functions recycled from previous Natural Language Processing (NLP) analysis projects. The general patter of completing EDA for NLP typically starts with a standard set of tables and charts to understand the data.*italicized text*\n",
        "\n",
        "*Source:* [auto_classifying_salesforce_cloud_documentation.ipynb](https://github.com/TOM-BOHN/MsDS-supervised-nlp-sfdc-auto-classification/blob/0f26d4b049e22b43e3bffd348e7687b4640c30d2/auto_classifying_salesforce_cloud_documentation.ipynb)"
      ],
      "metadata": {
        "id": "f2XNdJRyxKe7"
      }
    },
    {
      "cell_type": "code",
      "execution_count": 50,
      "metadata": {
        "id": "NN2tcvIuqOsn",
        "colab": {
          "base_uri": "https://localhost:8080/"
        },
        "outputId": "458d49cd-43ae-4f46-a054-e7b7a0c9042b"
      },
      "outputs": [
        {
          "output_type": "stream",
          "name": "stdout",
          "text": [
            "Testing convert_to_lowercase(text) ...\n",
            "Input: This is a FUNCTION that CoNvErTs a Text to lowercase\n",
            "Output: this is a function that converts a text to lowercase\n",
            "\n",
            "Testing remove_whitespace(text) ...\n",
            "Input:  \t This is a string \t \n",
            "Output: This is a string\n",
            "\n",
            "Testing remove_punctuation(text) ...\n",
            "Input: Here's [an] example? {of} &a string. with.? punctuations!!!!\n",
            "Output: Here's an example of a string with punctuations\n",
            "\n",
            "Testing remove_html(text) ...\n",
            "Input:  Ecommerce Text Classification \n",
            "Output:  Ecommerce Text Classification \n",
            "\n",
            "Testing remove_emoji(text) ...\n",
            "Input: This innovative hd printing technique results in durable and spectacular looking prints 😊\n",
            "Output: This innovative hd printing technique results in durable and spectacular looking prints \n",
            "\n",
            "Testing remove_http(text) ...\n",
            "Input: It's a function that removes links starting with http: or https such as https://en.wikipedia.org/wiki/Unicode_symbols\n",
            "Output: It's a function that removes links starting with http: or https such as \n",
            "\n",
            "Example: Original form of the acronym 'fyi' is 'for your information'\n",
            "\n",
            "Testing convert_acronyms(text) ...\n",
            "Input: btw you've to fill in the details including dob\n",
            "Output: by the way you've to fill in the details including date of birth\n",
            "\n",
            "Example: Original form of the contraction 'aren't' is 'are not'\n",
            "\n",
            "Testing convert_contractions(text) ...\n",
            "Input: he's doin' fine\n",
            "Output: he is doing fine\n",
            "\n",
            "Testing remove_stopwords(text) ...\n",
            "Input: This is a function that removes stopwords in a given text\n",
            "Output: This function removes stopwords given text\n",
            "\n",
            "Testing pyspellchecker(text) ...\n",
            "Input: I'm goinng therre\n",
            "Output: I'm going there\n",
            "\n",
            "Testing text_stemmer(text) ...\n",
            "Input: Introducing lemmatization as an improvement over stemming\n",
            "Output: introduc lemmat as an improv over stem\n",
            "\n",
            "Testing text_lemmatizer(text) ...\n",
            "Input: Introducing lemmatization as an improvement over stemming\n",
            "Output: introduce lemmatization as an improvement over stem\n",
            "\n",
            "Testing discard_non_alpha(text) ...\n",
            "Input: It is an ocean of thousands and 1000s of crowd\n",
            "Output: It is an ocean of thousands and of crowd\n",
            "\n",
            "Testing keep_pos(text) ...\n",
            "Input: He arrived at seven o'clock on Wednesday evening\n",
            "Tokens: ['He', 'arrived', 'at', 'seven', \"o'clock\", 'on', 'Wednesday', 'evening']\n",
            "Tagged Tokens: [('He', 'PRP'), ('arrived', 'VBD'), ('at', 'IN'), ('seven', 'CD'), (\"o'clock\", 'NN'), ('on', 'IN'), ('Wednesday', 'NNP'), ('evening', 'NN')]\n",
            "Output: He arrived o'clock Wednesday evening\n",
            "\n",
            "Testing remove_additional_stopwords ...\n",
            "no test defined.\n"
          ]
        }
      ],
      "source": [
        "#Track a list of the descriptions and the function names\n",
        "tn_funct = []; tn_desc = []\n",
        "\n",
        "# RegexpTokenizer\n",
        "regexp =RegexpTokenizer(r\"[\\w']+\")\n",
        "\n",
        "# Converting to lowercase\n",
        "def convert_to_lowercase(text):\n",
        "    return text.lower()\n",
        "\n",
        "if gDEBUG:\n",
        "  tn_funct.append('convert_to_lowercase(text)')\n",
        "  tn_desc.append('Converting to lowercase')\n",
        "  print('Testing', tn_funct[-1], \"...\")\n",
        "  text = \"This is a FUNCTION that CoNvErTs a Text to lowercase\"\n",
        "  print(\"Input: {}\".format(text))\n",
        "  print(\"Output: {}\".format(convert_to_lowercase(text)))\n",
        "  print()\n",
        "\n",
        "# Removing whitespaces\n",
        "def remove_whitespace(text):\n",
        "    return text.strip()\n",
        "\n",
        "if gDEBUG:\n",
        "  tn_funct.append('remove_whitespace(text)')\n",
        "  tn_desc.append('Removing whitespaces')\n",
        "  print('Testing', tn_funct[-1], \"...\")\n",
        "  text = \" \\t This is a string \\t \"\n",
        "  print(\"Input: {}\".format(text))\n",
        "  print(\"Output: {}\".format(remove_whitespace(text)))\n",
        "  print()\n",
        "\n",
        "# Removing punctuations\n",
        "def remove_punctuation(text):\n",
        "    punct_str = string.punctuation\n",
        "    punct_str = punct_str.replace(\"'\", \"\") # discarding apostrophe from the string to keep the contractions intact\n",
        "    return text.translate(str.maketrans(\"\", \"\", punct_str))\n",
        "\n",
        "if gDEBUG:\n",
        "  tn_funct.append('remove_punctuation(text)')\n",
        "  tn_desc.append('Removing punctuations')\n",
        "  print('Testing', tn_funct[-1], \"...\")\n",
        "  text = \"Here's [an] example? {of} &a string. with.? punctuations!!!!\"\n",
        "  print(\"Input: {}\".format(text))\n",
        "  print(\"Output: {}\".format(remove_punctuation(text)))\n",
        "  print()\n",
        "\n",
        "# Removing HTML tags\n",
        "def remove_html(text):\n",
        "    html = re.compile(r'<.*?>')\n",
        "    return html.sub(r'', text)\n",
        "\n",
        "if gDEBUG:\n",
        "  tn_funct.append('remove_html(text)')\n",
        "  tn_desc.append('Removing HTML tags')\n",
        "  print('Testing', tn_funct[-1], \"...\")\n",
        "  text = ' Ecommerce Text Classification '\n",
        "  print(\"Input: {}\".format(text))\n",
        "  print(\"Output: {}\".format(remove_html(text)))\n",
        "  print()\n",
        "\n",
        "# Removing emojis\n",
        "def remove_emoji(text):\n",
        "    emoji_pattern = re.compile(\"[\"\n",
        "                           u\"\\U0001F600-\\U0001F64F\"  # emoticons\n",
        "                           u\"\\U0001F300-\\U0001F5FF\"  # symbols & pictographs\n",
        "                           u\"\\U0001F680-\\U0001F6FF\"  # transport & map symbols\n",
        "                           u\"\\U0001F1E0-\\U0001F1FF\"  # flags (iOS)\n",
        "                           u\"\\U00002702-\\U000027B0\"\n",
        "                           u\"\\U000024C2-\\U0001F251\"\n",
        "                           \"]+\", flags = re.UNICODE)\n",
        "    return emoji_pattern.sub(r'', text)\n",
        "\n",
        "if gDEBUG:\n",
        "  tn_funct.append('remove_emoji(text)')\n",
        "  tn_desc.append('Removing emojis')\n",
        "  print('Testing', tn_funct[-1], \"...\")\n",
        "  text = \"This innovative hd printing technique results in durable and spectacular looking prints 😊\"\n",
        "  print(\"Input: {}\".format(text))\n",
        "  print(\"Output: {}\".format(remove_emoji(text)))\n",
        "  print()\n",
        "\n",
        "# Removing other unicode characters\n",
        "def remove_http(text):\n",
        "    http = r\"https?://\\S+|www\\.\\S+\" # matching strings beginning with http (but not just \"http\")\n",
        "    pattern = r\"({})\".format(http) # creating pattern\n",
        "    return re.sub(pattern, \"\", text)\n",
        "\n",
        "if gDEBUG:\n",
        "  tn_funct.append('remove_http(text)')\n",
        "  tn_desc.append('Removing other unicode characters')\n",
        "  print('Testing', tn_funct[-1], \"...\")\n",
        "  text = \"It's a function that removes links starting with http: or https such as https://en.wikipedia.org/wiki/Unicode_symbols\"\n",
        "  print(\"Input: {}\".format(text))\n",
        "  print(\"Output: {}\".format(remove_http(text)))\n",
        "  print()\n",
        "\n",
        "# Dictionary of acronyms\n",
        "acronyms_url = 'https://raw.githubusercontent.com/sugatagh/E-commerce-Text-Classification/main/JSON/english_acronyms.json'\n",
        "acronyms_dict = pd.read_json(acronyms_url, typ = 'series')\n",
        "\n",
        "if gDEBUG:\n",
        "  print(\"Example: Original form of the acronym 'fyi' is '{}'\".format(acronyms_dict['fyi']))\n",
        "  print()\n",
        "\n",
        "# List of acronyms\n",
        "acronyms_list = list(acronyms_dict.keys())\n",
        "\n",
        "# Function to convert contractions in a text\n",
        "def convert_acronyms(text):\n",
        "    words = []\n",
        "    for word in regexp.tokenize(text):\n",
        "        if word in acronyms_list:\n",
        "            words = words + acronyms_dict[word].split()\n",
        "        else:\n",
        "            words = words + word.split()\n",
        "\n",
        "    text_converted = \" \".join(words)\n",
        "    return text_converted\n",
        "\n",
        "if gDEBUG:\n",
        "  tn_funct.append('convert_acronyms(text)')\n",
        "  tn_desc.append('convert contractions in a text')\n",
        "  print('Testing', tn_funct[-1], \"...\")\n",
        "  text = \"btw you've to fill in the details including dob\"\n",
        "  print(\"Input: {}\".format(text))\n",
        "  print(\"Output: {}\".format(convert_acronyms(text)))\n",
        "  print()\n",
        "\n",
        "# Dictionary of contractions\n",
        "contractions_url = 'https://raw.githubusercontent.com/sugatagh/E-commerce-Text-Classification/main/JSON/english_contractions.json'\n",
        "contractions_dict = pd.read_json(contractions_url, typ = 'series')\n",
        "\n",
        "if gDEBUG:\n",
        "  print(\"Example: Original form of the contraction 'aren't' is '{}'\".format(contractions_dict[\"aren't\"]))\n",
        "  print()\n",
        "\n",
        "# List of contractions\n",
        "contractions_list = list(contractions_dict.keys())\n",
        "\n",
        "# Function to convert contractions in a text\n",
        "def convert_contractions(text):\n",
        "    words = []\n",
        "    for word in regexp.tokenize(text):\n",
        "        if word in contractions_list:\n",
        "            words = words + contractions_dict[word].split()\n",
        "        else:\n",
        "            words = words + word.split()\n",
        "\n",
        "    text_converted = \" \".join(words)\n",
        "    return text_converted\n",
        "\n",
        "if gDEBUG:\n",
        "  tn_funct.append('convert_contractions(text)')\n",
        "  tn_desc.append('convert contractions in a text')\n",
        "  print('Testing', tn_funct[-1], \"...\")\n",
        "  text = \"he's doin' fine\"\n",
        "  print(\"Input: {}\".format(text))\n",
        "  print(\"Output: {}\".format(convert_contractions(text)))\n",
        "  print()\n",
        "\n",
        "# Stopwords\n",
        "stops = stopwords.words(\"english\") # stopwords\n",
        "addstops = [\"among\", \"onto\", \"shall\", \"thrice\", \"thus\", \"twice\", \"unto\", \"us\", \"would\"] # additional stopwords\n",
        "allstops = stops + addstops\n",
        "\n",
        "# Function to remove stopwords from a list of texts\n",
        "def remove_stopwords(text):\n",
        "    return \" \".join([word for word in regexp.tokenize(text) if word not in allstops])\n",
        "\n",
        "if gDEBUG:\n",
        "  tn_funct.append('remove_stopwords(text)')\n",
        "  tn_desc.append('remove stopwords from a list of texts')\n",
        "  print('Testing', tn_funct[-1], \"...\")\n",
        "  text = \"This is a function that removes stopwords in a given text\"\n",
        "  print(\"Input: {}\".format(text))\n",
        "  print(\"Output: {}\".format(remove_stopwords(text)))\n",
        "  print()\n",
        "\n",
        "# pyspellchecker\n",
        "spell = SpellChecker()\n",
        "\n",
        "def pyspellchecker(text):\n",
        "    word_list = regexp.tokenize(text)\n",
        "    word_list_corrected = []\n",
        "    for word in word_list:\n",
        "        if word in spell.unknown(word_list):\n",
        "            word_corrected = spell.correction(word)\n",
        "            if word_corrected == None:\n",
        "                word_list_corrected.append(word)\n",
        "            else:\n",
        "                word_list_corrected.append(word_corrected)\n",
        "        else:\n",
        "            word_list_corrected.append(word)\n",
        "    text_corrected = \" \".join(word_list_corrected)\n",
        "    return text_corrected\n",
        "\n",
        "if gDEBUG:\n",
        "  tn_funct.append('pyspellchecker(text)')\n",
        "  tn_desc.append('remove to fix spelling errors in texts')\n",
        "  print('Testing', tn_funct[-1], \"...\")\n",
        "  text = \"I'm goinng therre\"\n",
        "  print(\"Input: {}\".format(text))\n",
        "  print(\"Output: {}\".format(pyspellchecker(text)))\n",
        "  print()\n",
        "\n",
        "# Stemming\n",
        "stemmer = PorterStemmer()\n",
        "def text_stemmer(text):\n",
        "    text_stem = \" \".join([stemmer.stem(word) for word in regexp.tokenize(text)])\n",
        "    return text_stem\n",
        "\n",
        "if gDEBUG:\n",
        "  tn_funct.append('text_stemmer(text)')\n",
        "  tn_desc.append('Stemming')\n",
        "  print('Testing', tn_funct[-1], \"...\")\n",
        "  text = \"Introducing lemmatization as an improvement over stemming\"\n",
        "  print(\"Input: {}\".format(text))\n",
        "  print(\"Output: {}\".format(text_stemmer(text)))\n",
        "  print()\n",
        "\n",
        "# Lemmatization\n",
        "spacy_lemmatizer = spacy.load(\"en_core_web_sm\", disable = ['parser', 'ner'])\n",
        "#lemmatizer = WordNetLemmatizer()\n",
        "\n",
        "def text_lemmatizer(text):\n",
        "    text_spacy = \" \".join([token.lemma_ for token in spacy_lemmatizer(text)])\n",
        "    #text_wordnet = \" \".join([lemmatizer.lemmatize(word) for word in word_tokenize(text)]) # regexp.tokenize(text)\n",
        "    return text_spacy\n",
        "    #return text_wordnet\n",
        "\n",
        "if gDEBUG:\n",
        "  tn_funct.append('text_lemmatizer(text)')\n",
        "  tn_desc.append('Lemmatization')\n",
        "  print('Testing', tn_funct[-1], \"...\")\n",
        "  text = \"Introducing lemmatization as an improvement over stemming\"\n",
        "  print(\"Input: {}\".format(text))\n",
        "  print(\"Output: {}\".format(text_lemmatizer(text)))\n",
        "  print()\n",
        "\n",
        "# Discardment of non-alphabetic words\n",
        "def discard_non_alpha(text):\n",
        "    word_list_non_alpha = [word for word in regexp.tokenize(text) if word.isalpha()]\n",
        "    text_non_alpha = \" \".join(word_list_non_alpha)\n",
        "    return text_non_alpha\n",
        "\n",
        "if gDEBUG:\n",
        "  tn_funct.append('discard_non_alpha(text)')\n",
        "  tn_desc.append('Discardment of non-alphabetic words')\n",
        "  print('Testing', tn_funct[-1], \"...\")\n",
        "  text = \"It is an ocean of thousands and 1000s of crowd\"\n",
        "  print(\"Input: {}\".format(text))\n",
        "  print(\"Output: {}\".format(discard_non_alpha(text)))\n",
        "  print()\n",
        "\n",
        "def keep_pos(text):\n",
        "    tokens = regexp.tokenize(text)\n",
        "    tokens_tagged = nltk.pos_tag(tokens)\n",
        "    #keep_tags = ['NN', 'NNS', 'NNP', 'NNPS', 'FW']\n",
        "    keep_tags = ['NN', 'NNS', 'NNP', 'NNPS', 'FW', 'PRP', 'PRPS', 'RB', 'RBR', 'RBS', 'VB', 'VBD', 'VBG', 'VBN', 'VBP', 'VBZ', 'WDT', 'WP', 'WPS', 'WRB']\n",
        "    keep_words = [x[0] for x in tokens_tagged if x[1] in keep_tags]\n",
        "    return \" \".join(keep_words)\n",
        "\n",
        "if gDEBUG:\n",
        "  tn_funct.append('keep_pos(text)')\n",
        "  tn_desc.append('Keep specific parts of speach')\n",
        "  print('Testing', tn_funct[-1], \"...\")\n",
        "  text = \"He arrived at seven o'clock on Wednesday evening\"\n",
        "  print(\"Input: {}\".format(text))\n",
        "  tokens = regexp.tokenize(text)\n",
        "  print(\"Tokens: {}\".format(tokens))\n",
        "  tokens_tagged = nltk.pos_tag(tokens)\n",
        "  print(\"Tagged Tokens: {}\".format(tokens_tagged))\n",
        "  print(\"Output: {}\".format(keep_pos(text)))\n",
        "  print()\n",
        "\n",
        "# Additional stopwords\n",
        "alphabets = [\"a\", \"b\", \"c\", \"d\", \"e\", \"f\", \"g\", \"h\", \"i\", \"j\", \"k\", \"l\", \"m\", \"n\", \"o\", \"p\", \"q\", \"r\", \"s\", \"t\", \"u\", \"v\", \"w\", \"x\", \"y\", \"z\"]\n",
        "prepositions = [\"about\", \"above\", \"across\", \"after\", \"against\", \"among\", \"around\", \"at\", \"before\", \"behind\", \"below\", \"beside\", \"between\", \"by\", \"down\", \"during\", \"for\", \"from\", \"in\", \"inside\", \"into\", \"near\", \"of\", \"off\", \"on\", \"out\", \"over\", \"through\", \"to\", \"toward\", \"under\", \"up\", \"with\"]\n",
        "prepositions_less_common = [\"aboard\", \"along\", \"amid\", \"as\", \"beneath\", \"beyond\", \"but\", \"concerning\", \"considering\", \"despite\", \"except\", \"following\", \"like\", \"minus\", \"onto\", \"outside\", \"per\", \"plus\", \"regarding\", \"round\", \"since\", \"than\", \"till\", \"underneath\", \"unlike\", \"until\", \"upon\", \"versus\", \"via\", \"within\", \"without\"]\n",
        "coordinating_conjunctions = [\"and\", \"but\", \"for\", \"nor\", \"or\", \"so\", \"and\", \"yet\"]\n",
        "correlative_conjunctions = [\"both\", \"and\", \"either\", \"or\", \"neither\", \"nor\", \"not\", \"only\", \"but\", \"whether\", \"or\"]\n",
        "subordinating_conjunctions = [\"after\", \"although\", \"as\", \"as if\", \"as long as\", \"as much as\", \"as soon as\", \"as though\", \"because\", \"before\", \"by the time\", \"even if\", \"even though\", \"if\", \"in order that\", \"in case\", \"in the event that\", \"lest\", \"now that\", \"once\", \"only\", \"only if\", \"provided that\", \"since\", \"so\", \"supposing\", \"that\", \"than\", \"though\", \"till\", \"unless\", \"until\", \"when\", \"whenever\", \"where\", \"whereas\", \"wherever\", \"whether or not\", \"while\"]\n",
        "others = [\"ã\", \"å\", \"ì\", \"û\", \"ûªm\", \"ûó\", \"ûò\", \"ìñ\", \"ûªre\", \"ûªve\", \"ûª\", \"ûªs\", \"ûówe\"]\n",
        "additional_stops = alphabets + prepositions + prepositions_less_common + coordinating_conjunctions + correlative_conjunctions + subordinating_conjunctions + others\n",
        "\n",
        "def remove_additional_stopwords(text):\n",
        "    return \" \".join([word for word in regexp.tokenize(text) if word not in additional_stops])\n",
        "\n",
        "if gDEBUG:\n",
        "  tn_funct.append('remove_additional_stopwords')\n",
        "  tn_desc.append('Custom list of stop words to remove')\n",
        "  print('Testing', tn_funct[-1], \"...\")\n",
        "  print('no test defined.')"
      ]
    },
    {
      "cell_type": "code",
      "source": [
        "# Execute the set of desired text normalization functions\n",
        "def text_normalizer(text):\n",
        "    text = convert_to_lowercase(text)\n",
        "    text = remove_whitespace(text)\n",
        "    text = re.sub('\\n' , '', text) # converting text to one line\n",
        "    text = re.sub(r'\\[.*?\\]', '', text) # removing square brackets\n",
        "    text = remove_http(text)\n",
        "    text = remove_punctuation(text)\n",
        "    text = remove_html(text)\n",
        "    text = remove_emoji(text)\n",
        "    text = convert_acronyms(text)\n",
        "    text = convert_contractions(text)\n",
        "    text = remove_stopwords(text)\n",
        "    # text = pyspellchecker(text)\n",
        "    text = text_lemmatizer(text)\n",
        "    # text = text_stemmer(text)\n",
        "    text = discard_non_alpha(text)\n",
        "    text = keep_pos(text)\n",
        "    text = remove_additional_stopwords(text)\n",
        "    return text\n",
        "\n",
        "text = \"We'll combine all functions into 1 SINGLE FUNCTION 🙂 & apply on @product #descriptions https://en.wikipedia.org/wiki/Text_normalization\"\n",
        "print(\"Input: {}\".format(text))\n",
        "print(\"Output: {}\".format(text_normalizer(text)))\n",
        "print()"
      ],
      "metadata": {
        "colab": {
          "base_uri": "https://localhost:8080/"
        },
        "id": "V3MIkKoKxW2i",
        "outputId": "2233795b-7e86-4782-d12d-bcb1fd575bae"
      },
      "execution_count": 51,
      "outputs": [
        {
          "output_type": "stream",
          "name": "stdout",
          "text": [
            "Input: We'll combine all functions into 1 SINGLE FUNCTION 🙂 & apply on @product #descriptions https://en.wikipedia.org/wiki/Text_normalization\n",
            "Output: combine function function apply product description\n",
            "\n"
          ]
        }
      ]
    },
    {
      "cell_type": "code",
      "source": [
        "# Apply the text normalization to the data sets and summerize the application\n",
        "def apply_text_normalizer(data_train, data_test):\n",
        "  # Implementing text normalization\n",
        "  data_train_norm, data_test_norm = pd.DataFrame(), pd.DataFrame()\n",
        "\n",
        "  data_train_norm['normalized_text'] = data_train['text'].apply(text_normalizer)\n",
        "  data_test_norm['normalized_text'] = data_test['text'].apply(text_normalizer)\n",
        "\n",
        "  data_train_norm['label'] = data_train['label']\n",
        "  data_test_norm['label'] = data_test['label']\n",
        "\n",
        "  data_train['normalized_text'] = data_train_norm['normalized_text']\n",
        "  data_test['normalized_text'] = data_test_norm['normalized_text']\n",
        "\n",
        "  print(\"Size of the training set:\", len(data_train_norm))\n",
        "  print(\"Size of the test set:\", len(data_test_norm))\n",
        "  print()\n",
        "  print(\"Labels in training set:\", data_train_norm['label'].nunique())\n",
        "  print(\"Labels in test set:\", data_test_norm['label'].nunique())\n",
        "  print()\n",
        "  # Display Training Output (normalized)\n",
        "  print(\"Sample of test set [normalized]:\\n\")\n",
        "  print(\"Columns in test set [normalized]:\", data_test_norm.columns, \"\\n\")\n",
        "  display(data_train_norm.head(3))\n",
        "  print()\n",
        "  # Display Training Input\n",
        "  print(\"Sample of test set [data]:\\n\")\n",
        "  print(\"Columns in test set [data]:\", data_test.columns, \"\\n\")\n",
        "  display(data_train.head(3))\n",
        "  print()\n",
        "\n",
        "  return data_train_norm, data_test_norm, data_train, data_test"
      ],
      "metadata": {
        "id": "s15IxplRxY4I"
      },
      "execution_count": 77,
      "outputs": []
    },
    {
      "cell_type": "markdown",
      "metadata": {
        "id": "2gZaDQqdJoe_"
      },
      "source": [
        "## Apply Text Normalization"
      ]
    },
    {
      "cell_type": "code",
      "execution_count": 78,
      "metadata": {
        "id": "EUkkMf0TqOso",
        "colab": {
          "base_uri": "https://localhost:8080/",
          "height": 718
        },
        "outputId": "fc93d30b-875b-4579-d2a6-1cf2536147d4"
      },
      "outputs": [
        {
          "output_type": "stream",
          "name": "stdout",
          "text": [
            "Size of the training set: 5233\n",
            "Size of the test set: 3263\n",
            "\n",
            "Labels in training set: 2\n",
            "Labels in test set: 1\n",
            "\n",
            "Sample of test set [normalized]:\n",
            "\n",
            "Columns in test set [normalized]: Index(['normalized_text', 'label'], dtype='object') \n",
            "\n"
          ]
        },
        {
          "output_type": "display_data",
          "data": {
            "text/plain": [
              "                                        normalized_text label\n",
              "2608                                      see line blow     0\n",
              "2114      pandemonium aba woman deliver baby face photo     0\n",
              "4596  add responder lose home vip home page group vimeo     1"
            ],
            "text/html": [
              "\n",
              "  <div id=\"df-c6dc164e-2c9f-40b2-b940-5fe4199465f1\" class=\"colab-df-container\">\n",
              "    <div>\n",
              "<style scoped>\n",
              "    .dataframe tbody tr th:only-of-type {\n",
              "        vertical-align: middle;\n",
              "    }\n",
              "\n",
              "    .dataframe tbody tr th {\n",
              "        vertical-align: top;\n",
              "    }\n",
              "\n",
              "    .dataframe thead th {\n",
              "        text-align: right;\n",
              "    }\n",
              "</style>\n",
              "<table border=\"1\" class=\"dataframe\">\n",
              "  <thead>\n",
              "    <tr style=\"text-align: right;\">\n",
              "      <th></th>\n",
              "      <th>normalized_text</th>\n",
              "      <th>label</th>\n",
              "    </tr>\n",
              "  </thead>\n",
              "  <tbody>\n",
              "    <tr>\n",
              "      <th>2608</th>\n",
              "      <td>see line blow</td>\n",
              "      <td>0</td>\n",
              "    </tr>\n",
              "    <tr>\n",
              "      <th>2114</th>\n",
              "      <td>pandemonium aba woman deliver baby face photo</td>\n",
              "      <td>0</td>\n",
              "    </tr>\n",
              "    <tr>\n",
              "      <th>4596</th>\n",
              "      <td>add responder lose home vip home page group vimeo</td>\n",
              "      <td>1</td>\n",
              "    </tr>\n",
              "  </tbody>\n",
              "</table>\n",
              "</div>\n",
              "    <div class=\"colab-df-buttons\">\n",
              "\n",
              "  <div class=\"colab-df-container\">\n",
              "    <button class=\"colab-df-convert\" onclick=\"convertToInteractive('df-c6dc164e-2c9f-40b2-b940-5fe4199465f1')\"\n",
              "            title=\"Convert this dataframe to an interactive table.\"\n",
              "            style=\"display:none;\">\n",
              "\n",
              "  <svg xmlns=\"http://www.w3.org/2000/svg\" height=\"24px\" viewBox=\"0 -960 960 960\">\n",
              "    <path d=\"M120-120v-720h720v720H120Zm60-500h600v-160H180v160Zm220 220h160v-160H400v160Zm0 220h160v-160H400v160ZM180-400h160v-160H180v160Zm440 0h160v-160H620v160ZM180-180h160v-160H180v160Zm440 0h160v-160H620v160Z\"/>\n",
              "  </svg>\n",
              "    </button>\n",
              "\n",
              "  <style>\n",
              "    .colab-df-container {\n",
              "      display:flex;\n",
              "      gap: 12px;\n",
              "    }\n",
              "\n",
              "    .colab-df-convert {\n",
              "      background-color: #E8F0FE;\n",
              "      border: none;\n",
              "      border-radius: 50%;\n",
              "      cursor: pointer;\n",
              "      display: none;\n",
              "      fill: #1967D2;\n",
              "      height: 32px;\n",
              "      padding: 0 0 0 0;\n",
              "      width: 32px;\n",
              "    }\n",
              "\n",
              "    .colab-df-convert:hover {\n",
              "      background-color: #E2EBFA;\n",
              "      box-shadow: 0px 1px 2px rgba(60, 64, 67, 0.3), 0px 1px 3px 1px rgba(60, 64, 67, 0.15);\n",
              "      fill: #174EA6;\n",
              "    }\n",
              "\n",
              "    .colab-df-buttons div {\n",
              "      margin-bottom: 4px;\n",
              "    }\n",
              "\n",
              "    [theme=dark] .colab-df-convert {\n",
              "      background-color: #3B4455;\n",
              "      fill: #D2E3FC;\n",
              "    }\n",
              "\n",
              "    [theme=dark] .colab-df-convert:hover {\n",
              "      background-color: #434B5C;\n",
              "      box-shadow: 0px 1px 3px 1px rgba(0, 0, 0, 0.15);\n",
              "      filter: drop-shadow(0px 1px 2px rgba(0, 0, 0, 0.3));\n",
              "      fill: #FFFFFF;\n",
              "    }\n",
              "  </style>\n",
              "\n",
              "    <script>\n",
              "      const buttonEl =\n",
              "        document.querySelector('#df-c6dc164e-2c9f-40b2-b940-5fe4199465f1 button.colab-df-convert');\n",
              "      buttonEl.style.display =\n",
              "        google.colab.kernel.accessAllowed ? 'block' : 'none';\n",
              "\n",
              "      async function convertToInteractive(key) {\n",
              "        const element = document.querySelector('#df-c6dc164e-2c9f-40b2-b940-5fe4199465f1');\n",
              "        const dataTable =\n",
              "          await google.colab.kernel.invokeFunction('convertToInteractive',\n",
              "                                                    [key], {});\n",
              "        if (!dataTable) return;\n",
              "\n",
              "        const docLinkHtml = 'Like what you see? Visit the ' +\n",
              "          '<a target=\"_blank\" href=https://colab.research.google.com/notebooks/data_table.ipynb>data table notebook</a>'\n",
              "          + ' to learn more about interactive tables.';\n",
              "        element.innerHTML = '';\n",
              "        dataTable['output_type'] = 'display_data';\n",
              "        await google.colab.output.renderOutput(dataTable, element);\n",
              "        const docLink = document.createElement('div');\n",
              "        docLink.innerHTML = docLinkHtml;\n",
              "        element.appendChild(docLink);\n",
              "      }\n",
              "    </script>\n",
              "  </div>\n",
              "\n",
              "\n",
              "    <div id=\"df-7b83de70-e36b-4b8a-a476-7814450f6fb8\">\n",
              "      <button class=\"colab-df-quickchart\" onclick=\"quickchart('df-7b83de70-e36b-4b8a-a476-7814450f6fb8')\"\n",
              "                title=\"Suggest charts\"\n",
              "                style=\"display:none;\">\n",
              "\n",
              "<svg xmlns=\"http://www.w3.org/2000/svg\" height=\"24px\"viewBox=\"0 0 24 24\"\n",
              "     width=\"24px\">\n",
              "    <g>\n",
              "        <path d=\"M19 3H5c-1.1 0-2 .9-2 2v14c0 1.1.9 2 2 2h14c1.1 0 2-.9 2-2V5c0-1.1-.9-2-2-2zM9 17H7v-7h2v7zm4 0h-2V7h2v10zm4 0h-2v-4h2v4z\"/>\n",
              "    </g>\n",
              "</svg>\n",
              "      </button>\n",
              "\n",
              "<style>\n",
              "  .colab-df-quickchart {\n",
              "      --bg-color: #E8F0FE;\n",
              "      --fill-color: #1967D2;\n",
              "      --hover-bg-color: #E2EBFA;\n",
              "      --hover-fill-color: #174EA6;\n",
              "      --disabled-fill-color: #AAA;\n",
              "      --disabled-bg-color: #DDD;\n",
              "  }\n",
              "\n",
              "  [theme=dark] .colab-df-quickchart {\n",
              "      --bg-color: #3B4455;\n",
              "      --fill-color: #D2E3FC;\n",
              "      --hover-bg-color: #434B5C;\n",
              "      --hover-fill-color: #FFFFFF;\n",
              "      --disabled-bg-color: #3B4455;\n",
              "      --disabled-fill-color: #666;\n",
              "  }\n",
              "\n",
              "  .colab-df-quickchart {\n",
              "    background-color: var(--bg-color);\n",
              "    border: none;\n",
              "    border-radius: 50%;\n",
              "    cursor: pointer;\n",
              "    display: none;\n",
              "    fill: var(--fill-color);\n",
              "    height: 32px;\n",
              "    padding: 0;\n",
              "    width: 32px;\n",
              "  }\n",
              "\n",
              "  .colab-df-quickchart:hover {\n",
              "    background-color: var(--hover-bg-color);\n",
              "    box-shadow: 0 1px 2px rgba(60, 64, 67, 0.3), 0 1px 3px 1px rgba(60, 64, 67, 0.15);\n",
              "    fill: var(--button-hover-fill-color);\n",
              "  }\n",
              "\n",
              "  .colab-df-quickchart-complete:disabled,\n",
              "  .colab-df-quickchart-complete:disabled:hover {\n",
              "    background-color: var(--disabled-bg-color);\n",
              "    fill: var(--disabled-fill-color);\n",
              "    box-shadow: none;\n",
              "  }\n",
              "\n",
              "  .colab-df-spinner {\n",
              "    border: 2px solid var(--fill-color);\n",
              "    border-color: transparent;\n",
              "    border-bottom-color: var(--fill-color);\n",
              "    animation:\n",
              "      spin 1s steps(1) infinite;\n",
              "  }\n",
              "\n",
              "  @keyframes spin {\n",
              "    0% {\n",
              "      border-color: transparent;\n",
              "      border-bottom-color: var(--fill-color);\n",
              "      border-left-color: var(--fill-color);\n",
              "    }\n",
              "    20% {\n",
              "      border-color: transparent;\n",
              "      border-left-color: var(--fill-color);\n",
              "      border-top-color: var(--fill-color);\n",
              "    }\n",
              "    30% {\n",
              "      border-color: transparent;\n",
              "      border-left-color: var(--fill-color);\n",
              "      border-top-color: var(--fill-color);\n",
              "      border-right-color: var(--fill-color);\n",
              "    }\n",
              "    40% {\n",
              "      border-color: transparent;\n",
              "      border-right-color: var(--fill-color);\n",
              "      border-top-color: var(--fill-color);\n",
              "    }\n",
              "    60% {\n",
              "      border-color: transparent;\n",
              "      border-right-color: var(--fill-color);\n",
              "    }\n",
              "    80% {\n",
              "      border-color: transparent;\n",
              "      border-right-color: var(--fill-color);\n",
              "      border-bottom-color: var(--fill-color);\n",
              "    }\n",
              "    90% {\n",
              "      border-color: transparent;\n",
              "      border-bottom-color: var(--fill-color);\n",
              "    }\n",
              "  }\n",
              "</style>\n",
              "\n",
              "      <script>\n",
              "        async function quickchart(key) {\n",
              "          const quickchartButtonEl =\n",
              "            document.querySelector('#' + key + ' button');\n",
              "          quickchartButtonEl.disabled = true;  // To prevent multiple clicks.\n",
              "          quickchartButtonEl.classList.add('colab-df-spinner');\n",
              "          try {\n",
              "            const charts = await google.colab.kernel.invokeFunction(\n",
              "                'suggestCharts', [key], {});\n",
              "          } catch (error) {\n",
              "            console.error('Error during call to suggestCharts:', error);\n",
              "          }\n",
              "          quickchartButtonEl.classList.remove('colab-df-spinner');\n",
              "          quickchartButtonEl.classList.add('colab-df-quickchart-complete');\n",
              "        }\n",
              "        (() => {\n",
              "          let quickchartButtonEl =\n",
              "            document.querySelector('#df-7b83de70-e36b-4b8a-a476-7814450f6fb8 button');\n",
              "          quickchartButtonEl.style.display =\n",
              "            google.colab.kernel.accessAllowed ? 'block' : 'none';\n",
              "        })();\n",
              "      </script>\n",
              "    </div>\n",
              "\n",
              "    </div>\n",
              "  </div>\n"
            ],
            "application/vnd.google.colaboratory.intrinsic+json": {
              "type": "dataframe",
              "summary": "{\n  \"name\": \"get_ipython()\",\n  \"rows\": 3,\n  \"fields\": [\n    {\n      \"column\": \"normalized_text\",\n      \"properties\": {\n        \"dtype\": \"string\",\n        \"num_unique_values\": 3,\n        \"samples\": [\n          \"see line blow\",\n          \"pandemonium aba woman deliver baby face photo\",\n          \"add responder lose home vip home page group vimeo\"\n        ],\n        \"semantic_type\": \"\",\n        \"description\": \"\"\n      }\n    },\n    {\n      \"column\": \"label\",\n      \"properties\": {\n        \"dtype\": \"string\",\n        \"num_unique_values\": 2,\n        \"samples\": [\n          \"1\",\n          \"0\"\n        ],\n        \"semantic_type\": \"\",\n        \"description\": \"\"\n      }\n    }\n  ]\n}"
            }
          },
          "metadata": {}
        },
        {
          "output_type": "stream",
          "name": "stdout",
          "text": [
            "\n",
            "Sample of test set [data]:\n",
            "\n",
            "Columns in test set [data]: Index(['id', 'keyword', 'location', 'text', 'length', 'word_count', 'label',\n",
            "       'normalized text', 'normalized_text'],\n",
            "      dtype='object') \n",
            "\n"
          ]
        },
        {
          "output_type": "display_data",
          "data": {
            "text/plain": [
              "        id             keyword                  location  \\\n",
              "2608  1082           blew%20up            Greensboro, NC   \n",
              "2114  7622         pandemonium  www.facebook.com/stuntfm   \n",
              "4596  5428  first%20responders             New York City   \n",
              "\n",
              "                                                   text  target label  length  \\\n",
              "2608  @b24fowler I see that! Crazy how this line ble...       0     0      51   \n",
              "2114  Pandemonium In Aba As Woman Delivers Baby With...       0     0      88   \n",
              "4596  I just added 'Sandy First Responders Lost Thei...       1     1     112   \n",
              "\n",
              "      word_count                                    normalized text  \\\n",
              "2608          10                                      see line blow   \n",
              "2114          12      pandemonium aba woman deliver baby face photo   \n",
              "4596          17  add responder lose home vip home page group vimeo   \n",
              "\n",
              "                                        normalized_text  \n",
              "2608                                      see line blow  \n",
              "2114      pandemonium aba woman deliver baby face photo  \n",
              "4596  add responder lose home vip home page group vimeo  "
            ],
            "text/html": [
              "\n",
              "  <div id=\"df-8dfb6935-ab72-45f2-a628-13087ed4bcca\" class=\"colab-df-container\">\n",
              "    <div>\n",
              "<style scoped>\n",
              "    .dataframe tbody tr th:only-of-type {\n",
              "        vertical-align: middle;\n",
              "    }\n",
              "\n",
              "    .dataframe tbody tr th {\n",
              "        vertical-align: top;\n",
              "    }\n",
              "\n",
              "    .dataframe thead th {\n",
              "        text-align: right;\n",
              "    }\n",
              "</style>\n",
              "<table border=\"1\" class=\"dataframe\">\n",
              "  <thead>\n",
              "    <tr style=\"text-align: right;\">\n",
              "      <th></th>\n",
              "      <th>id</th>\n",
              "      <th>keyword</th>\n",
              "      <th>location</th>\n",
              "      <th>text</th>\n",
              "      <th>target</th>\n",
              "      <th>label</th>\n",
              "      <th>length</th>\n",
              "      <th>word_count</th>\n",
              "      <th>normalized text</th>\n",
              "      <th>normalized_text</th>\n",
              "    </tr>\n",
              "  </thead>\n",
              "  <tbody>\n",
              "    <tr>\n",
              "      <th>2608</th>\n",
              "      <td>1082</td>\n",
              "      <td>blew%20up</td>\n",
              "      <td>Greensboro, NC</td>\n",
              "      <td>@b24fowler I see that! Crazy how this line ble...</td>\n",
              "      <td>0</td>\n",
              "      <td>0</td>\n",
              "      <td>51</td>\n",
              "      <td>10</td>\n",
              "      <td>see line blow</td>\n",
              "      <td>see line blow</td>\n",
              "    </tr>\n",
              "    <tr>\n",
              "      <th>2114</th>\n",
              "      <td>7622</td>\n",
              "      <td>pandemonium</td>\n",
              "      <td>www.facebook.com/stuntfm</td>\n",
              "      <td>Pandemonium In Aba As Woman Delivers Baby With...</td>\n",
              "      <td>0</td>\n",
              "      <td>0</td>\n",
              "      <td>88</td>\n",
              "      <td>12</td>\n",
              "      <td>pandemonium aba woman deliver baby face photo</td>\n",
              "      <td>pandemonium aba woman deliver baby face photo</td>\n",
              "    </tr>\n",
              "    <tr>\n",
              "      <th>4596</th>\n",
              "      <td>5428</td>\n",
              "      <td>first%20responders</td>\n",
              "      <td>New York City</td>\n",
              "      <td>I just added 'Sandy First Responders Lost Thei...</td>\n",
              "      <td>1</td>\n",
              "      <td>1</td>\n",
              "      <td>112</td>\n",
              "      <td>17</td>\n",
              "      <td>add responder lose home vip home page group vimeo</td>\n",
              "      <td>add responder lose home vip home page group vimeo</td>\n",
              "    </tr>\n",
              "  </tbody>\n",
              "</table>\n",
              "</div>\n",
              "    <div class=\"colab-df-buttons\">\n",
              "\n",
              "  <div class=\"colab-df-container\">\n",
              "    <button class=\"colab-df-convert\" onclick=\"convertToInteractive('df-8dfb6935-ab72-45f2-a628-13087ed4bcca')\"\n",
              "            title=\"Convert this dataframe to an interactive table.\"\n",
              "            style=\"display:none;\">\n",
              "\n",
              "  <svg xmlns=\"http://www.w3.org/2000/svg\" height=\"24px\" viewBox=\"0 -960 960 960\">\n",
              "    <path d=\"M120-120v-720h720v720H120Zm60-500h600v-160H180v160Zm220 220h160v-160H400v160Zm0 220h160v-160H400v160ZM180-400h160v-160H180v160Zm440 0h160v-160H620v160ZM180-180h160v-160H180v160Zm440 0h160v-160H620v160Z\"/>\n",
              "  </svg>\n",
              "    </button>\n",
              "\n",
              "  <style>\n",
              "    .colab-df-container {\n",
              "      display:flex;\n",
              "      gap: 12px;\n",
              "    }\n",
              "\n",
              "    .colab-df-convert {\n",
              "      background-color: #E8F0FE;\n",
              "      border: none;\n",
              "      border-radius: 50%;\n",
              "      cursor: pointer;\n",
              "      display: none;\n",
              "      fill: #1967D2;\n",
              "      height: 32px;\n",
              "      padding: 0 0 0 0;\n",
              "      width: 32px;\n",
              "    }\n",
              "\n",
              "    .colab-df-convert:hover {\n",
              "      background-color: #E2EBFA;\n",
              "      box-shadow: 0px 1px 2px rgba(60, 64, 67, 0.3), 0px 1px 3px 1px rgba(60, 64, 67, 0.15);\n",
              "      fill: #174EA6;\n",
              "    }\n",
              "\n",
              "    .colab-df-buttons div {\n",
              "      margin-bottom: 4px;\n",
              "    }\n",
              "\n",
              "    [theme=dark] .colab-df-convert {\n",
              "      background-color: #3B4455;\n",
              "      fill: #D2E3FC;\n",
              "    }\n",
              "\n",
              "    [theme=dark] .colab-df-convert:hover {\n",
              "      background-color: #434B5C;\n",
              "      box-shadow: 0px 1px 3px 1px rgba(0, 0, 0, 0.15);\n",
              "      filter: drop-shadow(0px 1px 2px rgba(0, 0, 0, 0.3));\n",
              "      fill: #FFFFFF;\n",
              "    }\n",
              "  </style>\n",
              "\n",
              "    <script>\n",
              "      const buttonEl =\n",
              "        document.querySelector('#df-8dfb6935-ab72-45f2-a628-13087ed4bcca button.colab-df-convert');\n",
              "      buttonEl.style.display =\n",
              "        google.colab.kernel.accessAllowed ? 'block' : 'none';\n",
              "\n",
              "      async function convertToInteractive(key) {\n",
              "        const element = document.querySelector('#df-8dfb6935-ab72-45f2-a628-13087ed4bcca');\n",
              "        const dataTable =\n",
              "          await google.colab.kernel.invokeFunction('convertToInteractive',\n",
              "                                                    [key], {});\n",
              "        if (!dataTable) return;\n",
              "\n",
              "        const docLinkHtml = 'Like what you see? Visit the ' +\n",
              "          '<a target=\"_blank\" href=https://colab.research.google.com/notebooks/data_table.ipynb>data table notebook</a>'\n",
              "          + ' to learn more about interactive tables.';\n",
              "        element.innerHTML = '';\n",
              "        dataTable['output_type'] = 'display_data';\n",
              "        await google.colab.output.renderOutput(dataTable, element);\n",
              "        const docLink = document.createElement('div');\n",
              "        docLink.innerHTML = docLinkHtml;\n",
              "        element.appendChild(docLink);\n",
              "      }\n",
              "    </script>\n",
              "  </div>\n",
              "\n",
              "\n",
              "    <div id=\"df-19460454-ee75-423a-b892-44fe068eeb46\">\n",
              "      <button class=\"colab-df-quickchart\" onclick=\"quickchart('df-19460454-ee75-423a-b892-44fe068eeb46')\"\n",
              "                title=\"Suggest charts\"\n",
              "                style=\"display:none;\">\n",
              "\n",
              "<svg xmlns=\"http://www.w3.org/2000/svg\" height=\"24px\"viewBox=\"0 0 24 24\"\n",
              "     width=\"24px\">\n",
              "    <g>\n",
              "        <path d=\"M19 3H5c-1.1 0-2 .9-2 2v14c0 1.1.9 2 2 2h14c1.1 0 2-.9 2-2V5c0-1.1-.9-2-2-2zM9 17H7v-7h2v7zm4 0h-2V7h2v10zm4 0h-2v-4h2v4z\"/>\n",
              "    </g>\n",
              "</svg>\n",
              "      </button>\n",
              "\n",
              "<style>\n",
              "  .colab-df-quickchart {\n",
              "      --bg-color: #E8F0FE;\n",
              "      --fill-color: #1967D2;\n",
              "      --hover-bg-color: #E2EBFA;\n",
              "      --hover-fill-color: #174EA6;\n",
              "      --disabled-fill-color: #AAA;\n",
              "      --disabled-bg-color: #DDD;\n",
              "  }\n",
              "\n",
              "  [theme=dark] .colab-df-quickchart {\n",
              "      --bg-color: #3B4455;\n",
              "      --fill-color: #D2E3FC;\n",
              "      --hover-bg-color: #434B5C;\n",
              "      --hover-fill-color: #FFFFFF;\n",
              "      --disabled-bg-color: #3B4455;\n",
              "      --disabled-fill-color: #666;\n",
              "  }\n",
              "\n",
              "  .colab-df-quickchart {\n",
              "    background-color: var(--bg-color);\n",
              "    border: none;\n",
              "    border-radius: 50%;\n",
              "    cursor: pointer;\n",
              "    display: none;\n",
              "    fill: var(--fill-color);\n",
              "    height: 32px;\n",
              "    padding: 0;\n",
              "    width: 32px;\n",
              "  }\n",
              "\n",
              "  .colab-df-quickchart:hover {\n",
              "    background-color: var(--hover-bg-color);\n",
              "    box-shadow: 0 1px 2px rgba(60, 64, 67, 0.3), 0 1px 3px 1px rgba(60, 64, 67, 0.15);\n",
              "    fill: var(--button-hover-fill-color);\n",
              "  }\n",
              "\n",
              "  .colab-df-quickchart-complete:disabled,\n",
              "  .colab-df-quickchart-complete:disabled:hover {\n",
              "    background-color: var(--disabled-bg-color);\n",
              "    fill: var(--disabled-fill-color);\n",
              "    box-shadow: none;\n",
              "  }\n",
              "\n",
              "  .colab-df-spinner {\n",
              "    border: 2px solid var(--fill-color);\n",
              "    border-color: transparent;\n",
              "    border-bottom-color: var(--fill-color);\n",
              "    animation:\n",
              "      spin 1s steps(1) infinite;\n",
              "  }\n",
              "\n",
              "  @keyframes spin {\n",
              "    0% {\n",
              "      border-color: transparent;\n",
              "      border-bottom-color: var(--fill-color);\n",
              "      border-left-color: var(--fill-color);\n",
              "    }\n",
              "    20% {\n",
              "      border-color: transparent;\n",
              "      border-left-color: var(--fill-color);\n",
              "      border-top-color: var(--fill-color);\n",
              "    }\n",
              "    30% {\n",
              "      border-color: transparent;\n",
              "      border-left-color: var(--fill-color);\n",
              "      border-top-color: var(--fill-color);\n",
              "      border-right-color: var(--fill-color);\n",
              "    }\n",
              "    40% {\n",
              "      border-color: transparent;\n",
              "      border-right-color: var(--fill-color);\n",
              "      border-top-color: var(--fill-color);\n",
              "    }\n",
              "    60% {\n",
              "      border-color: transparent;\n",
              "      border-right-color: var(--fill-color);\n",
              "    }\n",
              "    80% {\n",
              "      border-color: transparent;\n",
              "      border-right-color: var(--fill-color);\n",
              "      border-bottom-color: var(--fill-color);\n",
              "    }\n",
              "    90% {\n",
              "      border-color: transparent;\n",
              "      border-bottom-color: var(--fill-color);\n",
              "    }\n",
              "  }\n",
              "</style>\n",
              "\n",
              "      <script>\n",
              "        async function quickchart(key) {\n",
              "          const quickchartButtonEl =\n",
              "            document.querySelector('#' + key + ' button');\n",
              "          quickchartButtonEl.disabled = true;  // To prevent multiple clicks.\n",
              "          quickchartButtonEl.classList.add('colab-df-spinner');\n",
              "          try {\n",
              "            const charts = await google.colab.kernel.invokeFunction(\n",
              "                'suggestCharts', [key], {});\n",
              "          } catch (error) {\n",
              "            console.error('Error during call to suggestCharts:', error);\n",
              "          }\n",
              "          quickchartButtonEl.classList.remove('colab-df-spinner');\n",
              "          quickchartButtonEl.classList.add('colab-df-quickchart-complete');\n",
              "        }\n",
              "        (() => {\n",
              "          let quickchartButtonEl =\n",
              "            document.querySelector('#df-19460454-ee75-423a-b892-44fe068eeb46 button');\n",
              "          quickchartButtonEl.style.display =\n",
              "            google.colab.kernel.accessAllowed ? 'block' : 'none';\n",
              "        })();\n",
              "      </script>\n",
              "    </div>\n",
              "\n",
              "    </div>\n",
              "  </div>\n"
            ],
            "application/vnd.google.colaboratory.intrinsic+json": {
              "type": "dataframe",
              "summary": "{\n  \"name\": \"get_ipython()\",\n  \"rows\": 3,\n  \"fields\": [\n    {\n      \"column\": \"id\",\n      \"properties\": {\n        \"dtype\": \"number\",\n        \"std\": 3328,\n        \"min\": 1082,\n        \"max\": 7622,\n        \"num_unique_values\": 3,\n        \"samples\": [\n          1082,\n          7622,\n          5428\n        ],\n        \"semantic_type\": \"\",\n        \"description\": \"\"\n      }\n    },\n    {\n      \"column\": \"keyword\",\n      \"properties\": {\n        \"dtype\": \"string\",\n        \"num_unique_values\": 3,\n        \"samples\": [\n          \"blew%20up\",\n          \"pandemonium\",\n          \"first%20responders\"\n        ],\n        \"semantic_type\": \"\",\n        \"description\": \"\"\n      }\n    },\n    {\n      \"column\": \"location\",\n      \"properties\": {\n        \"dtype\": \"string\",\n        \"num_unique_values\": 3,\n        \"samples\": [\n          \"Greensboro, NC\",\n          \"www.facebook.com/stuntfm\",\n          \"New York City\"\n        ],\n        \"semantic_type\": \"\",\n        \"description\": \"\"\n      }\n    },\n    {\n      \"column\": \"text\",\n      \"properties\": {\n        \"dtype\": \"string\",\n        \"num_unique_values\": 3,\n        \"samples\": [\n          \"@b24fowler I see that! Crazy how this line blew up.\",\n          \"Pandemonium In Aba As Woman Delivers Baby Without Face (Photos) - http://t.co/dI5aRr6HQ6\",\n          \"I just added 'Sandy First Responders Lost Their Homes' to VIP Home Page Group on @Vimeo: https://t.co/lKXi6UXjaQ\"\n        ],\n        \"semantic_type\": \"\",\n        \"description\": \"\"\n      }\n    },\n    {\n      \"column\": \"target\",\n      \"properties\": {\n        \"dtype\": \"number\",\n        \"std\": 0,\n        \"min\": 0,\n        \"max\": 1,\n        \"num_unique_values\": 2,\n        \"samples\": [\n          1,\n          0\n        ],\n        \"semantic_type\": \"\",\n        \"description\": \"\"\n      }\n    },\n    {\n      \"column\": \"label\",\n      \"properties\": {\n        \"dtype\": \"string\",\n        \"num_unique_values\": 2,\n        \"samples\": [\n          \"1\",\n          \"0\"\n        ],\n        \"semantic_type\": \"\",\n        \"description\": \"\"\n      }\n    },\n    {\n      \"column\": \"length\",\n      \"properties\": {\n        \"dtype\": \"number\",\n        \"std\": 30,\n        \"min\": 51,\n        \"max\": 112,\n        \"num_unique_values\": 3,\n        \"samples\": [\n          51,\n          88\n        ],\n        \"semantic_type\": \"\",\n        \"description\": \"\"\n      }\n    },\n    {\n      \"column\": \"word_count\",\n      \"properties\": {\n        \"dtype\": \"number\",\n        \"std\": 3,\n        \"min\": 10,\n        \"max\": 17,\n        \"num_unique_values\": 3,\n        \"samples\": [\n          10,\n          12\n        ],\n        \"semantic_type\": \"\",\n        \"description\": \"\"\n      }\n    },\n    {\n      \"column\": \"normalized text\",\n      \"properties\": {\n        \"dtype\": \"string\",\n        \"num_unique_values\": 3,\n        \"samples\": [\n          \"see line blow\",\n          \"pandemonium aba woman deliver baby face photo\"\n        ],\n        \"semantic_type\": \"\",\n        \"description\": \"\"\n      }\n    },\n    {\n      \"column\": \"normalized_text\",\n      \"properties\": {\n        \"dtype\": \"string\",\n        \"num_unique_values\": 3,\n        \"samples\": [\n          \"see line blow\",\n          \"pandemonium aba woman deliver baby face photo\"\n        ],\n        \"semantic_type\": \"\",\n        \"description\": \"\"\n      }\n    }\n  ]\n}"
            }
          },
          "metadata": {}
        },
        {
          "output_type": "stream",
          "name": "stdout",
          "text": [
            "\n",
            "CPU times: user 42.2 s, sys: 25.4 ms, total: 42.2 s\n",
            "Wall time: 49.2 s\n"
          ]
        }
      ],
      "source": [
        "%%time\n",
        "# Apply text normalization\n",
        "data_train_norm, data_test_norm, data_train, data_test  = apply_text_normalizer(train_df, test_df)"
      ]
    },
    {
      "cell_type": "code",
      "source": [
        "if gDEBUG:\n",
        "  # Preview the changes for the before and after text\n",
        "  print(textwrap.fill(data_train['text'][0], width=100))\n",
        "  print('\\n## change to ##\\n')\n",
        "  print(textwrap.fill(data_train['normalized_text'][0], width=100))"
      ],
      "metadata": {
        "colab": {
          "base_uri": "https://localhost:8080/"
        },
        "id": "h7_a--LSxgi2",
        "outputId": "296a9cb9-5353-4e8f-be2a-edbf06d752a4"
      },
      "execution_count": 79,
      "outputs": [
        {
          "output_type": "stream",
          "name": "stdout",
          "text": [
            "My woman crush wedneday goes to the beautiful @taykreidler #loveyouuuu #aintsheperty\n",
            "https://t.co/WeMwdtFwiC\n",
            "\n",
            "## change to ##\n",
            "\n",
            "woman crush wedneday go taykreidler loveyouuuu aintsheperty\n"
          ]
        }
      ]
    },
    {
      "cell_type": "markdown",
      "metadata": {
        "id": "pm-_DGFFmuSv"
      },
      "source": [
        "# 5.&nbsp;Work Embeddings + Vectorization\n",
        "\n",
        "XXXXX"
      ]
    },
    {
      "cell_type": "markdown",
      "source": [
        "## Word Embeddings from GloVe"
      ],
      "metadata": {
        "id": "a3Eh4mlcslIS"
      }
    },
    {
      "cell_type": "code",
      "source": [
        "train_texts = data_train_norm['normalized_text'].values\n",
        "train_target = data_train_norm['label'].values.astype('int')\n",
        "test_texts = data_test['normalized_text'].values\n",
        "test_ids = data_test['id'].values"
      ],
      "metadata": {
        "id": "vqfL8yoqslUy"
      },
      "execution_count": 152,
      "outputs": []
    },
    {
      "cell_type": "code",
      "source": [
        "# Calculate the length of our vocabulary\n",
        "word_tokenizer = Tokenizer()\n",
        "word_tokenizer.fit_on_texts(train_texts)\n",
        "\n",
        "vocab_length = len(word_tokenizer.word_index) + 1\n",
        "vocab_length"
      ],
      "metadata": {
        "colab": {
          "base_uri": "https://localhost:8080/"
        },
        "id": "hNmeUFijxQK6",
        "outputId": "d84ddd99-2f87-4baf-e4b4-9c840cb30694"
      },
      "execution_count": 121,
      "outputs": [
        {
          "output_type": "execute_result",
          "data": {
            "text/plain": [
              "9150"
            ]
          },
          "metadata": {},
          "execution_count": 121
        }
      ]
    },
    {
      "cell_type": "code",
      "source": [
        "# Pad_sequences\n",
        "def embed(corpus):\n",
        "    return word_tokenizer.texts_to_sequences(corpus)\n",
        "\n",
        "longest_train = max(train_texts, key=lambda sentence: len(word_tokenize(sentence)))\n",
        "length_long_sentence = len(word_tokenize(longest_train))\n",
        "\n",
        "train_padded_sentences = pad_sequences(\n",
        "    embed(train_texts),\n",
        "    length_long_sentence,\n",
        "    padding='post'\n",
        ")\n",
        "\n",
        "test_padded_sentences = pad_sequences(\n",
        "    embed(test_texts),\n",
        "    length_long_sentence,\n",
        "    padding='post'\n",
        ")\n",
        "\n",
        "train_padded_sentences"
      ],
      "metadata": {
        "colab": {
          "base_uri": "https://localhost:8080/"
        },
        "id": "eveb2yetxQP1",
        "outputId": "05a0eb5a-ac13-4943-8776-5a676e58f50b"
      },
      "execution_count": 122,
      "outputs": [
        {
          "output_type": "execute_result",
          "data": {
            "text/plain": [
              "array([[   9,  266,  138, ...,    0,    0,    0],\n",
              "       [ 284,  631,   69, ...,    0,    0,    0],\n",
              "       [ 467,  238,  487, ...,    0,    0,    0],\n",
              "       ...,\n",
              "       [3154,  323,  514, ...,    0,    0,    0],\n",
              "       [1966, 2242,  435, ...,    0,    0,    0],\n",
              "       [9148,  479,  902, ...,    0,    0,    0]], dtype=int32)"
            ]
          },
          "metadata": {},
          "execution_count": 122
        }
      ]
    },
    {
      "cell_type": "code",
      "source": [
        "embeddings_dictionary = dict()\n",
        "embedding_dim = 100\n",
        "\n",
        "# Load GloVe 100D embeddings\n",
        "with open(file_path_glove) as fp:\n",
        "    for line in fp.readlines():\n",
        "        records = line.split()\n",
        "        word = records[0]\n",
        "        vector_dimensions = np.asarray(records[1:], dtype='float32')\n",
        "        embeddings_dictionary [word] = vector_dimensions"
      ],
      "metadata": {
        "id": "7d2zMhi9z5T_"
      },
      "execution_count": 124,
      "outputs": []
    },
    {
      "cell_type": "code",
      "source": [
        "embedding_matrix = np.zeros((vocab_length, embedding_dim))\n",
        "\n",
        "for word, index in word_tokenizer.word_index.items():\n",
        "    embedding_vector = embeddings_dictionary.get(word)\n",
        "    if embedding_vector is not None:\n",
        "        embedding_matrix[index] = embedding_vector\n",
        "\n",
        "embedding_matrix"
      ],
      "metadata": {
        "colab": {
          "base_uri": "https://localhost:8080/"
        },
        "id": "ABhvGCtgyr5B",
        "outputId": "ec5ec6e9-9c4a-43c5-f57c-2d969a50a92f"
      },
      "execution_count": 125,
      "outputs": [
        {
          "output_type": "execute_result",
          "data": {
            "text/plain": [
              "array([[ 0.        ,  0.        ,  0.        , ...,  0.        ,\n",
              "         0.        ,  0.        ],\n",
              "       [ 0.14432999,  0.43950999,  0.58323997, ...,  0.50133997,\n",
              "         0.49535999,  0.49919999],\n",
              "       [-0.26872   , -0.15542001, -0.23565   , ...,  0.49344   ,\n",
              "         0.72114003, -0.041749  ],\n",
              "       ...,\n",
              "       [ 0.        ,  0.        ,  0.        , ...,  0.        ,\n",
              "         0.        ,  0.        ],\n",
              "       [ 0.        ,  0.        ,  0.        , ...,  0.        ,\n",
              "         0.        ,  0.        ],\n",
              "       [ 0.        ,  0.        ,  0.        , ...,  0.        ,\n",
              "         0.        ,  0.        ]])"
            ]
          },
          "metadata": {},
          "execution_count": 125
        }
      ]
    },
    {
      "cell_type": "markdown",
      "source": [
        "# 4.&nbsp;Train-Validation-Test Split\n",
        "\n",
        "Split the dataset into training, validation, and test sets. Use tratified splitting to ensure that the class distribution remains consistent across these sets. The distribution of records across the labels is visualized to ensure a balanced split."
      ],
      "metadata": {
        "id": "d_2otC8atcIZ"
      }
    },
    {
      "cell_type": "markdown",
      "source": [
        "## Test Data Split Functions"
      ],
      "metadata": {
        "id": "ccyDW8Mttqhr"
      }
    },
    {
      "cell_type": "markdown",
      "source": [
        "Test Split Functions recycled from previous Natural Language Processing (NLP) analysis projects. The general patter of completing EDA for NLP typically starts with a standard set of tables and charts to understand the data.*italicized text*\n",
        "\n",
        "*Source:* [deep_learning_cnn_cancer_detection.ipynb](https://github.com/TOM-BOHN/MsDS-deep-learing-cnn-cancer-detection/blob/26da0f73632649319b7ff4674b49b42e8ba7a2a2/deep_learning_cnn_cancer_detection.ipynb)"
      ],
      "metadata": {
        "id": "d_bUfDWvtfdP"
      }
    },
    {
      "cell_type": "markdown",
      "source": [
        "## Test Data Split Execution"
      ],
      "metadata": {
        "id": "cQClGoqMtfpo"
      }
    },
    {
      "cell_type": "code",
      "source": [
        "# Split data into train and test sets\n",
        "X_train, X_val, y_train, y_val = train_test_split(\n",
        "    train_padded_sentences,\n",
        "    train_target,\n",
        "    test_size=0.2,\n",
        "    stratify=train_target,\n",
        "    random_state=27\n",
        ")"
      ],
      "metadata": {
        "id": "LPhTJyZF4wSq"
      },
      "execution_count": 126,
      "outputs": []
    },
    {
      "cell_type": "code",
      "source": [
        "# Preview Output\n",
        "if gDEBUG:\n",
        "  print(X_train[:2])\n",
        "  print(y_train[:4])\n",
        "  print(X_val[:2])\n",
        "  print(y_val[:4])"
      ],
      "metadata": {
        "colab": {
          "base_uri": "https://localhost:8080/"
        },
        "id": "eblGgGzzuO_C",
        "outputId": "dcfebf78-150a-4c97-d6d4-790ad499c880"
      },
      "execution_count": 127,
      "outputs": [
        {
          "output_type": "stream",
          "name": "stdout",
          "text": [
            "[[533  49  49 349  64 902   0   0   0   0   0   0   0   0   0   0   0   0\n",
            "    0]\n",
            " [182 264 248  60  83  94  14  76 352  99   0   0   0   0   0   0   0   0\n",
            "    0]]\n",
            "[0 1 1 0]\n",
            "[[ 361   27  290   68  129 3318  140  699    0    0    0    0    0    0\n",
            "     0    0    0    0    0]\n",
            " [  80  290   54  137 3220 1909  184    0    0    0    0    0    0    0\n",
            "     0    0    0    0    0]]\n",
            "[0 0 1 1]\n"
          ]
        }
      ]
    },
    {
      "cell_type": "markdown",
      "metadata": {
        "id": "nrJc1ZCi0IVf"
      },
      "source": [
        "# 7.&nbsp; Baseline Models: LSTM (RNN)"
      ]
    },
    {
      "cell_type": "markdown",
      "metadata": {
        "id": "GO9FkdrHJ5US"
      },
      "source": [
        "## Model Functions"
      ]
    },
    {
      "cell_type": "code",
      "execution_count": 128,
      "metadata": {
        "id": "HoVYjp1wqOs8"
      },
      "outputs": [],
      "source": [
        "# Display a learning curve and a loss curve\n",
        "def learning_curve(history):\n",
        "    acc = history.history['accuracy']\n",
        "    val_acc = history.history['val_accuracy']\n",
        "\n",
        "    loss = history.history['loss']\n",
        "    val_loss = history.history['val_loss']\n",
        "\n",
        "    plt.figure(figsize=(8, 10))\n",
        "    plt.subplot(2, 1, 1)\n",
        "    plt.plot(acc, label='Training Accuracy')\n",
        "    plt.plot(val_acc, label='Validation Accuracy')\n",
        "    plt.legend(loc='lower right')\n",
        "    plt.ylabel('Accuracy')\n",
        "    plt.ylim([min(plt.ylim()),1])\n",
        "    plt.title('Training and Validation Accuracy')\n",
        "\n",
        "    plt.subplot(2, 1, 2)\n",
        "    plt.plot(loss, label='Training Loss')\n",
        "    plt.plot(val_loss, label='Validation Loss')\n",
        "    plt.legend(loc='upper right')\n",
        "    plt.ylabel('Cross Entropy')\n",
        "    plt.ylim([0,1.0])\n",
        "    plt.title('Training and Validation Loss')\n",
        "    plt.xlabel('epoch')"
      ]
    },
    {
      "cell_type": "code",
      "source": [
        "def show_metrics(pred_tag, y_test):\n",
        "    print(\"F1-score: \", f1_score(pred_tag, y_test))\n",
        "    print(\"Precision: \", precision_score(pred_tag, y_test))\n",
        "    print(\"Recall: \", recall_score(pred_tag, y_test))\n",
        "    print(\"Acuracy: \", accuracy_score(pred_tag, y_test))\n",
        "    print(\"-\"*50)\n",
        "    print(classification_report(pred_tag, y_test))"
      ],
      "metadata": {
        "id": "uCYKzuQg6Iro"
      },
      "execution_count": 129,
      "outputs": []
    },
    {
      "cell_type": "code",
      "source": [
        "# Define a time element to add to history of model training\n",
        "class EpochTimeHistory(Callback):\n",
        "    \"\"\"A custom Keras callback to record the duration of each epoch.\"\"\"\n",
        "    def on_epoch_begin(self, epoch, logs=None):\n",
        "        # Record the start time at the beginning of each epoch\n",
        "        self.epoch_start_time = time.time()\n",
        "\n",
        "    def on_epoch_end(self, epoch, logs=None):\n",
        "        # Calculate the epoch's duration\n",
        "        epoch_duration = time.time() - self.epoch_start_time\n",
        "\n",
        "        # Add the duration to the logs dictionary.\n",
        "        # Keras will automatically include this in the final history object.\n",
        "        if logs is not None:\n",
        "            logs['epoch_duration'] = epoch_duration"
      ],
      "metadata": {
        "id": "XdfNVZjNnXG5"
      },
      "execution_count": 130,
      "outputs": []
    },
    {
      "cell_type": "code",
      "source": [
        "#ensure the output directory for saved models exists\n",
        "save_dir = '/content/drive/MyDrive/[1.4] MsDS Class Files/-- DTSA 5511 Deep Learning/saved_models'\n",
        "os.makedirs(save_dir, exist_ok=True) # This creates the folder if it doesn't exist"
      ],
      "metadata": {
        "id": "dW0lvPspnbsj"
      },
      "execution_count": 131,
      "outputs": []
    },
    {
      "cell_type": "markdown",
      "source": [
        "## Build the Model Architecture"
      ],
      "metadata": {
        "id": "BOPqrGFRnjEm"
      }
    },
    {
      "cell_type": "code",
      "source": [
        "# Model from https://www.kaggle.com/mariapushkareva/nlp-disaster-tweets-with-glove-and-lstm/data\n",
        "\n",
        "def glove_lstm():\n",
        "    # Build the model\n",
        "    model = Sequential()\n",
        "    # Cofigure the architecture\n",
        "    model.add(Embedding(\n",
        "        input_dim=embedding_matrix.shape[0],\n",
        "        output_dim=embedding_matrix.shape[1],\n",
        "        weights = [embedding_matrix]\n",
        "    ))\n",
        "    # Cofigure the architecture\n",
        "    model.add(Bidirectional(LSTM(\n",
        "        length_long_sentence,\n",
        "        return_sequences = True,\n",
        "        recurrent_dropout=0.2\n",
        "    )))\n",
        "    # Cofigure the architecture\n",
        "    model.add(GlobalMaxPool1D())\n",
        "    model.add(BatchNormalization())\n",
        "    model.add(Dropout(0.5))\n",
        "    model.add(Dense(length_long_sentence, activation = \"relu\"))\n",
        "    model.add(Dropout(0.5))\n",
        "    model.add(Dense(length_long_sentence, activation = \"relu\"))\n",
        "    model.add(Dropout(0.5))\n",
        "    model.add(Dense(1, activation = 'sigmoid'))\n",
        "    # Compile the model\n",
        "    model.compile(\n",
        "        optimizer='rmsprop',\n",
        "        loss='binary_crossentropy',\n",
        "        metrics=['accuracy']\n",
        "    )\n",
        "\n",
        "    return model"
      ],
      "metadata": {
        "id": "cVHe6PZAnjRS"
      },
      "execution_count": 160,
      "outputs": []
    },
    {
      "cell_type": "code",
      "source": [
        "# Create an instance of the model\n",
        "model_0 = glove_lstm()\n",
        "# Manually build the model\n",
        "model_0.build(input_shape=(None, length_long_sentence))\n",
        "# Display the model summary\n",
        "model_0.summary()"
      ],
      "metadata": {
        "colab": {
          "base_uri": "https://localhost:8080/",
          "height": 490
        },
        "id": "dGZXFigpo3yw",
        "outputId": "71dd935f-9813-4ef7-ec90-299b35a74ca1"
      },
      "execution_count": 161,
      "outputs": [
        {
          "output_type": "display_data",
          "data": {
            "text/plain": [
              "\u001b[1mModel: \"sequential_5\"\u001b[0m\n"
            ],
            "text/html": [
              "<pre style=\"white-space:pre;overflow-x:auto;line-height:normal;font-family:Menlo,'DejaVu Sans Mono',consolas,'Courier New',monospace\"><span style=\"font-weight: bold\">Model: \"sequential_5\"</span>\n",
              "</pre>\n"
            ]
          },
          "metadata": {}
        },
        {
          "output_type": "display_data",
          "data": {
            "text/plain": [
              "┏━━━━━━━━━━━━━━━━━━━━━━━━━━━━━━━━━┳━━━━━━━━━━━━━━━━━━━━━━━━┳━━━━━━━━━━━━━━━┓\n",
              "┃\u001b[1m \u001b[0m\u001b[1mLayer (type)                   \u001b[0m\u001b[1m \u001b[0m┃\u001b[1m \u001b[0m\u001b[1mOutput Shape          \u001b[0m\u001b[1m \u001b[0m┃\u001b[1m \u001b[0m\u001b[1m      Param #\u001b[0m\u001b[1m \u001b[0m┃\n",
              "┡━━━━━━━━━━━━━━━━━━━━━━━━━━━━━━━━━╇━━━━━━━━━━━━━━━━━━━━━━━━╇━━━━━━━━━━━━━━━┩\n",
              "│ embedding_3 (\u001b[38;5;33mEmbedding\u001b[0m)         │ (\u001b[38;5;45mNone\u001b[0m, \u001b[38;5;34m19\u001b[0m, \u001b[38;5;34m100\u001b[0m)        │       \u001b[38;5;34m915,000\u001b[0m │\n",
              "├─────────────────────────────────┼────────────────────────┼───────────────┤\n",
              "│ bidirectional_3 (\u001b[38;5;33mBidirectional\u001b[0m) │ (\u001b[38;5;45mNone\u001b[0m, \u001b[38;5;34m19\u001b[0m, \u001b[38;5;34m38\u001b[0m)         │        \u001b[38;5;34m18,240\u001b[0m │\n",
              "├─────────────────────────────────┼────────────────────────┼───────────────┤\n",
              "│ global_max_pooling1d_3          │ (\u001b[38;5;45mNone\u001b[0m, \u001b[38;5;34m38\u001b[0m)             │             \u001b[38;5;34m0\u001b[0m │\n",
              "│ (\u001b[38;5;33mGlobalMaxPooling1D\u001b[0m)            │                        │               │\n",
              "├─────────────────────────────────┼────────────────────────┼───────────────┤\n",
              "│ batch_normalization_3           │ (\u001b[38;5;45mNone\u001b[0m, \u001b[38;5;34m38\u001b[0m)             │           \u001b[38;5;34m152\u001b[0m │\n",
              "│ (\u001b[38;5;33mBatchNormalization\u001b[0m)            │                        │               │\n",
              "├─────────────────────────────────┼────────────────────────┼───────────────┤\n",
              "│ dropout_9 (\u001b[38;5;33mDropout\u001b[0m)             │ (\u001b[38;5;45mNone\u001b[0m, \u001b[38;5;34m38\u001b[0m)             │             \u001b[38;5;34m0\u001b[0m │\n",
              "├─────────────────────────────────┼────────────────────────┼───────────────┤\n",
              "│ dense_9 (\u001b[38;5;33mDense\u001b[0m)                 │ (\u001b[38;5;45mNone\u001b[0m, \u001b[38;5;34m19\u001b[0m)             │           \u001b[38;5;34m741\u001b[0m │\n",
              "├─────────────────────────────────┼────────────────────────┼───────────────┤\n",
              "│ dropout_10 (\u001b[38;5;33mDropout\u001b[0m)            │ (\u001b[38;5;45mNone\u001b[0m, \u001b[38;5;34m19\u001b[0m)             │             \u001b[38;5;34m0\u001b[0m │\n",
              "├─────────────────────────────────┼────────────────────────┼───────────────┤\n",
              "│ dense_10 (\u001b[38;5;33mDense\u001b[0m)                │ (\u001b[38;5;45mNone\u001b[0m, \u001b[38;5;34m19\u001b[0m)             │           \u001b[38;5;34m380\u001b[0m │\n",
              "├─────────────────────────────────┼────────────────────────┼───────────────┤\n",
              "│ dropout_11 (\u001b[38;5;33mDropout\u001b[0m)            │ (\u001b[38;5;45mNone\u001b[0m, \u001b[38;5;34m19\u001b[0m)             │             \u001b[38;5;34m0\u001b[0m │\n",
              "├─────────────────────────────────┼────────────────────────┼───────────────┤\n",
              "│ dense_11 (\u001b[38;5;33mDense\u001b[0m)                │ (\u001b[38;5;45mNone\u001b[0m, \u001b[38;5;34m1\u001b[0m)              │            \u001b[38;5;34m20\u001b[0m │\n",
              "└─────────────────────────────────┴────────────────────────┴───────────────┘\n"
            ],
            "text/html": [
              "<pre style=\"white-space:pre;overflow-x:auto;line-height:normal;font-family:Menlo,'DejaVu Sans Mono',consolas,'Courier New',monospace\">┏━━━━━━━━━━━━━━━━━━━━━━━━━━━━━━━━━┳━━━━━━━━━━━━━━━━━━━━━━━━┳━━━━━━━━━━━━━━━┓\n",
              "┃<span style=\"font-weight: bold\"> Layer (type)                    </span>┃<span style=\"font-weight: bold\"> Output Shape           </span>┃<span style=\"font-weight: bold\">       Param # </span>┃\n",
              "┡━━━━━━━━━━━━━━━━━━━━━━━━━━━━━━━━━╇━━━━━━━━━━━━━━━━━━━━━━━━╇━━━━━━━━━━━━━━━┩\n",
              "│ embedding_3 (<span style=\"color: #0087ff; text-decoration-color: #0087ff\">Embedding</span>)         │ (<span style=\"color: #00d7ff; text-decoration-color: #00d7ff\">None</span>, <span style=\"color: #00af00; text-decoration-color: #00af00\">19</span>, <span style=\"color: #00af00; text-decoration-color: #00af00\">100</span>)        │       <span style=\"color: #00af00; text-decoration-color: #00af00\">915,000</span> │\n",
              "├─────────────────────────────────┼────────────────────────┼───────────────┤\n",
              "│ bidirectional_3 (<span style=\"color: #0087ff; text-decoration-color: #0087ff\">Bidirectional</span>) │ (<span style=\"color: #00d7ff; text-decoration-color: #00d7ff\">None</span>, <span style=\"color: #00af00; text-decoration-color: #00af00\">19</span>, <span style=\"color: #00af00; text-decoration-color: #00af00\">38</span>)         │        <span style=\"color: #00af00; text-decoration-color: #00af00\">18,240</span> │\n",
              "├─────────────────────────────────┼────────────────────────┼───────────────┤\n",
              "│ global_max_pooling1d_3          │ (<span style=\"color: #00d7ff; text-decoration-color: #00d7ff\">None</span>, <span style=\"color: #00af00; text-decoration-color: #00af00\">38</span>)             │             <span style=\"color: #00af00; text-decoration-color: #00af00\">0</span> │\n",
              "│ (<span style=\"color: #0087ff; text-decoration-color: #0087ff\">GlobalMaxPooling1D</span>)            │                        │               │\n",
              "├─────────────────────────────────┼────────────────────────┼───────────────┤\n",
              "│ batch_normalization_3           │ (<span style=\"color: #00d7ff; text-decoration-color: #00d7ff\">None</span>, <span style=\"color: #00af00; text-decoration-color: #00af00\">38</span>)             │           <span style=\"color: #00af00; text-decoration-color: #00af00\">152</span> │\n",
              "│ (<span style=\"color: #0087ff; text-decoration-color: #0087ff\">BatchNormalization</span>)            │                        │               │\n",
              "├─────────────────────────────────┼────────────────────────┼───────────────┤\n",
              "│ dropout_9 (<span style=\"color: #0087ff; text-decoration-color: #0087ff\">Dropout</span>)             │ (<span style=\"color: #00d7ff; text-decoration-color: #00d7ff\">None</span>, <span style=\"color: #00af00; text-decoration-color: #00af00\">38</span>)             │             <span style=\"color: #00af00; text-decoration-color: #00af00\">0</span> │\n",
              "├─────────────────────────────────┼────────────────────────┼───────────────┤\n",
              "│ dense_9 (<span style=\"color: #0087ff; text-decoration-color: #0087ff\">Dense</span>)                 │ (<span style=\"color: #00d7ff; text-decoration-color: #00d7ff\">None</span>, <span style=\"color: #00af00; text-decoration-color: #00af00\">19</span>)             │           <span style=\"color: #00af00; text-decoration-color: #00af00\">741</span> │\n",
              "├─────────────────────────────────┼────────────────────────┼───────────────┤\n",
              "│ dropout_10 (<span style=\"color: #0087ff; text-decoration-color: #0087ff\">Dropout</span>)            │ (<span style=\"color: #00d7ff; text-decoration-color: #00d7ff\">None</span>, <span style=\"color: #00af00; text-decoration-color: #00af00\">19</span>)             │             <span style=\"color: #00af00; text-decoration-color: #00af00\">0</span> │\n",
              "├─────────────────────────────────┼────────────────────────┼───────────────┤\n",
              "│ dense_10 (<span style=\"color: #0087ff; text-decoration-color: #0087ff\">Dense</span>)                │ (<span style=\"color: #00d7ff; text-decoration-color: #00d7ff\">None</span>, <span style=\"color: #00af00; text-decoration-color: #00af00\">19</span>)             │           <span style=\"color: #00af00; text-decoration-color: #00af00\">380</span> │\n",
              "├─────────────────────────────────┼────────────────────────┼───────────────┤\n",
              "│ dropout_11 (<span style=\"color: #0087ff; text-decoration-color: #0087ff\">Dropout</span>)            │ (<span style=\"color: #00d7ff; text-decoration-color: #00d7ff\">None</span>, <span style=\"color: #00af00; text-decoration-color: #00af00\">19</span>)             │             <span style=\"color: #00af00; text-decoration-color: #00af00\">0</span> │\n",
              "├─────────────────────────────────┼────────────────────────┼───────────────┤\n",
              "│ dense_11 (<span style=\"color: #0087ff; text-decoration-color: #0087ff\">Dense</span>)                │ (<span style=\"color: #00d7ff; text-decoration-color: #00d7ff\">None</span>, <span style=\"color: #00af00; text-decoration-color: #00af00\">1</span>)              │            <span style=\"color: #00af00; text-decoration-color: #00af00\">20</span> │\n",
              "└─────────────────────────────────┴────────────────────────┴───────────────┘\n",
              "</pre>\n"
            ]
          },
          "metadata": {}
        },
        {
          "output_type": "display_data",
          "data": {
            "text/plain": [
              "\u001b[1m Total params: \u001b[0m\u001b[38;5;34m934,533\u001b[0m (3.56 MB)\n"
            ],
            "text/html": [
              "<pre style=\"white-space:pre;overflow-x:auto;line-height:normal;font-family:Menlo,'DejaVu Sans Mono',consolas,'Courier New',monospace\"><span style=\"font-weight: bold\"> Total params: </span><span style=\"color: #00af00; text-decoration-color: #00af00\">934,533</span> (3.56 MB)\n",
              "</pre>\n"
            ]
          },
          "metadata": {}
        },
        {
          "output_type": "display_data",
          "data": {
            "text/plain": [
              "\u001b[1m Trainable params: \u001b[0m\u001b[38;5;34m934,457\u001b[0m (3.56 MB)\n"
            ],
            "text/html": [
              "<pre style=\"white-space:pre;overflow-x:auto;line-height:normal;font-family:Menlo,'DejaVu Sans Mono',consolas,'Courier New',monospace\"><span style=\"font-weight: bold\"> Trainable params: </span><span style=\"color: #00af00; text-decoration-color: #00af00\">934,457</span> (3.56 MB)\n",
              "</pre>\n"
            ]
          },
          "metadata": {}
        },
        {
          "output_type": "display_data",
          "data": {
            "text/plain": [
              "\u001b[1m Non-trainable params: \u001b[0m\u001b[38;5;34m76\u001b[0m (304.00 B)\n"
            ],
            "text/html": [
              "<pre style=\"white-space:pre;overflow-x:auto;line-height:normal;font-family:Menlo,'DejaVu Sans Mono',consolas,'Courier New',monospace\"><span style=\"font-weight: bold\"> Non-trainable params: </span><span style=\"color: #00af00; text-decoration-color: #00af00\">76</span> (304.00 B)\n",
              "</pre>\n"
            ]
          },
          "metadata": {}
        }
      ]
    },
    {
      "cell_type": "markdown",
      "metadata": {
        "id": "0eMVteAb01Vs"
      },
      "source": [
        "## Train/Fit the Model"
      ]
    },
    {
      "cell_type": "code",
      "execution_count": 162,
      "metadata": {
        "id": "hEyEXjG-qOs8"
      },
      "outputs": [],
      "source": [
        "# Callbacks for early stopping and reducing learning rate\n",
        "time_history_callback_0 = EpochTimeHistory()\n",
        "early_stopping_0 = EarlyStopping(monitor='val_loss', patience=10, restore_best_weights=True)\n",
        "reduce_lr_0 = ReduceLROnPlateau(monitor='val_loss', factor=0.2, patience=5, min_lr=0.000001)"
      ]
    },
    {
      "cell_type": "code",
      "source": [
        "history_0 = model_0.fit(\n",
        "    X_train,\n",
        "    y_train,\n",
        "    epochs = 20,\n",
        "    batch_size = 64,\n",
        "    validation_data = (X_val, y_val),\n",
        "    verbose = 1,\n",
        "    callbacks = [early_stopping_0, reduce_lr_0, time_history_callback_0]\n",
        ")"
      ],
      "metadata": {
        "colab": {
          "base_uri": "https://localhost:8080/"
        },
        "id": "wAv4nz3S9iLN",
        "outputId": "a1e03ece-299a-42a9-93b0-f791b5a33024"
      },
      "execution_count": 163,
      "outputs": [
        {
          "output_type": "stream",
          "name": "stdout",
          "text": [
            "Epoch 1/20\n",
            "\u001b[1m66/66\u001b[0m \u001b[32m━━━━━━━━━━━━━━━━━━━━\u001b[0m\u001b[37m\u001b[0m \u001b[1m13s\u001b[0m 58ms/step - accuracy: 0.5254 - loss: 0.8568 - val_accuracy: 0.6151 - val_loss: 0.6808 - learning_rate: 0.0010 - epoch_duration: 12.5777\n",
            "Epoch 2/20\n",
            "\u001b[1m66/66\u001b[0m \u001b[32m━━━━━━━━━━━━━━━━━━━━\u001b[0m\u001b[37m\u001b[0m \u001b[1m5s\u001b[0m 56ms/step - accuracy: 0.5796 - loss: 0.7162 - val_accuracy: 0.6714 - val_loss: 0.6716 - learning_rate: 0.0010 - epoch_duration: 4.9596\n",
            "Epoch 3/20\n",
            "\u001b[1m66/66\u001b[0m \u001b[32m━━━━━━━━━━━━━━━━━━━━\u001b[0m\u001b[37m\u001b[0m \u001b[1m5s\u001b[0m 56ms/step - accuracy: 0.5961 - loss: 0.6747 - val_accuracy: 0.7326 - val_loss: 0.6538 - learning_rate: 0.0010 - epoch_duration: 5.1778\n",
            "Epoch 4/20\n",
            "\u001b[1m66/66\u001b[0m \u001b[32m━━━━━━━━━━━━━━━━━━━━\u001b[0m\u001b[37m\u001b[0m \u001b[1m6s\u001b[0m 66ms/step - accuracy: 0.6355 - loss: 0.6466 - val_accuracy: 0.7650 - val_loss: 0.6158 - learning_rate: 0.0010 - epoch_duration: 5.6811\n",
            "Epoch 5/20\n",
            "\u001b[1m66/66\u001b[0m \u001b[32m━━━━━━━━━━━━━━━━━━━━\u001b[0m\u001b[37m\u001b[0m \u001b[1m3s\u001b[0m 49ms/step - accuracy: 0.6880 - loss: 0.5844 - val_accuracy: 0.7689 - val_loss: 0.5769 - learning_rate: 0.0010 - epoch_duration: 3.2641\n",
            "Epoch 6/20\n",
            "\u001b[1m66/66\u001b[0m \u001b[32m━━━━━━━━━━━━━━━━━━━━\u001b[0m\u001b[37m\u001b[0m \u001b[1m7s\u001b[0m 76ms/step - accuracy: 0.7193 - loss: 0.5503 - val_accuracy: 0.7765 - val_loss: 0.5278 - learning_rate: 0.0010 - epoch_duration: 6.8998\n",
            "Epoch 7/20\n",
            "\u001b[1m66/66\u001b[0m \u001b[32m━━━━━━━━━━━━━━━━━━━━\u001b[0m\u001b[37m\u001b[0m \u001b[1m3s\u001b[0m 45ms/step - accuracy: 0.7466 - loss: 0.5304 - val_accuracy: 0.7927 - val_loss: 0.4999 - learning_rate: 0.0010 - epoch_duration: 2.9600\n",
            "Epoch 8/20\n",
            "\u001b[1m66/66\u001b[0m \u001b[32m━━━━━━━━━━━━━━━━━━━━\u001b[0m\u001b[37m\u001b[0m \u001b[1m6s\u001b[0m 55ms/step - accuracy: 0.7660 - loss: 0.5086 - val_accuracy: 0.7775 - val_loss: 0.4828 - learning_rate: 0.0010 - epoch_duration: 5.7657\n",
            "Epoch 9/20\n",
            "\u001b[1m66/66\u001b[0m \u001b[32m━━━━━━━━━━━━━━━━━━━━\u001b[0m\u001b[37m\u001b[0m \u001b[1m5s\u001b[0m 57ms/step - accuracy: 0.7873 - loss: 0.4891 - val_accuracy: 0.7851 - val_loss: 0.4730 - learning_rate: 0.0010 - epoch_duration: 5.2867\n",
            "Epoch 10/20\n",
            "\u001b[1m66/66\u001b[0m \u001b[32m━━━━━━━━━━━━━━━━━━━━\u001b[0m\u001b[37m\u001b[0m \u001b[1m3s\u001b[0m 42ms/step - accuracy: 0.7806 - loss: 0.4971 - val_accuracy: 0.7927 - val_loss: 0.4634 - learning_rate: 0.0010 - epoch_duration: 2.8141\n",
            "Epoch 11/20\n",
            "\u001b[1m66/66\u001b[0m \u001b[32m━━━━━━━━━━━━━━━━━━━━\u001b[0m\u001b[37m\u001b[0m \u001b[1m3s\u001b[0m 45ms/step - accuracy: 0.7839 - loss: 0.4831 - val_accuracy: 0.7813 - val_loss: 0.4569 - learning_rate: 0.0010 - epoch_duration: 2.9772\n",
            "Epoch 12/20\n",
            "\u001b[1m66/66\u001b[0m \u001b[32m━━━━━━━━━━━━━━━━━━━━\u001b[0m\u001b[37m\u001b[0m \u001b[1m7s\u001b[0m 76ms/step - accuracy: 0.8004 - loss: 0.4691 - val_accuracy: 0.7727 - val_loss: 0.4698 - learning_rate: 0.0010 - epoch_duration: 7.1690\n",
            "Epoch 13/20\n",
            "\u001b[1m66/66\u001b[0m \u001b[32m━━━━━━━━━━━━━━━━━━━━\u001b[0m\u001b[37m\u001b[0m \u001b[1m3s\u001b[0m 50ms/step - accuracy: 0.8134 - loss: 0.4538 - val_accuracy: 0.7870 - val_loss: 0.4485 - learning_rate: 0.0010 - epoch_duration: 3.3840\n",
            "Epoch 14/20\n",
            "\u001b[1m66/66\u001b[0m \u001b[32m━━━━━━━━━━━━━━━━━━━━\u001b[0m\u001b[37m\u001b[0m \u001b[1m5s\u001b[0m 43ms/step - accuracy: 0.8084 - loss: 0.4461 - val_accuracy: 0.7927 - val_loss: 0.4487 - learning_rate: 0.0010 - epoch_duration: 4.6567\n",
            "Epoch 15/20\n",
            "\u001b[1m66/66\u001b[0m \u001b[32m━━━━━━━━━━━━━━━━━━━━\u001b[0m\u001b[37m\u001b[0m \u001b[1m3s\u001b[0m 45ms/step - accuracy: 0.8372 - loss: 0.4121 - val_accuracy: 0.7851 - val_loss: 0.4513 - learning_rate: 0.0010 - epoch_duration: 2.9826\n",
            "Epoch 16/20\n",
            "\u001b[1m66/66\u001b[0m \u001b[32m━━━━━━━━━━━━━━━━━━━━\u001b[0m\u001b[37m\u001b[0m \u001b[1m6s\u001b[0m 62ms/step - accuracy: 0.8177 - loss: 0.4192 - val_accuracy: 0.7841 - val_loss: 0.4576 - learning_rate: 0.0010 - epoch_duration: 6.2487\n",
            "Epoch 17/20\n",
            "\u001b[1m66/66\u001b[0m \u001b[32m━━━━━━━━━━━━━━━━━━━━\u001b[0m\u001b[37m\u001b[0m \u001b[1m3s\u001b[0m 45ms/step - accuracy: 0.8560 - loss: 0.3835 - val_accuracy: 0.7851 - val_loss: 0.4848 - learning_rate: 0.0010 - epoch_duration: 2.9845\n",
            "Epoch 18/20\n",
            "\u001b[1m66/66\u001b[0m \u001b[32m━━━━━━━━━━━━━━━━━━━━\u001b[0m\u001b[37m\u001b[0m \u001b[1m5s\u001b[0m 43ms/step - accuracy: 0.8425 - loss: 0.3861 - val_accuracy: 0.7851 - val_loss: 0.4696 - learning_rate: 0.0010 - epoch_duration: 5.0123\n",
            "Epoch 19/20\n",
            "\u001b[1m66/66\u001b[0m \u001b[32m━━━━━━━━━━━━━━━━━━━━\u001b[0m\u001b[37m\u001b[0m \u001b[1m5s\u001b[0m 78ms/step - accuracy: 0.8658 - loss: 0.3386 - val_accuracy: 0.7822 - val_loss: 0.4696 - learning_rate: 2.0000e-04 - epoch_duration: 5.1674\n",
            "Epoch 20/20\n",
            "\u001b[1m66/66\u001b[0m \u001b[32m━━━━━━━━━━━━━━━━━━━━\u001b[0m\u001b[37m\u001b[0m \u001b[1m8s\u001b[0m 45ms/step - accuracy: 0.8661 - loss: 0.3552 - val_accuracy: 0.7841 - val_loss: 0.4706 - learning_rate: 2.0000e-04 - epoch_duration: 8.0257\n"
          ]
        }
      ]
    },
    {
      "cell_type": "code",
      "source": [
        "# Save the model and the history\n",
        "model_0_path = os.path.join(save_dir, 'rnn_model_0.keras')\n",
        "history_0_path = os.path.join(save_dir, 'rnn_history_0.pkl')\n",
        "model_0.save(model_0_path)\n",
        "with open(history_0_path, 'wb') as f:\n",
        "    pickle.dump(history_0.history, f)\n",
        "\n",
        "print(f\"History saved to {save_dir}\")"
      ],
      "metadata": {
        "colab": {
          "base_uri": "https://localhost:8080/"
        },
        "id": "wwg4vwO7n370",
        "outputId": "9b7e109b-6f7e-447d-eadb-5dda29298556"
      },
      "execution_count": 164,
      "outputs": [
        {
          "output_type": "stream",
          "name": "stdout",
          "text": [
            "History saved to /content/drive/MyDrive/[1.4] MsDS Class Files/-- DTSA 5511 Deep Learning/saved_models\n"
          ]
        }
      ]
    },
    {
      "cell_type": "markdown",
      "source": [
        "## Evaluate the Model"
      ],
      "metadata": {
        "id": "z34672oWnvWJ"
      }
    },
    {
      "cell_type": "code",
      "source": [
        "# Display the learning curve and loss curve\n",
        "learning_curve(history_0)"
      ],
      "metadata": {
        "colab": {
          "base_uri": "https://localhost:8080/",
          "height": 881
        },
        "id": "UjGzMEbVnuhr",
        "outputId": "e2cd7575-9392-434d-c6f5-9d893db4ba50"
      },
      "execution_count": 139,
      "outputs": [
        {
          "output_type": "display_data",
          "data": {
            "text/plain": [
              "<Figure size 800x1000 with 2 Axes>"
            ],
            "image/png": "[encoded data removed]"
          },
          "metadata": {}
        }
      ]
    },
    {
      "cell_type": "code",
      "source": [
        "loss, accuracy = model_0.evaluate(X_val, y_val)\n",
        "print('Loss:', loss)\n",
        "print('Accuracy:', accuracy)"
      ],
      "metadata": {
        "colab": {
          "base_uri": "https://localhost:8080/"
        },
        "id": "4TsO4eQeBRit",
        "outputId": "ec69d706-478f-445a-f9b2-0248066f4943"
      },
      "execution_count": 141,
      "outputs": [
        {
          "output_type": "stream",
          "name": "stdout",
          "text": [
            "\u001b[1m33/33\u001b[0m \u001b[32m━━━━━━━━━━━━━━━━━━━━\u001b[0m\u001b[37m\u001b[0m \u001b[1m1s\u001b[0m 20ms/step - accuracy: 0.7927 - loss: 0.4344\n",
            "Loss: 0.4408441185951233\n",
            "Accuracy: 0.7984718084335327\n"
          ]
        }
      ]
    },
    {
      "cell_type": "code",
      "source": [
        "pred_val = model_0.predict(X_val)\n",
        "label_pred_val = (pred_val > 0.5).astype(int).reshape(-1)\n",
        "show_metrics(label_pred_val, y_val)"
      ],
      "metadata": {
        "colab": {
          "base_uri": "https://localhost:8080/"
        },
        "id": "f1YBs79aBRqu",
        "outputId": "eeaae27c-fd84-4bbb-f3be-82bebcdcbec7"
      },
      "execution_count": 147,
      "outputs": [
        {
          "output_type": "stream",
          "name": "stdout",
          "text": [
            "\u001b[1m33/33\u001b[0m \u001b[32m━━━━━━━━━━━━━━━━━━━━\u001b[0m\u001b[37m\u001b[0m \u001b[1m1s\u001b[0m 23ms/step\n",
            "F1-score:  0.7835897435897435\n",
            "Precision:  0.7304015296367112\n",
            "Recall:  0.8451327433628318\n",
            "Acuracy:  0.7984718242597899\n",
            "--------------------------------------------------\n",
            "              precision    recall  f1-score   support\n",
            "\n",
            "           0       0.87      0.76      0.81       595\n",
            "           1       0.73      0.85      0.78       452\n",
            "\n",
            "    accuracy                           0.80      1047\n",
            "   macro avg       0.80      0.80      0.80      1047\n",
            "weighted avg       0.81      0.80      0.80      1047\n",
            "\n"
          ]
        }
      ]
    },
    {
      "cell_type": "markdown",
      "metadata": {
        "id": "N0vP9xMCnepL"
      },
      "source": [
        "# 8.&nbsp; Hyperparameter Tuning"
      ]
    },
    {
      "cell_type": "markdown",
      "metadata": {
        "id": "-pYPbH5L1bjZ"
      },
      "source": [
        "## Tuning Functions"
      ]
    },
    {
      "cell_type": "code",
      "execution_count": null,
      "metadata": {
        "id": "paI_-_yPqOs8"
      },
      "outputs": [],
      "source": [
        "{{xxxxx}}"
      ]
    },
    {
      "cell_type": "markdown",
      "metadata": {
        "id": "gtxev-Ul1pX9"
      },
      "source": [
        "## Execute Hyperparameter Tuning"
      ]
    },
    {
      "cell_type": "code",
      "execution_count": null,
      "metadata": {
        "id": "GV2-vJjGqOs9"
      },
      "outputs": [],
      "source": [
        "{{xxxxx}}"
      ]
    },
    {
      "cell_type": "markdown",
      "metadata": {
        "id": "3qsNOvyUoeyj"
      },
      "source": [
        "# 9.&nbsp;Final Prediction and Evaluation"
      ]
    },
    {
      "cell_type": "markdown",
      "metadata": {
        "id": "ka8gqTlWKIl_"
      },
      "source": [
        "## Import the Best and Final Model"
      ]
    },
    {
      "cell_type": "code",
      "execution_count": 165,
      "metadata": {
        "id": "F1y1RQRJqOs9"
      },
      "outputs": [],
      "source": [
        "# Load the best model from the saved models\n",
        "save_dir = '/content/drive/MyDrive/[1.4] MsDS Class Files/-- DTSA 5511 Deep Learning/saved_models'\n",
        "model_best_path = os.path.join(save_dir, 'rnn_model_0.keras')\n",
        "history_best_path = os.path.join(save_dir, 'rnn_history_0.pkl')\n",
        "\n",
        "loaded_model_best = models.load_model(model_best_path)\n",
        "\n",
        "with open(history_best_path, 'rb') as f:\n",
        "    loaded_history_dict_best = pickle.load(f)\n",
        "\n",
        "loaded_history_best = History()\n",
        "loaded_history_best.history = loaded_history_dict_best\n",
        "loaded_history_best.epoch = list(range(len(loaded_history_dict_best['loss'])))"
      ]
    },
    {
      "cell_type": "markdown",
      "metadata": {
        "id": "II9qX_tf2LSL"
      },
      "source": [
        "## Review and Evaluate the Model"
      ]
    },
    {
      "cell_type": "code",
      "execution_count": 166,
      "metadata": {
        "id": "4cjwMtVIqOs-",
        "colab": {
          "base_uri": "https://localhost:8080/",
          "height": 506
        },
        "outputId": "61a8c240-c249-401f-beec-d85557c2b47d"
      },
      "outputs": [
        {
          "output_type": "display_data",
          "data": {
            "text/plain": [
              "\u001b[1mModel: \"sequential_5\"\u001b[0m\n"
            ],
            "text/html": [
              "<pre style=\"white-space:pre;overflow-x:auto;line-height:normal;font-family:Menlo,'DejaVu Sans Mono',consolas,'Courier New',monospace\"><span style=\"font-weight: bold\">Model: \"sequential_5\"</span>\n",
              "</pre>\n"
            ]
          },
          "metadata": {}
        },
        {
          "output_type": "display_data",
          "data": {
            "text/plain": [
              "┏━━━━━━━━━━━━━━━━━━━━━━━━━━━━━━━━━┳━━━━━━━━━━━━━━━━━━━━━━━━┳━━━━━━━━━━━━━━━┓\n",
              "┃\u001b[1m \u001b[0m\u001b[1mLayer (type)                   \u001b[0m\u001b[1m \u001b[0m┃\u001b[1m \u001b[0m\u001b[1mOutput Shape          \u001b[0m\u001b[1m \u001b[0m┃\u001b[1m \u001b[0m\u001b[1m      Param #\u001b[0m\u001b[1m \u001b[0m┃\n",
              "┡━━━━━━━━━━━━━━━━━━━━━━━━━━━━━━━━━╇━━━━━━━━━━━━━━━━━━━━━━━━╇━━━━━━━━━━━━━━━┩\n",
              "│ embedding_3 (\u001b[38;5;33mEmbedding\u001b[0m)         │ (\u001b[38;5;45mNone\u001b[0m, \u001b[38;5;34m19\u001b[0m, \u001b[38;5;34m100\u001b[0m)        │       \u001b[38;5;34m915,000\u001b[0m │\n",
              "├─────────────────────────────────┼────────────────────────┼───────────────┤\n",
              "│ bidirectional_3 (\u001b[38;5;33mBidirectional\u001b[0m) │ (\u001b[38;5;45mNone\u001b[0m, \u001b[38;5;34m19\u001b[0m, \u001b[38;5;34m38\u001b[0m)         │        \u001b[38;5;34m18,240\u001b[0m │\n",
              "├─────────────────────────────────┼────────────────────────┼───────────────┤\n",
              "│ global_max_pooling1d_3          │ (\u001b[38;5;45mNone\u001b[0m, \u001b[38;5;34m38\u001b[0m)             │             \u001b[38;5;34m0\u001b[0m │\n",
              "│ (\u001b[38;5;33mGlobalMaxPooling1D\u001b[0m)            │                        │               │\n",
              "├─────────────────────────────────┼────────────────────────┼───────────────┤\n",
              "│ batch_normalization_3           │ (\u001b[38;5;45mNone\u001b[0m, \u001b[38;5;34m38\u001b[0m)             │           \u001b[38;5;34m152\u001b[0m │\n",
              "│ (\u001b[38;5;33mBatchNormalization\u001b[0m)            │                        │               │\n",
              "├─────────────────────────────────┼────────────────────────┼───────────────┤\n",
              "│ dropout_9 (\u001b[38;5;33mDropout\u001b[0m)             │ (\u001b[38;5;45mNone\u001b[0m, \u001b[38;5;34m38\u001b[0m)             │             \u001b[38;5;34m0\u001b[0m │\n",
              "├─────────────────────────────────┼────────────────────────┼───────────────┤\n",
              "│ dense_9 (\u001b[38;5;33mDense\u001b[0m)                 │ (\u001b[38;5;45mNone\u001b[0m, \u001b[38;5;34m19\u001b[0m)             │           \u001b[38;5;34m741\u001b[0m │\n",
              "├─────────────────────────────────┼────────────────────────┼───────────────┤\n",
              "│ dropout_10 (\u001b[38;5;33mDropout\u001b[0m)            │ (\u001b[38;5;45mNone\u001b[0m, \u001b[38;5;34m19\u001b[0m)             │             \u001b[38;5;34m0\u001b[0m │\n",
              "├─────────────────────────────────┼────────────────────────┼───────────────┤\n",
              "│ dense_10 (\u001b[38;5;33mDense\u001b[0m)                │ (\u001b[38;5;45mNone\u001b[0m, \u001b[38;5;34m19\u001b[0m)             │           \u001b[38;5;34m380\u001b[0m │\n",
              "├─────────────────────────────────┼────────────────────────┼───────────────┤\n",
              "│ dropout_11 (\u001b[38;5;33mDropout\u001b[0m)            │ (\u001b[38;5;45mNone\u001b[0m, \u001b[38;5;34m19\u001b[0m)             │             \u001b[38;5;34m0\u001b[0m │\n",
              "├─────────────────────────────────┼────────────────────────┼───────────────┤\n",
              "│ dense_11 (\u001b[38;5;33mDense\u001b[0m)                │ (\u001b[38;5;45mNone\u001b[0m, \u001b[38;5;34m1\u001b[0m)              │            \u001b[38;5;34m20\u001b[0m │\n",
              "└─────────────────────────────────┴────────────────────────┴───────────────┘\n"
            ],
            "text/html": [
              "<pre style=\"white-space:pre;overflow-x:auto;line-height:normal;font-family:Menlo,'DejaVu Sans Mono',consolas,'Courier New',monospace\">┏━━━━━━━━━━━━━━━━━━━━━━━━━━━━━━━━━┳━━━━━━━━━━━━━━━━━━━━━━━━┳━━━━━━━━━━━━━━━┓\n",
              "┃<span style=\"font-weight: bold\"> Layer (type)                    </span>┃<span style=\"font-weight: bold\"> Output Shape           </span>┃<span style=\"font-weight: bold\">       Param # </span>┃\n",
              "┡━━━━━━━━━━━━━━━━━━━━━━━━━━━━━━━━━╇━━━━━━━━━━━━━━━━━━━━━━━━╇━━━━━━━━━━━━━━━┩\n",
              "│ embedding_3 (<span style=\"color: #0087ff; text-decoration-color: #0087ff\">Embedding</span>)         │ (<span style=\"color: #00d7ff; text-decoration-color: #00d7ff\">None</span>, <span style=\"color: #00af00; text-decoration-color: #00af00\">19</span>, <span style=\"color: #00af00; text-decoration-color: #00af00\">100</span>)        │       <span style=\"color: #00af00; text-decoration-color: #00af00\">915,000</span> │\n",
              "├─────────────────────────────────┼────────────────────────┼───────────────┤\n",
              "│ bidirectional_3 (<span style=\"color: #0087ff; text-decoration-color: #0087ff\">Bidirectional</span>) │ (<span style=\"color: #00d7ff; text-decoration-color: #00d7ff\">None</span>, <span style=\"color: #00af00; text-decoration-color: #00af00\">19</span>, <span style=\"color: #00af00; text-decoration-color: #00af00\">38</span>)         │        <span style=\"color: #00af00; text-decoration-color: #00af00\">18,240</span> │\n",
              "├─────────────────────────────────┼────────────────────────┼───────────────┤\n",
              "│ global_max_pooling1d_3          │ (<span style=\"color: #00d7ff; text-decoration-color: #00d7ff\">None</span>, <span style=\"color: #00af00; text-decoration-color: #00af00\">38</span>)             │             <span style=\"color: #00af00; text-decoration-color: #00af00\">0</span> │\n",
              "│ (<span style=\"color: #0087ff; text-decoration-color: #0087ff\">GlobalMaxPooling1D</span>)            │                        │               │\n",
              "├─────────────────────────────────┼────────────────────────┼───────────────┤\n",
              "│ batch_normalization_3           │ (<span style=\"color: #00d7ff; text-decoration-color: #00d7ff\">None</span>, <span style=\"color: #00af00; text-decoration-color: #00af00\">38</span>)             │           <span style=\"color: #00af00; text-decoration-color: #00af00\">152</span> │\n",
              "│ (<span style=\"color: #0087ff; text-decoration-color: #0087ff\">BatchNormalization</span>)            │                        │               │\n",
              "├─────────────────────────────────┼────────────────────────┼───────────────┤\n",
              "│ dropout_9 (<span style=\"color: #0087ff; text-decoration-color: #0087ff\">Dropout</span>)             │ (<span style=\"color: #00d7ff; text-decoration-color: #00d7ff\">None</span>, <span style=\"color: #00af00; text-decoration-color: #00af00\">38</span>)             │             <span style=\"color: #00af00; text-decoration-color: #00af00\">0</span> │\n",
              "├─────────────────────────────────┼────────────────────────┼───────────────┤\n",
              "│ dense_9 (<span style=\"color: #0087ff; text-decoration-color: #0087ff\">Dense</span>)                 │ (<span style=\"color: #00d7ff; text-decoration-color: #00d7ff\">None</span>, <span style=\"color: #00af00; text-decoration-color: #00af00\">19</span>)             │           <span style=\"color: #00af00; text-decoration-color: #00af00\">741</span> │\n",
              "├─────────────────────────────────┼────────────────────────┼───────────────┤\n",
              "│ dropout_10 (<span style=\"color: #0087ff; text-decoration-color: #0087ff\">Dropout</span>)            │ (<span style=\"color: #00d7ff; text-decoration-color: #00d7ff\">None</span>, <span style=\"color: #00af00; text-decoration-color: #00af00\">19</span>)             │             <span style=\"color: #00af00; text-decoration-color: #00af00\">0</span> │\n",
              "├─────────────────────────────────┼────────────────────────┼───────────────┤\n",
              "│ dense_10 (<span style=\"color: #0087ff; text-decoration-color: #0087ff\">Dense</span>)                │ (<span style=\"color: #00d7ff; text-decoration-color: #00d7ff\">None</span>, <span style=\"color: #00af00; text-decoration-color: #00af00\">19</span>)             │           <span style=\"color: #00af00; text-decoration-color: #00af00\">380</span> │\n",
              "├─────────────────────────────────┼────────────────────────┼───────────────┤\n",
              "│ dropout_11 (<span style=\"color: #0087ff; text-decoration-color: #0087ff\">Dropout</span>)            │ (<span style=\"color: #00d7ff; text-decoration-color: #00d7ff\">None</span>, <span style=\"color: #00af00; text-decoration-color: #00af00\">19</span>)             │             <span style=\"color: #00af00; text-decoration-color: #00af00\">0</span> │\n",
              "├─────────────────────────────────┼────────────────────────┼───────────────┤\n",
              "│ dense_11 (<span style=\"color: #0087ff; text-decoration-color: #0087ff\">Dense</span>)                │ (<span style=\"color: #00d7ff; text-decoration-color: #00d7ff\">None</span>, <span style=\"color: #00af00; text-decoration-color: #00af00\">1</span>)              │            <span style=\"color: #00af00; text-decoration-color: #00af00\">20</span> │\n",
              "└─────────────────────────────────┴────────────────────────┴───────────────┘\n",
              "</pre>\n"
            ]
          },
          "metadata": {}
        },
        {
          "output_type": "display_data",
          "data": {
            "text/plain": [
              "\u001b[1m Total params: \u001b[0m\u001b[38;5;34m1,868,992\u001b[0m (7.13 MB)\n"
            ],
            "text/html": [
              "<pre style=\"white-space:pre;overflow-x:auto;line-height:normal;font-family:Menlo,'DejaVu Sans Mono',consolas,'Courier New',monospace\"><span style=\"font-weight: bold\"> Total params: </span><span style=\"color: #00af00; text-decoration-color: #00af00\">1,868,992</span> (7.13 MB)\n",
              "</pre>\n"
            ]
          },
          "metadata": {}
        },
        {
          "output_type": "display_data",
          "data": {
            "text/plain": [
              "\u001b[1m Trainable params: \u001b[0m\u001b[38;5;34m934,457\u001b[0m (3.56 MB)\n"
            ],
            "text/html": [
              "<pre style=\"white-space:pre;overflow-x:auto;line-height:normal;font-family:Menlo,'DejaVu Sans Mono',consolas,'Courier New',monospace\"><span style=\"font-weight: bold\"> Trainable params: </span><span style=\"color: #00af00; text-decoration-color: #00af00\">934,457</span> (3.56 MB)\n",
              "</pre>\n"
            ]
          },
          "metadata": {}
        },
        {
          "output_type": "display_data",
          "data": {
            "text/plain": [
              "\u001b[1m Non-trainable params: \u001b[0m\u001b[38;5;34m76\u001b[0m (304.00 B)\n"
            ],
            "text/html": [
              "<pre style=\"white-space:pre;overflow-x:auto;line-height:normal;font-family:Menlo,'DejaVu Sans Mono',consolas,'Courier New',monospace\"><span style=\"font-weight: bold\"> Non-trainable params: </span><span style=\"color: #00af00; text-decoration-color: #00af00\">76</span> (304.00 B)\n",
              "</pre>\n"
            ]
          },
          "metadata": {}
        },
        {
          "output_type": "display_data",
          "data": {
            "text/plain": [
              "\u001b[1m Optimizer params: \u001b[0m\u001b[38;5;34m934,459\u001b[0m (3.56 MB)\n"
            ],
            "text/html": [
              "<pre style=\"white-space:pre;overflow-x:auto;line-height:normal;font-family:Menlo,'DejaVu Sans Mono',consolas,'Courier New',monospace\"><span style=\"font-weight: bold\"> Optimizer params: </span><span style=\"color: #00af00; text-decoration-color: #00af00\">934,459</span> (3.56 MB)\n",
              "</pre>\n"
            ]
          },
          "metadata": {}
        }
      ],
      "source": [
        "# Review Model Architecture\n",
        "loaded_model_best.summary()"
      ]
    },
    {
      "cell_type": "code",
      "source": [
        "# Review the Accuracy and Validation Loss Charts\n",
        "learning_curve(loaded_history_best)"
      ],
      "metadata": {
        "colab": {
          "base_uri": "https://localhost:8080/",
          "height": 881
        },
        "id": "rgiCXawhKCmP",
        "outputId": "7f3c3016-9123-4148-ecdc-dbedab94f95f"
      },
      "execution_count": 167,
      "outputs": [
        {
          "output_type": "display_data",
          "data": {
            "text/plain": [
              "<Figure size 800x1000 with 2 Axes>"
            ],
            "image/png": "[encoded data removed]"
          },
          "metadata": {}
        }
      ]
    },
    {
      "cell_type": "code",
      "source": [
        "# Review the epoch results\n",
        "loaded_history_best\n",
        "history_best_df = pd.DataFrame(loaded_history_best.history)\n",
        "history_best_df.index += 1\n",
        "print(\"\\n--- Full Training History with Epoch Times ---\")\n",
        "print(history_best_df)"
      ],
      "metadata": {
        "colab": {
          "base_uri": "https://localhost:8080/"
        },
        "id": "ebPhK7HvKCvn",
        "outputId": "72cd3d59-8756-4c6b-ebd7-86bc55b9c902"
      },
      "execution_count": 168,
      "outputs": [
        {
          "output_type": "stream",
          "name": "stdout",
          "text": [
            "\n",
            "--- Full Training History with Epoch Times ---\n",
            "    accuracy      loss  val_accuracy  val_loss  learning_rate  epoch_duration\n",
            "1   0.536789  0.805829      0.615091  0.680810         0.0010       12.577734\n",
            "2   0.580506  0.705661      0.671442  0.671589         0.0010        4.959616\n",
            "3   0.626135  0.648444      0.732569  0.653765         0.0010        5.177787\n",
            "4   0.652413  0.622533      0.765043  0.615841         0.0010        5.681147\n",
            "5   0.696847  0.591179      0.768863  0.576899         0.0010        3.264083\n",
            "6   0.724558  0.555555      0.776504  0.527757         0.0010        6.899826\n",
            "7   0.743669  0.540156      0.792741  0.499879         0.0010        2.959999\n",
            "8   0.761108  0.509063      0.777459  0.482817         0.0010        5.765664\n",
            "9   0.779025  0.492701      0.785100  0.472998         0.0010        5.286717\n",
            "10  0.784520  0.487943      0.792741  0.463360         0.0010        2.814132\n",
            "11  0.790253  0.474937      0.781280  0.456876         0.0010        2.977183\n",
            "12  0.802437  0.469693      0.772684  0.469833         0.0010        7.168978\n",
            "13  0.809126  0.451530      0.787010  0.448472         0.0010        3.384026\n",
            "14  0.815098  0.437193      0.792741  0.448740         0.0010        4.656687\n",
            "15  0.827520  0.413585      0.785100  0.451299         0.0010        2.982569\n",
            "16  0.833493  0.396664      0.784145  0.457573         0.0010        6.248700\n",
            "17  0.848543  0.381010      0.785100  0.484837         0.0010        2.984461\n",
            "18  0.849737  0.370863      0.785100  0.469627         0.0010        5.012286\n",
            "19  0.860248  0.352898      0.782235  0.469558         0.0002        5.167361\n",
            "20  0.862637  0.350628      0.784145  0.470561         0.0002        8.025697\n"
          ]
        }
      ]
    },
    {
      "cell_type": "code",
      "source": [
        "pred_val = loaded_model_best.predict(X_val)\n",
        "label_pred_val = (pred_val > 0.5).astype(int).reshape(-1)\n",
        "show_metrics(label_pred_val, y_val)"
      ],
      "metadata": {
        "colab": {
          "base_uri": "https://localhost:8080/"
        },
        "id": "Gw8tr8ruKnSk",
        "outputId": "feed2a51-297e-4583-d9de-dcca60903d89"
      },
      "execution_count": 169,
      "outputs": [
        {
          "output_type": "stream",
          "name": "stdout",
          "text": [
            "\u001b[1m33/33\u001b[0m \u001b[32m━━━━━━━━━━━━━━━━━━━━\u001b[0m\u001b[37m\u001b[0m \u001b[1m2s\u001b[0m 30ms/step\n",
            "F1-score:  0.7679500520291364\n",
            "Precision:  0.7055449330783938\n",
            "Recall:  0.8424657534246576\n",
            "Acuracy:  0.7870105062082139\n",
            "--------------------------------------------------\n",
            "              precision    recall  f1-score   support\n",
            "\n",
            "           0       0.87      0.75      0.80       609\n",
            "           1       0.71      0.84      0.77       438\n",
            "\n",
            "    accuracy                           0.79      1047\n",
            "   macro avg       0.79      0.79      0.79      1047\n",
            "weighted avg       0.80      0.79      0.79      1047\n",
            "\n"
          ]
        }
      ]
    },
    {
      "cell_type": "markdown",
      "metadata": {
        "id": "WWv340Xx265l"
      },
      "source": [
        "# 11.&nbsp; Conclusions"
      ]
    },
    {
      "cell_type": "markdown",
      "metadata": {
        "id": "IuHSlWe-O-br"
      },
      "source": [
        "{{xxxxx}}"
      ]
    },
    {
      "cell_type": "markdown",
      "metadata": {
        "id": "UNzNW_nH37_9"
      },
      "source": [
        "## Results Summary"
      ]
    },
    {
      "cell_type": "markdown",
      "metadata": {
        "id": "MQBWBPByqOtB"
      },
      "source": [
        "### Model Result Summary"
      ]
    },
    {
      "cell_type": "markdown",
      "metadata": {
        "id": "1YlcWEw_8Bp-"
      },
      "source": [
        "\n",
        "**Baseline Results**\n",
        "\n",
        "{{xxxxx}}\n",
        "\n",
        "**Hyperparameter Tuning Results**\n",
        "\n",
        "{{xxxxx}}\n",
        "\n",
        "**Best Model Results**\n",
        "\n",
        "{{xxxxx}}\n",
        "\n",
        "**Best Model Performance**\n",
        "\n",
        "{{xxxxx}}"
      ]
    },
    {
      "cell_type": "markdown",
      "metadata": {
        "id": "IEQfc7PI38Tq"
      },
      "source": [
        "## Model Comparison"
      ]
    },
    {
      "cell_type": "markdown",
      "metadata": {
        "id": "Ql8QLBc2LoEy"
      },
      "source": [
        "### Model Comparisons and Findings\n",
        "\n",
        "{{xxxxx}}\n",
        "\n",
        "#### Baseline Results\n",
        "\n",
        "{{xxxxx}}\n",
        "\n",
        "#### Hyperparameter Tuning\n",
        "\n",
        "{{xxxxx}}\n",
        "\n",
        "#### Best Model Results\n",
        "\n",
        "{{xxxxx}}\n",
        "\n",
        "#### Performance Breakdown (Best Model)\n",
        "\n",
        "{{xxxxx}}\n",
        "\n",
        "#### Conclusion\n",
        "\n",
        "{{xxxxx}}"
      ]
    },
    {
      "cell_type": "markdown",
      "metadata": {
        "id": "BlXB6itm4D4r"
      },
      "source": [
        "## Concluding Observations"
      ]
    },
    {
      "cell_type": "markdown",
      "metadata": {
        "id": "wGbGMDoNOr-w"
      },
      "source": [
        "## Patterns and Conclusions Across the Models"
      ]
    },
    {
      "cell_type": "markdown",
      "metadata": {
        "id": "v8ofvfgBOsLZ"
      },
      "source": [
        "**bold text**{{xxxxx}}"
      ]
    },
    {
      "cell_type": "markdown",
      "source": [
        "## Prepare Submission\n"
      ],
      "metadata": {
        "id": "UK1qcAcgC1dd"
      }
    },
    {
      "cell_type": "code",
      "source": [
        "best_model = model_0\n",
        "pred_val = model_0.predict(test_padded_sentences)\n",
        "print(\"number of predictions:\", len(pred_val))\n",
        "# Shape the data for submission\n",
        "label_pred_val = (pred_val > 0.5).astype(int).reshape(-1)\n",
        "ids = test_ids\n",
        "submission_df = pd.DataFrame({'id': ids, 'target': label_pred_val})\n",
        "if gDEBUG:\n",
        "  submission_df.head()\n",
        "submission_df.target.value_counts().plot.bar();"
      ],
      "metadata": {
        "colab": {
          "base_uri": "https://localhost:8080/",
          "height": 488
        },
        "id": "bY5bnNHQC1po",
        "outputId": "a2ecf3f9-78d5-4ff8-9411-eff2e9bc34ea"
      },
      "execution_count": 157,
      "outputs": [
        {
          "output_type": "stream",
          "name": "stdout",
          "text": [
            "\u001b[1m102/102\u001b[0m \u001b[32m━━━━━━━━━━━━━━━━━━━━\u001b[0m\u001b[37m\u001b[0m \u001b[1m2s\u001b[0m 15ms/step\n",
            "number of predictions: 3263\n"
          ]
        },
        {
          "output_type": "display_data",
          "data": {
            "text/plain": [
              "<Figure size 640x480 with 1 Axes>"
            ],
            "image/png": "[encoded data removed]"
          },
          "metadata": {}
        }
      ]
    },
    {
      "cell_type": "code",
      "source": [
        "# Save the submission df to submit\n",
        "submission_df.to_csv('submission_rnn_best_model_final.csv', index=False)"
      ],
      "metadata": {
        "id": "uGfAKGOCEsUv"
      },
      "execution_count": 158,
      "outputs": []
    },
    {
      "cell_type": "markdown",
      "source": [
        "## Submission Results"
      ],
      "metadata": {
        "id": "rxr_grPoF_Au"
      }
    },
    {
      "cell_type": "markdown",
      "source": [
        "Results were submitted to Kaggle competition for the best model and the submission received a public score of XXXXX."
      ],
      "metadata": {
        "id": "s3jkNMZfID_a"
      }
    },
    {
      "cell_type": "markdown",
      "source": [
        "| Model             | Val. Accuracy | Public Score   |\n",
        "|:-----------------:|:-------------:|:--------------:|\n",
        "| Model 3           | 0.914411      | 0.8591         |"
      ],
      "metadata": {
        "id": "9Q8_s9xAIEEi"
      }
    },
    {
      "cell_type": "markdown",
      "metadata": {
        "id": "Rb2X9yUX4FOn"
      },
      "source": [
        "# 12.&nbsp; References"
      ]
    },
    {
      "cell_type": "markdown",
      "metadata": {
        "id": "Pq8tcmLa4FXR"
      },
      "source": [
        "**Kaggle Competition**\n",
        "\n",
        "- [1] Addison Howard, devrishi, Phil Culliton, and Yufeng Guo. Natural Language Processing with Disaster Tweets. https://kaggle.com/competitions/nlp-getting-started, 2019. Kaggle.\n",
        "\n",
        "\n",
        "**Documentation and References**\n",
        "\n",
        "- [2] Kaggle. KerasNLP starter notebook Disaster Tweets. 2023. https://www.kaggle.com/code/alexia/kerasnlp-starter-notebook-disaster-tweets\n",
        "- [3] Kaggle. NLP Getting Started Tutorial. 2019. https://www.kaggle.com/code/philculliton/nlp-getting-started-tutorial\n",
        "- [4] Kaggle. NLP with RNN for Tweet Analysis (79.9% acc). 2025. https://www.kaggle.com/code/jonchernoch/nlp-with-rnn-for-tweet-analysis-79-9-acc\n",
        "- [5] Kaggle. Keras LSTM for Sentiment Disaster Analysis. 2020. https://www.kaggle.com/code/guidosalimbeni/keras-lstm-for-sentiment-disaster-analysis\n",
        "- [6] Kaggle. NLP (Disaster Tweets) with Glove and LSTM. 2020. https://www.kaggle.com/code/mariapushkareva/nlp-disaster-tweets-with-glove-and-lstm/notebook\n",
        "- [7] Kaggle. NLP 📝 GloVe, BERT, TF-IDF, LSTM... 📝 Explained. 2021. https://www.kaggle.com/code/andreshg/nlp-glove-bert-tf-idf-lstm-explained\n"
      ]
    },
    {
      "cell_type": "code",
      "source": [],
      "metadata": {
        "id": "hxxrfqk_v8tI"
      },
      "execution_count": null,
      "outputs": []
    }
  ],
  "metadata": {
    "colab": {
      "collapsed_sections": [
        "r9augt6L_Wnb",
        "6BtBwi2SKW2N"
      ],
      "provenance": []
    },
    "kernelspec": {
      "display_name": "Python 3",
      "name": "python3"
    },
    "language_info": {
      "name": "python"
    }
  },
  "nbformat": 4,
  "nbformat_minor": 0
}