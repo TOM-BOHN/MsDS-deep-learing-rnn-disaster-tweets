{
  "cells": [
    {
      "cell_type": "markdown",
      "metadata": {
        "id": "iwlZkcWkuGMD"
      },
      "source": [
        "# Deep Learning: RNN: Disaster Tweets\n",
        "**Thomas Bohn**   --   **2025-09-20**\n",
        "\n",
        "--  [Main Report](https://github.com/TOM-BOHN/MsDS-deep-learing-rnn-disaster-tweets/blob/main/deep-learing-rnn-disaster-tweets.ipynb)  --  [Github Repo](https://github.com/TOM-BOHN/MsDS-deep-learing-rnn-disaster-tweets)  --"
      ]
    },
    {
      "cell_type": "markdown",
      "metadata": {
        "id": "07lWDJH6vAuV"
      },
      "source": [
        "# 1.&nbsp;Introduction"
      ]
    },
    {
      "cell_type": "markdown",
      "metadata": {
        "id": "sHhIXdBPvCDs"
      },
      "source": [
        "**Problem Statement**\n",
        "\n",
        "Build a machine learning model that predicts which Tweets are about real disasters and which one’s aren’t. You’ll have access to a dataset of 10,000 tweets that were hand classified.\n",
        "\n",
        "A prediction should be made whether a given tweet is about a real disaster or not. If so, predict a 1. If not, predict a 0.\n",
        "\n",
        "**Why is it Important?**\n",
        "\n",
        "Twitter has become an important communication channel in times of emergency.\n",
        "The ubiquitousness of smartphones enables people to announce an emergency they’re observing in real-time. Because of this, more agencies are interested in programatically monitoring Twitter (i.e. disaster relief organizations and news agencies).\n",
        "\n",
        "But, it’s not always clear whether a person’s words are actually announcing a disaster.\n",
        "\n",
        "**Related Kaggle Competion**\n",
        "\n",
        "[Natural Language Processing with Disaster Tweets](https://www.kaggle.com/competitions/nlp-getting-started/overview)\n",
        "\n",
        "**DataSet Description**\n",
        "\n",
        "Each sample in the train and test set has the following information:\n",
        "- The text of a tweet\n",
        "- A keyword from that tweet (although this may be blank!)\n",
        "- The location the tweet was sent from (may also be blank)\n",
        "\n",
        "**Files Include**\n",
        "- train.csv - the training set\n",
        "- test.csv - the test set\n",
        "- sample_submission.csv - a sample submission file in the correct format\n",
        "\n",
        "**Columns Definitions**\n",
        "- id - a unique identifier for each tweet\n",
        "- text - the text of the tweet\n",
        "- location - the location the tweet was sent from (may be blank)\n",
        "- keyword - a particular keyword from the tweet (may be blank)\n",
        "- target - in train.csv only, this denotes whether a tweet is about a real disaster (1) or not (0)\n",
        "\n",
        "**Data Facts**\n",
        "- **Data Size**: 1.43 MB\n",
        "- **Training Data Records**: 7,613\n",
        "- **Training Data Records**: 3,263\n",
        "- **Classes**: 2 (Binary)"
      ]
    },
    {
      "cell_type": "markdown",
      "metadata": {
        "id": "r9augt6L_Wnb"
      },
      "source": [
        "## Python Libraries\n",
        "\n",
        "The following python libraries are used in this notebook."
      ]
    },
    {
      "cell_type": "code",
      "execution_count": 1,
      "metadata": {
        "colab": {
          "base_uri": "https://localhost:8080/",
          "height": 0
        },
        "id": "pjoVn_82_Rya",
        "outputId": "ece1f139-21d3-4759-b351-79c38188ffb0"
      },
      "outputs": [
        {
          "data": {
            "text/html": [
              "        <script type=\"text/javascript\">\n",
              "        window.PlotlyConfig = {MathJaxConfig: 'local'};\n",
              "        if (window.MathJax && window.MathJax.Hub && window.MathJax.Hub.Config) {window.MathJax.Hub.Config({SVG: {font: \"STIX-Web\"}});}\n",
              "        if (typeof require !== 'undefined') {\n",
              "        require.undef(\"plotly\");\n",
              "        requirejs.config({\n",
              "            paths: {\n",
              "                'plotly': ['https://cdn.plot.ly/plotly-2.35.2.min']\n",
              "            }\n",
              "        });\n",
              "        require(['plotly'], function(Plotly) {\n",
              "            window._Plotly = Plotly;\n",
              "        });\n",
              "        }\n",
              "        </script>\n",
              "        "
            ]
          },
          "metadata": {},
          "output_type": "display_data"
        },
        {
          "name": "stderr",
          "output_type": "stream",
          "text": [
            "[nltk_data] Downloading package stopwords to /root/nltk_data...\n",
            "[nltk_data]   Package stopwords is already up-to-date!\n",
            "[nltk_data] Downloading package punkt to /root/nltk_data...\n",
            "[nltk_data]   Package punkt is already up-to-date!\n",
            "[nltk_data] Downloading package punkt_tab to /root/nltk_data...\n",
            "[nltk_data]   Package punkt_tab is already up-to-date!\n",
            "[nltk_data] Downloading package wordnet to /root/nltk_data...\n",
            "[nltk_data]   Package wordnet is already up-to-date!\n",
            "[nltk_data] Downloading package omw-1.4 to /root/nltk_data...\n",
            "[nltk_data]   Package omw-1.4 is already up-to-date!\n",
            "[nltk_data] Downloading package averaged_perceptron_tagger to\n",
            "[nltk_data]     /root/nltk_data...\n",
            "[nltk_data]   Package averaged_perceptron_tagger is already up-to-\n",
            "[nltk_data]       date!\n",
            "[nltk_data] Downloading package averaged_perceptron_tagger_eng to\n",
            "[nltk_data]     /root/nltk_data...\n",
            "[nltk_data]   Package averaged_perceptron_tagger_eng is already up-to-\n",
            "[nltk_data]       date!\n"
          ]
        },
        {
          "name": "stdout",
          "output_type": "stream",
          "text": [
            "Requirement already satisfied: num2words in /usr/local/lib/python3.12/dist-packages (0.5.14)\n",
            "Requirement already satisfied: docopt>=0.6.2 in /usr/local/lib/python3.12/dist-packages (from num2words) (0.6.2)\n",
            "Requirement already satisfied: pyspellchecker in /usr/local/lib/python3.12/dist-packages (0.8.3)\n",
            "Drive already mounted at /content/drive; to attempt to forcibly remount, call drive.mount(\"/content/drive\", force_remount=True).\n",
            "#### ALL DONE! ####\n"
          ]
        }
      ],
      "source": [
        "# File system manangement\n",
        "import time, datetime, psutil, os\n",
        "import shutil\n",
        "import zipfile\n",
        "from google.colab import userdata\n",
        "from google.colab import files\n",
        "\n",
        "# Data manipulation\n",
        "import numpy as np\n",
        "import pandas as pd\n",
        "import math\n",
        "\n",
        "# Install text storage and manipulation\n",
        "import re\n",
        "import json\n",
        "import pickle\n",
        "import textwrap\n",
        "\n",
        "##################################\n",
        "\n",
        "# Plotting and visualization\n",
        "import matplotlib\n",
        "import matplotlib.pyplot as plt\n",
        "import matplotlib.patches as mpatches\n",
        "import matplotlib.image as mpimg\n",
        "import seaborn as sns\n",
        "sns.set_theme()\n",
        "import plotly.express as px\n",
        "import plotly.graph_objects as go\n",
        "from plotly.subplots import make_subplots\n",
        "from plotly.offline import init_notebook_mode, iplot\n",
        "init_notebook_mode(connected=True)\n",
        "\n",
        "###################################\n",
        "\n",
        "# NLP\n",
        "import string, re, nltk\n",
        "nltk.download('stopwords')\n",
        "nltk.download('punkt')\n",
        "nltk.download('punkt_tab')\n",
        "nltk.download('wordnet')\n",
        "nltk.download('omw-1.4')\n",
        "nltk.download('averaged_perceptron_tagger')\n",
        "nltk.download('averaged_perceptron_tagger_eng')\n",
        "from string import punctuation\n",
        "from nltk.tokenize import word_tokenize, RegexpTokenizer\n",
        "from nltk.corpus import stopwords\n",
        "!pip install num2words\n",
        "from num2words import num2words\n",
        "!pip install pyspellchecker\n",
        "from spellchecker import SpellChecker\n",
        "from nltk.stem.porter import PorterStemmer\n",
        "import spacy\n",
        "from nltk.stem import WordNetLemmatizer\n",
        "from sklearn.feature_extraction.text import CountVectorizer, TfidfVectorizer\n",
        "\n",
        "###################################\n",
        "\n",
        "# Train-test split and cross validation\n",
        "from sklearn.model_selection import train_test_split, ParameterGrid\n",
        "\n",
        "# Model Evaluation\n",
        "from sklearn import metrics\n",
        "from sklearn.metrics import (\n",
        "    precision_score,\n",
        "    recall_score,\n",
        "    f1_score,\n",
        "    classification_report,\n",
        "    accuracy_score\n",
        ")\n",
        "\n",
        "#################################\n",
        "\n",
        "# Import Tensor Flow and Keras\n",
        "import tensorflow as tf\n",
        "import keras\n",
        "from keras import layers, models\n",
        "from keras.models import Sequential\n",
        "from keras.initializers import Constant\n",
        "from tensorflow.keras.layers import (\n",
        "    LSTM,\n",
        "    Embedding,\n",
        "    BatchNormalization,\n",
        "    Dense,\n",
        "    TimeDistributed,\n",
        "    Dropout,\n",
        "    Bidirectional,\n",
        "    Flatten,\n",
        "    GlobalMaxPool1D\n",
        ")\n",
        "from tensorflow.keras.callbacks import (\n",
        "    EarlyStopping,\n",
        "    ReduceLROnPlateau,\n",
        "    History,\n",
        "    ModelCheckpoint\n",
        ")\n",
        "from tensorflow.keras.callbacks import Callback\n",
        "from tensorflow.keras.preprocessing.text import Tokenizer\n",
        "from tensorflow.keras.preprocessing.sequence import pad_sequences\n",
        "from keras.optimizers import Adam\n",
        "from keras.regularizers import l2\n",
        "from tensorflow.keras.regularizers import l1_l2\n",
        "\n",
        "\n",
        "#################################\n",
        "\n",
        "# Mount the Google Drive\n",
        "from google.colab import drive\n",
        "drive.mount('/content/drive')\n",
        "\n",
        "print('#### ALL DONE! ####')"
      ]
    },
    {
      "cell_type": "markdown",
      "metadata": {
        "id": "XuRn7XYNT43E"
      },
      "source": [
        "## Import Git Repo"
      ]
    },
    {
      "cell_type": "code",
      "execution_count": 2,
      "metadata": {
        "colab": {
          "base_uri": "https://localhost:8080/"
        },
        "id": "qtUsR0DlT5W0",
        "outputId": "85f6495a-152c-422e-94db-fdb2ca4271c2"
      },
      "outputs": [
        {
          "name": "stdout",
          "output_type": "stream",
          "text": [
            "Removed existing directory: /content/MsDS-deep-learing-rnn-disaster-tweets\n",
            "Cloning into 'MsDS-deep-learing-rnn-disaster-tweets'...\n",
            "remote: Enumerating objects: 104, done.\u001b[K\n",
            "remote: Counting objects: 100% (104/104), done.\u001b[K\n",
            "remote: Compressing objects: 100% (81/81), done.\u001b[K\n",
            "remote: Total 104 (delta 56), reused 51 (delta 20), pack-reused 0 (from 0)\u001b[K\n",
            "Receiving objects: 100% (104/104), 624.13 KiB | 9.46 MiB/s, done.\n",
            "Resolving deltas: 100% (56/56), done.\n"
          ]
        }
      ],
      "source": [
        "# Remove existing directory if it exists\n",
        "repo_dir = '/content/MsDS-deep-learing-rnn-disaster-tweets'\n",
        "if os.path.exists(repo_dir):\n",
        "    shutil.rmtree(repo_dir)\n",
        "    print(f\"Removed existing directory: {repo_dir}\")\n",
        "\n",
        "# Clone your repository\n",
        "!git clone https://github.com/TOM-BOHN/MsDS-deep-learing-rnn-disaster-tweets.git\n",
        "\n",
        "# Add to Python path\n",
        "import sys\n",
        "sys.path.append(repo_dir)"
      ]
    },
    {
      "cell_type": "markdown",
      "metadata": {
        "id": "Y39B3sJjvTD1"
      },
      "source": [
        "## Global Variables\n",
        "\n",
        "The following are global variables referenced in this notebook."
      ]
    },
    {
      "cell_type": "code",
      "execution_count": 3,
      "metadata": {
        "id": "vfjyMW6K_SS-"
      },
      "outputs": [],
      "source": [
        "# Recording the starting time, complemented with a stopping time check in the end to compute process runtime\n",
        "start = time.time()\n",
        "\n",
        "# Class representing the OS process and having memory_info() method to compute process memory usage\n",
        "process = psutil.Process(os.getpid())"
      ]
    },
    {
      "cell_type": "code",
      "execution_count": 4,
      "metadata": {
        "colab": {
          "base_uri": "https://localhost:8080/"
        },
        "id": "uLiPgQzL-Oiu",
        "outputId": "eb4e8778-30bf-4297-e63b-1cf63964c226"
      },
      "outputs": [
        {
          "name": "stdout",
          "output_type": "stream",
          "text": [
            "Debug is set to: True\n",
            "Level of Detail for functions is set to: 2\n"
          ]
        }
      ],
      "source": [
        "# Global Debug flag used to turn on and off more chatty blocks of code\n",
        "gDEBUG = True\n",
        "if gDEBUG: print('Debug is set to:', gDEBUG)\n",
        "# Global Level of Detail of table stats and details\n",
        "gLOD = 2\n",
        "print('Level of Detail for functions is set to:', gLOD)"
      ]
    },
    {
      "cell_type": "markdown",
      "metadata": {
        "id": "YnEP1IbB-1dF"
      },
      "source": [
        "# 2.&nbsp;Data Source\n",
        "\n",
        "In this section, the code loads the dataset from Google Drive. A copy of the code from Kaggle was cached on google drive for development in a colab environment."
      ]
    },
    {
      "cell_type": "markdown",
      "metadata": {
        "id": "AWnwMxh411f2"
      },
      "source": [
        "## Import GloVe"
      ]
    },
    {
      "cell_type": "code",
      "execution_count": 5,
      "metadata": {
        "colab": {
          "base_uri": "https://localhost:8080/"
        },
        "id": "69T4EQHn12Bo",
        "outputId": "64759c16-5c1b-4cad-f834-24b61bae7db5"
      },
      "outputs": [
        {
          "name": "stdout",
          "output_type": "stream",
          "text": [
            "['.config', 'glove.6B.300d.txt', 'train.csv', 'glove.6B.200d.txt', 'drive', 'nlp-getting-started.zip', 'sample_submission.csv', 'glove.6B.zip', 'glove.6B.50d.txt', 'test.csv', 'glove.6B.100d.txt', 'MsDS-deep-learing-rnn-disaster-tweets', 'sample_data']\n"
          ]
        }
      ],
      "source": [
        "# Define the source of the zipped data files\n",
        "target_file = 'glove.6B.zip'\n",
        "source_path_root =  '/content/drive/MyDrive/[1.4] MsDS Class Files/-- DTSA 5511 Deep Learning/data'\n",
        "destination_path_root = '/content'\n",
        "\n",
        "# Copy the files to the runtime\n",
        "shutil.copy(source_path_root+'/'+target_file, destination_path_root+'/')\n",
        "\n",
        "# Display the files in the destination directory\n",
        "print(os.listdir(destination_path_root+'/'))"
      ]
    },
    {
      "cell_type": "code",
      "execution_count": 6,
      "metadata": {
        "id": "oSQsvicI19Hc"
      },
      "outputs": [],
      "source": [
        "# Unzip the files (this is slow)\n",
        "zip_file_path = destination_path_root+'/'+target_file\n",
        "\n",
        "with zipfile.ZipFile(zip_file_path, 'r') as zip_ref:\n",
        "        # Extract all the contents into the specified folder\n",
        "        zip_ref.extractall(destination_path_root)"
      ]
    },
    {
      "cell_type": "code",
      "execution_count": 7,
      "metadata": {
        "colab": {
          "base_uri": "https://localhost:8080/"
        },
        "id": "jzqYQhkY1_lr",
        "outputId": "a9295038-5abc-44a0-9471-7d883177091a"
      },
      "outputs": [
        {
          "name": "stdout",
          "output_type": "stream",
          "text": [
            "GloVe File Path: /content/glove.6B.100d.txt\n"
          ]
        }
      ],
      "source": [
        "# Define the file paths in the runtime environment\n",
        "file_path_root =  '/content'\n",
        "\n",
        "file_path_glove   = file_path_root + '/glove.6B.100d.txt'\n",
        "\n",
        "print(\"GloVe File Path:\", file_path_glove)"
      ]
    },
    {
      "cell_type": "markdown",
      "metadata": {
        "id": "E54ZVhqGH0o1"
      },
      "source": [
        "## Import the Data"
      ]
    },
    {
      "cell_type": "code",
      "execution_count": 8,
      "metadata": {
        "colab": {
          "base_uri": "https://localhost:8080/"
        },
        "id": "s47OY0wa-9VR",
        "outputId": "c33d1745-ab8a-4b8f-89e1-1ff75069c09c"
      },
      "outputs": [
        {
          "name": "stdout",
          "output_type": "stream",
          "text": [
            "['.config', 'glove.6B.300d.txt', 'train.csv', 'glove.6B.200d.txt', 'drive', 'nlp-getting-started.zip', 'sample_submission.csv', 'glove.6B.zip', 'glove.6B.50d.txt', 'test.csv', 'glove.6B.100d.txt', 'MsDS-deep-learing-rnn-disaster-tweets', 'sample_data']\n"
          ]
        }
      ],
      "source": [
        "# Define the source of the zipped data files\n",
        "target_file = 'nlp-getting-started.zip'\n",
        "source_path_root =  '/content/drive/MyDrive/[1.4] MsDS Class Files/-- DTSA 5511 Deep Learning/data'\n",
        "destination_path_root = '/content'\n",
        "\n",
        "# Copy the files to the runtime\n",
        "shutil.copy(source_path_root+'/'+target_file, destination_path_root+'/')\n",
        "\n",
        "# Display the files in the destination directory\n",
        "print(os.listdir(destination_path_root+'/'))"
      ]
    },
    {
      "cell_type": "code",
      "execution_count": 9,
      "metadata": {
        "id": "Yr1LwEFwAUTh"
      },
      "outputs": [],
      "source": [
        "# Unzip the files (this is slow)\n",
        "zip_file_path = destination_path_root+'/'+target_file\n",
        "\n",
        "with zipfile.ZipFile(zip_file_path, 'r') as zip_ref:\n",
        "        # Extract all the contents into the specified folder\n",
        "        zip_ref.extractall(destination_path_root)"
      ]
    },
    {
      "cell_type": "code",
      "execution_count": 10,
      "metadata": {
        "id": "241tghwgiL30"
      },
      "outputs": [],
      "source": [
        "# Define the file paths in the runtime environment\n",
        "file_path_root =  '/content'\n",
        "\n",
        "file_path_train   = file_path_root + '/train.csv'\n",
        "file_path_test    = file_path_root + '/test.csv'\n",
        "file_path_sample  = file_path_root + '/sample_submission.csv'\n",
        "\n",
        "# Load train labels from CSV file\n",
        "train_labels = pd.read_csv(file_path_train)\n",
        "\n",
        "# Load test labels from CSV file\n",
        "test_labels = pd.read_csv(file_path_test)\n",
        "\n",
        "# Load test labels from CSV file\n",
        "sample_output = pd.read_csv(file_path_sample)"
      ]
    },
    {
      "cell_type": "markdown",
      "metadata": {
        "id": "fQ7pd6Nkp2t9"
      },
      "source": [
        "## Create Label Mappings\n",
        "\n",
        "You are predicting whether a given tweet is about a real disaster or not. If so, predict a 1. If not, predict a 0."
      ]
    },
    {
      "cell_type": "code",
      "execution_count": 11,
      "metadata": {
        "colab": {
          "base_uri": "https://localhost:8080/"
        },
        "id": "SHP_SfnZp24U",
        "outputId": "f64f189f-9b35-4048-926c-3ce87ce066da"
      },
      "outputs": [
        {
          "name": "stdout",
          "output_type": "stream",
          "text": [
            "label_dict: {'not': 0, 'disaster': 1}\n",
            "inverted_label_dict: {0: 'not', 1: 'disaster'}\n"
          ]
        }
      ],
      "source": [
        " # Encoding of labels\n",
        "label_dict = {'not': 0, 'disaster': 1}\n",
        "# Create the inverse dictionary\n",
        "inverted_label_dict = {0: 'not', 1: 'disaster'}\n",
        "print('label_dict:', label_dict)\n",
        "print('inverted_label_dict:', inverted_label_dict)"
      ]
    },
    {
      "cell_type": "markdown",
      "metadata": {
        "id": "yrotZlJ8t5cI"
      },
      "source": [
        "## Add Basic Columns"
      ]
    },
    {
      "cell_type": "code",
      "execution_count": 12,
      "metadata": {
        "id": "x5o64_iDt5Br"
      },
      "outputs": [],
      "source": [
        "# Add Additional Columns to training data\n",
        "train_labels['label']=train_labels['target']\n",
        "train_labels['length']=train_labels['text'].str.len()\n",
        "train_labels['word_count']=train_labels['text'].str.split().str.len()\n",
        "\n",
        "# Add Additional Columns to testing data\n",
        "test_labels['length']=test_labels['text'].str.len()\n",
        "test_labels['word_count']=test_labels['text'].str.split().str.len()"
      ]
    },
    {
      "cell_type": "markdown",
      "metadata": {
        "id": "NmlLf7MMntNC"
      },
      "source": [
        "## Preview Data"
      ]
    },
    {
      "cell_type": "code",
      "execution_count": 13,
      "metadata": {
        "colab": {
          "base_uri": "https://localhost:8080/",
          "height": 674
        },
        "id": "qIUo4HNKijep",
        "outputId": "1c0670ac-cfc7-4f06-a5e9-9d33ad18501e"
      },
      "outputs": [
        {
          "name": "stdout",
          "output_type": "stream",
          "text": [
            "Sample of Training Labels\n"
          ]
        },
        {
          "data": {
            "application/vnd.google.colaboratory.intrinsic+json": {
              "repr_error": "Out of range float values are not JSON compliant: nan",
              "type": "dataframe"
            },
            "text/html": [
              "\n",
              "  <div id=\"df-3c9e7089-77c1-4210-82c5-50676f7afc2e\" class=\"colab-df-container\">\n",
              "    <div>\n",
              "<style scoped>\n",
              "    .dataframe tbody tr th:only-of-type {\n",
              "        vertical-align: middle;\n",
              "    }\n",
              "\n",
              "    .dataframe tbody tr th {\n",
              "        vertical-align: top;\n",
              "    }\n",
              "\n",
              "    .dataframe thead th {\n",
              "        text-align: right;\n",
              "    }\n",
              "</style>\n",
              "<table border=\"1\" class=\"dataframe\">\n",
              "  <thead>\n",
              "    <tr style=\"text-align: right;\">\n",
              "      <th></th>\n",
              "      <th>id</th>\n",
              "      <th>keyword</th>\n",
              "      <th>location</th>\n",
              "      <th>text</th>\n",
              "      <th>target</th>\n",
              "      <th>label</th>\n",
              "      <th>length</th>\n",
              "      <th>word_count</th>\n",
              "    </tr>\n",
              "  </thead>\n",
              "  <tbody>\n",
              "    <tr>\n",
              "      <th>0</th>\n",
              "      <td>1</td>\n",
              "      <td>NaN</td>\n",
              "      <td>NaN</td>\n",
              "      <td>Our Deeds are the Reason of this #earthquake M...</td>\n",
              "      <td>1</td>\n",
              "      <td>1</td>\n",
              "      <td>69</td>\n",
              "      <td>13</td>\n",
              "    </tr>\n",
              "    <tr>\n",
              "      <th>1</th>\n",
              "      <td>4</td>\n",
              "      <td>NaN</td>\n",
              "      <td>NaN</td>\n",
              "      <td>Forest fire near La Ronge Sask. Canada</td>\n",
              "      <td>1</td>\n",
              "      <td>1</td>\n",
              "      <td>38</td>\n",
              "      <td>7</td>\n",
              "    </tr>\n",
              "    <tr>\n",
              "      <th>2</th>\n",
              "      <td>5</td>\n",
              "      <td>NaN</td>\n",
              "      <td>NaN</td>\n",
              "      <td>All residents asked to 'shelter in place' are ...</td>\n",
              "      <td>1</td>\n",
              "      <td>1</td>\n",
              "      <td>133</td>\n",
              "      <td>22</td>\n",
              "    </tr>\n",
              "    <tr>\n",
              "      <th>3</th>\n",
              "      <td>6</td>\n",
              "      <td>NaN</td>\n",
              "      <td>NaN</td>\n",
              "      <td>13,000 people receive #wildfires evacuation or...</td>\n",
              "      <td>1</td>\n",
              "      <td>1</td>\n",
              "      <td>65</td>\n",
              "      <td>8</td>\n",
              "    </tr>\n",
              "    <tr>\n",
              "      <th>4</th>\n",
              "      <td>7</td>\n",
              "      <td>NaN</td>\n",
              "      <td>NaN</td>\n",
              "      <td>Just got sent this photo from Ruby #Alaska as ...</td>\n",
              "      <td>1</td>\n",
              "      <td>1</td>\n",
              "      <td>88</td>\n",
              "      <td>16</td>\n",
              "    </tr>\n",
              "  </tbody>\n",
              "</table>\n",
              "</div>\n",
              "    <div class=\"colab-df-buttons\">\n",
              "\n",
              "  <div class=\"colab-df-container\">\n",
              "    <button class=\"colab-df-convert\" onclick=\"convertToInteractive('df-3c9e7089-77c1-4210-82c5-50676f7afc2e')\"\n",
              "            title=\"Convert this dataframe to an interactive table.\"\n",
              "            style=\"display:none;\">\n",
              "\n",
              "  <svg xmlns=\"http://www.w3.org/2000/svg\" height=\"24px\" viewBox=\"0 -960 960 960\">\n",
              "    <path d=\"M120-120v-720h720v720H120Zm60-500h600v-160H180v160Zm220 220h160v-160H400v160Zm0 220h160v-160H400v160ZM180-400h160v-160H180v160Zm440 0h160v-160H620v160ZM180-180h160v-160H180v160Zm440 0h160v-160H620v160Z\"/>\n",
              "  </svg>\n",
              "    </button>\n",
              "\n",
              "  <style>\n",
              "    .colab-df-container {\n",
              "      display:flex;\n",
              "      gap: 12px;\n",
              "    }\n",
              "\n",
              "    .colab-df-convert {\n",
              "      background-color: #E8F0FE;\n",
              "      border: none;\n",
              "      border-radius: 50%;\n",
              "      cursor: pointer;\n",
              "      display: none;\n",
              "      fill: #1967D2;\n",
              "      height: 32px;\n",
              "      padding: 0 0 0 0;\n",
              "      width: 32px;\n",
              "    }\n",
              "\n",
              "    .colab-df-convert:hover {\n",
              "      background-color: #E2EBFA;\n",
              "      box-shadow: 0px 1px 2px rgba(60, 64, 67, 0.3), 0px 1px 3px 1px rgba(60, 64, 67, 0.15);\n",
              "      fill: #174EA6;\n",
              "    }\n",
              "\n",
              "    .colab-df-buttons div {\n",
              "      margin-bottom: 4px;\n",
              "    }\n",
              "\n",
              "    [theme=dark] .colab-df-convert {\n",
              "      background-color: #3B4455;\n",
              "      fill: #D2E3FC;\n",
              "    }\n",
              "\n",
              "    [theme=dark] .colab-df-convert:hover {\n",
              "      background-color: #434B5C;\n",
              "      box-shadow: 0px 1px 3px 1px rgba(0, 0, 0, 0.15);\n",
              "      filter: drop-shadow(0px 1px 2px rgba(0, 0, 0, 0.3));\n",
              "      fill: #FFFFFF;\n",
              "    }\n",
              "  </style>\n",
              "\n",
              "    <script>\n",
              "      const buttonEl =\n",
              "        document.querySelector('#df-3c9e7089-77c1-4210-82c5-50676f7afc2e button.colab-df-convert');\n",
              "      buttonEl.style.display =\n",
              "        google.colab.kernel.accessAllowed ? 'block' : 'none';\n",
              "\n",
              "      async function convertToInteractive(key) {\n",
              "        const element = document.querySelector('#df-3c9e7089-77c1-4210-82c5-50676f7afc2e');\n",
              "        const dataTable =\n",
              "          await google.colab.kernel.invokeFunction('convertToInteractive',\n",
              "                                                    [key], {});\n",
              "        if (!dataTable) return;\n",
              "\n",
              "        const docLinkHtml = 'Like what you see? Visit the ' +\n",
              "          '<a target=\"_blank\" href=https://colab.research.google.com/notebooks/data_table.ipynb>data table notebook</a>'\n",
              "          + ' to learn more about interactive tables.';\n",
              "        element.innerHTML = '';\n",
              "        dataTable['output_type'] = 'display_data';\n",
              "        await google.colab.output.renderOutput(dataTable, element);\n",
              "        const docLink = document.createElement('div');\n",
              "        docLink.innerHTML = docLinkHtml;\n",
              "        element.appendChild(docLink);\n",
              "      }\n",
              "    </script>\n",
              "  </div>\n",
              "\n",
              "\n",
              "    <div id=\"df-5964e871-f093-43a5-a48d-b677860a02be\">\n",
              "      <button class=\"colab-df-quickchart\" onclick=\"quickchart('df-5964e871-f093-43a5-a48d-b677860a02be')\"\n",
              "                title=\"Suggest charts\"\n",
              "                style=\"display:none;\">\n",
              "\n",
              "<svg xmlns=\"http://www.w3.org/2000/svg\" height=\"24px\"viewBox=\"0 0 24 24\"\n",
              "     width=\"24px\">\n",
              "    <g>\n",
              "        <path d=\"M19 3H5c-1.1 0-2 .9-2 2v14c0 1.1.9 2 2 2h14c1.1 0 2-.9 2-2V5c0-1.1-.9-2-2-2zM9 17H7v-7h2v7zm4 0h-2V7h2v10zm4 0h-2v-4h2v4z\"/>\n",
              "    </g>\n",
              "</svg>\n",
              "      </button>\n",
              "\n",
              "<style>\n",
              "  .colab-df-quickchart {\n",
              "      --bg-color: #E8F0FE;\n",
              "      --fill-color: #1967D2;\n",
              "      --hover-bg-color: #E2EBFA;\n",
              "      --hover-fill-color: #174EA6;\n",
              "      --disabled-fill-color: #AAA;\n",
              "      --disabled-bg-color: #DDD;\n",
              "  }\n",
              "\n",
              "  [theme=dark] .colab-df-quickchart {\n",
              "      --bg-color: #3B4455;\n",
              "      --fill-color: #D2E3FC;\n",
              "      --hover-bg-color: #434B5C;\n",
              "      --hover-fill-color: #FFFFFF;\n",
              "      --disabled-bg-color: #3B4455;\n",
              "      --disabled-fill-color: #666;\n",
              "  }\n",
              "\n",
              "  .colab-df-quickchart {\n",
              "    background-color: var(--bg-color);\n",
              "    border: none;\n",
              "    border-radius: 50%;\n",
              "    cursor: pointer;\n",
              "    display: none;\n",
              "    fill: var(--fill-color);\n",
              "    height: 32px;\n",
              "    padding: 0;\n",
              "    width: 32px;\n",
              "  }\n",
              "\n",
              "  .colab-df-quickchart:hover {\n",
              "    background-color: var(--hover-bg-color);\n",
              "    box-shadow: 0 1px 2px rgba(60, 64, 67, 0.3), 0 1px 3px 1px rgba(60, 64, 67, 0.15);\n",
              "    fill: var(--button-hover-fill-color);\n",
              "  }\n",
              "\n",
              "  .colab-df-quickchart-complete:disabled,\n",
              "  .colab-df-quickchart-complete:disabled:hover {\n",
              "    background-color: var(--disabled-bg-color);\n",
              "    fill: var(--disabled-fill-color);\n",
              "    box-shadow: none;\n",
              "  }\n",
              "\n",
              "  .colab-df-spinner {\n",
              "    border: 2px solid var(--fill-color);\n",
              "    border-color: transparent;\n",
              "    border-bottom-color: var(--fill-color);\n",
              "    animation:\n",
              "      spin 1s steps(1) infinite;\n",
              "  }\n",
              "\n",
              "  @keyframes spin {\n",
              "    0% {\n",
              "      border-color: transparent;\n",
              "      border-bottom-color: var(--fill-color);\n",
              "      border-left-color: var(--fill-color);\n",
              "    }\n",
              "    20% {\n",
              "      border-color: transparent;\n",
              "      border-left-color: var(--fill-color);\n",
              "      border-top-color: var(--fill-color);\n",
              "    }\n",
              "    30% {\n",
              "      border-color: transparent;\n",
              "      border-left-color: var(--fill-color);\n",
              "      border-top-color: var(--fill-color);\n",
              "      border-right-color: var(--fill-color);\n",
              "    }\n",
              "    40% {\n",
              "      border-color: transparent;\n",
              "      border-right-color: var(--fill-color);\n",
              "      border-top-color: var(--fill-color);\n",
              "    }\n",
              "    60% {\n",
              "      border-color: transparent;\n",
              "      border-right-color: var(--fill-color);\n",
              "    }\n",
              "    80% {\n",
              "      border-color: transparent;\n",
              "      border-right-color: var(--fill-color);\n",
              "      border-bottom-color: var(--fill-color);\n",
              "    }\n",
              "    90% {\n",
              "      border-color: transparent;\n",
              "      border-bottom-color: var(--fill-color);\n",
              "    }\n",
              "  }\n",
              "</style>\n",
              "\n",
              "      <script>\n",
              "        async function quickchart(key) {\n",
              "          const quickchartButtonEl =\n",
              "            document.querySelector('#' + key + ' button');\n",
              "          quickchartButtonEl.disabled = true;  // To prevent multiple clicks.\n",
              "          quickchartButtonEl.classList.add('colab-df-spinner');\n",
              "          try {\n",
              "            const charts = await google.colab.kernel.invokeFunction(\n",
              "                'suggestCharts', [key], {});\n",
              "          } catch (error) {\n",
              "            console.error('Error during call to suggestCharts:', error);\n",
              "          }\n",
              "          quickchartButtonEl.classList.remove('colab-df-spinner');\n",
              "          quickchartButtonEl.classList.add('colab-df-quickchart-complete');\n",
              "        }\n",
              "        (() => {\n",
              "          let quickchartButtonEl =\n",
              "            document.querySelector('#df-5964e871-f093-43a5-a48d-b677860a02be button');\n",
              "          quickchartButtonEl.style.display =\n",
              "            google.colab.kernel.accessAllowed ? 'block' : 'none';\n",
              "        })();\n",
              "      </script>\n",
              "    </div>\n",
              "\n",
              "    </div>\n",
              "  </div>\n"
            ],
            "text/plain": [
              "   id keyword location                                               text  \\\n",
              "0   1     NaN      NaN  Our Deeds are the Reason of this #earthquake M...   \n",
              "1   4     NaN      NaN             Forest fire near La Ronge Sask. Canada   \n",
              "2   5     NaN      NaN  All residents asked to 'shelter in place' are ...   \n",
              "3   6     NaN      NaN  13,000 people receive #wildfires evacuation or...   \n",
              "4   7     NaN      NaN  Just got sent this photo from Ruby #Alaska as ...   \n",
              "\n",
              "   target  label  length  word_count  \n",
              "0       1      1      69          13  \n",
              "1       1      1      38           7  \n",
              "2       1      1     133          22  \n",
              "3       1      1      65           8  \n",
              "4       1      1      88          16  "
            ]
          },
          "metadata": {},
          "output_type": "display_data"
        },
        {
          "name": "stdout",
          "output_type": "stream",
          "text": [
            "\n",
            "Sample of Testing Data\n"
          ]
        },
        {
          "data": {
            "application/vnd.google.colaboratory.intrinsic+json": {
              "repr_error": "Out of range float values are not JSON compliant: nan",
              "type": "dataframe"
            },
            "text/html": [
              "\n",
              "  <div id=\"df-080fbf92-65a4-4f4d-b1a3-45535a12dff2\" class=\"colab-df-container\">\n",
              "    <div>\n",
              "<style scoped>\n",
              "    .dataframe tbody tr th:only-of-type {\n",
              "        vertical-align: middle;\n",
              "    }\n",
              "\n",
              "    .dataframe tbody tr th {\n",
              "        vertical-align: top;\n",
              "    }\n",
              "\n",
              "    .dataframe thead th {\n",
              "        text-align: right;\n",
              "    }\n",
              "</style>\n",
              "<table border=\"1\" class=\"dataframe\">\n",
              "  <thead>\n",
              "    <tr style=\"text-align: right;\">\n",
              "      <th></th>\n",
              "      <th>id</th>\n",
              "      <th>keyword</th>\n",
              "      <th>location</th>\n",
              "      <th>text</th>\n",
              "      <th>length</th>\n",
              "      <th>word_count</th>\n",
              "    </tr>\n",
              "  </thead>\n",
              "  <tbody>\n",
              "    <tr>\n",
              "      <th>0</th>\n",
              "      <td>0</td>\n",
              "      <td>NaN</td>\n",
              "      <td>NaN</td>\n",
              "      <td>Just happened a terrible car crash</td>\n",
              "      <td>34</td>\n",
              "      <td>6</td>\n",
              "    </tr>\n",
              "    <tr>\n",
              "      <th>1</th>\n",
              "      <td>2</td>\n",
              "      <td>NaN</td>\n",
              "      <td>NaN</td>\n",
              "      <td>Heard about #earthquake is different cities, s...</td>\n",
              "      <td>64</td>\n",
              "      <td>9</td>\n",
              "    </tr>\n",
              "    <tr>\n",
              "      <th>2</th>\n",
              "      <td>3</td>\n",
              "      <td>NaN</td>\n",
              "      <td>NaN</td>\n",
              "      <td>there is a forest fire at spot pond, geese are...</td>\n",
              "      <td>96</td>\n",
              "      <td>19</td>\n",
              "    </tr>\n",
              "    <tr>\n",
              "      <th>3</th>\n",
              "      <td>9</td>\n",
              "      <td>NaN</td>\n",
              "      <td>NaN</td>\n",
              "      <td>Apocalypse lighting. #Spokane #wildfires</td>\n",
              "      <td>40</td>\n",
              "      <td>4</td>\n",
              "    </tr>\n",
              "    <tr>\n",
              "      <th>4</th>\n",
              "      <td>11</td>\n",
              "      <td>NaN</td>\n",
              "      <td>NaN</td>\n",
              "      <td>Typhoon Soudelor kills 28 in China and Taiwan</td>\n",
              "      <td>45</td>\n",
              "      <td>8</td>\n",
              "    </tr>\n",
              "  </tbody>\n",
              "</table>\n",
              "</div>\n",
              "    <div class=\"colab-df-buttons\">\n",
              "\n",
              "  <div class=\"colab-df-container\">\n",
              "    <button class=\"colab-df-convert\" onclick=\"convertToInteractive('df-080fbf92-65a4-4f4d-b1a3-45535a12dff2')\"\n",
              "            title=\"Convert this dataframe to an interactive table.\"\n",
              "            style=\"display:none;\">\n",
              "\n",
              "  <svg xmlns=\"http://www.w3.org/2000/svg\" height=\"24px\" viewBox=\"0 -960 960 960\">\n",
              "    <path d=\"M120-120v-720h720v720H120Zm60-500h600v-160H180v160Zm220 220h160v-160H400v160Zm0 220h160v-160H400v160ZM180-400h160v-160H180v160Zm440 0h160v-160H620v160ZM180-180h160v-160H180v160Zm440 0h160v-160H620v160Z\"/>\n",
              "  </svg>\n",
              "    </button>\n",
              "\n",
              "  <style>\n",
              "    .colab-df-container {\n",
              "      display:flex;\n",
              "      gap: 12px;\n",
              "    }\n",
              "\n",
              "    .colab-df-convert {\n",
              "      background-color: #E8F0FE;\n",
              "      border: none;\n",
              "      border-radius: 50%;\n",
              "      cursor: pointer;\n",
              "      display: none;\n",
              "      fill: #1967D2;\n",
              "      height: 32px;\n",
              "      padding: 0 0 0 0;\n",
              "      width: 32px;\n",
              "    }\n",
              "\n",
              "    .colab-df-convert:hover {\n",
              "      background-color: #E2EBFA;\n",
              "      box-shadow: 0px 1px 2px rgba(60, 64, 67, 0.3), 0px 1px 3px 1px rgba(60, 64, 67, 0.15);\n",
              "      fill: #174EA6;\n",
              "    }\n",
              "\n",
              "    .colab-df-buttons div {\n",
              "      margin-bottom: 4px;\n",
              "    }\n",
              "\n",
              "    [theme=dark] .colab-df-convert {\n",
              "      background-color: #3B4455;\n",
              "      fill: #D2E3FC;\n",
              "    }\n",
              "\n",
              "    [theme=dark] .colab-df-convert:hover {\n",
              "      background-color: #434B5C;\n",
              "      box-shadow: 0px 1px 3px 1px rgba(0, 0, 0, 0.15);\n",
              "      filter: drop-shadow(0px 1px 2px rgba(0, 0, 0, 0.3));\n",
              "      fill: #FFFFFF;\n",
              "    }\n",
              "  </style>\n",
              "\n",
              "    <script>\n",
              "      const buttonEl =\n",
              "        document.querySelector('#df-080fbf92-65a4-4f4d-b1a3-45535a12dff2 button.colab-df-convert');\n",
              "      buttonEl.style.display =\n",
              "        google.colab.kernel.accessAllowed ? 'block' : 'none';\n",
              "\n",
              "      async function convertToInteractive(key) {\n",
              "        const element = document.querySelector('#df-080fbf92-65a4-4f4d-b1a3-45535a12dff2');\n",
              "        const dataTable =\n",
              "          await google.colab.kernel.invokeFunction('convertToInteractive',\n",
              "                                                    [key], {});\n",
              "        if (!dataTable) return;\n",
              "\n",
              "        const docLinkHtml = 'Like what you see? Visit the ' +\n",
              "          '<a target=\"_blank\" href=https://colab.research.google.com/notebooks/data_table.ipynb>data table notebook</a>'\n",
              "          + ' to learn more about interactive tables.';\n",
              "        element.innerHTML = '';\n",
              "        dataTable['output_type'] = 'display_data';\n",
              "        await google.colab.output.renderOutput(dataTable, element);\n",
              "        const docLink = document.createElement('div');\n",
              "        docLink.innerHTML = docLinkHtml;\n",
              "        element.appendChild(docLink);\n",
              "      }\n",
              "    </script>\n",
              "  </div>\n",
              "\n",
              "\n",
              "    <div id=\"df-80808bf3-b821-4040-a685-2f83452f4da8\">\n",
              "      <button class=\"colab-df-quickchart\" onclick=\"quickchart('df-80808bf3-b821-4040-a685-2f83452f4da8')\"\n",
              "                title=\"Suggest charts\"\n",
              "                style=\"display:none;\">\n",
              "\n",
              "<svg xmlns=\"http://www.w3.org/2000/svg\" height=\"24px\"viewBox=\"0 0 24 24\"\n",
              "     width=\"24px\">\n",
              "    <g>\n",
              "        <path d=\"M19 3H5c-1.1 0-2 .9-2 2v14c0 1.1.9 2 2 2h14c1.1 0 2-.9 2-2V5c0-1.1-.9-2-2-2zM9 17H7v-7h2v7zm4 0h-2V7h2v10zm4 0h-2v-4h2v4z\"/>\n",
              "    </g>\n",
              "</svg>\n",
              "      </button>\n",
              "\n",
              "<style>\n",
              "  .colab-df-quickchart {\n",
              "      --bg-color: #E8F0FE;\n",
              "      --fill-color: #1967D2;\n",
              "      --hover-bg-color: #E2EBFA;\n",
              "      --hover-fill-color: #174EA6;\n",
              "      --disabled-fill-color: #AAA;\n",
              "      --disabled-bg-color: #DDD;\n",
              "  }\n",
              "\n",
              "  [theme=dark] .colab-df-quickchart {\n",
              "      --bg-color: #3B4455;\n",
              "      --fill-color: #D2E3FC;\n",
              "      --hover-bg-color: #434B5C;\n",
              "      --hover-fill-color: #FFFFFF;\n",
              "      --disabled-bg-color: #3B4455;\n",
              "      --disabled-fill-color: #666;\n",
              "  }\n",
              "\n",
              "  .colab-df-quickchart {\n",
              "    background-color: var(--bg-color);\n",
              "    border: none;\n",
              "    border-radius: 50%;\n",
              "    cursor: pointer;\n",
              "    display: none;\n",
              "    fill: var(--fill-color);\n",
              "    height: 32px;\n",
              "    padding: 0;\n",
              "    width: 32px;\n",
              "  }\n",
              "\n",
              "  .colab-df-quickchart:hover {\n",
              "    background-color: var(--hover-bg-color);\n",
              "    box-shadow: 0 1px 2px rgba(60, 64, 67, 0.3), 0 1px 3px 1px rgba(60, 64, 67, 0.15);\n",
              "    fill: var(--button-hover-fill-color);\n",
              "  }\n",
              "\n",
              "  .colab-df-quickchart-complete:disabled,\n",
              "  .colab-df-quickchart-complete:disabled:hover {\n",
              "    background-color: var(--disabled-bg-color);\n",
              "    fill: var(--disabled-fill-color);\n",
              "    box-shadow: none;\n",
              "  }\n",
              "\n",
              "  .colab-df-spinner {\n",
              "    border: 2px solid var(--fill-color);\n",
              "    border-color: transparent;\n",
              "    border-bottom-color: var(--fill-color);\n",
              "    animation:\n",
              "      spin 1s steps(1) infinite;\n",
              "  }\n",
              "\n",
              "  @keyframes spin {\n",
              "    0% {\n",
              "      border-color: transparent;\n",
              "      border-bottom-color: var(--fill-color);\n",
              "      border-left-color: var(--fill-color);\n",
              "    }\n",
              "    20% {\n",
              "      border-color: transparent;\n",
              "      border-left-color: var(--fill-color);\n",
              "      border-top-color: var(--fill-color);\n",
              "    }\n",
              "    30% {\n",
              "      border-color: transparent;\n",
              "      border-left-color: var(--fill-color);\n",
              "      border-top-color: var(--fill-color);\n",
              "      border-right-color: var(--fill-color);\n",
              "    }\n",
              "    40% {\n",
              "      border-color: transparent;\n",
              "      border-right-color: var(--fill-color);\n",
              "      border-top-color: var(--fill-color);\n",
              "    }\n",
              "    60% {\n",
              "      border-color: transparent;\n",
              "      border-right-color: var(--fill-color);\n",
              "    }\n",
              "    80% {\n",
              "      border-color: transparent;\n",
              "      border-right-color: var(--fill-color);\n",
              "      border-bottom-color: var(--fill-color);\n",
              "    }\n",
              "    90% {\n",
              "      border-color: transparent;\n",
              "      border-bottom-color: var(--fill-color);\n",
              "    }\n",
              "  }\n",
              "</style>\n",
              "\n",
              "      <script>\n",
              "        async function quickchart(key) {\n",
              "          const quickchartButtonEl =\n",
              "            document.querySelector('#' + key + ' button');\n",
              "          quickchartButtonEl.disabled = true;  // To prevent multiple clicks.\n",
              "          quickchartButtonEl.classList.add('colab-df-spinner');\n",
              "          try {\n",
              "            const charts = await google.colab.kernel.invokeFunction(\n",
              "                'suggestCharts', [key], {});\n",
              "          } catch (error) {\n",
              "            console.error('Error during call to suggestCharts:', error);\n",
              "          }\n",
              "          quickchartButtonEl.classList.remove('colab-df-spinner');\n",
              "          quickchartButtonEl.classList.add('colab-df-quickchart-complete');\n",
              "        }\n",
              "        (() => {\n",
              "          let quickchartButtonEl =\n",
              "            document.querySelector('#df-80808bf3-b821-4040-a685-2f83452f4da8 button');\n",
              "          quickchartButtonEl.style.display =\n",
              "            google.colab.kernel.accessAllowed ? 'block' : 'none';\n",
              "        })();\n",
              "      </script>\n",
              "    </div>\n",
              "\n",
              "    </div>\n",
              "  </div>\n"
            ],
            "text/plain": [
              "   id keyword location                                               text  \\\n",
              "0   0     NaN      NaN                 Just happened a terrible car crash   \n",
              "1   2     NaN      NaN  Heard about #earthquake is different cities, s...   \n",
              "2   3     NaN      NaN  there is a forest fire at spot pond, geese are...   \n",
              "3   9     NaN      NaN           Apocalypse lighting. #Spokane #wildfires   \n",
              "4  11     NaN      NaN      Typhoon Soudelor kills 28 in China and Taiwan   \n",
              "\n",
              "   length  word_count  \n",
              "0      34           6  \n",
              "1      64           9  \n",
              "2      96          19  \n",
              "3      40           4  \n",
              "4      45           8  "
            ]
          },
          "metadata": {},
          "output_type": "display_data"
        },
        {
          "name": "stdout",
          "output_type": "stream",
          "text": [
            "\n",
            "Sample of Results Output:\n"
          ]
        },
        {
          "data": {
            "application/vnd.google.colaboratory.intrinsic+json": {
              "summary": "{\n  \"name\": \"  display(sample_output\",\n  \"rows\": 5,\n  \"fields\": [\n    {\n      \"column\": \"id\",\n      \"properties\": {\n        \"dtype\": \"number\",\n        \"std\": 4,\n        \"min\": 0,\n        \"max\": 11,\n        \"num_unique_values\": 5,\n        \"samples\": [\n          2,\n          11,\n          3\n        ],\n        \"semantic_type\": \"\",\n        \"description\": \"\"\n      }\n    },\n    {\n      \"column\": \"target\",\n      \"properties\": {\n        \"dtype\": \"number\",\n        \"std\": 0,\n        \"min\": 0,\n        \"max\": 0,\n        \"num_unique_values\": 1,\n        \"samples\": [\n          0\n        ],\n        \"semantic_type\": \"\",\n        \"description\": \"\"\n      }\n    }\n  ]\n}",
              "type": "dataframe"
            },
            "text/html": [
              "\n",
              "  <div id=\"df-27dbe8e1-d954-4fe9-963e-21ac70e90d72\" class=\"colab-df-container\">\n",
              "    <div>\n",
              "<style scoped>\n",
              "    .dataframe tbody tr th:only-of-type {\n",
              "        vertical-align: middle;\n",
              "    }\n",
              "\n",
              "    .dataframe tbody tr th {\n",
              "        vertical-align: top;\n",
              "    }\n",
              "\n",
              "    .dataframe thead th {\n",
              "        text-align: right;\n",
              "    }\n",
              "</style>\n",
              "<table border=\"1\" class=\"dataframe\">\n",
              "  <thead>\n",
              "    <tr style=\"text-align: right;\">\n",
              "      <th></th>\n",
              "      <th>id</th>\n",
              "      <th>target</th>\n",
              "    </tr>\n",
              "  </thead>\n",
              "  <tbody>\n",
              "    <tr>\n",
              "      <th>0</th>\n",
              "      <td>0</td>\n",
              "      <td>0</td>\n",
              "    </tr>\n",
              "    <tr>\n",
              "      <th>1</th>\n",
              "      <td>2</td>\n",
              "      <td>0</td>\n",
              "    </tr>\n",
              "    <tr>\n",
              "      <th>2</th>\n",
              "      <td>3</td>\n",
              "      <td>0</td>\n",
              "    </tr>\n",
              "    <tr>\n",
              "      <th>3</th>\n",
              "      <td>9</td>\n",
              "      <td>0</td>\n",
              "    </tr>\n",
              "    <tr>\n",
              "      <th>4</th>\n",
              "      <td>11</td>\n",
              "      <td>0</td>\n",
              "    </tr>\n",
              "  </tbody>\n",
              "</table>\n",
              "</div>\n",
              "    <div class=\"colab-df-buttons\">\n",
              "\n",
              "  <div class=\"colab-df-container\">\n",
              "    <button class=\"colab-df-convert\" onclick=\"convertToInteractive('df-27dbe8e1-d954-4fe9-963e-21ac70e90d72')\"\n",
              "            title=\"Convert this dataframe to an interactive table.\"\n",
              "            style=\"display:none;\">\n",
              "\n",
              "  <svg xmlns=\"http://www.w3.org/2000/svg\" height=\"24px\" viewBox=\"0 -960 960 960\">\n",
              "    <path d=\"M120-120v-720h720v720H120Zm60-500h600v-160H180v160Zm220 220h160v-160H400v160Zm0 220h160v-160H400v160ZM180-400h160v-160H180v160Zm440 0h160v-160H620v160ZM180-180h160v-160H180v160Zm440 0h160v-160H620v160Z\"/>\n",
              "  </svg>\n",
              "    </button>\n",
              "\n",
              "  <style>\n",
              "    .colab-df-container {\n",
              "      display:flex;\n",
              "      gap: 12px;\n",
              "    }\n",
              "\n",
              "    .colab-df-convert {\n",
              "      background-color: #E8F0FE;\n",
              "      border: none;\n",
              "      border-radius: 50%;\n",
              "      cursor: pointer;\n",
              "      display: none;\n",
              "      fill: #1967D2;\n",
              "      height: 32px;\n",
              "      padding: 0 0 0 0;\n",
              "      width: 32px;\n",
              "    }\n",
              "\n",
              "    .colab-df-convert:hover {\n",
              "      background-color: #E2EBFA;\n",
              "      box-shadow: 0px 1px 2px rgba(60, 64, 67, 0.3), 0px 1px 3px 1px rgba(60, 64, 67, 0.15);\n",
              "      fill: #174EA6;\n",
              "    }\n",
              "\n",
              "    .colab-df-buttons div {\n",
              "      margin-bottom: 4px;\n",
              "    }\n",
              "\n",
              "    [theme=dark] .colab-df-convert {\n",
              "      background-color: #3B4455;\n",
              "      fill: #D2E3FC;\n",
              "    }\n",
              "\n",
              "    [theme=dark] .colab-df-convert:hover {\n",
              "      background-color: #434B5C;\n",
              "      box-shadow: 0px 1px 3px 1px rgba(0, 0, 0, 0.15);\n",
              "      filter: drop-shadow(0px 1px 2px rgba(0, 0, 0, 0.3));\n",
              "      fill: #FFFFFF;\n",
              "    }\n",
              "  </style>\n",
              "\n",
              "    <script>\n",
              "      const buttonEl =\n",
              "        document.querySelector('#df-27dbe8e1-d954-4fe9-963e-21ac70e90d72 button.colab-df-convert');\n",
              "      buttonEl.style.display =\n",
              "        google.colab.kernel.accessAllowed ? 'block' : 'none';\n",
              "\n",
              "      async function convertToInteractive(key) {\n",
              "        const element = document.querySelector('#df-27dbe8e1-d954-4fe9-963e-21ac70e90d72');\n",
              "        const dataTable =\n",
              "          await google.colab.kernel.invokeFunction('convertToInteractive',\n",
              "                                                    [key], {});\n",
              "        if (!dataTable) return;\n",
              "\n",
              "        const docLinkHtml = 'Like what you see? Visit the ' +\n",
              "          '<a target=\"_blank\" href=https://colab.research.google.com/notebooks/data_table.ipynb>data table notebook</a>'\n",
              "          + ' to learn more about interactive tables.';\n",
              "        element.innerHTML = '';\n",
              "        dataTable['output_type'] = 'display_data';\n",
              "        await google.colab.output.renderOutput(dataTable, element);\n",
              "        const docLink = document.createElement('div');\n",
              "        docLink.innerHTML = docLinkHtml;\n",
              "        element.appendChild(docLink);\n",
              "      }\n",
              "    </script>\n",
              "  </div>\n",
              "\n",
              "\n",
              "    <div id=\"df-f8a096ef-752c-440b-ba7e-534d87959618\">\n",
              "      <button class=\"colab-df-quickchart\" onclick=\"quickchart('df-f8a096ef-752c-440b-ba7e-534d87959618')\"\n",
              "                title=\"Suggest charts\"\n",
              "                style=\"display:none;\">\n",
              "\n",
              "<svg xmlns=\"http://www.w3.org/2000/svg\" height=\"24px\"viewBox=\"0 0 24 24\"\n",
              "     width=\"24px\">\n",
              "    <g>\n",
              "        <path d=\"M19 3H5c-1.1 0-2 .9-2 2v14c0 1.1.9 2 2 2h14c1.1 0 2-.9 2-2V5c0-1.1-.9-2-2-2zM9 17H7v-7h2v7zm4 0h-2V7h2v10zm4 0h-2v-4h2v4z\"/>\n",
              "    </g>\n",
              "</svg>\n",
              "      </button>\n",
              "\n",
              "<style>\n",
              "  .colab-df-quickchart {\n",
              "      --bg-color: #E8F0FE;\n",
              "      --fill-color: #1967D2;\n",
              "      --hover-bg-color: #E2EBFA;\n",
              "      --hover-fill-color: #174EA6;\n",
              "      --disabled-fill-color: #AAA;\n",
              "      --disabled-bg-color: #DDD;\n",
              "  }\n",
              "\n",
              "  [theme=dark] .colab-df-quickchart {\n",
              "      --bg-color: #3B4455;\n",
              "      --fill-color: #D2E3FC;\n",
              "      --hover-bg-color: #434B5C;\n",
              "      --hover-fill-color: #FFFFFF;\n",
              "      --disabled-bg-color: #3B4455;\n",
              "      --disabled-fill-color: #666;\n",
              "  }\n",
              "\n",
              "  .colab-df-quickchart {\n",
              "    background-color: var(--bg-color);\n",
              "    border: none;\n",
              "    border-radius: 50%;\n",
              "    cursor: pointer;\n",
              "    display: none;\n",
              "    fill: var(--fill-color);\n",
              "    height: 32px;\n",
              "    padding: 0;\n",
              "    width: 32px;\n",
              "  }\n",
              "\n",
              "  .colab-df-quickchart:hover {\n",
              "    background-color: var(--hover-bg-color);\n",
              "    box-shadow: 0 1px 2px rgba(60, 64, 67, 0.3), 0 1px 3px 1px rgba(60, 64, 67, 0.15);\n",
              "    fill: var(--button-hover-fill-color);\n",
              "  }\n",
              "\n",
              "  .colab-df-quickchart-complete:disabled,\n",
              "  .colab-df-quickchart-complete:disabled:hover {\n",
              "    background-color: var(--disabled-bg-color);\n",
              "    fill: var(--disabled-fill-color);\n",
              "    box-shadow: none;\n",
              "  }\n",
              "\n",
              "  .colab-df-spinner {\n",
              "    border: 2px solid var(--fill-color);\n",
              "    border-color: transparent;\n",
              "    border-bottom-color: var(--fill-color);\n",
              "    animation:\n",
              "      spin 1s steps(1) infinite;\n",
              "  }\n",
              "\n",
              "  @keyframes spin {\n",
              "    0% {\n",
              "      border-color: transparent;\n",
              "      border-bottom-color: var(--fill-color);\n",
              "      border-left-color: var(--fill-color);\n",
              "    }\n",
              "    20% {\n",
              "      border-color: transparent;\n",
              "      border-left-color: var(--fill-color);\n",
              "      border-top-color: var(--fill-color);\n",
              "    }\n",
              "    30% {\n",
              "      border-color: transparent;\n",
              "      border-left-color: var(--fill-color);\n",
              "      border-top-color: var(--fill-color);\n",
              "      border-right-color: var(--fill-color);\n",
              "    }\n",
              "    40% {\n",
              "      border-color: transparent;\n",
              "      border-right-color: var(--fill-color);\n",
              "      border-top-color: var(--fill-color);\n",
              "    }\n",
              "    60% {\n",
              "      border-color: transparent;\n",
              "      border-right-color: var(--fill-color);\n",
              "    }\n",
              "    80% {\n",
              "      border-color: transparent;\n",
              "      border-right-color: var(--fill-color);\n",
              "      border-bottom-color: var(--fill-color);\n",
              "    }\n",
              "    90% {\n",
              "      border-color: transparent;\n",
              "      border-bottom-color: var(--fill-color);\n",
              "    }\n",
              "  }\n",
              "</style>\n",
              "\n",
              "      <script>\n",
              "        async function quickchart(key) {\n",
              "          const quickchartButtonEl =\n",
              "            document.querySelector('#' + key + ' button');\n",
              "          quickchartButtonEl.disabled = true;  // To prevent multiple clicks.\n",
              "          quickchartButtonEl.classList.add('colab-df-spinner');\n",
              "          try {\n",
              "            const charts = await google.colab.kernel.invokeFunction(\n",
              "                'suggestCharts', [key], {});\n",
              "          } catch (error) {\n",
              "            console.error('Error during call to suggestCharts:', error);\n",
              "          }\n",
              "          quickchartButtonEl.classList.remove('colab-df-spinner');\n",
              "          quickchartButtonEl.classList.add('colab-df-quickchart-complete');\n",
              "        }\n",
              "        (() => {\n",
              "          let quickchartButtonEl =\n",
              "            document.querySelector('#df-f8a096ef-752c-440b-ba7e-534d87959618 button');\n",
              "          quickchartButtonEl.style.display =\n",
              "            google.colab.kernel.accessAllowed ? 'block' : 'none';\n",
              "        })();\n",
              "      </script>\n",
              "    </div>\n",
              "\n",
              "    </div>\n",
              "  </div>\n"
            ],
            "text/plain": [
              "   id  target\n",
              "0   0       0\n",
              "1   2       0\n",
              "2   3       0\n",
              "3   9       0\n",
              "4  11       0"
            ]
          },
          "metadata": {},
          "output_type": "display_data"
        }
      ],
      "source": [
        "if gDEBUG:\n",
        "  # Preview the Data Sources\n",
        "  print(\"Sample of Training Labels\")\n",
        "  display(train_labels.head(5))\n",
        "  print()\n",
        "  print(\"Sample of Testing Data\")\n",
        "  display(test_labels.head(5))\n",
        "  print()\n",
        "  print(\"Sample of Results Output:\")\n",
        "  display(sample_output.head(5))"
      ]
    },
    {
      "cell_type": "code",
      "execution_count": 14,
      "metadata": {
        "colab": {
          "base_uri": "https://localhost:8080/"
        },
        "id": "3giy9lq9iwN_",
        "outputId": "522fe336-864b-4784-9963-31a6faeb19a7"
      },
      "outputs": [
        {
          "name": "stdout",
          "output_type": "stream",
          "text": [
            "Training Labels Info:\n",
            "<class 'pandas.core.frame.DataFrame'>\n",
            "RangeIndex: 7613 entries, 0 to 7612\n",
            "Data columns (total 8 columns):\n",
            " #   Column      Non-Null Count  Dtype \n",
            "---  ------      --------------  ----- \n",
            " 0   id          7613 non-null   int64 \n",
            " 1   keyword     7552 non-null   object\n",
            " 2   location    5080 non-null   object\n",
            " 3   text        7613 non-null   object\n",
            " 4   target      7613 non-null   int64 \n",
            " 5   label       7613 non-null   int64 \n",
            " 6   length      7613 non-null   int64 \n",
            " 7   word_count  7613 non-null   int64 \n",
            "dtypes: int64(5), object(3)\n",
            "memory usage: 475.9+ KB\n",
            "None\n",
            "\n",
            "Testing Data Info:\n",
            "<class 'pandas.core.frame.DataFrame'>\n",
            "RangeIndex: 3263 entries, 0 to 3262\n",
            "Data columns (total 6 columns):\n",
            " #   Column      Non-Null Count  Dtype \n",
            "---  ------      --------------  ----- \n",
            " 0   id          3263 non-null   int64 \n",
            " 1   keyword     3237 non-null   object\n",
            " 2   location    2158 non-null   object\n",
            " 3   text        3263 non-null   object\n",
            " 4   length      3263 non-null   int64 \n",
            " 5   word_count  3263 non-null   int64 \n",
            "dtypes: int64(3), object(3)\n",
            "memory usage: 153.1+ KB\n",
            "None\n",
            "\n"
          ]
        }
      ],
      "source": [
        "# Display training labels info\n",
        "print(\"Training Labels Info:\")\n",
        "print(train_labels.info())\n",
        "print()\n",
        "# Display testing labels info\n",
        "print(\"Testing Data Info:\")\n",
        "print(test_labels.info())\n",
        "print()"
      ]
    },
    {
      "cell_type": "code",
      "execution_count": 15,
      "metadata": {
        "colab": {
          "base_uri": "https://localhost:8080/",
          "height": 232
        },
        "id": "_KfzRK0ljCol",
        "outputId": "b49a97c8-6eb5-435f-abb4-7292eb9fc907"
      },
      "outputs": [
        {
          "name": "stdout",
          "output_type": "stream",
          "text": [
            "Label Count of Training Labels\n"
          ]
        },
        {
          "data": {
            "text/html": [
              "<div>\n",
              "<style scoped>\n",
              "    .dataframe tbody tr th:only-of-type {\n",
              "        vertical-align: middle;\n",
              "    }\n",
              "\n",
              "    .dataframe tbody tr th {\n",
              "        vertical-align: top;\n",
              "    }\n",
              "\n",
              "    .dataframe thead th {\n",
              "        text-align: right;\n",
              "    }\n",
              "</style>\n",
              "<table border=\"1\" class=\"dataframe\">\n",
              "  <thead>\n",
              "    <tr style=\"text-align: right;\">\n",
              "      <th></th>\n",
              "      <th>count</th>\n",
              "    </tr>\n",
              "    <tr>\n",
              "      <th>target</th>\n",
              "      <th></th>\n",
              "    </tr>\n",
              "  </thead>\n",
              "  <tbody>\n",
              "    <tr>\n",
              "      <th>0</th>\n",
              "      <td>4342</td>\n",
              "    </tr>\n",
              "    <tr>\n",
              "      <th>1</th>\n",
              "      <td>3271</td>\n",
              "    </tr>\n",
              "  </tbody>\n",
              "</table>\n",
              "</div><br><label><b>dtype:</b> int64</label>"
            ],
            "text/plain": [
              "target\n",
              "0    4342\n",
              "1    3271\n",
              "Name: count, dtype: int64"
            ]
          },
          "metadata": {},
          "output_type": "display_data"
        },
        {
          "name": "stdout",
          "output_type": "stream",
          "text": [
            "\n",
            "Imbalance of Labels: -0.141\n"
          ]
        }
      ],
      "source": [
        " # Preview the Training Label Assignments\n",
        "print('Label Count of Training Labels')\n",
        "display(train_labels['target'].value_counts())\n",
        "print()\n",
        "print('Imbalance of Labels:', round((train_labels['target'].value_counts()[1]\n",
        "                                    - train_labels['target'].value_counts()[0]) / len(train_labels), 3))\n"
      ]
    },
    {
      "cell_type": "code",
      "execution_count": 16,
      "metadata": {
        "colab": {
          "base_uri": "https://localhost:8080/"
        },
        "id": "6jIOI0uJmvoa",
        "outputId": "9dab1dc1-c11c-484c-b06a-67f632462a6a"
      },
      "outputs": [
        {
          "name": "stdout",
          "output_type": "stream",
          "text": [
            "Length of Text: 124 \n",
            "\n",
            ".@NorwayMFA #Bahrain police had previously died in a road accident they were not killed by explosion\n",
            "https://t.co/gFJfgTodad\n"
          ]
        }
      ],
      "source": [
        "# Example of the text from the article\n",
        "example_text = train_labels['text'].iloc[100]\n",
        "# Print to Screen\n",
        "print(\"Length of Text:\", len(example_text), \"\\n\")\n",
        "print(textwrap.fill(example_text, width=100))"
      ]
    },
    {
      "cell_type": "markdown",
      "metadata": {
        "id": "6BtBwi2SKW2N"
      },
      "source": [
        "# 3.&nbsp;Exploratory Data Analysis (EDA)\n",
        "\n",
        "The EDA phase focuses on understanding the dataset, including data distribution and label counts. Various functions are used to inspect the structure of the dataset, visualize the label distribution, and assess the text length and word count of the documentation. The data is found to be somewhat imbalanced across categories."
      ]
    },
    {
      "cell_type": "markdown",
      "metadata": {
        "id": "NcwHYK4SI7wY"
      },
      "source": [
        "## EDA Functions\n",
        "\n",
        "Import EDA functions from the separate library file."
      ]
    },
    {
      "cell_type": "markdown",
      "metadata": {
        "id": "8qVzjwg1ljJm"
      },
      "source": [
        "EDA Functions recycled from previous Natural Language Processing (NLP) analysis projects. The general patter of completing EDA for NLP typically starts with a standard set of tables and charts to understand the data.*italicized text*\n",
        "\n",
        "*Source:* [auto_classifying_salesforce_cloud_documentation.ipynb](https://github.com/TOM-BOHN/MsDS-supervised-nlp-sfdc-auto-classification/blob/0f26d4b049e22b43e3bffd348e7687b4640c30d2/auto_classifying_salesforce_cloud_documentation.ipynb)"
      ]
    },
    {
      "cell_type": "code",
      "execution_count": 17,
      "metadata": {
        "colab": {
          "base_uri": "https://localhost:8080/"
        },
        "id": "dy94mxHHScdg",
        "outputId": "0edafce4-a18b-4568-8013-791a0fb4298b"
      },
      "outputs": [
        {
          "name": "stdout",
          "output_type": "stream",
          "text": [
            "✅ EDA functions imported successfully from GitHub!\n"
          ]
        }
      ],
      "source": [
        "# Import EDA functions from the nlp_utils package\n",
        "from nlp_utils import (\n",
        "    replace_labels,\n",
        "    create_data_by_label,\n",
        "    quick_table_details,\n",
        "    count_field,\n",
        "    shape_df_for_stacked_barchart,\n",
        "    create_single_stacked_bar,\n",
        "    viz_class_frequency,\n",
        "    viz_char_frequency,\n",
        "    viz_word_frequency,\n",
        "    viz_word_length_frequency\n",
        ")\n",
        "\n",
        "print(\"✅ EDA functions imported successfully from GitHub!\")"
      ]
    },
    {
      "cell_type": "markdown",
      "metadata": {
        "id": "2bO3CvKfI_eC"
      },
      "source": [
        "## EDA Analysis: Overview"
      ]
    },
    {
      "cell_type": "code",
      "execution_count": 18,
      "metadata": {
        "colab": {
          "base_uri": "https://localhost:8080/"
        },
        "id": "KT45kj_oqOsl",
        "outputId": "c494b713-279a-4858-e27d-89f4704acd38"
      },
      "outputs": [
        {
          "name": "stdout",
          "output_type": "stream",
          "text": [
            "\n",
            "#### train_labels ####\n",
            "number of features (columns) = 8\n",
            "number of observations (rows) = 7613\n",
            "---------------------------- \n",
            "\n",
            "DataType Counts:\n",
            "int64     5\n",
            "object    3\n",
            "Name: count, dtype: int64\n",
            "---------------------------- \n",
            "\n",
            "Columns:\n",
            "Index(['id', 'keyword', 'location', 'text', 'target', 'label', 'length',\n",
            "       'word_count'],\n",
            "      dtype='object')\n",
            "---------------------------- \n",
            "\n",
            "Description:\n",
            "                  id     keyword location  \\\n",
            "count    7613.000000        7552     5080   \n",
            "unique           NaN         221     3341   \n",
            "top              NaN  fatalities      USA   \n",
            "freq             NaN          45      104   \n",
            "mean     5441.934848         NaN      NaN   \n",
            "std      3137.116090         NaN      NaN   \n",
            "min         1.000000         NaN      NaN   \n",
            "25%      2734.000000         NaN      NaN   \n",
            "50%      5408.000000         NaN      NaN   \n",
            "75%      8146.000000         NaN      NaN   \n",
            "max     10873.000000         NaN      NaN   \n",
            "\n",
            "                                                     text      target  \\\n",
            "count                                                7613  7613.00000   \n",
            "unique                                               7503         NaN   \n",
            "top     11-Year-Old Boy Charged With Manslaughter of T...         NaN   \n",
            "freq                                                   10         NaN   \n",
            "mean                                                  NaN     0.42966   \n",
            "std                                                   NaN     0.49506   \n",
            "min                                                   NaN     0.00000   \n",
            "25%                                                   NaN     0.00000   \n",
            "50%                                                   NaN     0.00000   \n",
            "75%                                                   NaN     1.00000   \n",
            "max                                                   NaN     1.00000   \n",
            "\n",
            "             label       length   word_count  \n",
            "count   7613.00000  7613.000000  7613.000000  \n",
            "unique         NaN          NaN          NaN  \n",
            "top            NaN          NaN          NaN  \n",
            "freq           NaN          NaN          NaN  \n",
            "mean       0.42966   101.037436    14.903586  \n",
            "std        0.49506    33.781325     5.732604  \n",
            "min        0.00000     7.000000     1.000000  \n",
            "25%        0.00000    78.000000    11.000000  \n",
            "50%        0.00000   107.000000    15.000000  \n",
            "75%        1.00000   133.000000    19.000000  \n",
            "max        1.00000   157.000000    31.000000  \n",
            "---------------------------- \n",
            "\n",
            "Info:\n",
            "<class 'pandas.core.frame.DataFrame'>\n",
            "RangeIndex: 7613 entries, 0 to 7612\n",
            "Data columns (total 8 columns):\n",
            " #   Column      Non-Null Count  Dtype \n",
            "---  ------      --------------  ----- \n",
            " 0   id          7613 non-null   int64 \n",
            " 1   keyword     7552 non-null   object\n",
            " 2   location    5080 non-null   object\n",
            " 3   text        7613 non-null   object\n",
            " 4   target      7613 non-null   int64 \n",
            " 5   label       7613 non-null   int64 \n",
            " 6   length      7613 non-null   int64 \n",
            " 7   word_count  7613 non-null   int64 \n",
            "dtypes: int64(5), object(3)\n",
            "memory usage: 475.9+ KB\n",
            "None\n",
            "---------------------------- \n",
            "\n"
          ]
        }
      ],
      "source": [
        "# Print summary details for the 3 tables in the datasource\n",
        "quick_table_details (df_name=\"train_labels\", df=train_labels, level_of_detail = 4)"
      ]
    },
    {
      "cell_type": "code",
      "execution_count": 19,
      "metadata": {
        "colab": {
          "base_uri": "https://localhost:8080/"
        },
        "id": "JzAsSuhgn9fZ",
        "outputId": "a3d04588-ecd7-4ad7-f13c-c5e1cf7d5d79"
      },
      "outputs": [
        {
          "name": "stdout",
          "output_type": "stream",
          "text": [
            "#Kurds trampling on Turkmen flag later set it ablaze while others vandalized offices of Turkmen\n",
            "Front in #Diyala http://t.co/4IzFdYC3cg\n"
          ]
        }
      ],
      "source": [
        "# show the content of one Article in the data source\n",
        "print(textwrap.fill(train_labels['text'][55], width=100))"
      ]
    },
    {
      "cell_type": "code",
      "execution_count": 20,
      "metadata": {
        "colab": {
          "base_uri": "https://localhost:8080/",
          "height": 0
        },
        "id": "rVyMeepFn9nJ",
        "outputId": "ca337080-ec89-4818-84e1-c693337e2497"
      },
      "outputs": [
        {
          "name": "stdout",
          "output_type": "stream",
          "text": [
            "columns in df_train: Index(['id', 'keyword', 'location', 'text', 'target', 'label', 'length',\n",
            "       'word_count'],\n",
            "      dtype='object')\n"
          ]
        },
        {
          "data": {
            "application/vnd.google.colaboratory.intrinsic+json": {
              "summary": "{\n  \"name\": \"df_cat_count\",\n  \"rows\": 2,\n  \"fields\": [\n    {\n      \"column\": \"target\",\n      \"properties\": {\n        \"dtype\": \"number\",\n        \"std\": 0,\n        \"min\": 0,\n        \"max\": 1,\n        \"num_unique_values\": 2,\n        \"samples\": [\n          1,\n          0\n        ],\n        \"semantic_type\": \"\",\n        \"description\": \"\"\n      }\n    },\n    {\n      \"column\": \"count\",\n      \"properties\": {\n        \"dtype\": \"number\",\n        \"std\": 757,\n        \"min\": 3271,\n        \"max\": 4342,\n        \"num_unique_values\": 2,\n        \"samples\": [\n          3271,\n          4342\n        ],\n        \"semantic_type\": \"\",\n        \"description\": \"\"\n      }\n    },\n    {\n      \"column\": \"Pct of Total\",\n      \"properties\": {\n        \"dtype\": \"number\",\n        \"std\": 0.09899494936611662,\n        \"min\": 0.43,\n        \"max\": 0.57,\n        \"num_unique_values\": 2,\n        \"samples\": [\n          0.43,\n          0.57\n        ],\n        \"semantic_type\": \"\",\n        \"description\": \"\"\n      }\n    },\n    {\n      \"column\": \"Pct of Total Text\",\n      \"properties\": {\n        \"dtype\": \"string\",\n        \"num_unique_values\": 2,\n        \"samples\": [\n          \"43 %\",\n          \"56 %\"\n        ],\n        \"semantic_type\": \"\",\n        \"description\": \"\"\n      }\n    }\n  ]\n}",
              "type": "dataframe",
              "variable_name": "df_cat_count"
            },
            "text/html": [
              "\n",
              "  <div id=\"df-0b62f573-622b-4394-ac2e-1650d0440a8e\" class=\"colab-df-container\">\n",
              "    <div>\n",
              "<style scoped>\n",
              "    .dataframe tbody tr th:only-of-type {\n",
              "        vertical-align: middle;\n",
              "    }\n",
              "\n",
              "    .dataframe tbody tr th {\n",
              "        vertical-align: top;\n",
              "    }\n",
              "\n",
              "    .dataframe thead th {\n",
              "        text-align: right;\n",
              "    }\n",
              "</style>\n",
              "<table border=\"1\" class=\"dataframe\">\n",
              "  <thead>\n",
              "    <tr style=\"text-align: right;\">\n",
              "      <th></th>\n",
              "      <th>target</th>\n",
              "      <th>count</th>\n",
              "      <th>Pct of Total</th>\n",
              "      <th>Pct of Total Text</th>\n",
              "    </tr>\n",
              "  </thead>\n",
              "  <tbody>\n",
              "    <tr>\n",
              "      <th>0</th>\n",
              "      <td>0</td>\n",
              "      <td>4342</td>\n",
              "      <td>0.57</td>\n",
              "      <td>56 %</td>\n",
              "    </tr>\n",
              "    <tr>\n",
              "      <th>1</th>\n",
              "      <td>1</td>\n",
              "      <td>3271</td>\n",
              "      <td>0.43</td>\n",
              "      <td>43 %</td>\n",
              "    </tr>\n",
              "  </tbody>\n",
              "</table>\n",
              "</div>\n",
              "    <div class=\"colab-df-buttons\">\n",
              "\n",
              "  <div class=\"colab-df-container\">\n",
              "    <button class=\"colab-df-convert\" onclick=\"convertToInteractive('df-0b62f573-622b-4394-ac2e-1650d0440a8e')\"\n",
              "            title=\"Convert this dataframe to an interactive table.\"\n",
              "            style=\"display:none;\">\n",
              "\n",
              "  <svg xmlns=\"http://www.w3.org/2000/svg\" height=\"24px\" viewBox=\"0 -960 960 960\">\n",
              "    <path d=\"M120-120v-720h720v720H120Zm60-500h600v-160H180v160Zm220 220h160v-160H400v160Zm0 220h160v-160H400v160ZM180-400h160v-160H180v160Zm440 0h160v-160H620v160ZM180-180h160v-160H180v160Zm440 0h160v-160H620v160Z\"/>\n",
              "  </svg>\n",
              "    </button>\n",
              "\n",
              "  <style>\n",
              "    .colab-df-container {\n",
              "      display:flex;\n",
              "      gap: 12px;\n",
              "    }\n",
              "\n",
              "    .colab-df-convert {\n",
              "      background-color: #E8F0FE;\n",
              "      border: none;\n",
              "      border-radius: 50%;\n",
              "      cursor: pointer;\n",
              "      display: none;\n",
              "      fill: #1967D2;\n",
              "      height: 32px;\n",
              "      padding: 0 0 0 0;\n",
              "      width: 32px;\n",
              "    }\n",
              "\n",
              "    .colab-df-convert:hover {\n",
              "      background-color: #E2EBFA;\n",
              "      box-shadow: 0px 1px 2px rgba(60, 64, 67, 0.3), 0px 1px 3px 1px rgba(60, 64, 67, 0.15);\n",
              "      fill: #174EA6;\n",
              "    }\n",
              "\n",
              "    .colab-df-buttons div {\n",
              "      margin-bottom: 4px;\n",
              "    }\n",
              "\n",
              "    [theme=dark] .colab-df-convert {\n",
              "      background-color: #3B4455;\n",
              "      fill: #D2E3FC;\n",
              "    }\n",
              "\n",
              "    [theme=dark] .colab-df-convert:hover {\n",
              "      background-color: #434B5C;\n",
              "      box-shadow: 0px 1px 3px 1px rgba(0, 0, 0, 0.15);\n",
              "      filter: drop-shadow(0px 1px 2px rgba(0, 0, 0, 0.3));\n",
              "      fill: #FFFFFF;\n",
              "    }\n",
              "  </style>\n",
              "\n",
              "    <script>\n",
              "      const buttonEl =\n",
              "        document.querySelector('#df-0b62f573-622b-4394-ac2e-1650d0440a8e button.colab-df-convert');\n",
              "      buttonEl.style.display =\n",
              "        google.colab.kernel.accessAllowed ? 'block' : 'none';\n",
              "\n",
              "      async function convertToInteractive(key) {\n",
              "        const element = document.querySelector('#df-0b62f573-622b-4394-ac2e-1650d0440a8e');\n",
              "        const dataTable =\n",
              "          await google.colab.kernel.invokeFunction('convertToInteractive',\n",
              "                                                    [key], {});\n",
              "        if (!dataTable) return;\n",
              "\n",
              "        const docLinkHtml = 'Like what you see? Visit the ' +\n",
              "          '<a target=\"_blank\" href=https://colab.research.google.com/notebooks/data_table.ipynb>data table notebook</a>'\n",
              "          + ' to learn more about interactive tables.';\n",
              "        element.innerHTML = '';\n",
              "        dataTable['output_type'] = 'display_data';\n",
              "        await google.colab.output.renderOutput(dataTable, element);\n",
              "        const docLink = document.createElement('div');\n",
              "        docLink.innerHTML = docLinkHtml;\n",
              "        element.appendChild(docLink);\n",
              "      }\n",
              "    </script>\n",
              "  </div>\n",
              "\n",
              "\n",
              "    <div id=\"df-a4a37e56-13d5-4d93-9358-259e754a0200\">\n",
              "      <button class=\"colab-df-quickchart\" onclick=\"quickchart('df-a4a37e56-13d5-4d93-9358-259e754a0200')\"\n",
              "                title=\"Suggest charts\"\n",
              "                style=\"display:none;\">\n",
              "\n",
              "<svg xmlns=\"http://www.w3.org/2000/svg\" height=\"24px\"viewBox=\"0 0 24 24\"\n",
              "     width=\"24px\">\n",
              "    <g>\n",
              "        <path d=\"M19 3H5c-1.1 0-2 .9-2 2v14c0 1.1.9 2 2 2h14c1.1 0 2-.9 2-2V5c0-1.1-.9-2-2-2zM9 17H7v-7h2v7zm4 0h-2V7h2v10zm4 0h-2v-4h2v4z\"/>\n",
              "    </g>\n",
              "</svg>\n",
              "      </button>\n",
              "\n",
              "<style>\n",
              "  .colab-df-quickchart {\n",
              "      --bg-color: #E8F0FE;\n",
              "      --fill-color: #1967D2;\n",
              "      --hover-bg-color: #E2EBFA;\n",
              "      --hover-fill-color: #174EA6;\n",
              "      --disabled-fill-color: #AAA;\n",
              "      --disabled-bg-color: #DDD;\n",
              "  }\n",
              "\n",
              "  [theme=dark] .colab-df-quickchart {\n",
              "      --bg-color: #3B4455;\n",
              "      --fill-color: #D2E3FC;\n",
              "      --hover-bg-color: #434B5C;\n",
              "      --hover-fill-color: #FFFFFF;\n",
              "      --disabled-bg-color: #3B4455;\n",
              "      --disabled-fill-color: #666;\n",
              "  }\n",
              "\n",
              "  .colab-df-quickchart {\n",
              "    background-color: var(--bg-color);\n",
              "    border: none;\n",
              "    border-radius: 50%;\n",
              "    cursor: pointer;\n",
              "    display: none;\n",
              "    fill: var(--fill-color);\n",
              "    height: 32px;\n",
              "    padding: 0;\n",
              "    width: 32px;\n",
              "  }\n",
              "\n",
              "  .colab-df-quickchart:hover {\n",
              "    background-color: var(--hover-bg-color);\n",
              "    box-shadow: 0 1px 2px rgba(60, 64, 67, 0.3), 0 1px 3px 1px rgba(60, 64, 67, 0.15);\n",
              "    fill: var(--button-hover-fill-color);\n",
              "  }\n",
              "\n",
              "  .colab-df-quickchart-complete:disabled,\n",
              "  .colab-df-quickchart-complete:disabled:hover {\n",
              "    background-color: var(--disabled-bg-color);\n",
              "    fill: var(--disabled-fill-color);\n",
              "    box-shadow: none;\n",
              "  }\n",
              "\n",
              "  .colab-df-spinner {\n",
              "    border: 2px solid var(--fill-color);\n",
              "    border-color: transparent;\n",
              "    border-bottom-color: var(--fill-color);\n",
              "    animation:\n",
              "      spin 1s steps(1) infinite;\n",
              "  }\n",
              "\n",
              "  @keyframes spin {\n",
              "    0% {\n",
              "      border-color: transparent;\n",
              "      border-bottom-color: var(--fill-color);\n",
              "      border-left-color: var(--fill-color);\n",
              "    }\n",
              "    20% {\n",
              "      border-color: transparent;\n",
              "      border-left-color: var(--fill-color);\n",
              "      border-top-color: var(--fill-color);\n",
              "    }\n",
              "    30% {\n",
              "      border-color: transparent;\n",
              "      border-left-color: var(--fill-color);\n",
              "      border-top-color: var(--fill-color);\n",
              "      border-right-color: var(--fill-color);\n",
              "    }\n",
              "    40% {\n",
              "      border-color: transparent;\n",
              "      border-right-color: var(--fill-color);\n",
              "      border-top-color: var(--fill-color);\n",
              "    }\n",
              "    60% {\n",
              "      border-color: transparent;\n",
              "      border-right-color: var(--fill-color);\n",
              "    }\n",
              "    80% {\n",
              "      border-color: transparent;\n",
              "      border-right-color: var(--fill-color);\n",
              "      border-bottom-color: var(--fill-color);\n",
              "    }\n",
              "    90% {\n",
              "      border-color: transparent;\n",
              "      border-bottom-color: var(--fill-color);\n",
              "    }\n",
              "  }\n",
              "</style>\n",
              "\n",
              "      <script>\n",
              "        async function quickchart(key) {\n",
              "          const quickchartButtonEl =\n",
              "            document.querySelector('#' + key + ' button');\n",
              "          quickchartButtonEl.disabled = true;  // To prevent multiple clicks.\n",
              "          quickchartButtonEl.classList.add('colab-df-spinner');\n",
              "          try {\n",
              "            const charts = await google.colab.kernel.invokeFunction(\n",
              "                'suggestCharts', [key], {});\n",
              "          } catch (error) {\n",
              "            console.error('Error during call to suggestCharts:', error);\n",
              "          }\n",
              "          quickchartButtonEl.classList.remove('colab-df-spinner');\n",
              "          quickchartButtonEl.classList.add('colab-df-quickchart-complete');\n",
              "        }\n",
              "        (() => {\n",
              "          let quickchartButtonEl =\n",
              "            document.querySelector('#df-a4a37e56-13d5-4d93-9358-259e754a0200 button');\n",
              "          quickchartButtonEl.style.display =\n",
              "            google.colab.kernel.accessAllowed ? 'block' : 'none';\n",
              "        })();\n",
              "      </script>\n",
              "    </div>\n",
              "\n",
              "  <div id=\"id_d4550b65-d2fe-450f-9a88-40171556c20c\">\n",
              "    <style>\n",
              "      .colab-df-generate {\n",
              "        background-color: #E8F0FE;\n",
              "        border: none;\n",
              "        border-radius: 50%;\n",
              "        cursor: pointer;\n",
              "        display: none;\n",
              "        fill: #1967D2;\n",
              "        height: 32px;\n",
              "        padding: 0 0 0 0;\n",
              "        width: 32px;\n",
              "      }\n",
              "\n",
              "      .colab-df-generate:hover {\n",
              "        background-color: #E2EBFA;\n",
              "        box-shadow: 0px 1px 2px rgba(60, 64, 67, 0.3), 0px 1px 3px 1px rgba(60, 64, 67, 0.15);\n",
              "        fill: #174EA6;\n",
              "      }\n",
              "\n",
              "      [theme=dark] .colab-df-generate {\n",
              "        background-color: #3B4455;\n",
              "        fill: #D2E3FC;\n",
              "      }\n",
              "\n",
              "      [theme=dark] .colab-df-generate:hover {\n",
              "        background-color: #434B5C;\n",
              "        box-shadow: 0px 1px 3px 1px rgba(0, 0, 0, 0.15);\n",
              "        filter: drop-shadow(0px 1px 2px rgba(0, 0, 0, 0.3));\n",
              "        fill: #FFFFFF;\n",
              "      }\n",
              "    </style>\n",
              "    <button class=\"colab-df-generate\" onclick=\"generateWithVariable('df_cat_count')\"\n",
              "            title=\"Generate code using this dataframe.\"\n",
              "            style=\"display:none;\">\n",
              "\n",
              "  <svg xmlns=\"http://www.w3.org/2000/svg\" height=\"24px\"viewBox=\"0 0 24 24\"\n",
              "       width=\"24px\">\n",
              "    <path d=\"M7,19H8.4L18.45,9,17,7.55,7,17.6ZM5,21V16.75L18.45,3.32a2,2,0,0,1,2.83,0l1.4,1.43a1.91,1.91,0,0,1,.58,1.4,1.91,1.91,0,0,1-.58,1.4L9.25,21ZM18.45,9,17,7.55Zm-12,3A5.31,5.31,0,0,0,4.9,8.1,5.31,5.31,0,0,0,1,6.5,5.31,5.31,0,0,0,4.9,4.9,5.31,5.31,0,0,0,6.5,1,5.31,5.31,0,0,0,8.1,4.9,5.31,5.31,0,0,0,12,6.5,5.46,5.46,0,0,0,6.5,12Z\"/>\n",
              "  </svg>\n",
              "    </button>\n",
              "    <script>\n",
              "      (() => {\n",
              "      const buttonEl =\n",
              "        document.querySelector('#id_d4550b65-d2fe-450f-9a88-40171556c20c button.colab-df-generate');\n",
              "      buttonEl.style.display =\n",
              "        google.colab.kernel.accessAllowed ? 'block' : 'none';\n",
              "\n",
              "      buttonEl.onclick = () => {\n",
              "        google.colab.notebook.generateWithVariable('df_cat_count');\n",
              "      }\n",
              "      })();\n",
              "    </script>\n",
              "  </div>\n",
              "\n",
              "    </div>\n",
              "  </div>\n"
            ],
            "text/plain": [
              "   target  count  Pct of Total Pct of Total Text\n",
              "0       0   4342          0.57              56 %\n",
              "1       1   3271          0.43              43 %"
            ]
          },
          "metadata": {},
          "output_type": "display_data"
        }
      ],
      "source": [
        "#print column names for each table\n",
        "print('columns in df_train:', train_labels.columns)\n",
        "# calculate the count of records in each category\n",
        "df_cat_count = count_field(df = train_labels, field = 'target')\n",
        "display(df_cat_count)"
      ]
    },
    {
      "cell_type": "code",
      "execution_count": 21,
      "metadata": {
        "colab": {
          "base_uri": "https://localhost:8080/",
          "height": 0
        },
        "id": "K9I_mnJgoNga",
        "outputId": "10e7733e-713d-4c95-8804-7e9efb8849da"
      },
      "outputs": [
        {
          "name": "stdout",
          "output_type": "stream",
          "text": [
            "        count\n",
            "target       \n",
            "0        4342\n",
            "1        3271 \n",
            "\n",
            "[-] the catgory of 0 makes up 56 % of the data.\n",
            "[-] the catgory of 1 makes up 43 % of the data.\n"
          ]
        },
        {
          "data": {
            "image/png": "[encoded data removed]",
            "text/plain": [
              "<Figure size 400x400 with 1 Axes>"
            ]
          },
          "metadata": {},
          "output_type": "display_data"
        }
      ],
      "source": [
        "# Summarize the target in the dataset\n",
        "chart = create_single_stacked_bar(df = train_labels, group_by = 'target', stack_by = 'target', fig_size = (4,4), normalize = False, gDEBUG = gDEBUG)\n",
        "table = shape_df_for_stacked_barchart(df = train_labels, group_by = 'target', stack_by = 'target', normalize = False)\n",
        "# Print a summary of the percent share of the total for each category\n",
        "for i in range(len(df_cat_count)):\n",
        "    print('[-] the catgory of', df_cat_count['target'].iloc[i], 'makes up',\n",
        "           df_cat_count['Pct of Total Text'].iloc[i], 'of the data.')"
      ]
    },
    {
      "cell_type": "markdown",
      "metadata": {
        "id": "PKqQq5X1yCDw"
      },
      "source": [
        "## EDA Analysis: Text Distribution"
      ]
    },
    {
      "cell_type": "code",
      "execution_count": 22,
      "metadata": {
        "colab": {
          "base_uri": "https://localhost:8080/",
          "height": 0
        },
        "id": "Wb2Sqv0TqOsm",
        "outputId": "87701337-d634-4040-af68-dbe3ffcca8b3"
      },
      "outputs": [
        {
          "name": "stdout",
          "output_type": "stream",
          "text": [
            "Size of the data by label dictionary: 2 \n",
            "\n",
            "[4342, 3271]\n",
            "['not', 'disaster']\n"
          ]
        },
        {
          "data": {
            "image/png": "[encoded data removed]",
            "text/plain": [
              "<Figure size 640x480 with 1 Axes>"
            ]
          },
          "metadata": {},
          "output_type": "display_data"
        },
        {
          "data": {
            "image/png": "[encoded data removed]",
            "text/plain": [
              "<Figure size 1000x300 with 3 Axes>"
            ]
          },
          "metadata": {},
          "output_type": "display_data"
        },
        {
          "data": {
            "image/png": "[encoded data removed]",
            "text/plain": [
              "<Figure size 1000x300 with 3 Axes>"
            ]
          },
          "metadata": {},
          "output_type": "display_data"
        },
        {
          "data": {
            "image/png": "[encoded data removed]",
            "text/plain": [
              "<Figure size 1000x300 with 3 Axes>"
            ]
          },
          "metadata": {},
          "output_type": "display_data"
        }
      ],
      "source": [
        "data_by_label = create_data_by_label(data=train_labels, label_col='label')\n",
        "# Distribution of number of characters in description\n",
        "viz_class_frequency(data_by_label, label_dict = inverted_label_dict)\n",
        "# Distribution of number of characters in description\n",
        "viz_char_frequency(data_by_label, label_dict = inverted_label_dict)\n",
        "# Distribution of number of words in description\n",
        "viz_word_frequency(data_by_label, label_dict = inverted_label_dict)\n",
        "# Distribution of number of words in description\n",
        "viz_word_length_frequency(data_by_label, label_dict = inverted_label_dict)"
      ]
    },
    {
      "cell_type": "markdown",
      "metadata": {
        "id": "2SnbCeUGydTo"
      },
      "source": [
        "## EDA Results"
      ]
    },
    {
      "cell_type": "markdown",
      "metadata": {
        "id": "fpqY9vM_yefS"
      },
      "source": [
        "The exploratory data analysis of the disaster tweet dataset revealed a well-structured dataset with 7,613 training samples containing 2 features (bianray target). The class distribution is reasonably balanced with approximately 56% non-disaster tweets (target=0) and 43% disaster tweets (target=1). There are some missing values in the keyword field (61 samples) and location field (2,533 samples), the core text data is complete. Analysis of text characteristics showed that both classes have similar character length distributions (typically 50-150 characters) and word count patterns (10-20 words per tweet), with comparable average word lengths across classes. Overall, the dataset demonstrates good data quality with no major preprocessing requirements beyond standard text normalization."
      ]
    },
    {
      "cell_type": "markdown",
      "metadata": {
        "id": "l3xCg6WhgqXI"
      },
      "source": [
        "# 4.&nbsp;Data Cleansing & Text Normalization\n",
        "\n",
        "Address missing values and duplicates, followed by a series of text preprocessing steps. Text pre-processing includes converting text to lowercase, removing punctuation, handling HTML tags, and applying stemming/lemmatization. These cleaning functions ensure the data is standardized and ready for further analysis."
      ]
    },
    {
      "cell_type": "markdown",
      "metadata": {
        "id": "ap4Hw4S8Jd3E"
      },
      "source": [
        "## Core Normalization Functions"
      ]
    },
    {
      "cell_type": "markdown",
      "metadata": {
        "id": "39LHatht6WdH"
      },
      "source": [
        "The current text normalization pipeline was too aggressive and removed too many important words that could be valuable for disaster tweet classification. For example, the text \"Our Deeds are the Reason of this #earthquake May ALLAH Forgive us all\" becomes only \"deed reason hashtag allah\" after processing, losing crucial context words like \"our\", \"forgive\", \"all\", and converting the specific disaster keyword \"#earthquake\" to the generic \"hashtag\".\n",
        "\n",
        "To address this, a more conservative text normalization approach (`text_normalizer_conservative`) was created that:\n",
        "- Preserves more meaningful words by using a smaller stopword list\n",
        "- Converts numbers to words instead of discarding them (e.g., \"101\" becomes \"one hundred one\")\n",
        "- Maintains important context while still cleaning the text appropriately\n",
        "\n",
        "This conservative approach should provide better results for disaster tweet classification by preserving more semantic information."
      ]
    },
    {
      "cell_type": "markdown",
      "metadata": {
        "id": "f2XNdJRyxKe7"
      },
      "source": [
        "EDA Functions recycled from previous Natural Language Processing (NLP) analysis projects. The general patter of completing EDA for NLP typically starts with a standard set of tables and charts to understand the data.*italicized text*\n",
        "\n",
        "*Source:* [auto_classifying_salesforce_cloud_documentation.ipynb](https://github.com/TOM-BOHN/MsDS-supervised-nlp-sfdc-auto-classification/blob/0f26d4b049e22b43e3bffd348e7687b4640c30d2/auto_classifying_salesforce_cloud_documentation.ipynb)"
      ]
    },
    {
      "cell_type": "code",
      "execution_count": 23,
      "metadata": {
        "colab": {
          "base_uri": "https://localhost:8080/"
        },
        "id": "jsujB8YAXe38",
        "outputId": "01bf6344-73bf-4ecb-802b-40accb8fa4a5"
      },
      "outputs": [
        {
          "name": "stdout",
          "output_type": "stream",
          "text": [
            "Text processing functions imported successfully from nlp_utils package\n"
          ]
        }
      ],
      "source": [
        "# Import text processing functions from the nlp_utils package\n",
        "from nlp_utils import (\n",
        "    convert_to_lowercase,\n",
        "    remove_whitespace,\n",
        "    remove_punctuation,\n",
        "    remove_html,\n",
        "    remove_emoji,\n",
        "    remove_http,\n",
        "    convert_acronyms,\n",
        "    convert_contractions,\n",
        "    remove_stopwords,\n",
        "    pyspellchecker,\n",
        "    text_stemmer,\n",
        "    text_lemmatizer,\n",
        "    discard_non_alpha,\n",
        "    convert_numbers_to_words,\n",
        "    keep_pos,\n",
        "    remove_additional_stopwords,\n",
        "    text_normalizer,\n",
        "    text_normalizer_conservative,\n",
        "    apply_text_normalizer\n",
        ")\n",
        "\n",
        "print(\"Text processing functions imported successfully from nlp_utils package\")\n"
      ]
    },
    {
      "cell_type": "markdown",
      "metadata": {
        "id": "2gZaDQqdJoe_"
      },
      "source": [
        "## Apply Text Normalization"
      ]
    },
    {
      "cell_type": "code",
      "execution_count": 24,
      "metadata": {
        "colab": {
          "base_uri": "https://localhost:8080/"
        },
        "id": "EUkkMf0TqOso",
        "outputId": "81e8a214-aa6d-4ea1-a5b7-f1ee19cefb43"
      },
      "outputs": [
        {
          "name": "stdout",
          "output_type": "stream",
          "text": [
            "Size of the training set: 7613\n",
            "Size of the test set: 3263\n",
            "\n",
            "Labels in training set: 2\n",
            "Labels in test set: No label column (added as null)\n",
            "\n",
            "Sample of test set [normalized]:\n",
            "\n",
            "Columns in test set [normalized]: Index(['normalized_text', 'label'], dtype='object') \n",
            "\n",
            "                                     normalized_text  label\n",
            "0        deed reason earthquake may allah forgive we      1\n",
            "1              forest fire near la ronge sask canada      1\n",
            "2  resident ask shelter place notify officer evac...      1\n",
            "\n",
            "Sample of test set [data]:\n",
            "\n",
            "Columns in test set [data]: Index(['id', 'keyword', 'location', 'text', 'length', 'word_count',\n",
            "       'normalized_text'],\n",
            "      dtype='object') \n",
            "\n",
            "   id keyword location                                               text  \\\n",
            "0   1     NaN      NaN  Our Deeds are the Reason of this #earthquake M...   \n",
            "1   4     NaN      NaN             Forest fire near La Ronge Sask. Canada   \n",
            "2   5     NaN      NaN  All residents asked to 'shelter in place' are ...   \n",
            "\n",
            "   target  label  length  word_count  \\\n",
            "0       1      1      69          13   \n",
            "1       1      1      38           7   \n",
            "2       1      1     133          22   \n",
            "\n",
            "                                     normalized_text  \n",
            "0        deed reason earthquake may allah forgive we  \n",
            "1              forest fire near la ronge sask canada  \n",
            "2  resident ask shelter place notify officer evac...  \n",
            "\n",
            "CPU times: user 32 s, sys: 13.2 ms, total: 32 s\n",
            "Wall time: 32 s\n"
          ]
        }
      ],
      "source": [
        "%%time\n",
        "# Apply text normalization\n",
        "data_train_norm, data_test_norm, data_train, data_test  = apply_text_normalizer(\n",
        "    train_labels,\n",
        "    test_labels,\n",
        "    normalization_type='conservative'\n",
        ")"
      ]
    },
    {
      "cell_type": "code",
      "execution_count": 25,
      "metadata": {
        "colab": {
          "base_uri": "https://localhost:8080/"
        },
        "id": "h7_a--LSxgi2",
        "outputId": "dfba75c8-4aa3-4b59-bbc5-7c6c42129650"
      },
      "outputs": [
        {
          "name": "stdout",
          "output_type": "stream",
          "text": [
            "Our Deeds are the Reason of this #earthquake May ALLAH Forgive us all\n",
            "\n",
            "## change to ##\n",
            "\n",
            "deed reason earthquake may allah forgive we\n"
          ]
        }
      ],
      "source": [
        "if gDEBUG:\n",
        "  # Preview the changes for the before and after text\n",
        "  print(textwrap.fill(data_train['text'][0], width=100))\n",
        "  print('\\n## change to ##\\n')\n",
        "  print(textwrap.fill(data_train['normalized_text'][0], width=100))"
      ]
    },
    {
      "cell_type": "markdown",
      "metadata": {
        "id": "pm-_DGFFmuSv"
      },
      "source": [
        "# 5.&nbsp;Word Embeddings + Vectorization\n",
        "\n",
        "This section converts text into numerical representations that neural networks can process. The process involves three main steps:\n",
        "- (1) **Tokenization** - breaking text into individual words and assigning each word a unique number\n",
        "- (2) **Padding** - making all sequences the same length by adding zeros\n",
        "- (3) **GloVe Embeddings** - loading pre-trained 100-dimensional word vectors that capture semantic meaning.\n",
        "\n",
        "GloVe embeddings help the model understand word relationships (e.g., \"fire\" and \"flame\" are similar) without having to learn these relationships from scratch, significantly improving performance on the disaster tweet classification task."
      ]
    },
    {
      "cell_type": "markdown",
      "metadata": {
        "id": "a3Eh4mlcslIS"
      },
      "source": [
        "## Word Embeddings from GloVe"
      ]
    },
    {
      "cell_type": "code",
      "execution_count": 26,
      "metadata": {
        "id": "vqfL8yoqslUy"
      },
      "outputs": [],
      "source": [
        "train_texts = data_train_norm['normalized_text'].values\n",
        "train_target = data_train_norm['label'].values.astype('int')\n",
        "test_texts = data_test['normalized_text'].values\n",
        "test_ids = data_test['id'].values"
      ]
    },
    {
      "cell_type": "code",
      "execution_count": 27,
      "metadata": {
        "colab": {
          "base_uri": "https://localhost:8080/"
        },
        "id": "hNmeUFijxQK6",
        "outputId": "2221435a-c4b1-4545-f502-6831d079f266"
      },
      "outputs": [
        {
          "data": {
            "text/plain": [
              "14269"
            ]
          },
          "execution_count": 27,
          "metadata": {},
          "output_type": "execute_result"
        }
      ],
      "source": [
        "# Calculate the length of our vocabulary\n",
        "word_tokenizer = Tokenizer()\n",
        "word_tokenizer.fit_on_texts(train_texts)\n",
        "\n",
        "vocab_length = len(word_tokenizer.word_index) + 1\n",
        "vocab_length"
      ]
    },
    {
      "cell_type": "code",
      "execution_count": 28,
      "metadata": {
        "colab": {
          "base_uri": "https://localhost:8080/"
        },
        "id": "eveb2yetxQP1",
        "outputId": "0acca84f-6dbc-4e73-b7e8-76242697131a"
      },
      "outputs": [
        {
          "data": {
            "text/plain": [
              "array([[3614,  475,  218, ...,    0,    0,    0],\n",
              "       [ 155,    9,  203, ...,    0,    0,    0],\n",
              "       [1446,  509, 1755, ...,    0,    0,    0],\n",
              "       ...,\n",
              "       [  13,  506,  468, ...,    0,    0,    0],\n",
              "       [  42,  797, 2594, ...,    0,    0,    0],\n",
              "       [ 141,   46,  413, ...,    0,    0,    0]], dtype=int32)"
            ]
          },
          "execution_count": 28,
          "metadata": {},
          "output_type": "execute_result"
        }
      ],
      "source": [
        "# Pad_sequences\n",
        "def embed(corpus):\n",
        "    return word_tokenizer.texts_to_sequences(corpus)\n",
        "\n",
        "longest_train = max(train_texts, key=lambda sentence: len(word_tokenize(sentence)))\n",
        "length_long_sentence = len(word_tokenize(longest_train))\n",
        "\n",
        "train_padded_sentences = pad_sequences(\n",
        "    embed(train_texts),\n",
        "    length_long_sentence,\n",
        "    padding='post'\n",
        ")\n",
        "\n",
        "test_padded_sentences = pad_sequences(\n",
        "    embed(test_texts),\n",
        "    length_long_sentence,\n",
        "    padding='post'\n",
        ")\n",
        "\n",
        "train_padded_sentences"
      ]
    },
    {
      "cell_type": "code",
      "execution_count": 29,
      "metadata": {
        "id": "7d2zMhi9z5T_"
      },
      "outputs": [],
      "source": [
        "embeddings_dictionary = dict()\n",
        "embedding_dim = 100\n",
        "\n",
        "# Load GloVe 100D embeddings\n",
        "with open(file_path_glove) as fp:\n",
        "    for line in fp.readlines():\n",
        "        records = line.split()\n",
        "        word = records[0]\n",
        "        vector_dimensions = np.asarray(records[1:], dtype='float32')\n",
        "        embeddings_dictionary [word] = vector_dimensions"
      ]
    },
    {
      "cell_type": "code",
      "execution_count": 30,
      "metadata": {
        "colab": {
          "base_uri": "https://localhost:8080/"
        },
        "id": "ABhvGCtgyr5B",
        "outputId": "ccc72580-81e8-4a54-c5c5-6321bb4e6fc4"
      },
      "outputs": [
        {
          "data": {
            "text/plain": [
              "array([[ 0.        ,  0.        ,  0.        , ...,  0.        ,\n",
              "         0.        ,  0.        ],\n",
              "       [-0.22556999,  0.49417999,  0.48609999, ..., -0.45743999,\n",
              "         0.49645999,  0.34906   ],\n",
              "       [-0.071953  ,  0.23127   ,  0.023731  , ..., -0.71894997,\n",
              "         0.86894   ,  0.19539   ],\n",
              "       ...,\n",
              "       [ 0.        ,  0.        ,  0.        , ...,  0.        ,\n",
              "         0.        ,  0.        ],\n",
              "       [ 0.19814   , -0.33517   , -0.13950001, ..., -0.070356  ,\n",
              "        -0.18391   ,  0.62439001],\n",
              "       [-0.34132001,  0.26423001,  0.47813001, ..., -0.92395002,\n",
              "         0.48275   ,  0.52947998]])"
            ]
          },
          "execution_count": 30,
          "metadata": {},
          "output_type": "execute_result"
        }
      ],
      "source": [
        "embedding_matrix = np.zeros((vocab_length, embedding_dim))\n",
        "\n",
        "for word, index in word_tokenizer.word_index.items():\n",
        "    embedding_vector = embeddings_dictionary.get(word)\n",
        "    if embedding_vector is not None:\n",
        "        embedding_matrix[index] = embedding_vector\n",
        "\n",
        "embedding_matrix"
      ]
    },
    {
      "cell_type": "markdown",
      "metadata": {
        "id": "d_2otC8atcIZ"
      },
      "source": [
        "# 6.&nbsp;Train-Validation-Test Split\n",
        "\n",
        "Split the dataset into training, validation, and test sets. Use tratified splitting to ensure that the class distribution remains consistent across these sets. The distribution of records across the labels is visualized to ensure a balanced split."
      ]
    },
    {
      "cell_type": "markdown",
      "metadata": {
        "id": "cQClGoqMtfpo"
      },
      "source": [
        "## Test Data Split Execution"
      ]
    },
    {
      "cell_type": "code",
      "execution_count": 31,
      "metadata": {
        "id": "LPhTJyZF4wSq"
      },
      "outputs": [],
      "source": [
        "# Split data into train and test sets\n",
        "X_train, X_val, y_train, y_val = train_test_split(\n",
        "    train_padded_sentences,\n",
        "    train_target,\n",
        "    test_size=0.2,\n",
        "    stratify=train_target,\n",
        "    random_state=27\n",
        ")"
      ]
    },
    {
      "cell_type": "code",
      "execution_count": 32,
      "metadata": {
        "colab": {
          "base_uri": "https://localhost:8080/"
        },
        "id": "eblGgGzzuO_C",
        "outputId": "b8f9ca44-6360-443f-d8cb-ad2a5ff5b83b"
      },
      "outputs": [
        {
          "name": "stdout",
          "output_type": "stream",
          "text": [
            "[[ 174  470   32  591  592 2027    0    0    0    0    0    0    0    0\n",
            "     0    0    0    0    0    0    0    0    0    0    0    0    0    0\n",
            "     0    0    0    0    0    0]\n",
            " [ 312  187 8064   22  533 1283 1076  314  209  586  867    0    0    0\n",
            "     0    0    0    0    0    0    0    0    0    0    0    0    0    0\n",
            "     0    0    0    0    0    0]]\n",
            "[1 0 1 0]\n",
            "[[ 142    0    0    0    0    0    0    0    0    0    0    0    0    0\n",
            "     0    0    0    0    0    0    0    0    0    0    0    0    0    0\n",
            "     0    0    0    0    0    0]\n",
            " [  78    8    5  566  587   10   71  308  366 3361    0    0    0    0\n",
            "     0    0    0    0    0    0    0    0    0    0    0    0    0    0\n",
            "     0    0    0    0    0    0]]\n",
            "[0 1 0 0]\n"
          ]
        }
      ],
      "source": [
        "# Preview Output\n",
        "if gDEBUG:\n",
        "  print(X_train[:2])\n",
        "  print(y_train[:4])\n",
        "  print(X_val[:2])\n",
        "  print(y_val[:4])"
      ]
    },
    {
      "cell_type": "markdown",
      "metadata": {
        "id": "nrJc1ZCi0IVf"
      },
      "source": [
        "# 7.&nbsp; Baseline Models: LSTM (RNN)"
      ]
    },
    {
      "cell_type": "markdown",
      "metadata": {
        "id": "GO9FkdrHJ5US"
      },
      "source": [
        "## Model Functions"
      ]
    },
    {
      "cell_type": "code",
      "execution_count": 33,
      "metadata": {
        "id": "HoVYjp1wqOs8"
      },
      "outputs": [],
      "source": [
        "# Display a learning curve and a loss curve\n",
        "def learning_curve(history):\n",
        "    acc = history.history['accuracy']\n",
        "    val_acc = history.history['val_accuracy']\n",
        "\n",
        "    loss = history.history['loss']\n",
        "    val_loss = history.history['val_loss']\n",
        "\n",
        "    plt.figure(figsize=(8, 10))\n",
        "    plt.subplot(2, 1, 1)\n",
        "    plt.plot(acc, label='Training Accuracy')\n",
        "    plt.plot(val_acc, label='Validation Accuracy')\n",
        "    plt.legend(loc='lower right')\n",
        "    plt.ylabel('Accuracy')\n",
        "    plt.ylim([min(plt.ylim()),1])\n",
        "    plt.title('Training and Validation Accuracy')\n",
        "\n",
        "    plt.subplot(2, 1, 2)\n",
        "    plt.plot(loss, label='Training Loss')\n",
        "    plt.plot(val_loss, label='Validation Loss')\n",
        "    plt.legend(loc='upper right')\n",
        "    plt.ylabel('Cross Entropy')\n",
        "    plt.ylim([0,1.0])\n",
        "    plt.title('Training and Validation Loss')\n",
        "    plt.xlabel('epoch')"
      ]
    },
    {
      "cell_type": "code",
      "execution_count": 34,
      "metadata": {
        "id": "uCYKzuQg6Iro"
      },
      "outputs": [],
      "source": [
        "def show_metrics(pred_tag, y_test):\n",
        "    print(\"F1-score: \", f1_score(pred_tag, y_test))\n",
        "    print(\"Precision: \", precision_score(pred_tag, y_test))\n",
        "    print(\"Recall: \", recall_score(pred_tag, y_test))\n",
        "    print(\"Acuracy: \", accuracy_score(pred_tag, y_test))\n",
        "    print(\"-\"*50)\n",
        "    print(classification_report(pred_tag, y_test))"
      ]
    },
    {
      "cell_type": "code",
      "execution_count": 35,
      "metadata": {
        "id": "XdfNVZjNnXG5"
      },
      "outputs": [],
      "source": [
        "# Define a time element to add to history of model training\n",
        "class EpochTimeHistory(Callback):\n",
        "    \"\"\"A custom Keras callback to record the duration of each epoch.\"\"\"\n",
        "    def on_epoch_begin(self, epoch, logs=None):\n",
        "        # Record the start time at the beginning of each epoch\n",
        "        self.epoch_start_time = time.time()\n",
        "\n",
        "    def on_epoch_end(self, epoch, logs=None):\n",
        "        # Calculate the epoch's duration\n",
        "        epoch_duration = time.time() - self.epoch_start_time\n",
        "\n",
        "        # Add the duration to the logs dictionary.\n",
        "        # Keras will automatically include this in the final history object.\n",
        "        if logs is not None:\n",
        "            logs['epoch_duration'] = epoch_duration"
      ]
    },
    {
      "cell_type": "code",
      "execution_count": 36,
      "metadata": {
        "id": "dW0lvPspnbsj"
      },
      "outputs": [],
      "source": [
        "#ensure the output directory for saved models exists\n",
        "save_dir = '/content/drive/MyDrive/[1.4] MsDS Class Files/-- DTSA 5511 Deep Learning/saved_models'\n",
        "os.makedirs(save_dir, exist_ok=True) # This creates the folder if it doesn't exist"
      ]
    },
    {
      "cell_type": "markdown",
      "metadata": {
        "id": "BOPqrGFRnjEm"
      },
      "source": [
        "## Build the Model Architecture"
      ]
    },
    {
      "cell_type": "markdown",
      "metadata": {
        "id": "-ShvC1frref-"
      },
      "source": [
        "The model architecture is comprised of 5 main parts:\n",
        "1. **Input**: This is the Embedding layer, which ingests the vocabulary and embedding matrix to product an output vector of 100 dimensions representing each wor.\n",
        "1. **LSTM**: This is theLong Short-Term Memory component. It is the Recurrent Neural Netrwork (RNN). That process the sentence front-to-back and back-to-front.\n",
        "1. **Summerization**: Once the LSTM has processed the sentence, the GlobalMaxPool1D, distills the information to summarize the most significant signals into a single vecotr.\n",
        "1. **Classification**: A fully connected nueral network set of layers is used to learn the complex patterns. This component uses BatchNormalization, Dens Layers, and Dropout.\n",
        "1. **Output**: A final output layer, complete the binary classification with the sigmoid function to determin the assigned class."
      ]
    },
    {
      "cell_type": "code",
      "execution_count": 37,
      "metadata": {
        "id": "cVHe6PZAnjRS"
      },
      "outputs": [],
      "source": [
        "# Model from https://www.kaggle.com/mariapushkareva/nlp-disaster-tweets-with-glove-and-lstm/data\n",
        "\n",
        "def glove_lstm():\n",
        "    # Build the model\n",
        "    model = Sequential()\n",
        "    # Cofigure the architecture\n",
        "    model.add(Embedding(\n",
        "        input_dim=embedding_matrix.shape[0],\n",
        "        output_dim=embedding_matrix.shape[1],\n",
        "        weights = [embedding_matrix]\n",
        "    ))\n",
        "    # Cofigure the architecture\n",
        "    model.add(Bidirectional(LSTM(\n",
        "        length_long_sentence,\n",
        "        return_sequences = True,\n",
        "        recurrent_dropout=0.2\n",
        "    )))\n",
        "    # Cofigure the architecture\n",
        "    model.add(GlobalMaxPool1D())\n",
        "    model.add(BatchNormalization())\n",
        "    model.add(Dropout(0.5))\n",
        "    model.add(Dense(length_long_sentence, activation = \"relu\"))\n",
        "    model.add(Dropout(0.5))\n",
        "    model.add(Dense(length_long_sentence, activation = \"relu\"))\n",
        "    model.add(Dropout(0.5))\n",
        "    model.add(Dense(1, activation = 'sigmoid'))\n",
        "    # Compile the model\n",
        "    model.compile(\n",
        "        optimizer='rmsprop',\n",
        "        loss='binary_crossentropy',\n",
        "        metrics=['accuracy']\n",
        "    )\n",
        "\n",
        "    return model"
      ]
    },
    {
      "cell_type": "code",
      "execution_count": 38,
      "metadata": {
        "colab": {
          "base_uri": "https://localhost:8080/",
          "height": 490
        },
        "id": "dGZXFigpo3yw",
        "outputId": "7abf66aa-39cd-4bd7-bcc3-1487b115fe37"
      },
      "outputs": [
        {
          "data": {
            "text/html": [
              "<pre style=\"white-space:pre;overflow-x:auto;line-height:normal;font-family:Menlo,'DejaVu Sans Mono',consolas,'Courier New',monospace\"><span style=\"font-weight: bold\">Model: \"sequential\"</span>\n",
              "</pre>\n"
            ],
            "text/plain": [
              "\u001b[1mModel: \"sequential\"\u001b[0m\n"
            ]
          },
          "metadata": {},
          "output_type": "display_data"
        },
        {
          "data": {
            "text/html": [
              "<pre style=\"white-space:pre;overflow-x:auto;line-height:normal;font-family:Menlo,'DejaVu Sans Mono',consolas,'Courier New',monospace\">┏━━━━━━━━━━━━━━━━━━━━━━━━━━━━━━━━━┳━━━━━━━━━━━━━━━━━━━━━━━━┳━━━━━━━━━━━━━━━┓\n",
              "┃<span style=\"font-weight: bold\"> Layer (type)                    </span>┃<span style=\"font-weight: bold\"> Output Shape           </span>┃<span style=\"font-weight: bold\">       Param # </span>┃\n",
              "┡━━━━━━━━━━━━━━━━━━━━━━━━━━━━━━━━━╇━━━━━━━━━━━━━━━━━━━━━━━━╇━━━━━━━━━━━━━━━┩\n",
              "│ embedding (<span style=\"color: #0087ff; text-decoration-color: #0087ff\">Embedding</span>)           │ (<span style=\"color: #00d7ff; text-decoration-color: #00d7ff\">None</span>, <span style=\"color: #00af00; text-decoration-color: #00af00\">34</span>, <span style=\"color: #00af00; text-decoration-color: #00af00\">100</span>)        │     <span style=\"color: #00af00; text-decoration-color: #00af00\">1,426,900</span> │\n",
              "├─────────────────────────────────┼────────────────────────┼───────────────┤\n",
              "│ bidirectional (<span style=\"color: #0087ff; text-decoration-color: #0087ff\">Bidirectional</span>)   │ (<span style=\"color: #00d7ff; text-decoration-color: #00d7ff\">None</span>, <span style=\"color: #00af00; text-decoration-color: #00af00\">34</span>, <span style=\"color: #00af00; text-decoration-color: #00af00\">68</span>)         │        <span style=\"color: #00af00; text-decoration-color: #00af00\">36,720</span> │\n",
              "├─────────────────────────────────┼────────────────────────┼───────────────┤\n",
              "│ global_max_pooling1d            │ (<span style=\"color: #00d7ff; text-decoration-color: #00d7ff\">None</span>, <span style=\"color: #00af00; text-decoration-color: #00af00\">68</span>)             │             <span style=\"color: #00af00; text-decoration-color: #00af00\">0</span> │\n",
              "│ (<span style=\"color: #0087ff; text-decoration-color: #0087ff\">GlobalMaxPooling1D</span>)            │                        │               │\n",
              "├─────────────────────────────────┼────────────────────────┼───────────────┤\n",
              "│ batch_normalization             │ (<span style=\"color: #00d7ff; text-decoration-color: #00d7ff\">None</span>, <span style=\"color: #00af00; text-decoration-color: #00af00\">68</span>)             │           <span style=\"color: #00af00; text-decoration-color: #00af00\">272</span> │\n",
              "│ (<span style=\"color: #0087ff; text-decoration-color: #0087ff\">BatchNormalization</span>)            │                        │               │\n",
              "├─────────────────────────────────┼────────────────────────┼───────────────┤\n",
              "│ dropout (<span style=\"color: #0087ff; text-decoration-color: #0087ff\">Dropout</span>)               │ (<span style=\"color: #00d7ff; text-decoration-color: #00d7ff\">None</span>, <span style=\"color: #00af00; text-decoration-color: #00af00\">68</span>)             │             <span style=\"color: #00af00; text-decoration-color: #00af00\">0</span> │\n",
              "├─────────────────────────────────┼────────────────────────┼───────────────┤\n",
              "│ dense (<span style=\"color: #0087ff; text-decoration-color: #0087ff\">Dense</span>)                   │ (<span style=\"color: #00d7ff; text-decoration-color: #00d7ff\">None</span>, <span style=\"color: #00af00; text-decoration-color: #00af00\">34</span>)             │         <span style=\"color: #00af00; text-decoration-color: #00af00\">2,346</span> │\n",
              "├─────────────────────────────────┼────────────────────────┼───────────────┤\n",
              "│ dropout_1 (<span style=\"color: #0087ff; text-decoration-color: #0087ff\">Dropout</span>)             │ (<span style=\"color: #00d7ff; text-decoration-color: #00d7ff\">None</span>, <span style=\"color: #00af00; text-decoration-color: #00af00\">34</span>)             │             <span style=\"color: #00af00; text-decoration-color: #00af00\">0</span> │\n",
              "├─────────────────────────────────┼────────────────────────┼───────────────┤\n",
              "│ dense_1 (<span style=\"color: #0087ff; text-decoration-color: #0087ff\">Dense</span>)                 │ (<span style=\"color: #00d7ff; text-decoration-color: #00d7ff\">None</span>, <span style=\"color: #00af00; text-decoration-color: #00af00\">34</span>)             │         <span style=\"color: #00af00; text-decoration-color: #00af00\">1,190</span> │\n",
              "├─────────────────────────────────┼────────────────────────┼───────────────┤\n",
              "│ dropout_2 (<span style=\"color: #0087ff; text-decoration-color: #0087ff\">Dropout</span>)             │ (<span style=\"color: #00d7ff; text-decoration-color: #00d7ff\">None</span>, <span style=\"color: #00af00; text-decoration-color: #00af00\">34</span>)             │             <span style=\"color: #00af00; text-decoration-color: #00af00\">0</span> │\n",
              "├─────────────────────────────────┼────────────────────────┼───────────────┤\n",
              "│ dense_2 (<span style=\"color: #0087ff; text-decoration-color: #0087ff\">Dense</span>)                 │ (<span style=\"color: #00d7ff; text-decoration-color: #00d7ff\">None</span>, <span style=\"color: #00af00; text-decoration-color: #00af00\">1</span>)              │            <span style=\"color: #00af00; text-decoration-color: #00af00\">35</span> │\n",
              "└─────────────────────────────────┴────────────────────────┴───────────────┘\n",
              "</pre>\n"
            ],
            "text/plain": [
              "┏━━━━━━━━━━━━━━━━━━━━━━━━━━━━━━━━━┳━━━━━━━━━━━━━━━━━━━━━━━━┳━━━━━━━━━━━━━━━┓\n",
              "┃\u001b[1m \u001b[0m\u001b[1mLayer (type)                   \u001b[0m\u001b[1m \u001b[0m┃\u001b[1m \u001b[0m\u001b[1mOutput Shape          \u001b[0m\u001b[1m \u001b[0m┃\u001b[1m \u001b[0m\u001b[1m      Param #\u001b[0m\u001b[1m \u001b[0m┃\n",
              "┡━━━━━━━━━━━━━━━━━━━━━━━━━━━━━━━━━╇━━━━━━━━━━━━━━━━━━━━━━━━╇━━━━━━━━━━━━━━━┩\n",
              "│ embedding (\u001b[38;5;33mEmbedding\u001b[0m)           │ (\u001b[38;5;45mNone\u001b[0m, \u001b[38;5;34m34\u001b[0m, \u001b[38;5;34m100\u001b[0m)        │     \u001b[38;5;34m1,426,900\u001b[0m │\n",
              "├─────────────────────────────────┼────────────────────────┼───────────────┤\n",
              "│ bidirectional (\u001b[38;5;33mBidirectional\u001b[0m)   │ (\u001b[38;5;45mNone\u001b[0m, \u001b[38;5;34m34\u001b[0m, \u001b[38;5;34m68\u001b[0m)         │        \u001b[38;5;34m36,720\u001b[0m │\n",
              "├─────────────────────────────────┼────────────────────────┼───────────────┤\n",
              "│ global_max_pooling1d            │ (\u001b[38;5;45mNone\u001b[0m, \u001b[38;5;34m68\u001b[0m)             │             \u001b[38;5;34m0\u001b[0m │\n",
              "│ (\u001b[38;5;33mGlobalMaxPooling1D\u001b[0m)            │                        │               │\n",
              "├─────────────────────────────────┼────────────────────────┼───────────────┤\n",
              "│ batch_normalization             │ (\u001b[38;5;45mNone\u001b[0m, \u001b[38;5;34m68\u001b[0m)             │           \u001b[38;5;34m272\u001b[0m │\n",
              "│ (\u001b[38;5;33mBatchNormalization\u001b[0m)            │                        │               │\n",
              "├─────────────────────────────────┼────────────────────────┼───────────────┤\n",
              "│ dropout (\u001b[38;5;33mDropout\u001b[0m)               │ (\u001b[38;5;45mNone\u001b[0m, \u001b[38;5;34m68\u001b[0m)             │             \u001b[38;5;34m0\u001b[0m │\n",
              "├─────────────────────────────────┼────────────────────────┼───────────────┤\n",
              "│ dense (\u001b[38;5;33mDense\u001b[0m)                   │ (\u001b[38;5;45mNone\u001b[0m, \u001b[38;5;34m34\u001b[0m)             │         \u001b[38;5;34m2,346\u001b[0m │\n",
              "├─────────────────────────────────┼────────────────────────┼───────────────┤\n",
              "│ dropout_1 (\u001b[38;5;33mDropout\u001b[0m)             │ (\u001b[38;5;45mNone\u001b[0m, \u001b[38;5;34m34\u001b[0m)             │             \u001b[38;5;34m0\u001b[0m │\n",
              "├─────────────────────────────────┼────────────────────────┼───────────────┤\n",
              "│ dense_1 (\u001b[38;5;33mDense\u001b[0m)                 │ (\u001b[38;5;45mNone\u001b[0m, \u001b[38;5;34m34\u001b[0m)             │         \u001b[38;5;34m1,190\u001b[0m │\n",
              "├─────────────────────────────────┼────────────────────────┼───────────────┤\n",
              "│ dropout_2 (\u001b[38;5;33mDropout\u001b[0m)             │ (\u001b[38;5;45mNone\u001b[0m, \u001b[38;5;34m34\u001b[0m)             │             \u001b[38;5;34m0\u001b[0m │\n",
              "├─────────────────────────────────┼────────────────────────┼───────────────┤\n",
              "│ dense_2 (\u001b[38;5;33mDense\u001b[0m)                 │ (\u001b[38;5;45mNone\u001b[0m, \u001b[38;5;34m1\u001b[0m)              │            \u001b[38;5;34m35\u001b[0m │\n",
              "└─────────────────────────────────┴────────────────────────┴───────────────┘\n"
            ]
          },
          "metadata": {},
          "output_type": "display_data"
        },
        {
          "data": {
            "text/html": [
              "<pre style=\"white-space:pre;overflow-x:auto;line-height:normal;font-family:Menlo,'DejaVu Sans Mono',consolas,'Courier New',monospace\"><span style=\"font-weight: bold\"> Total params: </span><span style=\"color: #00af00; text-decoration-color: #00af00\">1,467,463</span> (5.60 MB)\n",
              "</pre>\n"
            ],
            "text/plain": [
              "\u001b[1m Total params: \u001b[0m\u001b[38;5;34m1,467,463\u001b[0m (5.60 MB)\n"
            ]
          },
          "metadata": {},
          "output_type": "display_data"
        },
        {
          "data": {
            "text/html": [
              "<pre style=\"white-space:pre;overflow-x:auto;line-height:normal;font-family:Menlo,'DejaVu Sans Mono',consolas,'Courier New',monospace\"><span style=\"font-weight: bold\"> Trainable params: </span><span style=\"color: #00af00; text-decoration-color: #00af00\">1,467,327</span> (5.60 MB)\n",
              "</pre>\n"
            ],
            "text/plain": [
              "\u001b[1m Trainable params: \u001b[0m\u001b[38;5;34m1,467,327\u001b[0m (5.60 MB)\n"
            ]
          },
          "metadata": {},
          "output_type": "display_data"
        },
        {
          "data": {
            "text/html": [
              "<pre style=\"white-space:pre;overflow-x:auto;line-height:normal;font-family:Menlo,'DejaVu Sans Mono',consolas,'Courier New',monospace\"><span style=\"font-weight: bold\"> Non-trainable params: </span><span style=\"color: #00af00; text-decoration-color: #00af00\">136</span> (544.00 B)\n",
              "</pre>\n"
            ],
            "text/plain": [
              "\u001b[1m Non-trainable params: \u001b[0m\u001b[38;5;34m136\u001b[0m (544.00 B)\n"
            ]
          },
          "metadata": {},
          "output_type": "display_data"
        }
      ],
      "source": [
        "# Create an instance of the model\n",
        "model_0 = glove_lstm()\n",
        "# Manually build the model\n",
        "model_0.build(input_shape=(None, length_long_sentence))\n",
        "# Display the model summary\n",
        "model_0.summary()"
      ]
    },
    {
      "cell_type": "markdown",
      "metadata": {
        "id": "0eMVteAb01Vs"
      },
      "source": [
        "## Train/Fit the Model"
      ]
    },
    {
      "cell_type": "code",
      "execution_count": 39,
      "metadata": {
        "id": "hEyEXjG-qOs8"
      },
      "outputs": [],
      "source": [
        "# Callbacks for early stopping and reducing learning rate\n",
        "time_history_callback_0 = EpochTimeHistory()\n",
        "early_stopping_0 = EarlyStopping(monitor='val_loss', patience=10, restore_best_weights=True)\n",
        "reduce_lr_0 = ReduceLROnPlateau(monitor='val_loss', factor=0.2, patience=5, min_lr=0.000001)"
      ]
    },
    {
      "cell_type": "code",
      "execution_count": 40,
      "metadata": {
        "colab": {
          "base_uri": "https://localhost:8080/"
        },
        "id": "wAv4nz3S9iLN",
        "outputId": "f8139ce0-2249-4c00-f4fe-8ec34072c8a0"
      },
      "outputs": [
        {
          "name": "stdout",
          "output_type": "stream",
          "text": [
            "Epoch 1/30\n",
            "\u001b[1m96/96\u001b[0m \u001b[32m━━━━━━━━━━━━━━━━━━━━\u001b[0m\u001b[37m\u001b[0m \u001b[1m21s\u001b[0m 119ms/step - accuracy: 0.5549 - loss: 0.8573 - val_accuracy: 0.7630 - val_loss: 0.6417 - learning_rate: 0.0010 - epoch_duration: 20.7041\n",
            "Epoch 2/30\n",
            "\u001b[1m96/96\u001b[0m \u001b[32m━━━━━━━━━━━━━━━━━━━━\u001b[0m\u001b[37m\u001b[0m \u001b[1m11s\u001b[0m 114ms/step - accuracy: 0.6725 - loss: 0.6265 - val_accuracy: 0.7814 - val_loss: 0.5803 - learning_rate: 0.0010 - epoch_duration: 10.9380\n",
            "Epoch 3/30\n",
            "\u001b[1m96/96\u001b[0m \u001b[32m━━━━━━━━━━━━━━━━━━━━\u001b[0m\u001b[37m\u001b[0m \u001b[1m11s\u001b[0m 114ms/step - accuracy: 0.7490 - loss: 0.5561 - val_accuracy: 0.7951 - val_loss: 0.5195 - learning_rate: 0.0010 - epoch_duration: 10.9435\n",
            "Epoch 4/30\n",
            "\u001b[1m96/96\u001b[0m \u001b[32m━━━━━━━━━━━━━━━━━━━━\u001b[0m\u001b[37m\u001b[0m \u001b[1m11s\u001b[0m 113ms/step - accuracy: 0.7739 - loss: 0.5028 - val_accuracy: 0.7919 - val_loss: 0.4804 - learning_rate: 0.0010 - epoch_duration: 10.9438\n",
            "Epoch 5/30\n",
            "\u001b[1m96/96\u001b[0m \u001b[32m━━━━━━━━━━━━━━━━━━━━\u001b[0m\u001b[37m\u001b[0m \u001b[1m11s\u001b[0m 114ms/step - accuracy: 0.8072 - loss: 0.4603 - val_accuracy: 0.8004 - val_loss: 0.4472 - learning_rate: 0.0010 - epoch_duration: 10.9735\n",
            "Epoch 6/30\n",
            "\u001b[1m96/96\u001b[0m \u001b[32m━━━━━━━━━━━━━━━━━━━━\u001b[0m\u001b[37m\u001b[0m \u001b[1m11s\u001b[0m 111ms/step - accuracy: 0.8055 - loss: 0.4547 - val_accuracy: 0.8050 - val_loss: 0.4357 - learning_rate: 0.0010 - epoch_duration: 10.6863\n",
            "Epoch 7/30\n",
            "\u001b[1m96/96\u001b[0m \u001b[32m━━━━━━━━━━━━━━━━━━━━\u001b[0m\u001b[37m\u001b[0m \u001b[1m11s\u001b[0m 113ms/step - accuracy: 0.8312 - loss: 0.4221 - val_accuracy: 0.8017 - val_loss: 0.4648 - learning_rate: 0.0010 - epoch_duration: 10.8670\n",
            "Epoch 8/30\n",
            "\u001b[1m96/96\u001b[0m \u001b[32m━━━━━━━━━━━━━━━━━━━━\u001b[0m\u001b[37m\u001b[0m \u001b[1m11s\u001b[0m 113ms/step - accuracy: 0.8405 - loss: 0.4030 - val_accuracy: 0.8102 - val_loss: 0.4305 - learning_rate: 0.0010 - epoch_duration: 10.8791\n",
            "Epoch 9/30\n",
            "\u001b[1m96/96\u001b[0m \u001b[32m━━━━━━━━━━━━━━━━━━━━\u001b[0m\u001b[37m\u001b[0m \u001b[1m11s\u001b[0m 112ms/step - accuracy: 0.8349 - loss: 0.3979 - val_accuracy: 0.8162 - val_loss: 0.4399 - learning_rate: 0.0010 - epoch_duration: 10.7858\n",
            "Epoch 10/30\n",
            "\u001b[1m96/96\u001b[0m \u001b[32m━━━━━━━━━━━━━━━━━━━━\u001b[0m\u001b[37m\u001b[0m \u001b[1m11s\u001b[0m 113ms/step - accuracy: 0.8553 - loss: 0.3649 - val_accuracy: 0.8096 - val_loss: 0.4323 - learning_rate: 0.0010 - epoch_duration: 10.8521\n",
            "Epoch 11/30\n",
            "\u001b[1m96/96\u001b[0m \u001b[32m━━━━━━━━━━━━━━━━━━━━\u001b[0m\u001b[37m\u001b[0m \u001b[1m11s\u001b[0m 110ms/step - accuracy: 0.8548 - loss: 0.3570 - val_accuracy: 0.8089 - val_loss: 0.4400 - learning_rate: 0.0010 - epoch_duration: 10.5750\n",
            "Epoch 12/30\n",
            "\u001b[1m96/96\u001b[0m \u001b[32m━━━━━━━━━━━━━━━━━━━━\u001b[0m\u001b[37m\u001b[0m \u001b[1m11s\u001b[0m 113ms/step - accuracy: 0.8638 - loss: 0.3370 - val_accuracy: 0.8109 - val_loss: 0.4552 - learning_rate: 0.0010 - epoch_duration: 10.9023\n",
            "Epoch 13/30\n",
            "\u001b[1m96/96\u001b[0m \u001b[32m━━━━━━━━━━━━━━━━━━━━\u001b[0m\u001b[37m\u001b[0m \u001b[1m11s\u001b[0m 112ms/step - accuracy: 0.8746 - loss: 0.3254 - val_accuracy: 0.8017 - val_loss: 0.4935 - learning_rate: 0.0010 - epoch_duration: 10.7704\n",
            "Epoch 14/30\n",
            "\u001b[1m96/96\u001b[0m \u001b[32m━━━━━━━━━━━━━━━━━━━━\u001b[0m\u001b[37m\u001b[0m \u001b[1m11s\u001b[0m 112ms/step - accuracy: 0.8793 - loss: 0.3136 - val_accuracy: 0.8030 - val_loss: 0.4771 - learning_rate: 2.0000e-04 - epoch_duration: 10.7391\n",
            "Epoch 15/30\n",
            "\u001b[1m96/96\u001b[0m \u001b[32m━━━━━━━━━━━━━━━━━━━━\u001b[0m\u001b[37m\u001b[0m \u001b[1m11s\u001b[0m 113ms/step - accuracy: 0.8845 - loss: 0.3064 - val_accuracy: 0.8043 - val_loss: 0.4846 - learning_rate: 2.0000e-04 - epoch_duration: 10.8419\n",
            "Epoch 16/30\n",
            "\u001b[1m96/96\u001b[0m \u001b[32m━━━━━━━━━━━━━━━━━━━━\u001b[0m\u001b[37m\u001b[0m \u001b[1m11s\u001b[0m 110ms/step - accuracy: 0.8862 - loss: 0.3017 - val_accuracy: 0.8043 - val_loss: 0.4824 - learning_rate: 2.0000e-04 - epoch_duration: 10.5887\n",
            "Epoch 17/30\n",
            "\u001b[1m96/96\u001b[0m \u001b[32m━━━━━━━━━━━━━━━━━━━━\u001b[0m\u001b[37m\u001b[0m \u001b[1m11s\u001b[0m 115ms/step - accuracy: 0.8886 - loss: 0.2844 - val_accuracy: 0.8043 - val_loss: 0.4904 - learning_rate: 2.0000e-04 - epoch_duration: 11.0323\n",
            "Epoch 18/30\n",
            "\u001b[1m96/96\u001b[0m \u001b[32m━━━━━━━━━━━━━━━━━━━━\u001b[0m\u001b[37m\u001b[0m \u001b[1m11s\u001b[0m 112ms/step - accuracy: 0.8858 - loss: 0.2963 - val_accuracy: 0.8030 - val_loss: 0.4988 - learning_rate: 2.0000e-04 - epoch_duration: 10.7869\n"
          ]
        }
      ],
      "source": [
        "history_0 = model_0.fit(\n",
        "    X_train,\n",
        "    y_train,\n",
        "    epochs = 30,\n",
        "    batch_size = 64,\n",
        "    validation_data = (X_val, y_val),\n",
        "    verbose = 1,\n",
        "    callbacks = [early_stopping_0, reduce_lr_0, time_history_callback_0]\n",
        ")"
      ]
    },
    {
      "cell_type": "code",
      "execution_count": 41,
      "metadata": {
        "colab": {
          "base_uri": "https://localhost:8080/"
        },
        "id": "wwg4vwO7n370",
        "outputId": "1b02a25b-fe95-41c1-d067-18749ade01d9"
      },
      "outputs": [
        {
          "name": "stdout",
          "output_type": "stream",
          "text": [
            "History saved to /content/drive/MyDrive/[1.4] MsDS Class Files/-- DTSA 5511 Deep Learning/saved_models\n"
          ]
        }
      ],
      "source": [
        "# Save the model and the history\n",
        "model_0_path = os.path.join(save_dir, 'rnn_model_0.keras')\n",
        "history_0_path = os.path.join(save_dir, 'rnn_history_0.pkl')\n",
        "model_0.save(model_0_path)\n",
        "with open(history_0_path, 'wb') as f:\n",
        "    pickle.dump(history_0.history, f)\n",
        "\n",
        "print(f\"History saved to {save_dir}\")"
      ]
    },
    {
      "cell_type": "markdown",
      "metadata": {
        "id": "z34672oWnvWJ"
      },
      "source": [
        "## Evaluate the Model"
      ]
    },
    {
      "cell_type": "code",
      "execution_count": 42,
      "metadata": {
        "colab": {
          "base_uri": "https://localhost:8080/",
          "height": 881
        },
        "id": "UjGzMEbVnuhr",
        "outputId": "46bbe9b9-0362-4198-fc23-1dc1482a5032"
      },
      "outputs": [
        {
          "data": {
            "image/png": "[encoded data removed]",
            "text/plain": [
              "<Figure size 800x1000 with 2 Axes>"
            ]
          },
          "metadata": {},
          "output_type": "display_data"
        }
      ],
      "source": [
        "# Display the learning curve and loss curve\n",
        "learning_curve(history_0)"
      ]
    },
    {
      "cell_type": "code",
      "execution_count": 43,
      "metadata": {
        "colab": {
          "base_uri": "https://localhost:8080/"
        },
        "id": "4TsO4eQeBRit",
        "outputId": "02322cc5-66aa-4944-8689-849f3622d759"
      },
      "outputs": [
        {
          "name": "stdout",
          "output_type": "stream",
          "text": [
            "\u001b[1m48/48\u001b[0m \u001b[32m━━━━━━━━━━━━━━━━━━━━\u001b[0m\u001b[37m\u001b[0m \u001b[1m1s\u001b[0m 24ms/step - accuracy: 0.8096 - loss: 0.4505\n",
            "Loss: 0.43048226833343506\n",
            "Accuracy: 0.8102429509162903\n"
          ]
        }
      ],
      "source": [
        "loss, accuracy = model_0.evaluate(X_val, y_val)\n",
        "print('Loss:', loss)\n",
        "print('Accuracy:', accuracy)"
      ]
    },
    {
      "cell_type": "code",
      "execution_count": 44,
      "metadata": {
        "colab": {
          "base_uri": "https://localhost:8080/"
        },
        "id": "f1YBs79aBRqu",
        "outputId": "75f783f4-47e9-49c9-9234-d5db8a3308d3"
      },
      "outputs": [
        {
          "name": "stdout",
          "output_type": "stream",
          "text": [
            "\u001b[1m48/48\u001b[0m \u001b[32m━━━━━━━━━━━━━━━━━━━━\u001b[0m\u001b[37m\u001b[0m \u001b[1m2s\u001b[0m 36ms/step\n",
            "F1-score:  0.7536231884057971\n",
            "Precision:  0.6758409785932722\n",
            "Recall:  0.8516377649325626\n",
            "Acuracy:  0.8102429415627052\n",
            "--------------------------------------------------\n",
            "              precision    recall  f1-score   support\n",
            "\n",
            "           0       0.91      0.79      0.85      1004\n",
            "           1       0.68      0.85      0.75       519\n",
            "\n",
            "    accuracy                           0.81      1523\n",
            "   macro avg       0.79      0.82      0.80      1523\n",
            "weighted avg       0.83      0.81      0.81      1523\n",
            "\n"
          ]
        }
      ],
      "source": [
        "pred_val = model_0.predict(X_val)\n",
        "label_pred_val = (pred_val > 0.5).astype(int).reshape(-1)\n",
        "show_metrics(label_pred_val, y_val)"
      ]
    },
    {
      "cell_type": "markdown",
      "metadata": {
        "id": "N0vP9xMCnepL"
      },
      "source": [
        "# 8.&nbsp; Architecture Tuning"
      ]
    },
    {
      "cell_type": "markdown",
      "metadata": {
        "id": "w-GF5EmT6WdM"
      },
      "source": [
        "The improved model (Model 1) attempted several enhancements over the baseline:\n",
        "\n",
        "1. **Dual LSTM Layers**: Added a second bidirectional LSTM layer (with hard coded sizes at 128→64 units) instead of single layer\n",
        "2. **Frozen Embeddings**: Made GloVe embeddings non-trainable to prevent overfitting\n",
        "3. **Regularization**: Added L1/L2 regularization to dense layers\n",
        "4. **Optimizer Change**: Switched from RMSprop to Adam optimizer\n",
        "5. **Additional Metrics**: Added precision and recall to training metrics\n",
        "\n",
        "However, these changes resulted in slightly lower performance (79.38% vs 80.17% accuracy), suggesting the simpler baseline architecture was more effective for this dataset."
      ]
    },
    {
      "cell_type": "markdown",
      "metadata": {
        "id": "-pYPbH5L1bjZ"
      },
      "source": [
        "## Improved Architecture"
      ]
    },
    {
      "cell_type": "code",
      "execution_count": 45,
      "metadata": {
        "id": "paI_-_yPqOs8"
      },
      "outputs": [],
      "source": [
        "def glove_lstm_v2():\n",
        "    # Build the model\n",
        "    model = Sequential()\n",
        "    # Cofigure the architecture\n",
        "    model.add(Embedding(\n",
        "        input_dim=embedding_matrix.shape[0],\n",
        "        output_dim=embedding_matrix.shape[1],\n",
        "        weights = [embedding_matrix],\n",
        "        trainable = False\n",
        "    ))\n",
        "    # Cofigure the architecture - Layer 1\n",
        "    model.add(\n",
        "        Bidirectional(LSTM(\n",
        "            128,\n",
        "            return_sequences = True,\n",
        "            dropout=0.3,\n",
        "            recurrent_dropout=0.2\n",
        "        ))\n",
        "    )\n",
        "    model.add(BatchNormalization())\n",
        "\n",
        "    # Cofigure the architecture - Layer 2\n",
        "    model.add(\n",
        "        Bidirectional(LSTM(\n",
        "            64,\n",
        "            return_sequences = True,\n",
        "            dropout=0.3,\n",
        "            recurrent_dropout=0.2\n",
        "        ))\n",
        "    )\n",
        "    model.add(BatchNormalization())\n",
        "\n",
        "    model.add(GlobalMaxPool1D())\n",
        "\n",
        "    # Cofigure the architecture\n",
        "    model.add(Dense(\n",
        "        128,\n",
        "        activation = \"relu\",\n",
        "        kernel_regularizer=l1_l2(l1=0.01, l2=0.01)\n",
        "    ))\n",
        "    model.add(Dropout(0.5))\n",
        "    model.add(Dense(\n",
        "        64,\n",
        "        activation = \"relu\"\n",
        "    ))\n",
        "    model.add(Dropout(0.3))\n",
        "    model.add(Dense(\n",
        "        1,\n",
        "        activation = 'sigmoid'\n",
        "    ))\n",
        "    # Compile the model\n",
        "    model.compile(\n",
        "        optimizer=Adam(learning_rate=0.001),\n",
        "        loss='binary_crossentropy',\n",
        "        metrics=['accuracy', 'precision', 'recall']\n",
        "    )\n",
        "\n",
        "    return model"
      ]
    },
    {
      "cell_type": "code",
      "execution_count": 46,
      "metadata": {
        "colab": {
          "base_uri": "https://localhost:8080/",
          "height": 538
        },
        "id": "Lukco7oSgz-b",
        "outputId": "e1f8d461-d9b7-4ca7-cc95-034397261d90"
      },
      "outputs": [
        {
          "data": {
            "text/html": [
              "<pre style=\"white-space:pre;overflow-x:auto;line-height:normal;font-family:Menlo,'DejaVu Sans Mono',consolas,'Courier New',monospace\"><span style=\"font-weight: bold\">Model: \"sequential_1\"</span>\n",
              "</pre>\n"
            ],
            "text/plain": [
              "\u001b[1mModel: \"sequential_1\"\u001b[0m\n"
            ]
          },
          "metadata": {},
          "output_type": "display_data"
        },
        {
          "data": {
            "text/html": [
              "<pre style=\"white-space:pre;overflow-x:auto;line-height:normal;font-family:Menlo,'DejaVu Sans Mono',consolas,'Courier New',monospace\">┏━━━━━━━━━━━━━━━━━━━━━━━━━━━━━━━━━┳━━━━━━━━━━━━━━━━━━━━━━━━┳━━━━━━━━━━━━━━━┓\n",
              "┃<span style=\"font-weight: bold\"> Layer (type)                    </span>┃<span style=\"font-weight: bold\"> Output Shape           </span>┃<span style=\"font-weight: bold\">       Param # </span>┃\n",
              "┡━━━━━━━━━━━━━━━━━━━━━━━━━━━━━━━━━╇━━━━━━━━━━━━━━━━━━━━━━━━╇━━━━━━━━━━━━━━━┩\n",
              "│ embedding_1 (<span style=\"color: #0087ff; text-decoration-color: #0087ff\">Embedding</span>)         │ (<span style=\"color: #00d7ff; text-decoration-color: #00d7ff\">None</span>, <span style=\"color: #00af00; text-decoration-color: #00af00\">34</span>, <span style=\"color: #00af00; text-decoration-color: #00af00\">100</span>)        │     <span style=\"color: #00af00; text-decoration-color: #00af00\">1,426,900</span> │\n",
              "├─────────────────────────────────┼────────────────────────┼───────────────┤\n",
              "│ bidirectional_1 (<span style=\"color: #0087ff; text-decoration-color: #0087ff\">Bidirectional</span>) │ (<span style=\"color: #00d7ff; text-decoration-color: #00d7ff\">None</span>, <span style=\"color: #00af00; text-decoration-color: #00af00\">34</span>, <span style=\"color: #00af00; text-decoration-color: #00af00\">256</span>)        │       <span style=\"color: #00af00; text-decoration-color: #00af00\">234,496</span> │\n",
              "├─────────────────────────────────┼────────────────────────┼───────────────┤\n",
              "│ batch_normalization_1           │ (<span style=\"color: #00d7ff; text-decoration-color: #00d7ff\">None</span>, <span style=\"color: #00af00; text-decoration-color: #00af00\">34</span>, <span style=\"color: #00af00; text-decoration-color: #00af00\">256</span>)        │         <span style=\"color: #00af00; text-decoration-color: #00af00\">1,024</span> │\n",
              "│ (<span style=\"color: #0087ff; text-decoration-color: #0087ff\">BatchNormalization</span>)            │                        │               │\n",
              "├─────────────────────────────────┼────────────────────────┼───────────────┤\n",
              "│ bidirectional_2 (<span style=\"color: #0087ff; text-decoration-color: #0087ff\">Bidirectional</span>) │ (<span style=\"color: #00d7ff; text-decoration-color: #00d7ff\">None</span>, <span style=\"color: #00af00; text-decoration-color: #00af00\">34</span>, <span style=\"color: #00af00; text-decoration-color: #00af00\">128</span>)        │       <span style=\"color: #00af00; text-decoration-color: #00af00\">164,352</span> │\n",
              "├─────────────────────────────────┼────────────────────────┼───────────────┤\n",
              "│ batch_normalization_2           │ (<span style=\"color: #00d7ff; text-decoration-color: #00d7ff\">None</span>, <span style=\"color: #00af00; text-decoration-color: #00af00\">34</span>, <span style=\"color: #00af00; text-decoration-color: #00af00\">128</span>)        │           <span style=\"color: #00af00; text-decoration-color: #00af00\">512</span> │\n",
              "│ (<span style=\"color: #0087ff; text-decoration-color: #0087ff\">BatchNormalization</span>)            │                        │               │\n",
              "├─────────────────────────────────┼────────────────────────┼───────────────┤\n",
              "│ global_max_pooling1d_1          │ (<span style=\"color: #00d7ff; text-decoration-color: #00d7ff\">None</span>, <span style=\"color: #00af00; text-decoration-color: #00af00\">128</span>)            │             <span style=\"color: #00af00; text-decoration-color: #00af00\">0</span> │\n",
              "│ (<span style=\"color: #0087ff; text-decoration-color: #0087ff\">GlobalMaxPooling1D</span>)            │                        │               │\n",
              "├─────────────────────────────────┼────────────────────────┼───────────────┤\n",
              "│ dense_3 (<span style=\"color: #0087ff; text-decoration-color: #0087ff\">Dense</span>)                 │ (<span style=\"color: #00d7ff; text-decoration-color: #00d7ff\">None</span>, <span style=\"color: #00af00; text-decoration-color: #00af00\">128</span>)            │        <span style=\"color: #00af00; text-decoration-color: #00af00\">16,512</span> │\n",
              "├─────────────────────────────────┼────────────────────────┼───────────────┤\n",
              "│ dropout_3 (<span style=\"color: #0087ff; text-decoration-color: #0087ff\">Dropout</span>)             │ (<span style=\"color: #00d7ff; text-decoration-color: #00d7ff\">None</span>, <span style=\"color: #00af00; text-decoration-color: #00af00\">128</span>)            │             <span style=\"color: #00af00; text-decoration-color: #00af00\">0</span> │\n",
              "├─────────────────────────────────┼────────────────────────┼───────────────┤\n",
              "│ dense_4 (<span style=\"color: #0087ff; text-decoration-color: #0087ff\">Dense</span>)                 │ (<span style=\"color: #00d7ff; text-decoration-color: #00d7ff\">None</span>, <span style=\"color: #00af00; text-decoration-color: #00af00\">64</span>)             │         <span style=\"color: #00af00; text-decoration-color: #00af00\">8,256</span> │\n",
              "├─────────────────────────────────┼────────────────────────┼───────────────┤\n",
              "│ dropout_4 (<span style=\"color: #0087ff; text-decoration-color: #0087ff\">Dropout</span>)             │ (<span style=\"color: #00d7ff; text-decoration-color: #00d7ff\">None</span>, <span style=\"color: #00af00; text-decoration-color: #00af00\">64</span>)             │             <span style=\"color: #00af00; text-decoration-color: #00af00\">0</span> │\n",
              "├─────────────────────────────────┼────────────────────────┼───────────────┤\n",
              "│ dense_5 (<span style=\"color: #0087ff; text-decoration-color: #0087ff\">Dense</span>)                 │ (<span style=\"color: #00d7ff; text-decoration-color: #00d7ff\">None</span>, <span style=\"color: #00af00; text-decoration-color: #00af00\">1</span>)              │            <span style=\"color: #00af00; text-decoration-color: #00af00\">65</span> │\n",
              "└─────────────────────────────────┴────────────────────────┴───────────────┘\n",
              "</pre>\n"
            ],
            "text/plain": [
              "┏━━━━━━━━━━━━━━━━━━━━━━━━━━━━━━━━━┳━━━━━━━━━━━━━━━━━━━━━━━━┳━━━━━━━━━━━━━━━┓\n",
              "┃\u001b[1m \u001b[0m\u001b[1mLayer (type)                   \u001b[0m\u001b[1m \u001b[0m┃\u001b[1m \u001b[0m\u001b[1mOutput Shape          \u001b[0m\u001b[1m \u001b[0m┃\u001b[1m \u001b[0m\u001b[1m      Param #\u001b[0m\u001b[1m \u001b[0m┃\n",
              "┡━━━━━━━━━━━━━━━━━━━━━━━━━━━━━━━━━╇━━━━━━━━━━━━━━━━━━━━━━━━╇━━━━━━━━━━━━━━━┩\n",
              "│ embedding_1 (\u001b[38;5;33mEmbedding\u001b[0m)         │ (\u001b[38;5;45mNone\u001b[0m, \u001b[38;5;34m34\u001b[0m, \u001b[38;5;34m100\u001b[0m)        │     \u001b[38;5;34m1,426,900\u001b[0m │\n",
              "├─────────────────────────────────┼────────────────────────┼───────────────┤\n",
              "│ bidirectional_1 (\u001b[38;5;33mBidirectional\u001b[0m) │ (\u001b[38;5;45mNone\u001b[0m, \u001b[38;5;34m34\u001b[0m, \u001b[38;5;34m256\u001b[0m)        │       \u001b[38;5;34m234,496\u001b[0m │\n",
              "├─────────────────────────────────┼────────────────────────┼───────────────┤\n",
              "│ batch_normalization_1           │ (\u001b[38;5;45mNone\u001b[0m, \u001b[38;5;34m34\u001b[0m, \u001b[38;5;34m256\u001b[0m)        │         \u001b[38;5;34m1,024\u001b[0m │\n",
              "│ (\u001b[38;5;33mBatchNormalization\u001b[0m)            │                        │               │\n",
              "├─────────────────────────────────┼────────────────────────┼───────────────┤\n",
              "│ bidirectional_2 (\u001b[38;5;33mBidirectional\u001b[0m) │ (\u001b[38;5;45mNone\u001b[0m, \u001b[38;5;34m34\u001b[0m, \u001b[38;5;34m128\u001b[0m)        │       \u001b[38;5;34m164,352\u001b[0m │\n",
              "├─────────────────────────────────┼────────────────────────┼───────────────┤\n",
              "│ batch_normalization_2           │ (\u001b[38;5;45mNone\u001b[0m, \u001b[38;5;34m34\u001b[0m, \u001b[38;5;34m128\u001b[0m)        │           \u001b[38;5;34m512\u001b[0m │\n",
              "│ (\u001b[38;5;33mBatchNormalization\u001b[0m)            │                        │               │\n",
              "├─────────────────────────────────┼────────────────────────┼───────────────┤\n",
              "│ global_max_pooling1d_1          │ (\u001b[38;5;45mNone\u001b[0m, \u001b[38;5;34m128\u001b[0m)            │             \u001b[38;5;34m0\u001b[0m │\n",
              "│ (\u001b[38;5;33mGlobalMaxPooling1D\u001b[0m)            │                        │               │\n",
              "├─────────────────────────────────┼────────────────────────┼───────────────┤\n",
              "│ dense_3 (\u001b[38;5;33mDense\u001b[0m)                 │ (\u001b[38;5;45mNone\u001b[0m, \u001b[38;5;34m128\u001b[0m)            │        \u001b[38;5;34m16,512\u001b[0m │\n",
              "├─────────────────────────────────┼────────────────────────┼───────────────┤\n",
              "│ dropout_3 (\u001b[38;5;33mDropout\u001b[0m)             │ (\u001b[38;5;45mNone\u001b[0m, \u001b[38;5;34m128\u001b[0m)            │             \u001b[38;5;34m0\u001b[0m │\n",
              "├─────────────────────────────────┼────────────────────────┼───────────────┤\n",
              "│ dense_4 (\u001b[38;5;33mDense\u001b[0m)                 │ (\u001b[38;5;45mNone\u001b[0m, \u001b[38;5;34m64\u001b[0m)             │         \u001b[38;5;34m8,256\u001b[0m │\n",
              "├─────────────────────────────────┼────────────────────────┼───────────────┤\n",
              "│ dropout_4 (\u001b[38;5;33mDropout\u001b[0m)             │ (\u001b[38;5;45mNone\u001b[0m, \u001b[38;5;34m64\u001b[0m)             │             \u001b[38;5;34m0\u001b[0m │\n",
              "├─────────────────────────────────┼────────────────────────┼───────────────┤\n",
              "│ dense_5 (\u001b[38;5;33mDense\u001b[0m)                 │ (\u001b[38;5;45mNone\u001b[0m, \u001b[38;5;34m1\u001b[0m)              │            \u001b[38;5;34m65\u001b[0m │\n",
              "└─────────────────────────────────┴────────────────────────┴───────────────┘\n"
            ]
          },
          "metadata": {},
          "output_type": "display_data"
        },
        {
          "data": {
            "text/html": [
              "<pre style=\"white-space:pre;overflow-x:auto;line-height:normal;font-family:Menlo,'DejaVu Sans Mono',consolas,'Courier New',monospace\"><span style=\"font-weight: bold\"> Total params: </span><span style=\"color: #00af00; text-decoration-color: #00af00\">1,852,117</span> (7.07 MB)\n",
              "</pre>\n"
            ],
            "text/plain": [
              "\u001b[1m Total params: \u001b[0m\u001b[38;5;34m1,852,117\u001b[0m (7.07 MB)\n"
            ]
          },
          "metadata": {},
          "output_type": "display_data"
        },
        {
          "data": {
            "text/html": [
              "<pre style=\"white-space:pre;overflow-x:auto;line-height:normal;font-family:Menlo,'DejaVu Sans Mono',consolas,'Courier New',monospace\"><span style=\"font-weight: bold\"> Trainable params: </span><span style=\"color: #00af00; text-decoration-color: #00af00\">424,449</span> (1.62 MB)\n",
              "</pre>\n"
            ],
            "text/plain": [
              "\u001b[1m Trainable params: \u001b[0m\u001b[38;5;34m424,449\u001b[0m (1.62 MB)\n"
            ]
          },
          "metadata": {},
          "output_type": "display_data"
        },
        {
          "data": {
            "text/html": [
              "<pre style=\"white-space:pre;overflow-x:auto;line-height:normal;font-family:Menlo,'DejaVu Sans Mono',consolas,'Courier New',monospace\"><span style=\"font-weight: bold\"> Non-trainable params: </span><span style=\"color: #00af00; text-decoration-color: #00af00\">1,427,668</span> (5.45 MB)\n",
              "</pre>\n"
            ],
            "text/plain": [
              "\u001b[1m Non-trainable params: \u001b[0m\u001b[38;5;34m1,427,668\u001b[0m (5.45 MB)\n"
            ]
          },
          "metadata": {},
          "output_type": "display_data"
        }
      ],
      "source": [
        "# Create an instance of the model\n",
        "model_1 = glove_lstm_v2()\n",
        "# Manually build the model\n",
        "model_1.build(input_shape=(None, length_long_sentence))\n",
        "# Display the model summary\n",
        "model_1.summary()"
      ]
    },
    {
      "cell_type": "markdown",
      "metadata": {
        "id": "cW0tLpEzg-Ia"
      },
      "source": [
        "## Train/Fit the Model"
      ]
    },
    {
      "cell_type": "code",
      "execution_count": 47,
      "metadata": {
        "colab": {
          "base_uri": "https://localhost:8080/"
        },
        "id": "ed59Dis0g-S1",
        "outputId": "076b8222-79d6-48bc-e954-63b359b34b82"
      },
      "outputs": [
        {
          "name": "stdout",
          "output_type": "stream",
          "text": [
            "Epoch 1/30\n",
            "\u001b[1m96/96\u001b[0m \u001b[32m━━━━━━━━━━━━━━━━━━━━\u001b[0m\u001b[37m\u001b[0m \u001b[1m42s\u001b[0m 290ms/step - accuracy: 0.5947 - loss: 11.4865 - precision: 0.5297 - recall: 0.4757 - val_accuracy: 0.7820 - val_loss: 4.1092 - val_precision: 0.7354 - val_recall: 0.7691 - learning_rate: 0.0010 - epoch_duration: 42.1184\n",
            "Epoch 2/30\n",
            "\u001b[1m96/96\u001b[0m \u001b[32m━━━━━━━━━━━━━━━━━━━━\u001b[0m\u001b[37m\u001b[0m \u001b[1m26s\u001b[0m 270ms/step - accuracy: 0.7617 - loss: 2.7523 - precision: 0.7614 - recall: 0.6467 - val_accuracy: 0.7919 - val_loss: 0.8433 - val_precision: 0.7941 - val_recall: 0.6957 - learning_rate: 0.0010 - epoch_duration: 25.9341\n",
            "Epoch 3/30\n",
            "\u001b[1m96/96\u001b[0m \u001b[32m━━━━━━━━━━━━━━━━━━━━\u001b[0m\u001b[37m\u001b[0m \u001b[1m25s\u001b[0m 265ms/step - accuracy: 0.7787 - loss: 0.7120 - precision: 0.7696 - recall: 0.6925 - val_accuracy: 0.7912 - val_loss: 0.6113 - val_precision: 0.8088 - val_recall: 0.6728 - learning_rate: 0.0010 - epoch_duration: 25.4704\n",
            "Epoch 4/30\n",
            "\u001b[1m96/96\u001b[0m \u001b[32m━━━━━━━━━━━━━━━━━━━━\u001b[0m\u001b[37m\u001b[0m \u001b[1m26s\u001b[0m 266ms/step - accuracy: 0.7866 - loss: 0.6027 - precision: 0.7921 - recall: 0.6894 - val_accuracy: 0.7919 - val_loss: 0.5835 - val_precision: 0.7813 - val_recall: 0.7156 - learning_rate: 0.0010 - epoch_duration: 25.5587\n",
            "Epoch 5/30\n",
            "\u001b[1m96/96\u001b[0m \u001b[32m━━━━━━━━━━━━━━━━━━━━\u001b[0m\u001b[37m\u001b[0m \u001b[1m26s\u001b[0m 266ms/step - accuracy: 0.7742 - loss: 0.6147 - precision: 0.7751 - recall: 0.6665 - val_accuracy: 0.7938 - val_loss: 0.5682 - val_precision: 0.7673 - val_recall: 0.7462 - learning_rate: 0.0010 - epoch_duration: 25.5879\n",
            "Epoch 6/30\n",
            "\u001b[1m96/96\u001b[0m \u001b[32m━━━━━━━━━━━━━━━━━━━━\u001b[0m\u001b[37m\u001b[0m \u001b[1m25s\u001b[0m 264ms/step - accuracy: 0.7961 - loss: 0.5712 - precision: 0.8164 - recall: 0.6813 - val_accuracy: 0.7938 - val_loss: 0.5663 - val_precision: 0.7648 - val_recall: 0.7508 - learning_rate: 0.0010 - epoch_duration: 25.3990\n",
            "Epoch 7/30\n",
            "\u001b[1m96/96\u001b[0m \u001b[32m━━━━━━━━━━━━━━━━━━━━\u001b[0m\u001b[37m\u001b[0m \u001b[1m25s\u001b[0m 265ms/step - accuracy: 0.7978 - loss: 0.5644 - precision: 0.8088 - recall: 0.6906 - val_accuracy: 0.7879 - val_loss: 0.5640 - val_precision: 0.7511 - val_recall: 0.7569 - learning_rate: 0.0010 - epoch_duration: 25.4131\n",
            "Epoch 8/30\n",
            "\u001b[1m96/96\u001b[0m \u001b[32m━━━━━━━━━━━━━━━━━━━━\u001b[0m\u001b[37m\u001b[0m \u001b[1m26s\u001b[0m 269ms/step - accuracy: 0.8057 - loss: 0.5384 - precision: 0.8179 - recall: 0.6895 - val_accuracy: 0.7984 - val_loss: 0.5294 - val_precision: 0.7946 - val_recall: 0.7156 - learning_rate: 0.0010 - epoch_duration: 25.8475\n",
            "Epoch 9/30\n",
            "\u001b[1m96/96\u001b[0m \u001b[32m━━━━━━━━━━━━━━━━━━━━\u001b[0m\u001b[37m\u001b[0m \u001b[1m26s\u001b[0m 266ms/step - accuracy: 0.8044 - loss: 0.5453 - precision: 0.8364 - recall: 0.6702 - val_accuracy: 0.7991 - val_loss: 0.5240 - val_precision: 0.7890 - val_recall: 0.7263 - learning_rate: 0.0010 - epoch_duration: 25.5396\n",
            "Epoch 10/30\n",
            "\u001b[1m96/96\u001b[0m \u001b[32m━━━━━━━━━━━━━━━━━━━━\u001b[0m\u001b[37m\u001b[0m \u001b[1m25s\u001b[0m 265ms/step - accuracy: 0.8089 - loss: 0.5443 - precision: 0.8268 - recall: 0.6889 - val_accuracy: 0.7997 - val_loss: 0.5518 - val_precision: 0.8689 - val_recall: 0.6284 - learning_rate: 0.0010 - epoch_duration: 25.4862\n",
            "Epoch 11/30\n",
            "\u001b[1m96/96\u001b[0m \u001b[32m━━━━━━━━━━━━━━━━━━━━\u001b[0m\u001b[37m\u001b[0m \u001b[1m26s\u001b[0m 269ms/step - accuracy: 0.8060 - loss: 0.5456 - precision: 0.8325 - recall: 0.6848 - val_accuracy: 0.8089 - val_loss: 0.5260 - val_precision: 0.8247 - val_recall: 0.7049 - learning_rate: 0.0010 - epoch_duration: 25.8433\n",
            "Epoch 12/30\n",
            "\u001b[1m96/96\u001b[0m \u001b[32m━━━━━━━━━━━━━━━━━━━━\u001b[0m\u001b[37m\u001b[0m \u001b[1m26s\u001b[0m 269ms/step - accuracy: 0.8172 - loss: 0.5259 - precision: 0.8333 - recall: 0.7274 - val_accuracy: 0.8056 - val_loss: 0.5187 - val_precision: 0.8185 - val_recall: 0.7034 - learning_rate: 0.0010 - epoch_duration: 25.8134\n",
            "Epoch 13/30\n",
            "\u001b[1m96/96\u001b[0m \u001b[32m━━━━━━━━━━━━━━━━━━━━\u001b[0m\u001b[37m\u001b[0m \u001b[1m26s\u001b[0m 267ms/step - accuracy: 0.8062 - loss: 0.5295 - precision: 0.8254 - recall: 0.6932 - val_accuracy: 0.8096 - val_loss: 0.5136 - val_precision: 0.8333 - val_recall: 0.6957 - learning_rate: 0.0010 - epoch_duration: 25.6893\n",
            "Epoch 14/30\n",
            "\u001b[1m96/96\u001b[0m \u001b[32m━━━━━━━━━━━━━━━━━━━━\u001b[0m\u001b[37m\u001b[0m \u001b[1m26s\u001b[0m 269ms/step - accuracy: 0.8303 - loss: 0.4881 - precision: 0.8443 - recall: 0.7345 - val_accuracy: 0.8070 - val_loss: 0.5374 - val_precision: 0.7795 - val_recall: 0.7676 - learning_rate: 0.0010 - epoch_duration: 25.8061\n",
            "Epoch 15/30\n",
            "\u001b[1m96/96\u001b[0m \u001b[32m━━━━━━━━━━━━━━━━━━━━\u001b[0m\u001b[37m\u001b[0m \u001b[1m26s\u001b[0m 270ms/step - accuracy: 0.8275 - loss: 0.4840 - precision: 0.8540 - recall: 0.7246 - val_accuracy: 0.8030 - val_loss: 0.5269 - val_precision: 0.7902 - val_recall: 0.7370 - learning_rate: 0.0010 - epoch_duration: 25.9049\n",
            "Epoch 16/30\n",
            "\u001b[1m96/96\u001b[0m \u001b[32m━━━━━━━━━━━━━━━━━━━━\u001b[0m\u001b[37m\u001b[0m \u001b[1m26s\u001b[0m 268ms/step - accuracy: 0.8298 - loss: 0.4834 - precision: 0.8593 - recall: 0.7331 - val_accuracy: 0.8089 - val_loss: 0.5149 - val_precision: 0.8594 - val_recall: 0.6636 - learning_rate: 0.0010 - epoch_duration: 25.7357\n",
            "Epoch 17/30\n",
            "\u001b[1m96/96\u001b[0m \u001b[32m━━━━━━━━━━━━━━━━━━━━\u001b[0m\u001b[37m\u001b[0m \u001b[1m26s\u001b[0m 266ms/step - accuracy: 0.8301 - loss: 0.4787 - precision: 0.8588 - recall: 0.7230 - val_accuracy: 0.8096 - val_loss: 0.5229 - val_precision: 0.8714 - val_recall: 0.6529 - learning_rate: 0.0010 - epoch_duration: 25.5252\n",
            "Epoch 18/30\n",
            "\u001b[1m96/96\u001b[0m \u001b[32m━━━━━━━━━━━━━━━━━━━━\u001b[0m\u001b[37m\u001b[0m \u001b[1m27s\u001b[0m 278ms/step - accuracy: 0.8265 - loss: 0.4888 - precision: 0.8437 - recall: 0.7206 - val_accuracy: 0.8109 - val_loss: 0.5055 - val_precision: 0.8256 - val_recall: 0.7095 - learning_rate: 0.0010 - epoch_duration: 26.6457\n",
            "Epoch 19/30\n",
            "\u001b[1m96/96\u001b[0m \u001b[32m━━━━━━━━━━━━━━━━━━━━\u001b[0m\u001b[37m\u001b[0m \u001b[1m26s\u001b[0m 270ms/step - accuracy: 0.8408 - loss: 0.4759 - precision: 0.8573 - recall: 0.7514 - val_accuracy: 0.7925 - val_loss: 0.5275 - val_precision: 0.9122 - val_recall: 0.5719 - learning_rate: 0.0010 - epoch_duration: 25.9764\n",
            "Epoch 20/30\n",
            "\u001b[1m96/96\u001b[0m \u001b[32m━━━━━━━━━━━━━━━━━━━━\u001b[0m\u001b[37m\u001b[0m \u001b[1m26s\u001b[0m 269ms/step - accuracy: 0.8349 - loss: 0.4679 - precision: 0.8684 - recall: 0.7203 - val_accuracy: 0.8050 - val_loss: 0.5078 - val_precision: 0.8126 - val_recall: 0.7095 - learning_rate: 0.0010 - epoch_duration: 25.8660\n",
            "Epoch 21/30\n",
            "\u001b[1m96/96\u001b[0m \u001b[32m━━━━━━━━━━━━━━━━━━━━\u001b[0m\u001b[37m\u001b[0m \u001b[1m26s\u001b[0m 269ms/step - accuracy: 0.8380 - loss: 0.4524 - precision: 0.8684 - recall: 0.7375 - val_accuracy: 0.8089 - val_loss: 0.5271 - val_precision: 0.8212 - val_recall: 0.7095 - learning_rate: 0.0010 - epoch_duration: 25.7954\n",
            "Epoch 22/30\n",
            "\u001b[1m96/96\u001b[0m \u001b[32m━━━━━━━━━━━━━━━━━━━━\u001b[0m\u001b[37m\u001b[0m \u001b[1m25s\u001b[0m 265ms/step - accuracy: 0.8532 - loss: 0.4260 - precision: 0.8872 - recall: 0.7562 - val_accuracy: 0.8083 - val_loss: 0.5118 - val_precision: 0.8142 - val_recall: 0.7171 - learning_rate: 0.0010 - epoch_duration: 25.4513\n",
            "Epoch 23/30\n",
            "\u001b[1m96/96\u001b[0m \u001b[32m━━━━━━━━━━━━━━━━━━━━\u001b[0m\u001b[37m\u001b[0m \u001b[1m26s\u001b[0m 268ms/step - accuracy: 0.8464 - loss: 0.4456 - precision: 0.8679 - recall: 0.7534 - val_accuracy: 0.7991 - val_loss: 0.5155 - val_precision: 0.8053 - val_recall: 0.7018 - learning_rate: 0.0010 - epoch_duration: 25.7449\n",
            "Epoch 24/30\n",
            "\u001b[1m96/96\u001b[0m \u001b[32m━━━━━━━━━━━━━━━━━━━━\u001b[0m\u001b[37m\u001b[0m \u001b[1m26s\u001b[0m 266ms/step - accuracy: 0.8674 - loss: 0.4042 - precision: 0.8956 - recall: 0.7793 - val_accuracy: 0.8056 - val_loss: 0.4772 - val_precision: 0.8129 - val_recall: 0.7110 - learning_rate: 2.0000e-04 - epoch_duration: 25.5259\n",
            "Epoch 25/30\n",
            "\u001b[1m96/96\u001b[0m \u001b[32m━━━━━━━━━━━━━━━━━━━━\u001b[0m\u001b[37m\u001b[0m \u001b[1m26s\u001b[0m 266ms/step - accuracy: 0.8618 - loss: 0.3775 - precision: 0.8799 - recall: 0.7779 - val_accuracy: 0.8030 - val_loss: 0.4952 - val_precision: 0.8010 - val_recall: 0.7202 - learning_rate: 2.0000e-04 - epoch_duration: 25.5556\n",
            "Epoch 26/30\n",
            "\u001b[1m96/96\u001b[0m \u001b[32m━━━━━━━━━━━━━━━━━━━━\u001b[0m\u001b[37m\u001b[0m \u001b[1m26s\u001b[0m 267ms/step - accuracy: 0.8572 - loss: 0.3780 - precision: 0.8941 - recall: 0.7656 - val_accuracy: 0.8056 - val_loss: 0.4770 - val_precision: 0.8278 - val_recall: 0.6911 - learning_rate: 2.0000e-04 - epoch_duration: 25.6286\n",
            "Epoch 27/30\n",
            "\u001b[1m96/96\u001b[0m \u001b[32m━━━━━━━━━━━━━━━━━━━━\u001b[0m\u001b[37m\u001b[0m \u001b[1m26s\u001b[0m 267ms/step - accuracy: 0.8675 - loss: 0.3605 - precision: 0.9014 - recall: 0.7759 - val_accuracy: 0.8050 - val_loss: 0.4851 - val_precision: 0.8159 - val_recall: 0.7049 - learning_rate: 2.0000e-04 - epoch_duration: 25.6534\n",
            "Epoch 28/30\n",
            "\u001b[1m96/96\u001b[0m \u001b[32m━━━━━━━━━━━━━━━━━━━━\u001b[0m\u001b[37m\u001b[0m \u001b[1m26s\u001b[0m 271ms/step - accuracy: 0.8631 - loss: 0.3677 - precision: 0.9005 - recall: 0.7731 - val_accuracy: 0.8030 - val_loss: 0.4871 - val_precision: 0.8138 - val_recall: 0.7018 - learning_rate: 2.0000e-04 - epoch_duration: 26.0196\n",
            "Epoch 29/30\n",
            "\u001b[1m96/96\u001b[0m \u001b[32m━━━━━━━━━━━━━━━━━━━━\u001b[0m\u001b[37m\u001b[0m \u001b[1m26s\u001b[0m 268ms/step - accuracy: 0.8773 - loss: 0.3377 - precision: 0.9022 - recall: 0.7998 - val_accuracy: 0.8024 - val_loss: 0.4866 - val_precision: 0.8113 - val_recall: 0.7034 - learning_rate: 2.0000e-04 - epoch_duration: 25.6986\n",
            "Epoch 30/30\n",
            "\u001b[1m96/96\u001b[0m \u001b[32m━━━━━━━━━━━━━━━━━━━━\u001b[0m\u001b[37m\u001b[0m \u001b[1m26s\u001b[0m 268ms/step - accuracy: 0.8763 - loss: 0.3549 - precision: 0.9008 - recall: 0.7929 - val_accuracy: 0.8063 - val_loss: 0.4882 - val_precision: 0.8188 - val_recall: 0.7049 - learning_rate: 2.0000e-04 - epoch_duration: 25.7201\n"
          ]
        }
      ],
      "source": [
        "# Callbacks for early stopping and reducing learning rate\n",
        "time_history_callback_1 = EpochTimeHistory()\n",
        "early_stopping_1 = EarlyStopping(monitor='val_loss', patience=10, restore_best_weights=True)\n",
        "reduce_lr_1 = ReduceLROnPlateau(monitor='val_loss', factor=0.2, patience=5, min_lr=0.000001)\n",
        "\n",
        "\n",
        "history_1 = model_1.fit(\n",
        "    X_train,\n",
        "    y_train,\n",
        "    epochs = 30,\n",
        "    batch_size = 64,\n",
        "    validation_data = (X_val, y_val),\n",
        "    verbose = 1,\n",
        "    callbacks = [early_stopping_1, reduce_lr_1, time_history_callback_1]\n",
        ")"
      ]
    },
    {
      "cell_type": "code",
      "execution_count": 48,
      "metadata": {
        "colab": {
          "base_uri": "https://localhost:8080/"
        },
        "id": "9ydH7Pt_hYrc",
        "outputId": "04433ef8-8002-498b-bdd9-65971311b7c0"
      },
      "outputs": [
        {
          "name": "stdout",
          "output_type": "stream",
          "text": [
            "History saved to /content/drive/MyDrive/[1.4] MsDS Class Files/-- DTSA 5511 Deep Learning/saved_models\n"
          ]
        }
      ],
      "source": [
        "# Save the model and the history\n",
        "model_1_path = os.path.join(save_dir, 'rnn_model_1.keras')\n",
        "history_1_path = os.path.join(save_dir, 'rnn_history_1.pkl')\n",
        "model_1.save(model_1_path)\n",
        "with open(history_1_path, 'wb') as f:\n",
        "    pickle.dump(history_1.history, f)\n",
        "\n",
        "print(f\"History saved to {save_dir}\")"
      ]
    },
    {
      "cell_type": "markdown",
      "metadata": {
        "id": "gtxev-Ul1pX9"
      },
      "source": [
        "## Evaluate the Model"
      ]
    },
    {
      "cell_type": "code",
      "execution_count": 49,
      "metadata": {
        "colab": {
          "base_uri": "https://localhost:8080/",
          "height": 1000
        },
        "id": "GV2-vJjGqOs9",
        "outputId": "ddbe30fe-6980-492c-fcbe-c80f306c6116"
      },
      "outputs": [
        {
          "name": "stdout",
          "output_type": "stream",
          "text": [
            "\u001b[1m48/48\u001b[0m \u001b[32m━━━━━━━━━━━━━━━━━━━━\u001b[0m\u001b[37m\u001b[0m \u001b[1m3s\u001b[0m 52ms/step - accuracy: 0.7986 - loss: 0.4995 - precision: 0.8017 - recall: 0.6875\n",
            "Loss: 0.4770480990409851\n",
            "Accuracy: 0.8056467771530151\n",
            "\u001b[1m48/48\u001b[0m \u001b[32m━━━━━━━━━━━━━━━━━━━━\u001b[0m\u001b[37m\u001b[0m \u001b[1m5s\u001b[0m 74ms/step\n",
            "F1-score:  0.7533333333333333\n",
            "Precision:  0.691131498470948\n",
            "Recall:  0.8278388278388278\n",
            "Acuracy:  0.8056467498358503\n",
            "--------------------------------------------------\n",
            "              precision    recall  f1-score   support\n",
            "\n",
            "           0       0.89      0.79      0.84       977\n",
            "           1       0.69      0.83      0.75       546\n",
            "\n",
            "    accuracy                           0.81      1523\n",
            "   macro avg       0.79      0.81      0.80      1523\n",
            "weighted avg       0.82      0.81      0.81      1523\n",
            "\n"
          ]
        },
        {
          "data": {
            "image/png": "[encoded data removed]",
            "text/plain": [
              "<Figure size 800x1000 with 2 Axes>"
            ]
          },
          "metadata": {},
          "output_type": "display_data"
        }
      ],
      "source": [
        "# Display the learning curve and loss curve\n",
        "learning_curve(history_1)\n",
        "\n",
        "loss_1, accuracy_1, precision_1, recall_1 = model_1.evaluate(X_val, y_val)\n",
        "print('Loss:', loss_1)\n",
        "print('Accuracy:', accuracy_1)\n",
        "\n",
        "pred_val = model_1.predict(X_val)\n",
        "label_pred_val = (pred_val > 0.5).astype(int).reshape(-1)\n",
        "show_metrics(label_pred_val, y_val)"
      ]
    },
    {
      "cell_type": "markdown",
      "metadata": {
        "id": "3qsNOvyUoeyj"
      },
      "source": [
        "# 9.&nbsp;Final Prediction and Evaluation"
      ]
    },
    {
      "cell_type": "markdown",
      "metadata": {
        "id": "ka8gqTlWKIl_"
      },
      "source": [
        "## Import the Best and Final Model"
      ]
    },
    {
      "cell_type": "code",
      "execution_count": 57,
      "metadata": {
        "id": "F1y1RQRJqOs9"
      },
      "outputs": [],
      "source": [
        "# Load the best model from the saved models\n",
        "save_dir = '/content/drive/MyDrive/[1.4] MsDS Class Files/-- DTSA 5511 Deep Learning/saved_models'\n",
        "model_best_path = os.path.join(save_dir, 'rnn_model_1.keras')\n",
        "history_best_path = os.path.join(save_dir, 'rnn_history_1.pkl')\n",
        "\n",
        "loaded_model_best = models.load_model(model_best_path)\n",
        "\n",
        "with open(history_best_path, 'rb') as f:\n",
        "    loaded_history_dict_best = pickle.load(f)\n",
        "\n",
        "loaded_history_best = History()\n",
        "loaded_history_best.history = loaded_history_dict_best\n",
        "loaded_history_best.epoch = list(range(len(loaded_history_dict_best['loss'])))"
      ]
    },
    {
      "cell_type": "markdown",
      "metadata": {
        "id": "II9qX_tf2LSL"
      },
      "source": [
        "## Review and Evaluate the Model"
      ]
    },
    {
      "cell_type": "code",
      "execution_count": 58,
      "metadata": {
        "colab": {
          "base_uri": "https://localhost:8080/",
          "height": 555
        },
        "id": "4cjwMtVIqOs-",
        "outputId": "14c1998e-b232-4cd2-cea3-e925ba3dcb3b"
      },
      "outputs": [
        {
          "data": {
            "text/html": [
              "<pre style=\"white-space:pre;overflow-x:auto;line-height:normal;font-family:Menlo,'DejaVu Sans Mono',consolas,'Courier New',monospace\"><span style=\"font-weight: bold\">Model: \"sequential_1\"</span>\n",
              "</pre>\n"
            ],
            "text/plain": [
              "\u001b[1mModel: \"sequential_1\"\u001b[0m\n"
            ]
          },
          "metadata": {},
          "output_type": "display_data"
        },
        {
          "data": {
            "text/html": [
              "<pre style=\"white-space:pre;overflow-x:auto;line-height:normal;font-family:Menlo,'DejaVu Sans Mono',consolas,'Courier New',monospace\">┏━━━━━━━━━━━━━━━━━━━━━━━━━━━━━━━━━┳━━━━━━━━━━━━━━━━━━━━━━━━┳━━━━━━━━━━━━━━━┓\n",
              "┃<span style=\"font-weight: bold\"> Layer (type)                    </span>┃<span style=\"font-weight: bold\"> Output Shape           </span>┃<span style=\"font-weight: bold\">       Param # </span>┃\n",
              "┡━━━━━━━━━━━━━━━━━━━━━━━━━━━━━━━━━╇━━━━━━━━━━━━━━━━━━━━━━━━╇━━━━━━━━━━━━━━━┩\n",
              "│ embedding_1 (<span style=\"color: #0087ff; text-decoration-color: #0087ff\">Embedding</span>)         │ (<span style=\"color: #00d7ff; text-decoration-color: #00d7ff\">None</span>, <span style=\"color: #00af00; text-decoration-color: #00af00\">34</span>, <span style=\"color: #00af00; text-decoration-color: #00af00\">100</span>)        │     <span style=\"color: #00af00; text-decoration-color: #00af00\">1,426,900</span> │\n",
              "├─────────────────────────────────┼────────────────────────┼───────────────┤\n",
              "│ bidirectional_1 (<span style=\"color: #0087ff; text-decoration-color: #0087ff\">Bidirectional</span>) │ (<span style=\"color: #00d7ff; text-decoration-color: #00d7ff\">None</span>, <span style=\"color: #00af00; text-decoration-color: #00af00\">34</span>, <span style=\"color: #00af00; text-decoration-color: #00af00\">256</span>)        │       <span style=\"color: #00af00; text-decoration-color: #00af00\">234,496</span> │\n",
              "├─────────────────────────────────┼────────────────────────┼───────────────┤\n",
              "│ batch_normalization_1           │ (<span style=\"color: #00d7ff; text-decoration-color: #00d7ff\">None</span>, <span style=\"color: #00af00; text-decoration-color: #00af00\">34</span>, <span style=\"color: #00af00; text-decoration-color: #00af00\">256</span>)        │         <span style=\"color: #00af00; text-decoration-color: #00af00\">1,024</span> │\n",
              "│ (<span style=\"color: #0087ff; text-decoration-color: #0087ff\">BatchNormalization</span>)            │                        │               │\n",
              "├─────────────────────────────────┼────────────────────────┼───────────────┤\n",
              "│ bidirectional_2 (<span style=\"color: #0087ff; text-decoration-color: #0087ff\">Bidirectional</span>) │ (<span style=\"color: #00d7ff; text-decoration-color: #00d7ff\">None</span>, <span style=\"color: #00af00; text-decoration-color: #00af00\">34</span>, <span style=\"color: #00af00; text-decoration-color: #00af00\">128</span>)        │       <span style=\"color: #00af00; text-decoration-color: #00af00\">164,352</span> │\n",
              "├─────────────────────────────────┼────────────────────────┼───────────────┤\n",
              "│ batch_normalization_2           │ (<span style=\"color: #00d7ff; text-decoration-color: #00d7ff\">None</span>, <span style=\"color: #00af00; text-decoration-color: #00af00\">34</span>, <span style=\"color: #00af00; text-decoration-color: #00af00\">128</span>)        │           <span style=\"color: #00af00; text-decoration-color: #00af00\">512</span> │\n",
              "│ (<span style=\"color: #0087ff; text-decoration-color: #0087ff\">BatchNormalization</span>)            │                        │               │\n",
              "├─────────────────────────────────┼────────────────────────┼───────────────┤\n",
              "│ global_max_pooling1d_1          │ (<span style=\"color: #00d7ff; text-decoration-color: #00d7ff\">None</span>, <span style=\"color: #00af00; text-decoration-color: #00af00\">128</span>)            │             <span style=\"color: #00af00; text-decoration-color: #00af00\">0</span> │\n",
              "│ (<span style=\"color: #0087ff; text-decoration-color: #0087ff\">GlobalMaxPooling1D</span>)            │                        │               │\n",
              "├─────────────────────────────────┼────────────────────────┼───────────────┤\n",
              "│ dense_3 (<span style=\"color: #0087ff; text-decoration-color: #0087ff\">Dense</span>)                 │ (<span style=\"color: #00d7ff; text-decoration-color: #00d7ff\">None</span>, <span style=\"color: #00af00; text-decoration-color: #00af00\">128</span>)            │        <span style=\"color: #00af00; text-decoration-color: #00af00\">16,512</span> │\n",
              "├─────────────────────────────────┼────────────────────────┼───────────────┤\n",
              "│ dropout_3 (<span style=\"color: #0087ff; text-decoration-color: #0087ff\">Dropout</span>)             │ (<span style=\"color: #00d7ff; text-decoration-color: #00d7ff\">None</span>, <span style=\"color: #00af00; text-decoration-color: #00af00\">128</span>)            │             <span style=\"color: #00af00; text-decoration-color: #00af00\">0</span> │\n",
              "├─────────────────────────────────┼────────────────────────┼───────────────┤\n",
              "│ dense_4 (<span style=\"color: #0087ff; text-decoration-color: #0087ff\">Dense</span>)                 │ (<span style=\"color: #00d7ff; text-decoration-color: #00d7ff\">None</span>, <span style=\"color: #00af00; text-decoration-color: #00af00\">64</span>)             │         <span style=\"color: #00af00; text-decoration-color: #00af00\">8,256</span> │\n",
              "├─────────────────────────────────┼────────────────────────┼───────────────┤\n",
              "│ dropout_4 (<span style=\"color: #0087ff; text-decoration-color: #0087ff\">Dropout</span>)             │ (<span style=\"color: #00d7ff; text-decoration-color: #00d7ff\">None</span>, <span style=\"color: #00af00; text-decoration-color: #00af00\">64</span>)             │             <span style=\"color: #00af00; text-decoration-color: #00af00\">0</span> │\n",
              "├─────────────────────────────────┼────────────────────────┼───────────────┤\n",
              "│ dense_5 (<span style=\"color: #0087ff; text-decoration-color: #0087ff\">Dense</span>)                 │ (<span style=\"color: #00d7ff; text-decoration-color: #00d7ff\">None</span>, <span style=\"color: #00af00; text-decoration-color: #00af00\">1</span>)              │            <span style=\"color: #00af00; text-decoration-color: #00af00\">65</span> │\n",
              "└─────────────────────────────────┴────────────────────────┴───────────────┘\n",
              "</pre>\n"
            ],
            "text/plain": [
              "┏━━━━━━━━━━━━━━━━━━━━━━━━━━━━━━━━━┳━━━━━━━━━━━━━━━━━━━━━━━━┳━━━━━━━━━━━━━━━┓\n",
              "┃\u001b[1m \u001b[0m\u001b[1mLayer (type)                   \u001b[0m\u001b[1m \u001b[0m┃\u001b[1m \u001b[0m\u001b[1mOutput Shape          \u001b[0m\u001b[1m \u001b[0m┃\u001b[1m \u001b[0m\u001b[1m      Param #\u001b[0m\u001b[1m \u001b[0m┃\n",
              "┡━━━━━━━━━━━━━━━━━━━━━━━━━━━━━━━━━╇━━━━━━━━━━━━━━━━━━━━━━━━╇━━━━━━━━━━━━━━━┩\n",
              "│ embedding_1 (\u001b[38;5;33mEmbedding\u001b[0m)         │ (\u001b[38;5;45mNone\u001b[0m, \u001b[38;5;34m34\u001b[0m, \u001b[38;5;34m100\u001b[0m)        │     \u001b[38;5;34m1,426,900\u001b[0m │\n",
              "├─────────────────────────────────┼────────────────────────┼───────────────┤\n",
              "│ bidirectional_1 (\u001b[38;5;33mBidirectional\u001b[0m) │ (\u001b[38;5;45mNone\u001b[0m, \u001b[38;5;34m34\u001b[0m, \u001b[38;5;34m256\u001b[0m)        │       \u001b[38;5;34m234,496\u001b[0m │\n",
              "├─────────────────────────────────┼────────────────────────┼───────────────┤\n",
              "│ batch_normalization_1           │ (\u001b[38;5;45mNone\u001b[0m, \u001b[38;5;34m34\u001b[0m, \u001b[38;5;34m256\u001b[0m)        │         \u001b[38;5;34m1,024\u001b[0m │\n",
              "│ (\u001b[38;5;33mBatchNormalization\u001b[0m)            │                        │               │\n",
              "├─────────────────────────────────┼────────────────────────┼───────────────┤\n",
              "│ bidirectional_2 (\u001b[38;5;33mBidirectional\u001b[0m) │ (\u001b[38;5;45mNone\u001b[0m, \u001b[38;5;34m34\u001b[0m, \u001b[38;5;34m128\u001b[0m)        │       \u001b[38;5;34m164,352\u001b[0m │\n",
              "├─────────────────────────────────┼────────────────────────┼───────────────┤\n",
              "│ batch_normalization_2           │ (\u001b[38;5;45mNone\u001b[0m, \u001b[38;5;34m34\u001b[0m, \u001b[38;5;34m128\u001b[0m)        │           \u001b[38;5;34m512\u001b[0m │\n",
              "│ (\u001b[38;5;33mBatchNormalization\u001b[0m)            │                        │               │\n",
              "├─────────────────────────────────┼────────────────────────┼───────────────┤\n",
              "│ global_max_pooling1d_1          │ (\u001b[38;5;45mNone\u001b[0m, \u001b[38;5;34m128\u001b[0m)            │             \u001b[38;5;34m0\u001b[0m │\n",
              "│ (\u001b[38;5;33mGlobalMaxPooling1D\u001b[0m)            │                        │               │\n",
              "├─────────────────────────────────┼────────────────────────┼───────────────┤\n",
              "│ dense_3 (\u001b[38;5;33mDense\u001b[0m)                 │ (\u001b[38;5;45mNone\u001b[0m, \u001b[38;5;34m128\u001b[0m)            │        \u001b[38;5;34m16,512\u001b[0m │\n",
              "├─────────────────────────────────┼────────────────────────┼───────────────┤\n",
              "│ dropout_3 (\u001b[38;5;33mDropout\u001b[0m)             │ (\u001b[38;5;45mNone\u001b[0m, \u001b[38;5;34m128\u001b[0m)            │             \u001b[38;5;34m0\u001b[0m │\n",
              "├─────────────────────────────────┼────────────────────────┼───────────────┤\n",
              "│ dense_4 (\u001b[38;5;33mDense\u001b[0m)                 │ (\u001b[38;5;45mNone\u001b[0m, \u001b[38;5;34m64\u001b[0m)             │         \u001b[38;5;34m8,256\u001b[0m │\n",
              "├─────────────────────────────────┼────────────────────────┼───────────────┤\n",
              "│ dropout_4 (\u001b[38;5;33mDropout\u001b[0m)             │ (\u001b[38;5;45mNone\u001b[0m, \u001b[38;5;34m64\u001b[0m)             │             \u001b[38;5;34m0\u001b[0m │\n",
              "├─────────────────────────────────┼────────────────────────┼───────────────┤\n",
              "│ dense_5 (\u001b[38;5;33mDense\u001b[0m)                 │ (\u001b[38;5;45mNone\u001b[0m, \u001b[38;5;34m1\u001b[0m)              │            \u001b[38;5;34m65\u001b[0m │\n",
              "└─────────────────────────────────┴────────────────────────┴───────────────┘\n"
            ]
          },
          "metadata": {},
          "output_type": "display_data"
        },
        {
          "data": {
            "text/html": [
              "<pre style=\"white-space:pre;overflow-x:auto;line-height:normal;font-family:Menlo,'DejaVu Sans Mono',consolas,'Courier New',monospace\"><span style=\"font-weight: bold\"> Total params: </span><span style=\"color: #00af00; text-decoration-color: #00af00\">2,701,017</span> (10.30 MB)\n",
              "</pre>\n"
            ],
            "text/plain": [
              "\u001b[1m Total params: \u001b[0m\u001b[38;5;34m2,701,017\u001b[0m (10.30 MB)\n"
            ]
          },
          "metadata": {},
          "output_type": "display_data"
        },
        {
          "data": {
            "text/html": [
              "<pre style=\"white-space:pre;overflow-x:auto;line-height:normal;font-family:Menlo,'DejaVu Sans Mono',consolas,'Courier New',monospace\"><span style=\"font-weight: bold\"> Trainable params: </span><span style=\"color: #00af00; text-decoration-color: #00af00\">424,449</span> (1.62 MB)\n",
              "</pre>\n"
            ],
            "text/plain": [
              "\u001b[1m Trainable params: \u001b[0m\u001b[38;5;34m424,449\u001b[0m (1.62 MB)\n"
            ]
          },
          "metadata": {},
          "output_type": "display_data"
        },
        {
          "data": {
            "text/html": [
              "<pre style=\"white-space:pre;overflow-x:auto;line-height:normal;font-family:Menlo,'DejaVu Sans Mono',consolas,'Courier New',monospace\"><span style=\"font-weight: bold\"> Non-trainable params: </span><span style=\"color: #00af00; text-decoration-color: #00af00\">1,427,668</span> (5.45 MB)\n",
              "</pre>\n"
            ],
            "text/plain": [
              "\u001b[1m Non-trainable params: \u001b[0m\u001b[38;5;34m1,427,668\u001b[0m (5.45 MB)\n"
            ]
          },
          "metadata": {},
          "output_type": "display_data"
        },
        {
          "data": {
            "text/html": [
              "<pre style=\"white-space:pre;overflow-x:auto;line-height:normal;font-family:Menlo,'DejaVu Sans Mono',consolas,'Courier New',monospace\"><span style=\"font-weight: bold\"> Optimizer params: </span><span style=\"color: #00af00; text-decoration-color: #00af00\">848,900</span> (3.24 MB)\n",
              "</pre>\n"
            ],
            "text/plain": [
              "\u001b[1m Optimizer params: \u001b[0m\u001b[38;5;34m848,900\u001b[0m (3.24 MB)\n"
            ]
          },
          "metadata": {},
          "output_type": "display_data"
        }
      ],
      "source": [
        "# Review Model Architecture\n",
        "loaded_model_best.summary()"
      ]
    },
    {
      "cell_type": "code",
      "execution_count": 59,
      "metadata": {
        "colab": {
          "base_uri": "https://localhost:8080/",
          "height": 881
        },
        "id": "rgiCXawhKCmP",
        "outputId": "dd03b0e7-96ab-477b-8d89-3d2780eb1dc0"
      },
      "outputs": [
        {
          "data": {
            "image/png": "[encoded data removed]",
            "text/plain": [
              "<Figure size 800x1000 with 2 Axes>"
            ]
          },
          "metadata": {},
          "output_type": "display_data"
        }
      ],
      "source": [
        "# Review the Accuracy and Validation Loss Charts\n",
        "learning_curve(loaded_history_best)"
      ]
    },
    {
      "cell_type": "code",
      "execution_count": 60,
      "metadata": {
        "colab": {
          "base_uri": "https://localhost:8080/"
        },
        "id": "ebPhK7HvKCvn",
        "outputId": "1c707ae1-89df-4b35-9a02-e7173e1753ac"
      },
      "outputs": [
        {
          "name": "stdout",
          "output_type": "stream",
          "text": [
            "\n",
            "--- Full Training History with Epoch Times ---\n",
            "    accuracy      loss  precision    recall  val_accuracy  val_loss  \\\n",
            "1   0.663875  8.778650   0.622213  0.554452      0.782009  4.109225   \n",
            "2   0.766174  1.906387   0.762198  0.662591      0.791858  0.843274   \n",
            "3   0.777668  0.666447   0.773022  0.683225      0.791202  0.611261   \n",
            "4   0.784072  0.603352   0.788820  0.679404      0.791858  0.583478   \n",
            "5   0.783415  0.592237   0.787168  0.679786      0.793828  0.568248   \n",
            "6   0.794581  0.571101   0.811872  0.679404      0.793828  0.566331   \n",
            "7   0.790640  0.564758   0.801980  0.680932      0.787919  0.563955   \n",
            "8   0.802791  0.547362   0.821234  0.691632      0.798424  0.529431   \n",
            "9   0.808210  0.535764   0.837762  0.686664      0.799081  0.523996   \n",
            "10  0.796880  0.555196   0.812500  0.685518      0.799737  0.551831   \n",
            "11  0.809360  0.529465   0.831512  0.697746      0.808930  0.526003   \n",
            "12  0.811330  0.529964   0.825066  0.711884      0.805647  0.518722   \n",
            "13  0.816092  0.516218   0.832815  0.715705      0.809586  0.513575   \n",
            "14  0.821839  0.501349   0.841355  0.721437      0.806960  0.537426   \n",
            "15  0.824631  0.491249   0.853492  0.714559      0.803020  0.526860   \n",
            "16  0.829721  0.481975   0.854260  0.727933      0.808930  0.514875   \n",
            "17  0.829064  0.479041   0.848057  0.733665      0.809586  0.522930   \n",
            "18  0.829557  0.485685   0.852928  0.729079      0.810900  0.505466   \n",
            "19  0.838588  0.471308   0.868018  0.736339      0.792515  0.527480   \n",
            "20  0.834154  0.470440   0.864730  0.727933      0.804990  0.507810   \n",
            "21  0.833498  0.457123   0.858613  0.733282      0.808930  0.527120   \n",
            "22  0.849261  0.434229   0.879750  0.752006      0.808273  0.511800   \n",
            "23  0.841543  0.448876   0.869740  0.742453      0.799081  0.515481   \n",
            "24  0.861412  0.394066   0.893475  0.769201      0.805647  0.477241   \n",
            "25  0.863875  0.372768   0.888021  0.781811      0.803020  0.495208   \n",
            "26  0.859277  0.378168   0.890417  0.766909      0.805647  0.477048   \n",
            "27  0.862890  0.367554   0.893204  0.773405      0.804990  0.485096   \n",
            "28  0.866831  0.360108   0.899204  0.777226      0.803020  0.487098   \n",
            "29  0.868145  0.357548   0.897807  0.782193      0.802364  0.486583   \n",
            "30  0.872578  0.356308   0.906761  0.784104      0.806303  0.488164   \n",
            "\n",
            "    val_precision  val_recall  learning_rate  epoch_duration  \n",
            "1        0.735380    0.769113         0.0010       42.118395  \n",
            "2        0.794066    0.695719         0.0010       25.934066  \n",
            "3        0.808824    0.672783         0.0010       25.470426  \n",
            "4        0.781302    0.715596         0.0010       25.558654  \n",
            "5        0.767296    0.746177         0.0010       25.587922  \n",
            "6        0.764798    0.750765         0.0010       25.398961  \n",
            "7        0.751138    0.756881         0.0010       25.413105  \n",
            "8        0.794567    0.715596         0.0010       25.847525  \n",
            "9        0.789037    0.726300         0.0010       25.539570  \n",
            "10       0.868922    0.628440         0.0010       25.486152  \n",
            "11       0.824687    0.704893         0.0010       25.843269  \n",
            "12       0.818505    0.703364         0.0010       25.813376  \n",
            "13       0.833333    0.695719         0.0010       25.689304  \n",
            "14       0.779503    0.767584         0.0010       25.806144  \n",
            "15       0.790164    0.737003         0.0010       25.904902  \n",
            "16       0.859406    0.663609         0.0010       25.735710  \n",
            "17       0.871429    0.652905         0.0010       25.525170  \n",
            "18       0.825623    0.709480         0.0010       26.645697  \n",
            "19       0.912195    0.571865         0.0010       25.976426  \n",
            "20       0.812609    0.709480         0.0010       25.866044  \n",
            "21       0.821239    0.709480         0.0010       25.795388  \n",
            "22       0.814236    0.717125         0.0010       25.451266  \n",
            "23       0.805263    0.701835         0.0010       25.744850  \n",
            "24       0.812937    0.711009         0.0002       25.525912  \n",
            "25       0.801020    0.720183         0.0002       25.555568  \n",
            "26       0.827839    0.691131         0.0002       25.628615  \n",
            "27       0.815929    0.704893         0.0002       25.653444  \n",
            "28       0.813830    0.701835         0.0002       26.019591  \n",
            "29       0.811287    0.703364         0.0002       25.698618  \n",
            "30       0.818828    0.704893         0.0002       25.720090  \n"
          ]
        }
      ],
      "source": [
        "# Review the epoch results\n",
        "loaded_history_best\n",
        "history_best_df = pd.DataFrame(loaded_history_best.history)\n",
        "history_best_df.index += 1\n",
        "print(\"\\n--- Full Training History with Epoch Times ---\")\n",
        "print(history_best_df)"
      ]
    },
    {
      "cell_type": "code",
      "execution_count": 61,
      "metadata": {
        "colab": {
          "base_uri": "https://localhost:8080/"
        },
        "id": "Gw8tr8ruKnSk",
        "outputId": "88b0fbec-222e-4e5c-e67b-410f7fde9112"
      },
      "outputs": [
        {
          "name": "stdout",
          "output_type": "stream",
          "text": [
            "\u001b[1m48/48\u001b[0m \u001b[32m━━━━━━━━━━━━━━━━━━━━\u001b[0m\u001b[37m\u001b[0m \u001b[1m5s\u001b[0m 74ms/step\n",
            "F1-score:  0.7533333333333333\n",
            "Precision:  0.691131498470948\n",
            "Recall:  0.8278388278388278\n",
            "Acuracy:  0.8056467498358503\n",
            "--------------------------------------------------\n",
            "              precision    recall  f1-score   support\n",
            "\n",
            "           0       0.89      0.79      0.84       977\n",
            "           1       0.69      0.83      0.75       546\n",
            "\n",
            "    accuracy                           0.81      1523\n",
            "   macro avg       0.79      0.81      0.80      1523\n",
            "weighted avg       0.82      0.81      0.81      1523\n",
            "\n"
          ]
        }
      ],
      "source": [
        "pred_val = loaded_model_best.predict(X_val)\n",
        "label_pred_val = (pred_val > 0.5).astype(int).reshape(-1)\n",
        "show_metrics(label_pred_val, y_val)"
      ]
    },
    {
      "cell_type": "markdown",
      "metadata": {
        "id": "WWv340Xx265l"
      },
      "source": [
        "# 10.&nbsp; Conclusions"
      ]
    },
    {
      "cell_type": "markdown",
      "metadata": {
        "id": "IuHSlWe-O-br"
      },
      "source": [
        "In this project, 2 RNN-based models were developed to predict the classification for disaster tweets. Overall, the best model (Model 1) was able to achieve an 80.56% validation accuracy and 80.11% public score on the Kaggle competition. The key finding was that the improved dual BiLSTM architecture with regularization and frozen embeddings ultimately outperformed the simpler baseline model, demonstrating that careful architectural improvements can lead to better performance. The improved model achieved higher validation accuracy (80.56% vs 80.10%) and better F1-score (0.7533 vs 0.7432), showing that the additional complexity was beneficial when properly configured. The dual LSTM layers with batch normalization, L1/L2 regularization, and Adam optimizer with frozen GloVe embeddings proved to be an effective combination for this dataset.\n",
        "\n",
        "The best model shows strong performance with balanced precision-recall characteristics (69% precision, 83% recall for disaster tweets), making it suitable (with supervision of a human) for real-world emergency response applications where missing a real disaster is more costly than false alarms. This work highlights the importance of systematic experimentation in deep learning and demonstrates the practical value of automated text classification in enhancing emergency response capabilities."
      ]
    },
    {
      "cell_type": "markdown",
      "metadata": {
        "id": "UNzNW_nH37_9"
      },
      "source": [
        "## Results Summary"
      ]
    },
    {
      "cell_type": "markdown",
      "metadata": {
        "id": "1YlcWEw_8Bp-"
      },
      "source": [
        "\n",
        "**Model Results**\n",
        "\n",
        "| Model | Architecture | Validation Accuracy | Validation Loss | Precision | Recall | F1-Score | Public Score |\n",
        "|:-----:|:------------:|:------------------:|:---------------:|:---------:|:------:|:--------:|:------------:|\n",
        "| Model 0 (Baseline) | Single BiLSTM + Dense | 0.8010 | 0.4478 | 0.6682 | 0.8372 | 0.7432 | 0.79528 |\n",
        "| Model 1 (Improved) | Dual BiLSTM + Regularized Dense | 0.8056 | 0.4770 | 0.6911 | 0.8278 | 0.7533 | 0.80110 |\n",
        "\n",
        "**Model Architecture Details:**\n",
        "- **Model 0**: Embedding → Bidirectional LSTM(21) → GlobalMaxPool1D → BatchNorm → Dropout(0.5) → Dense(21) → Dropout(0.5) → Dense(21) → Dropout(0.5) → Dense(1, sigmoid)\n",
        "- **Model 1**: Embedding(non-trainable) → Bidirectional LSTM(128) → BatchNorm → Bidirectional LSTM(64) → BatchNorm → GlobalMaxPool1D → Dense(128, L1/L2 reg) → Dropout(0.5) → Dense(64) → Dropout(0.3) → Dense(1, sigmoid)\n",
        "\n",
        "**Hyperparameter Tuning Results**\n",
        "\n",
        "The improved model (Model 1) ultimately outperformed the baseline architecture (Model 0) through careful architectural enhancements. Key findings:\n",
        "- Dual LSTM layers (128→64) with batch normalization performed better than single LSTM layer (21)\n",
        "- Adam optimizer with frozen embeddings and L1/L2 regularization outperformed RMSprop with trainable embeddings\n",
        "- The improved model achieved higher validation accuracy (80.56% vs 80.10%) and better F1-score (0.7533 vs 0.7432)\n",
        "\n",
        "**Best Model Results**\n",
        "\n",
        "**Model 1 (Improved)** was selected as the best performing model based on:\n",
        "- Highest validation accuracy: 80.56%\n",
        "\n",
        "**Best Model Performance**\n",
        "\n",
        "The improved model demonstrates strong performance on the disaster tweet classification task:\n",
        "- **Validation Set**: 80.56% accuracy with balanced precision-recall trade-off\n",
        "- **Test Set**: 80.11% public score on Kaggle competition\n",
        "- **Class Performance**:\n",
        "  - Non-disaster tweets (Class 0): 89% precision, 79% recall\n",
        "  - Disaster tweets (Class 1): 69% precision, 83% recall\n",
        "- **Training**: Completed 30 epochs with stable learning curves and no early stopping triggered"
      ]
    },
    {
      "cell_type": "markdown",
      "metadata": {
        "id": "UK1qcAcgC1dd"
      },
      "source": [
        "## Prepare Submission\n"
      ]
    },
    {
      "cell_type": "code",
      "execution_count": 62,
      "metadata": {
        "colab": {
          "base_uri": "https://localhost:8080/",
          "height": 488
        },
        "id": "bY5bnNHQC1po",
        "outputId": "326e9827-cf69-4a69-9c8d-81f0c49e0082"
      },
      "outputs": [
        {
          "name": "stdout",
          "output_type": "stream",
          "text": [
            "\u001b[1m102/102\u001b[0m \u001b[32m━━━━━━━━━━━━━━━━━━━━\u001b[0m\u001b[37m\u001b[0m \u001b[1m5s\u001b[0m 48ms/step\n",
            "number of predictions: 3263\n"
          ]
        },
        {
          "data": {
            "image/png": "[encoded data removed]",
            "text/plain": [
              "<Figure size 640x480 with 1 Axes>"
            ]
          },
          "metadata": {},
          "output_type": "display_data"
        }
      ],
      "source": [
        "best_model = model_1\n",
        "pred_val = best_model.predict(test_padded_sentences)\n",
        "print(\"number of predictions:\", len(pred_val))\n",
        "# Shape the data for submission\n",
        "label_pred_val = (pred_val > 0.5).astype(int).reshape(-1)\n",
        "ids = test_ids\n",
        "submission_df = pd.DataFrame({'id': ids, 'target': label_pred_val})\n",
        "if gDEBUG:\n",
        "  submission_df.head()\n",
        "submission_df.target.value_counts().plot.bar();"
      ]
    },
    {
      "cell_type": "code",
      "execution_count": 63,
      "metadata": {
        "id": "uGfAKGOCEsUv"
      },
      "outputs": [],
      "source": [
        "# Save the submission df to submit\n",
        "submission_df.to_csv('submission_rnn_best_model_final.csv', index=False)"
      ]
    },
    {
      "cell_type": "markdown",
      "metadata": {
        "id": "rxr_grPoF_Au"
      },
      "source": [
        "## Submission Results"
      ]
    },
    {
      "cell_type": "markdown",
      "metadata": {
        "id": "s3jkNMZfID_a"
      },
      "source": [
        "Results were submitted to Kaggle competition for the best model and the submission received a public score of 0.80110."
      ]
    },
    {
      "cell_type": "markdown",
      "metadata": {
        "id": "9Q8_s9xAIEEi"
      },
      "source": [
        "| Model             | Val. Accuracy | Public Score   |\n",
        "|:-----------------:|:-------------:|:--------------:|\n",
        "| Model 1           | 0.810900      | 0.80110        |"
      ]
    },
    {
      "cell_type": "markdown",
      "metadata": {
        "id": "Rb2X9yUX4FOn"
      },
      "source": [
        "# 12.&nbsp; References"
      ]
    },
    {
      "cell_type": "markdown",
      "metadata": {
        "id": "Pq8tcmLa4FXR"
      },
      "source": [
        "**Kaggle Competition**\n",
        "\n",
        "- [1] Addison Howard, devrishi, Phil Culliton, and Yufeng Guo. Natural Language Processing with Disaster Tweets. https://kaggle.com/competitions/nlp-getting-started, 2019. Kaggle.\n",
        "\n",
        "\n",
        "**Documentation and References**\n",
        "\n",
        "- [2] Kaggle. KerasNLP starter notebook Disaster Tweets. 2023. https://www.kaggle.com/code/alexia/kerasnlp-starter-notebook-disaster-tweets\n",
        "- [3] Kaggle. NLP Getting Started Tutorial. 2019. https://www.kaggle.com/code/philculliton/nlp-getting-started-tutorial\n",
        "- [4] Kaggle. NLP with RNN for Tweet Analysis (79.9% acc). 2025. https://www.kaggle.com/code/jonchernoch/nlp-with-rnn-for-tweet-analysis-79-9-acc\n",
        "- [5] Kaggle. Keras LSTM for Sentiment Disaster Analysis. 2020. https://www.kaggle.com/code/guidosalimbeni/keras-lstm-for-sentiment-disaster-analysis\n",
        "- [6] Kaggle. NLP (Disaster Tweets) with Glove and LSTM. 2020. https://www.kaggle.com/code/mariapushkareva/nlp-disaster-tweets-with-glove-and-lstm/notebook\n",
        "- [7] Kaggle. NLP 📝 GloVe, BERT, TF-IDF, LSTM... 📝 Explained. 2021. https://www.kaggle.com/code/andreshg/nlp-glove-bert-tf-idf-lstm-explained\n",
        "\n",
        "**Prior Coding Projects**\n",
        "- [8] Thomas Bohn. deep_learning_cnn_cancer_detection.ipynb. 2025. https://github.com/TOM-BOHN/MsDS-deep-learing-cnn-cancer-detection/tree/main.\n",
        "- [9] Thomas Bohn. auto_classifying_salesforce_cloud_documentation.ipynb. 2024.https://github.com/TOM-BOHN/MsDS-supervised-nlp-sfdc-auto-classification/tree/main.\n",
        "\n",
        "**AI Tools**\n",
        "- Cursor.AI was used when refactoring functions from the notebook into a library that can be imported (out of scope of course, but aids in readability of python file)\n",
        "- Cursor.AI was used to support the formatting of markdown tables and text blocks\n",
        "- Cursor.AI was used to write some git commit messages\n",
        "- Gemini AI was used to analyze and understand referenced code from other projects and repositories.\n",
        "- Grammarly was used for spelling and grammar correction during the writing process."
      ]
    },
    {
      "cell_type": "code",
      "execution_count": 56,
      "metadata": {
        "id": "hxxrfqk_v8tI"
      },
      "outputs": [],
      "source": []
    }
  ],
  "metadata": {
    "accelerator": "GPU",
    "colab": {
      "collapsed_sections": [
        "r9augt6L_Wnb",
        "6BtBwi2SKW2N"
      ],
      "gpuType": "A100",
      "provenance": [],
      "toc_visible": true
    },
    "kernelspec": {
      "display_name": "Python 3",
      "name": "python3"
    },
    "language_info": {
      "name": "python"
    }
  },
  "nbformat": 4,
  "nbformat_minor": 0
}
